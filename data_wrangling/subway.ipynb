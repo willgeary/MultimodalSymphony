{
 "cells": [
  {
   "cell_type": "markdown",
   "metadata": {},
   "source": [
    "# Visualizing NYC Subway Timetables"
   ]
  },
  {
   "cell_type": "markdown",
   "metadata": {},
   "source": [
    "Data source: http://web.mta.info/developers/data/nyct/subway/google_transit.zip"
   ]
  },
  {
   "cell_type": "markdown",
   "metadata": {},
   "source": [
    "Import libraries:"
   ]
  },
  {
   "cell_type": "code",
   "execution_count": 1,
   "metadata": {
    "collapsed": true
   },
   "outputs": [],
   "source": [
    "import pandas as pd\n",
    "import numpy as np\n",
    "import datetime as dt"
   ]
  },
  {
   "cell_type": "markdown",
   "metadata": {},
   "source": [
    "### Load GTFS data"
   ]
  },
  {
   "cell_type": "code",
   "execution_count": 22,
   "metadata": {
    "collapsed": true
   },
   "outputs": [],
   "source": [
    "agency = pd.read_csv('gtfs/agency.txt')\n",
    "calendar_dates = pd.read_csv('gtfs/calendar_dates.txt')\n",
    "calendar = pd.read_csv('gtfs/calendar.txt')\n",
    "routes = pd.read_csv('gtfs/routes.txt')\n",
    "shapes = pd.read_csv('gtfs/shapes.txt')\n",
    "stop_times = pd.read_csv('gtfs/stop_times.txt')\n",
    "stops = pd.read_csv('gtfs/stops.txt')\n",
    "trips = pd.read_csv('gtfs/trips.txt')"
   ]
  },
  {
   "cell_type": "markdown",
   "metadata": {},
   "source": [
    "### Preview the data"
   ]
  },
  {
   "cell_type": "code",
   "execution_count": 23,
   "metadata": {
    "collapsed": false
   },
   "outputs": [
    {
     "data": {
      "text/html": [
       "<div>\n",
       "<table border=\"1\" class=\"dataframe\">\n",
       "  <thead>\n",
       "    <tr style=\"text-align: right;\">\n",
       "      <th></th>\n",
       "      <th>agency_id</th>\n",
       "      <th>agency_name</th>\n",
       "      <th>agency_url</th>\n",
       "      <th>agency_timezone</th>\n",
       "      <th>agency_lang</th>\n",
       "      <th>agency_phone</th>\n",
       "    </tr>\n",
       "  </thead>\n",
       "  <tbody>\n",
       "    <tr>\n",
       "      <th>0</th>\n",
       "      <td>MTA NYCT</td>\n",
       "      <td>MTA New York City Transit</td>\n",
       "      <td>http://www.mta.info</td>\n",
       "      <td>America/New_York</td>\n",
       "      <td>en</td>\n",
       "      <td>718-330-1234</td>\n",
       "    </tr>\n",
       "  </tbody>\n",
       "</table>\n",
       "</div>"
      ],
      "text/plain": [
       "  agency_id                agency_name            agency_url  \\\n",
       "0  MTA NYCT  MTA New York City Transit   http://www.mta.info   \n",
       "\n",
       "    agency_timezone agency_lang  agency_phone  \n",
       "0  America/New_York          en  718-330-1234  "
      ]
     },
     "execution_count": 23,
     "metadata": {},
     "output_type": "execute_result"
    }
   ],
   "source": [
    "agency.head()"
   ]
  },
  {
   "cell_type": "code",
   "execution_count": 24,
   "metadata": {
    "collapsed": false
   },
   "outputs": [
    {
     "data": {
      "text/html": [
       "<div>\n",
       "<table border=\"1\" class=\"dataframe\">\n",
       "  <thead>\n",
       "    <tr style=\"text-align: right;\">\n",
       "      <th></th>\n",
       "      <th>service_id</th>\n",
       "      <th>date</th>\n",
       "      <th>exception_type</th>\n",
       "    </tr>\n",
       "  </thead>\n",
       "  <tbody>\n",
       "    <tr>\n",
       "      <th>0</th>\n",
       "      <td>A20161106WKD</td>\n",
       "      <td>20161124</td>\n",
       "      <td>2</td>\n",
       "    </tr>\n",
       "    <tr>\n",
       "      <th>1</th>\n",
       "      <td>A20161106SUN</td>\n",
       "      <td>20161124</td>\n",
       "      <td>1</td>\n",
       "    </tr>\n",
       "    <tr>\n",
       "      <th>2</th>\n",
       "      <td>A20161106WKD</td>\n",
       "      <td>20161226</td>\n",
       "      <td>2</td>\n",
       "    </tr>\n",
       "    <tr>\n",
       "      <th>3</th>\n",
       "      <td>A20161106SUN</td>\n",
       "      <td>20161226</td>\n",
       "      <td>1</td>\n",
       "    </tr>\n",
       "    <tr>\n",
       "      <th>4</th>\n",
       "      <td>A20161106WKD</td>\n",
       "      <td>20170102</td>\n",
       "      <td>2</td>\n",
       "    </tr>\n",
       "  </tbody>\n",
       "</table>\n",
       "</div>"
      ],
      "text/plain": [
       "     service_id      date  exception_type\n",
       "0  A20161106WKD  20161124               2\n",
       "1  A20161106SUN  20161124               1\n",
       "2  A20161106WKD  20161226               2\n",
       "3  A20161106SUN  20161226               1\n",
       "4  A20161106WKD  20170102               2"
      ]
     },
     "execution_count": 24,
     "metadata": {},
     "output_type": "execute_result"
    }
   ],
   "source": [
    "calendar_dates.head()"
   ]
  },
  {
   "cell_type": "code",
   "execution_count": 25,
   "metadata": {
    "collapsed": false
   },
   "outputs": [
    {
     "data": {
      "text/html": [
       "<div>\n",
       "<table border=\"1\" class=\"dataframe\">\n",
       "  <thead>\n",
       "    <tr style=\"text-align: right;\">\n",
       "      <th></th>\n",
       "      <th>service_id</th>\n",
       "      <th>monday</th>\n",
       "      <th>tuesday</th>\n",
       "      <th>wednesday</th>\n",
       "      <th>thursday</th>\n",
       "      <th>friday</th>\n",
       "      <th>saturday</th>\n",
       "      <th>sunday</th>\n",
       "      <th>start_date</th>\n",
       "      <th>end_date</th>\n",
       "    </tr>\n",
       "  </thead>\n",
       "  <tbody>\n",
       "    <tr>\n",
       "      <th>0</th>\n",
       "      <td>A20161106WKD</td>\n",
       "      <td>1</td>\n",
       "      <td>1</td>\n",
       "      <td>1</td>\n",
       "      <td>1</td>\n",
       "      <td>1</td>\n",
       "      <td>0</td>\n",
       "      <td>0</td>\n",
       "      <td>20161106</td>\n",
       "      <td>20171231</td>\n",
       "    </tr>\n",
       "    <tr>\n",
       "      <th>1</th>\n",
       "      <td>A20161106SAT</td>\n",
       "      <td>0</td>\n",
       "      <td>0</td>\n",
       "      <td>0</td>\n",
       "      <td>0</td>\n",
       "      <td>0</td>\n",
       "      <td>1</td>\n",
       "      <td>0</td>\n",
       "      <td>20161106</td>\n",
       "      <td>20171231</td>\n",
       "    </tr>\n",
       "    <tr>\n",
       "      <th>2</th>\n",
       "      <td>A20161106SUN</td>\n",
       "      <td>0</td>\n",
       "      <td>0</td>\n",
       "      <td>0</td>\n",
       "      <td>0</td>\n",
       "      <td>0</td>\n",
       "      <td>0</td>\n",
       "      <td>1</td>\n",
       "      <td>20161106</td>\n",
       "      <td>20171231</td>\n",
       "    </tr>\n",
       "    <tr>\n",
       "      <th>3</th>\n",
       "      <td>B20161106WKD</td>\n",
       "      <td>1</td>\n",
       "      <td>1</td>\n",
       "      <td>1</td>\n",
       "      <td>1</td>\n",
       "      <td>1</td>\n",
       "      <td>0</td>\n",
       "      <td>0</td>\n",
       "      <td>20161106</td>\n",
       "      <td>20171231</td>\n",
       "    </tr>\n",
       "    <tr>\n",
       "      <th>4</th>\n",
       "      <td>B20161106SAT</td>\n",
       "      <td>0</td>\n",
       "      <td>0</td>\n",
       "      <td>0</td>\n",
       "      <td>0</td>\n",
       "      <td>0</td>\n",
       "      <td>1</td>\n",
       "      <td>0</td>\n",
       "      <td>20161106</td>\n",
       "      <td>20171231</td>\n",
       "    </tr>\n",
       "  </tbody>\n",
       "</table>\n",
       "</div>"
      ],
      "text/plain": [
       "     service_id  monday  tuesday  wednesday  thursday  friday  saturday  \\\n",
       "0  A20161106WKD       1        1          1         1       1         0   \n",
       "1  A20161106SAT       0        0          0         0       0         1   \n",
       "2  A20161106SUN       0        0          0         0       0         0   \n",
       "3  B20161106WKD       1        1          1         1       1         0   \n",
       "4  B20161106SAT       0        0          0         0       0         1   \n",
       "\n",
       "   sunday  start_date  end_date  \n",
       "0       0    20161106  20171231  \n",
       "1       0    20161106  20171231  \n",
       "2       1    20161106  20171231  \n",
       "3       0    20161106  20171231  \n",
       "4       0    20161106  20171231  "
      ]
     },
     "execution_count": 25,
     "metadata": {},
     "output_type": "execute_result"
    }
   ],
   "source": [
    "calendar.head()"
   ]
  },
  {
   "cell_type": "code",
   "execution_count": 26,
   "metadata": {
    "collapsed": false
   },
   "outputs": [
    {
     "data": {
      "text/html": [
       "<div>\n",
       "<table border=\"1\" class=\"dataframe\">\n",
       "  <thead>\n",
       "    <tr style=\"text-align: right;\">\n",
       "      <th></th>\n",
       "      <th>route_id</th>\n",
       "      <th>agency_id</th>\n",
       "      <th>route_short_name</th>\n",
       "      <th>route_long_name</th>\n",
       "      <th>route_desc</th>\n",
       "      <th>route_type</th>\n",
       "      <th>route_url</th>\n",
       "      <th>route_color</th>\n",
       "      <th>route_text_color</th>\n",
       "    </tr>\n",
       "  </thead>\n",
       "  <tbody>\n",
       "    <tr>\n",
       "      <th>0</th>\n",
       "      <td>1</td>\n",
       "      <td>MTA NYCT</td>\n",
       "      <td>1</td>\n",
       "      <td>Broadway - 7 Avenue Local</td>\n",
       "      <td>Trains operate between 242 St in the Bronx and...</td>\n",
       "      <td>1</td>\n",
       "      <td>http://web.mta.info/nyct/service/pdf/t1cur.pdf</td>\n",
       "      <td>EE352E</td>\n",
       "      <td>NaN</td>\n",
       "    </tr>\n",
       "    <tr>\n",
       "      <th>1</th>\n",
       "      <td>2</td>\n",
       "      <td>MTA NYCT</td>\n",
       "      <td>2</td>\n",
       "      <td>7 Avenue Express</td>\n",
       "      <td>Trains operate between Wakefield-241 St, Bronx...</td>\n",
       "      <td>1</td>\n",
       "      <td>http://web.mta.info/nyct/service/pdf/t2cur.pdf</td>\n",
       "      <td>EE352E</td>\n",
       "      <td></td>\n",
       "    </tr>\n",
       "    <tr>\n",
       "      <th>2</th>\n",
       "      <td>3</td>\n",
       "      <td>MTA NYCT</td>\n",
       "      <td>3</td>\n",
       "      <td>7 Avenue Express</td>\n",
       "      <td>Trains operate between 148 St, 7 Av, Manhattan...</td>\n",
       "      <td>1</td>\n",
       "      <td>http://web.mta.info/nyct/service/pdf/t3cur.pdf</td>\n",
       "      <td>EE352E</td>\n",
       "      <td>NaN</td>\n",
       "    </tr>\n",
       "    <tr>\n",
       "      <th>3</th>\n",
       "      <td>4</td>\n",
       "      <td>MTA NYCT</td>\n",
       "      <td>4</td>\n",
       "      <td>Lexington Avenue Express</td>\n",
       "      <td>Trains operate daily between Woodlawn/Jerome A...</td>\n",
       "      <td>1</td>\n",
       "      <td>http://web.mta.info/nyct/service/pdf/t4cur.pdf</td>\n",
       "      <td>00933C</td>\n",
       "      <td>NaN</td>\n",
       "    </tr>\n",
       "    <tr>\n",
       "      <th>4</th>\n",
       "      <td>5</td>\n",
       "      <td>MTA NYCT</td>\n",
       "      <td>5</td>\n",
       "      <td>Lexington Avenue Express</td>\n",
       "      <td>Weekdays daytime, most trains operate between ...</td>\n",
       "      <td>1</td>\n",
       "      <td>http://web.mta.info/nyct/service/pdf/t5cur.pdf</td>\n",
       "      <td>00933C</td>\n",
       "      <td>NaN</td>\n",
       "    </tr>\n",
       "  </tbody>\n",
       "</table>\n",
       "</div>"
      ],
      "text/plain": [
       "  route_id agency_id route_short_name            route_long_name  \\\n",
       "0        1  MTA NYCT                1  Broadway - 7 Avenue Local   \n",
       "1        2  MTA NYCT                2           7 Avenue Express   \n",
       "2        3  MTA NYCT                3           7 Avenue Express   \n",
       "3        4  MTA NYCT                4   Lexington Avenue Express   \n",
       "4        5  MTA NYCT                5   Lexington Avenue Express   \n",
       "\n",
       "                                          route_desc  route_type  \\\n",
       "0  Trains operate between 242 St in the Bronx and...           1   \n",
       "1  Trains operate between Wakefield-241 St, Bronx...           1   \n",
       "2  Trains operate between 148 St, 7 Av, Manhattan...           1   \n",
       "3  Trains operate daily between Woodlawn/Jerome A...           1   \n",
       "4  Weekdays daytime, most trains operate between ...           1   \n",
       "\n",
       "                                        route_url route_color route_text_color  \n",
       "0  http://web.mta.info/nyct/service/pdf/t1cur.pdf      EE352E              NaN  \n",
       "1  http://web.mta.info/nyct/service/pdf/t2cur.pdf      EE352E                   \n",
       "2  http://web.mta.info/nyct/service/pdf/t3cur.pdf      EE352E              NaN  \n",
       "3  http://web.mta.info/nyct/service/pdf/t4cur.pdf      00933C              NaN  \n",
       "4  http://web.mta.info/nyct/service/pdf/t5cur.pdf      00933C              NaN  "
      ]
     },
     "execution_count": 26,
     "metadata": {},
     "output_type": "execute_result"
    }
   ],
   "source": [
    "routes.head()"
   ]
  },
  {
   "cell_type": "code",
   "execution_count": 27,
   "metadata": {
    "collapsed": false
   },
   "outputs": [
    {
     "data": {
      "text/html": [
       "<div>\n",
       "<table border=\"1\" class=\"dataframe\">\n",
       "  <thead>\n",
       "    <tr style=\"text-align: right;\">\n",
       "      <th></th>\n",
       "      <th>shape_id</th>\n",
       "      <th>shape_pt_lat</th>\n",
       "      <th>shape_pt_lon</th>\n",
       "      <th>shape_pt_sequence</th>\n",
       "      <th>shape_dist_traveled</th>\n",
       "    </tr>\n",
       "  </thead>\n",
       "  <tbody>\n",
       "    <tr>\n",
       "      <th>0</th>\n",
       "      <td>1..N03R</td>\n",
       "      <td>40.702068</td>\n",
       "      <td>-74.013664</td>\n",
       "      <td>0</td>\n",
       "      <td>NaN</td>\n",
       "    </tr>\n",
       "    <tr>\n",
       "      <th>1</th>\n",
       "      <td>1..N03R</td>\n",
       "      <td>40.703199</td>\n",
       "      <td>-74.014792</td>\n",
       "      <td>1</td>\n",
       "      <td>NaN</td>\n",
       "    </tr>\n",
       "    <tr>\n",
       "      <th>2</th>\n",
       "      <td>1..N03R</td>\n",
       "      <td>40.703226</td>\n",
       "      <td>-74.014820</td>\n",
       "      <td>2</td>\n",
       "      <td>NaN</td>\n",
       "    </tr>\n",
       "    <tr>\n",
       "      <th>3</th>\n",
       "      <td>1..N03R</td>\n",
       "      <td>40.703253</td>\n",
       "      <td>-74.014846</td>\n",
       "      <td>3</td>\n",
       "      <td>NaN</td>\n",
       "    </tr>\n",
       "    <tr>\n",
       "      <th>4</th>\n",
       "      <td>1..N03R</td>\n",
       "      <td>40.703280</td>\n",
       "      <td>-74.014870</td>\n",
       "      <td>4</td>\n",
       "      <td>NaN</td>\n",
       "    </tr>\n",
       "  </tbody>\n",
       "</table>\n",
       "</div>"
      ],
      "text/plain": [
       "  shape_id  shape_pt_lat  shape_pt_lon  shape_pt_sequence  shape_dist_traveled\n",
       "0  1..N03R     40.702068    -74.013664                  0                  NaN\n",
       "1  1..N03R     40.703199    -74.014792                  1                  NaN\n",
       "2  1..N03R     40.703226    -74.014820                  2                  NaN\n",
       "3  1..N03R     40.703253    -74.014846                  3                  NaN\n",
       "4  1..N03R     40.703280    -74.014870                  4                  NaN"
      ]
     },
     "execution_count": 27,
     "metadata": {},
     "output_type": "execute_result"
    }
   ],
   "source": [
    "shapes.head()"
   ]
  },
  {
   "cell_type": "code",
   "execution_count": 28,
   "metadata": {
    "collapsed": false
   },
   "outputs": [
    {
     "data": {
      "text/html": [
       "<div>\n",
       "<table border=\"1\" class=\"dataframe\">\n",
       "  <thead>\n",
       "    <tr style=\"text-align: right;\">\n",
       "      <th></th>\n",
       "      <th>trip_id</th>\n",
       "      <th>arrival_time</th>\n",
       "      <th>departure_time</th>\n",
       "      <th>stop_id</th>\n",
       "      <th>stop_sequence</th>\n",
       "      <th>stop_headsign</th>\n",
       "      <th>pickup_type</th>\n",
       "      <th>drop_off_type</th>\n",
       "      <th>shape_dist_traveled</th>\n",
       "    </tr>\n",
       "  </thead>\n",
       "  <tbody>\n",
       "    <tr>\n",
       "      <th>0</th>\n",
       "      <td>A20161106SAT_036000_GS.N01R</td>\n",
       "      <td>06:00:00</td>\n",
       "      <td>06:00:00</td>\n",
       "      <td>901N</td>\n",
       "      <td>1</td>\n",
       "      <td>NaN</td>\n",
       "      <td>0</td>\n",
       "      <td>0</td>\n",
       "      <td>NaN</td>\n",
       "    </tr>\n",
       "    <tr>\n",
       "      <th>1</th>\n",
       "      <td>A20161106SAT_036000_GS.N01R</td>\n",
       "      <td>06:01:30</td>\n",
       "      <td>06:01:30</td>\n",
       "      <td>902N</td>\n",
       "      <td>2</td>\n",
       "      <td>NaN</td>\n",
       "      <td>0</td>\n",
       "      <td>0</td>\n",
       "      <td>NaN</td>\n",
       "    </tr>\n",
       "    <tr>\n",
       "      <th>2</th>\n",
       "      <td>A20161106SAT_036400_GS.S01R</td>\n",
       "      <td>06:04:00</td>\n",
       "      <td>06:04:00</td>\n",
       "      <td>902S</td>\n",
       "      <td>1</td>\n",
       "      <td>NaN</td>\n",
       "      <td>0</td>\n",
       "      <td>0</td>\n",
       "      <td>NaN</td>\n",
       "    </tr>\n",
       "    <tr>\n",
       "      <th>3</th>\n",
       "      <td>A20161106SAT_036400_GS.S01R</td>\n",
       "      <td>06:05:30</td>\n",
       "      <td>06:05:30</td>\n",
       "      <td>901S</td>\n",
       "      <td>2</td>\n",
       "      <td>NaN</td>\n",
       "      <td>0</td>\n",
       "      <td>0</td>\n",
       "      <td>NaN</td>\n",
       "    </tr>\n",
       "    <tr>\n",
       "      <th>4</th>\n",
       "      <td>A20161106SAT_037000_GS.N01R</td>\n",
       "      <td>06:10:00</td>\n",
       "      <td>06:10:00</td>\n",
       "      <td>901N</td>\n",
       "      <td>1</td>\n",
       "      <td>NaN</td>\n",
       "      <td>0</td>\n",
       "      <td>0</td>\n",
       "      <td>NaN</td>\n",
       "    </tr>\n",
       "  </tbody>\n",
       "</table>\n",
       "</div>"
      ],
      "text/plain": [
       "                       trip_id arrival_time departure_time stop_id  \\\n",
       "0  A20161106SAT_036000_GS.N01R     06:00:00       06:00:00    901N   \n",
       "1  A20161106SAT_036000_GS.N01R     06:01:30       06:01:30    902N   \n",
       "2  A20161106SAT_036400_GS.S01R     06:04:00       06:04:00    902S   \n",
       "3  A20161106SAT_036400_GS.S01R     06:05:30       06:05:30    901S   \n",
       "4  A20161106SAT_037000_GS.N01R     06:10:00       06:10:00    901N   \n",
       "\n",
       "   stop_sequence  stop_headsign  pickup_type  drop_off_type  \\\n",
       "0              1            NaN            0              0   \n",
       "1              2            NaN            0              0   \n",
       "2              1            NaN            0              0   \n",
       "3              2            NaN            0              0   \n",
       "4              1            NaN            0              0   \n",
       "\n",
       "   shape_dist_traveled  \n",
       "0                  NaN  \n",
       "1                  NaN  \n",
       "2                  NaN  \n",
       "3                  NaN  \n",
       "4                  NaN  "
      ]
     },
     "execution_count": 28,
     "metadata": {},
     "output_type": "execute_result"
    }
   ],
   "source": [
    "stop_times.head()"
   ]
  },
  {
   "cell_type": "code",
   "execution_count": 29,
   "metadata": {
    "collapsed": false
   },
   "outputs": [
    {
     "data": {
      "text/html": [
       "<div>\n",
       "<table border=\"1\" class=\"dataframe\">\n",
       "  <thead>\n",
       "    <tr style=\"text-align: right;\">\n",
       "      <th></th>\n",
       "      <th>stop_id</th>\n",
       "      <th>stop_code</th>\n",
       "      <th>stop_name</th>\n",
       "      <th>stop_desc</th>\n",
       "      <th>stop_lat</th>\n",
       "      <th>stop_lon</th>\n",
       "      <th>zone_id</th>\n",
       "      <th>stop_url</th>\n",
       "      <th>location_type</th>\n",
       "      <th>parent_station</th>\n",
       "    </tr>\n",
       "  </thead>\n",
       "  <tbody>\n",
       "    <tr>\n",
       "      <th>0</th>\n",
       "      <td>101</td>\n",
       "      <td>NaN</td>\n",
       "      <td>Van Cortlandt Park - 242 St</td>\n",
       "      <td>NaN</td>\n",
       "      <td>40.889248</td>\n",
       "      <td>-73.898583</td>\n",
       "      <td>NaN</td>\n",
       "      <td>NaN</td>\n",
       "      <td>1</td>\n",
       "      <td>NaN</td>\n",
       "    </tr>\n",
       "    <tr>\n",
       "      <th>1</th>\n",
       "      <td>101N</td>\n",
       "      <td>NaN</td>\n",
       "      <td>Van Cortlandt Park - 242 St</td>\n",
       "      <td>NaN</td>\n",
       "      <td>40.889248</td>\n",
       "      <td>-73.898583</td>\n",
       "      <td>NaN</td>\n",
       "      <td>NaN</td>\n",
       "      <td>0</td>\n",
       "      <td>101</td>\n",
       "    </tr>\n",
       "    <tr>\n",
       "      <th>2</th>\n",
       "      <td>101S</td>\n",
       "      <td>NaN</td>\n",
       "      <td>Van Cortlandt Park - 242 St</td>\n",
       "      <td>NaN</td>\n",
       "      <td>40.889248</td>\n",
       "      <td>-73.898583</td>\n",
       "      <td>NaN</td>\n",
       "      <td>NaN</td>\n",
       "      <td>0</td>\n",
       "      <td>101</td>\n",
       "    </tr>\n",
       "    <tr>\n",
       "      <th>3</th>\n",
       "      <td>103</td>\n",
       "      <td>NaN</td>\n",
       "      <td>238 St</td>\n",
       "      <td>NaN</td>\n",
       "      <td>40.884667</td>\n",
       "      <td>-73.900870</td>\n",
       "      <td>NaN</td>\n",
       "      <td>NaN</td>\n",
       "      <td>1</td>\n",
       "      <td>NaN</td>\n",
       "    </tr>\n",
       "    <tr>\n",
       "      <th>4</th>\n",
       "      <td>103N</td>\n",
       "      <td>NaN</td>\n",
       "      <td>238 St</td>\n",
       "      <td>NaN</td>\n",
       "      <td>40.884667</td>\n",
       "      <td>-73.900870</td>\n",
       "      <td>NaN</td>\n",
       "      <td>NaN</td>\n",
       "      <td>0</td>\n",
       "      <td>103</td>\n",
       "    </tr>\n",
       "  </tbody>\n",
       "</table>\n",
       "</div>"
      ],
      "text/plain": [
       "  stop_id  stop_code                    stop_name  stop_desc   stop_lat  \\\n",
       "0     101        NaN  Van Cortlandt Park - 242 St        NaN  40.889248   \n",
       "1    101N        NaN  Van Cortlandt Park - 242 St        NaN  40.889248   \n",
       "2    101S        NaN  Van Cortlandt Park - 242 St        NaN  40.889248   \n",
       "3     103        NaN                       238 St        NaN  40.884667   \n",
       "4    103N        NaN                       238 St        NaN  40.884667   \n",
       "\n",
       "    stop_lon  zone_id  stop_url  location_type parent_station  \n",
       "0 -73.898583      NaN       NaN              1            NaN  \n",
       "1 -73.898583      NaN       NaN              0            101  \n",
       "2 -73.898583      NaN       NaN              0            101  \n",
       "3 -73.900870      NaN       NaN              1            NaN  \n",
       "4 -73.900870      NaN       NaN              0            103  "
      ]
     },
     "execution_count": 29,
     "metadata": {},
     "output_type": "execute_result"
    }
   ],
   "source": [
    "stops.head()"
   ]
  },
  {
   "cell_type": "code",
   "execution_count": 30,
   "metadata": {
    "collapsed": false
   },
   "outputs": [
    {
     "data": {
      "text/html": [
       "<div>\n",
       "<table border=\"1\" class=\"dataframe\">\n",
       "  <thead>\n",
       "    <tr style=\"text-align: right;\">\n",
       "      <th></th>\n",
       "      <th>route_id</th>\n",
       "      <th>service_id</th>\n",
       "      <th>trip_id</th>\n",
       "      <th>trip_headsign</th>\n",
       "      <th>direction_id</th>\n",
       "      <th>block_id</th>\n",
       "      <th>shape_id</th>\n",
       "    </tr>\n",
       "  </thead>\n",
       "  <tbody>\n",
       "    <tr>\n",
       "      <th>0</th>\n",
       "      <td>GS</td>\n",
       "      <td>A20161106SAT</td>\n",
       "      <td>A20161106SAT_036000_GS.N01R</td>\n",
       "      <td>TIMES SQ - 42 ST</td>\n",
       "      <td>0</td>\n",
       "      <td>NaN</td>\n",
       "      <td>GS.N01R</td>\n",
       "    </tr>\n",
       "    <tr>\n",
       "      <th>1</th>\n",
       "      <td>GS</td>\n",
       "      <td>A20161106SAT</td>\n",
       "      <td>A20161106SAT_036400_GS.S01R</td>\n",
       "      <td>GRAND CENTRAL - 42 ST</td>\n",
       "      <td>1</td>\n",
       "      <td>NaN</td>\n",
       "      <td>GS.S01R</td>\n",
       "    </tr>\n",
       "    <tr>\n",
       "      <th>2</th>\n",
       "      <td>GS</td>\n",
       "      <td>A20161106SAT</td>\n",
       "      <td>A20161106SAT_037000_GS.N01R</td>\n",
       "      <td>TIMES SQ - 42 ST</td>\n",
       "      <td>0</td>\n",
       "      <td>NaN</td>\n",
       "      <td>GS.N01R</td>\n",
       "    </tr>\n",
       "    <tr>\n",
       "      <th>3</th>\n",
       "      <td>GS</td>\n",
       "      <td>A20161106SAT</td>\n",
       "      <td>A20161106SAT_037400_GS.S01R</td>\n",
       "      <td>GRAND CENTRAL - 42 ST</td>\n",
       "      <td>1</td>\n",
       "      <td>NaN</td>\n",
       "      <td>GS.S01R</td>\n",
       "    </tr>\n",
       "    <tr>\n",
       "      <th>4</th>\n",
       "      <td>GS</td>\n",
       "      <td>A20161106SAT</td>\n",
       "      <td>A20161106SAT_038000_GS.N01R</td>\n",
       "      <td>TIMES SQ - 42 ST</td>\n",
       "      <td>0</td>\n",
       "      <td>NaN</td>\n",
       "      <td>GS.N01R</td>\n",
       "    </tr>\n",
       "  </tbody>\n",
       "</table>\n",
       "</div>"
      ],
      "text/plain": [
       "  route_id    service_id                      trip_id          trip_headsign  \\\n",
       "0       GS  A20161106SAT  A20161106SAT_036000_GS.N01R       TIMES SQ - 42 ST   \n",
       "1       GS  A20161106SAT  A20161106SAT_036400_GS.S01R  GRAND CENTRAL - 42 ST   \n",
       "2       GS  A20161106SAT  A20161106SAT_037000_GS.N01R       TIMES SQ - 42 ST   \n",
       "3       GS  A20161106SAT  A20161106SAT_037400_GS.S01R  GRAND CENTRAL - 42 ST   \n",
       "4       GS  A20161106SAT  A20161106SAT_038000_GS.N01R       TIMES SQ - 42 ST   \n",
       "\n",
       "   direction_id  block_id shape_id  \n",
       "0             0       NaN  GS.N01R  \n",
       "1             1       NaN  GS.S01R  \n",
       "2             0       NaN  GS.N01R  \n",
       "3             1       NaN  GS.S01R  \n",
       "4             0       NaN  GS.N01R  "
      ]
     },
     "execution_count": 30,
     "metadata": {},
     "output_type": "execute_result"
    }
   ],
   "source": [
    "trips.head()"
   ]
  },
  {
   "cell_type": "markdown",
   "metadata": {},
   "source": [
    "### Merge calendar, service_id and trip_id information"
   ]
  },
  {
   "cell_type": "markdown",
   "metadata": {},
   "source": [
    "Join calendar and trips on service_id = trip_id."
   ]
  },
  {
   "cell_type": "code",
   "execution_count": 31,
   "metadata": {
    "collapsed": false
   },
   "outputs": [
    {
     "data": {
      "text/html": [
       "<div>\n",
       "<table border=\"1\" class=\"dataframe\">\n",
       "  <thead>\n",
       "    <tr style=\"text-align: right;\">\n",
       "      <th></th>\n",
       "      <th>service_id</th>\n",
       "      <th>trip_id</th>\n",
       "      <th>route_id</th>\n",
       "    </tr>\n",
       "  </thead>\n",
       "  <tbody>\n",
       "    <tr>\n",
       "      <th>0</th>\n",
       "      <td>A20161106WKD</td>\n",
       "      <td>A20161106WKD_029750_1..S02R</td>\n",
       "      <td>1</td>\n",
       "    </tr>\n",
       "    <tr>\n",
       "      <th>1</th>\n",
       "      <td>A20161106WKD</td>\n",
       "      <td>A20161106WKD_036150_1..N02R</td>\n",
       "      <td>1</td>\n",
       "    </tr>\n",
       "    <tr>\n",
       "      <th>2</th>\n",
       "      <td>A20161106WKD</td>\n",
       "      <td>A20161106WKD_042550_1..S02R</td>\n",
       "      <td>1</td>\n",
       "    </tr>\n",
       "    <tr>\n",
       "      <th>3</th>\n",
       "      <td>A20161106WKD</td>\n",
       "      <td>A20161106WKD_048950_1..N02R</td>\n",
       "      <td>1</td>\n",
       "    </tr>\n",
       "    <tr>\n",
       "      <th>4</th>\n",
       "      <td>A20161106WKD</td>\n",
       "      <td>A20161106WKD_055300_1..S02R</td>\n",
       "      <td>1</td>\n",
       "    </tr>\n",
       "  </tbody>\n",
       "</table>\n",
       "</div>"
      ],
      "text/plain": [
       "     service_id                      trip_id route_id\n",
       "0  A20161106WKD  A20161106WKD_029750_1..S02R        1\n",
       "1  A20161106WKD  A20161106WKD_036150_1..N02R        1\n",
       "2  A20161106WKD  A20161106WKD_042550_1..S02R        1\n",
       "3  A20161106WKD  A20161106WKD_048950_1..N02R        1\n",
       "4  A20161106WKD  A20161106WKD_055300_1..S02R        1"
      ]
     },
     "execution_count": 31,
     "metadata": {},
     "output_type": "execute_result"
    }
   ],
   "source": [
    "service_trip_id = pd.merge(calendar[['service_id']],trips[['service_id', 'trip_id', 'route_id']])\n",
    "service_trip_id.head()"
   ]
  },
  {
   "cell_type": "markdown",
   "metadata": {},
   "source": [
    "Join calendar with trip_id."
   ]
  },
  {
   "cell_type": "code",
   "execution_count": 32,
   "metadata": {
    "collapsed": false
   },
   "outputs": [
    {
     "data": {
      "text/html": [
       "<div>\n",
       "<table border=\"1\" class=\"dataframe\">\n",
       "  <thead>\n",
       "    <tr style=\"text-align: right;\">\n",
       "      <th></th>\n",
       "      <th>service_id</th>\n",
       "      <th>monday</th>\n",
       "      <th>tuesday</th>\n",
       "      <th>wednesday</th>\n",
       "      <th>thursday</th>\n",
       "      <th>friday</th>\n",
       "      <th>saturday</th>\n",
       "      <th>sunday</th>\n",
       "      <th>start_date</th>\n",
       "      <th>end_date</th>\n",
       "      <th>trip_id</th>\n",
       "      <th>route_id</th>\n",
       "    </tr>\n",
       "  </thead>\n",
       "  <tbody>\n",
       "    <tr>\n",
       "      <th>0</th>\n",
       "      <td>A20161106WKD</td>\n",
       "      <td>1</td>\n",
       "      <td>1</td>\n",
       "      <td>1</td>\n",
       "      <td>1</td>\n",
       "      <td>1</td>\n",
       "      <td>0</td>\n",
       "      <td>0</td>\n",
       "      <td>20161106</td>\n",
       "      <td>20171231</td>\n",
       "      <td>A20161106WKD_029750_1..S02R</td>\n",
       "      <td>1</td>\n",
       "    </tr>\n",
       "    <tr>\n",
       "      <th>1</th>\n",
       "      <td>A20161106WKD</td>\n",
       "      <td>1</td>\n",
       "      <td>1</td>\n",
       "      <td>1</td>\n",
       "      <td>1</td>\n",
       "      <td>1</td>\n",
       "      <td>0</td>\n",
       "      <td>0</td>\n",
       "      <td>20161106</td>\n",
       "      <td>20171231</td>\n",
       "      <td>A20161106WKD_036150_1..N02R</td>\n",
       "      <td>1</td>\n",
       "    </tr>\n",
       "    <tr>\n",
       "      <th>2</th>\n",
       "      <td>A20161106WKD</td>\n",
       "      <td>1</td>\n",
       "      <td>1</td>\n",
       "      <td>1</td>\n",
       "      <td>1</td>\n",
       "      <td>1</td>\n",
       "      <td>0</td>\n",
       "      <td>0</td>\n",
       "      <td>20161106</td>\n",
       "      <td>20171231</td>\n",
       "      <td>A20161106WKD_042550_1..S02R</td>\n",
       "      <td>1</td>\n",
       "    </tr>\n",
       "    <tr>\n",
       "      <th>3</th>\n",
       "      <td>A20161106WKD</td>\n",
       "      <td>1</td>\n",
       "      <td>1</td>\n",
       "      <td>1</td>\n",
       "      <td>1</td>\n",
       "      <td>1</td>\n",
       "      <td>0</td>\n",
       "      <td>0</td>\n",
       "      <td>20161106</td>\n",
       "      <td>20171231</td>\n",
       "      <td>A20161106WKD_048950_1..N02R</td>\n",
       "      <td>1</td>\n",
       "    </tr>\n",
       "    <tr>\n",
       "      <th>4</th>\n",
       "      <td>A20161106WKD</td>\n",
       "      <td>1</td>\n",
       "      <td>1</td>\n",
       "      <td>1</td>\n",
       "      <td>1</td>\n",
       "      <td>1</td>\n",
       "      <td>0</td>\n",
       "      <td>0</td>\n",
       "      <td>20161106</td>\n",
       "      <td>20171231</td>\n",
       "      <td>A20161106WKD_055300_1..S02R</td>\n",
       "      <td>1</td>\n",
       "    </tr>\n",
       "  </tbody>\n",
       "</table>\n",
       "</div>"
      ],
      "text/plain": [
       "     service_id  monday  tuesday  wednesday  thursday  friday  saturday  \\\n",
       "0  A20161106WKD       1        1          1         1       1         0   \n",
       "1  A20161106WKD       1        1          1         1       1         0   \n",
       "2  A20161106WKD       1        1          1         1       1         0   \n",
       "3  A20161106WKD       1        1          1         1       1         0   \n",
       "4  A20161106WKD       1        1          1         1       1         0   \n",
       "\n",
       "   sunday  start_date  end_date                      trip_id route_id  \n",
       "0       0    20161106  20171231  A20161106WKD_029750_1..S02R        1  \n",
       "1       0    20161106  20171231  A20161106WKD_036150_1..N02R        1  \n",
       "2       0    20161106  20171231  A20161106WKD_042550_1..S02R        1  \n",
       "3       0    20161106  20171231  A20161106WKD_048950_1..N02R        1  \n",
       "4       0    20161106  20171231  A20161106WKD_055300_1..S02R        1  "
      ]
     },
     "execution_count": 32,
     "metadata": {},
     "output_type": "execute_result"
    }
   ],
   "source": [
    "calendar = pd.merge(calendar,service_trip_id)\n",
    "calendar.head()"
   ]
  },
  {
   "cell_type": "markdown",
   "metadata": {},
   "source": [
    "### Add abritrary arrival and departure dates to timetables"
   ]
  },
  {
   "cell_type": "markdown",
   "metadata": {},
   "source": [
    "Define a function to add arrival dates to stop_times tables. We will use 1/5/15 as the start date because that is the date we are currently using to visualize taxi trips. This code deals with arrival times > 24 hours and converts them to 1/6/15."
   ]
  },
  {
   "cell_type": "code",
   "execution_count": 33,
   "metadata": {
    "collapsed": true
   },
   "outputs": [],
   "source": [
    "arbitrary_dates = ['1/5/2015', '1/6/2015']"
   ]
  },
  {
   "cell_type": "code",
   "execution_count": 34,
   "metadata": {
    "collapsed": true
   },
   "outputs": [],
   "source": [
    "def add_arrival_date(df, dates = arbitrary_dates):\n",
    "    df = df.copy()\n",
    "    arrival_date = []\n",
    "    arrival_time = []\n",
    "\n",
    "    for i in df['arrival_time']:\n",
    "        hour = i[:i.find(':')]\n",
    "        minute = i[i.find(':')+1:i.find(':',4)]\n",
    "        second = i[i.find(':',5)+1:]\n",
    "        \n",
    "        if int(hour) < 24:\n",
    "            arrival_date.append(dates[0])\n",
    "            arrival_time.append(i)\n",
    "        elif 24 <= int(hour) < 48:\n",
    "            arrival_date.append(dates[1])\n",
    "            hour = int(hour) - 24\n",
    "            arrival_time.append(str(hour)+\":\"+minute+\":\"+second)\n",
    "        else:\n",
    "            arrival_date.append('NA')\n",
    "            \n",
    "    df['arrival_date'] = arrival_date\n",
    "    df['arrival_time'] = arrival_time\n",
    "    return df"
   ]
  },
  {
   "cell_type": "markdown",
   "metadata": {},
   "source": [
    "Define a function to add departure dates to stop_times tables. We will use 1/5/15 as the start date because that is the date we are currently using to visualize taxi trips. This code deals with departure times > 24 hours and converts them to 1/6/15."
   ]
  },
  {
   "cell_type": "code",
   "execution_count": 35,
   "metadata": {
    "collapsed": true
   },
   "outputs": [],
   "source": [
    "def add_departure_date(df, dates = arbitrary_dates):\n",
    "    df = df.copy()\n",
    "    departure_date = []\n",
    "    departure_time = []\n",
    "\n",
    "    for i in df['departure_time']:\n",
    "        hour = i[:i.find(':')]\n",
    "        minute = i[i.find(':')+1:i.find(':',4)]\n",
    "        second = i[i.find(':',5)+1:]\n",
    "        \n",
    "        if int(hour) < 24:\n",
    "            departure_date.append(dates[0])\n",
    "            departure_time.append(i)\n",
    "        elif 24 <= int(hour) < 48:\n",
    "            departure_date.append(dates[1])\n",
    "            hour = int(hour) - 24\n",
    "            departure_time.append(str(hour)+\":\"+minute+\":\"+second)\n",
    "        else:\n",
    "            departure_date.append('NA')\n",
    "            \n",
    "    df['departure_date'] = departure_date\n",
    "    df['departure_time'] = departure_time\n",
    "    return df"
   ]
  },
  {
   "cell_type": "markdown",
   "metadata": {},
   "source": [
    "### Get timetables for each day of the week"
   ]
  },
  {
   "cell_type": "code",
   "execution_count": 36,
   "metadata": {
    "collapsed": true
   },
   "outputs": [],
   "source": [
    "monday = calendar[calendar['monday'] == 1]\n",
    "tuesday = calendar[calendar['tuesday'] == 1]\n",
    "wednesday = calendar[calendar['wednesday'] == 1]\n",
    "thursday = calendar[calendar['thursday'] == 1]\n",
    "friday = calendar[calendar['friday'] == 1]\n",
    "saturday = calendar[calendar['saturday'] == 1]\n",
    "sunday = calendar[calendar['sunday'] == 1]"
   ]
  },
  {
   "cell_type": "markdown",
   "metadata": {},
   "source": [
    "### Monday"
   ]
  },
  {
   "cell_type": "code",
   "execution_count": 37,
   "metadata": {
    "collapsed": false
   },
   "outputs": [
    {
     "data": {
      "text/html": [
       "<div>\n",
       "<table border=\"1\" class=\"dataframe\">\n",
       "  <thead>\n",
       "    <tr style=\"text-align: right;\">\n",
       "      <th></th>\n",
       "      <th>service_id</th>\n",
       "      <th>monday</th>\n",
       "      <th>tuesday</th>\n",
       "      <th>wednesday</th>\n",
       "      <th>thursday</th>\n",
       "      <th>friday</th>\n",
       "      <th>saturday</th>\n",
       "      <th>sunday</th>\n",
       "      <th>start_date</th>\n",
       "      <th>end_date</th>\n",
       "      <th>trip_id</th>\n",
       "      <th>route_id</th>\n",
       "    </tr>\n",
       "  </thead>\n",
       "  <tbody>\n",
       "    <tr>\n",
       "      <th>0</th>\n",
       "      <td>A20161106WKD</td>\n",
       "      <td>1</td>\n",
       "      <td>1</td>\n",
       "      <td>1</td>\n",
       "      <td>1</td>\n",
       "      <td>1</td>\n",
       "      <td>0</td>\n",
       "      <td>0</td>\n",
       "      <td>20161106</td>\n",
       "      <td>20171231</td>\n",
       "      <td>A20161106WKD_029750_1..S02R</td>\n",
       "      <td>1</td>\n",
       "    </tr>\n",
       "    <tr>\n",
       "      <th>1</th>\n",
       "      <td>A20161106WKD</td>\n",
       "      <td>1</td>\n",
       "      <td>1</td>\n",
       "      <td>1</td>\n",
       "      <td>1</td>\n",
       "      <td>1</td>\n",
       "      <td>0</td>\n",
       "      <td>0</td>\n",
       "      <td>20161106</td>\n",
       "      <td>20171231</td>\n",
       "      <td>A20161106WKD_036150_1..N02R</td>\n",
       "      <td>1</td>\n",
       "    </tr>\n",
       "    <tr>\n",
       "      <th>2</th>\n",
       "      <td>A20161106WKD</td>\n",
       "      <td>1</td>\n",
       "      <td>1</td>\n",
       "      <td>1</td>\n",
       "      <td>1</td>\n",
       "      <td>1</td>\n",
       "      <td>0</td>\n",
       "      <td>0</td>\n",
       "      <td>20161106</td>\n",
       "      <td>20171231</td>\n",
       "      <td>A20161106WKD_042550_1..S02R</td>\n",
       "      <td>1</td>\n",
       "    </tr>\n",
       "    <tr>\n",
       "      <th>3</th>\n",
       "      <td>A20161106WKD</td>\n",
       "      <td>1</td>\n",
       "      <td>1</td>\n",
       "      <td>1</td>\n",
       "      <td>1</td>\n",
       "      <td>1</td>\n",
       "      <td>0</td>\n",
       "      <td>0</td>\n",
       "      <td>20161106</td>\n",
       "      <td>20171231</td>\n",
       "      <td>A20161106WKD_048950_1..N02R</td>\n",
       "      <td>1</td>\n",
       "    </tr>\n",
       "    <tr>\n",
       "      <th>4</th>\n",
       "      <td>A20161106WKD</td>\n",
       "      <td>1</td>\n",
       "      <td>1</td>\n",
       "      <td>1</td>\n",
       "      <td>1</td>\n",
       "      <td>1</td>\n",
       "      <td>0</td>\n",
       "      <td>0</td>\n",
       "      <td>20161106</td>\n",
       "      <td>20171231</td>\n",
       "      <td>A20161106WKD_055300_1..S02R</td>\n",
       "      <td>1</td>\n",
       "    </tr>\n",
       "  </tbody>\n",
       "</table>\n",
       "</div>"
      ],
      "text/plain": [
       "     service_id  monday  tuesday  wednesday  thursday  friday  saturday  \\\n",
       "0  A20161106WKD       1        1          1         1       1         0   \n",
       "1  A20161106WKD       1        1          1         1       1         0   \n",
       "2  A20161106WKD       1        1          1         1       1         0   \n",
       "3  A20161106WKD       1        1          1         1       1         0   \n",
       "4  A20161106WKD       1        1          1         1       1         0   \n",
       "\n",
       "   sunday  start_date  end_date                      trip_id route_id  \n",
       "0       0    20161106  20171231  A20161106WKD_029750_1..S02R        1  \n",
       "1       0    20161106  20171231  A20161106WKD_036150_1..N02R        1  \n",
       "2       0    20161106  20171231  A20161106WKD_042550_1..S02R        1  \n",
       "3       0    20161106  20171231  A20161106WKD_048950_1..N02R        1  \n",
       "4       0    20161106  20171231  A20161106WKD_055300_1..S02R        1  "
      ]
     },
     "execution_count": 37,
     "metadata": {},
     "output_type": "execute_result"
    }
   ],
   "source": [
    "monday.head()"
   ]
  },
  {
   "cell_type": "code",
   "execution_count": 38,
   "metadata": {
    "collapsed": false
   },
   "outputs": [
    {
     "name": "stdout",
     "output_type": "stream",
     "text": [
      "There are  8364 trips on Monday\n"
     ]
    },
    {
     "data": {
      "text/plain": [
       "0    A20161106WKD_029750_1..S02R\n",
       "1    A20161106WKD_036150_1..N02R\n",
       "2    A20161106WKD_042550_1..S02R\n",
       "3    A20161106WKD_048950_1..N02R\n",
       "4    A20161106WKD_055300_1..S02R\n",
       "Name: trip_id, dtype: object"
      ]
     },
     "execution_count": 38,
     "metadata": {},
     "output_type": "execute_result"
    }
   ],
   "source": [
    "monday_trips = monday['trip_id']\n",
    "print \"There are \", len(monday_trips), \"trips on Monday\"\n",
    "monday_trips.head()"
   ]
  },
  {
   "cell_type": "code",
   "execution_count": 39,
   "metadata": {
    "collapsed": false
   },
   "outputs": [
    {
     "data": {
      "text/plain": [
       "19711    R20161106WKD_129600_SI.S03R\n",
       "19712    R20161106WKD_135100_SI.N03R\n",
       "19713    R20161106WKD_141600_SI.S03R\n",
       "19714    R20161106WKD_147100_SI.N03R\n",
       "19715    R20161106WKD_119300_SI.S03R\n",
       "Name: trip_id, dtype: object"
      ]
     },
     "execution_count": 39,
     "metadata": {},
     "output_type": "execute_result"
    }
   ],
   "source": [
    "monday_trips.tail()"
   ]
  },
  {
   "cell_type": "markdown",
   "metadata": {},
   "source": [
    "Make a dataframe for every trip in monday_trips and append it to triplist."
   ]
  },
  {
   "cell_type": "code",
   "execution_count": 40,
   "metadata": {
    "collapsed": false
   },
   "outputs": [
    {
     "name": "stdout",
     "output_type": "stream",
     "text": [
      "2017-04-06 14:15:37.882753 finished trip number 100 / 8364\n",
      "2017-04-06 14:15:47.997911 finished trip number 200 / 8364\n",
      "2017-04-06 14:15:57.748757 finished trip number 300 / 8364\n",
      "2017-04-06 14:16:06.943861 finished trip number 400 / 8364\n",
      "2017-04-06 14:16:16.239498 finished trip number 500 / 8364\n",
      "2017-04-06 14:16:26.505995 finished trip number 600 / 8364\n",
      "2017-04-06 14:16:37.513529 finished trip number 700 / 8364\n",
      "2017-04-06 14:16:47.016765 finished trip number 800 / 8364\n",
      "2017-04-06 14:16:55.836228 finished trip number 900 / 8364\n",
      "2017-04-06 14:17:04.782258 finished trip number 1000 / 8364\n",
      "2017-04-06 14:17:13.901980 finished trip number 1100 / 8364\n",
      "2017-04-06 14:17:23.600472 finished trip number 1200 / 8364\n",
      "2017-04-06 14:17:32.268891 finished trip number 1300 / 8364\n",
      "2017-04-06 14:17:40.665597 finished trip number 1400 / 8364\n",
      "2017-04-06 14:17:48.594313 finished trip number 1500 / 8364\n",
      "2017-04-06 14:17:56.812529 finished trip number 1600 / 8364\n",
      "2017-04-06 14:18:06.384772 finished trip number 1700 / 8364\n",
      "2017-04-06 14:18:16.245911 finished trip number 1800 / 8364\n",
      "2017-04-06 14:18:29.985141 finished trip number 1900 / 8364\n",
      "2017-04-06 14:18:40.883862 finished trip number 2000 / 8364\n",
      "2017-04-06 14:18:52.424650 finished trip number 2100 / 8364\n",
      "2017-04-06 14:19:09.827640 finished trip number 2200 / 8364\n",
      "2017-04-06 14:19:18.311952 finished trip number 2300 / 8364\n",
      "2017-04-06 14:19:26.504122 finished trip number 2400 / 8364\n",
      "2017-04-06 14:19:34.180111 finished trip number 2500 / 8364\n",
      "2017-04-06 14:19:43.811749 finished trip number 2600 / 8364\n",
      "2017-04-06 14:19:53.009516 finished trip number 2700 / 8364\n",
      "2017-04-06 14:20:01.656641 finished trip number 2800 / 8364\n",
      "2017-04-06 14:20:16.189314 finished trip number 2900 / 8364\n",
      "2017-04-06 14:20:23.568580 finished trip number 3000 / 8364\n",
      "2017-04-06 14:20:29.495161 finished trip number 3100 / 8364\n",
      "2017-04-06 14:20:35.357266 finished trip number 3200 / 8364\n",
      "2017-04-06 14:20:42.806364 finished trip number 3300 / 8364\n",
      "2017-04-06 14:20:48.880604 finished trip number 3400 / 8364\n",
      "2017-04-06 14:20:54.824143 finished trip number 3500 / 8364\n",
      "2017-04-06 14:21:01.312293 finished trip number 3600 / 8364\n",
      "2017-04-06 14:21:10.844009 finished trip number 3700 / 8364\n",
      "2017-04-06 14:21:20.290671 finished trip number 3800 / 8364\n",
      "2017-04-06 14:21:30.230555 finished trip number 3900 / 8364\n",
      "2017-04-06 14:21:38.776904 finished trip number 4000 / 8364\n",
      "2017-04-06 14:21:45.113491 finished trip number 4100 / 8364\n",
      "2017-04-06 14:21:51.520399 finished trip number 4200 / 8364\n",
      "2017-04-06 14:21:59.616132 finished trip number 4300 / 8364\n",
      "2017-04-06 14:22:07.558032 finished trip number 4400 / 8364\n",
      "2017-04-06 14:22:16.212111 finished trip number 4500 / 8364\n",
      "2017-04-06 14:22:23.873918 finished trip number 4600 / 8364\n",
      "2017-04-06 14:22:32.239097 finished trip number 4700 / 8364\n",
      "2017-04-06 14:22:41.568576 finished trip number 4800 / 8364\n",
      "2017-04-06 14:22:52.535458 finished trip number 4900 / 8364\n",
      "2017-04-06 14:23:01.295230 finished trip number 5000 / 8364\n",
      "2017-04-06 14:23:10.006326 finished trip number 5100 / 8364\n",
      "2017-04-06 14:23:18.179784 finished trip number 5200 / 8364\n",
      "2017-04-06 14:23:27.105797 finished trip number 5300 / 8364\n",
      "2017-04-06 14:23:36.932891 finished trip number 5400 / 8364\n",
      "2017-04-06 14:23:45.997065 finished trip number 5500 / 8364\n",
      "2017-04-06 14:23:56.599174 finished trip number 5600 / 8364\n",
      "2017-04-06 14:24:06.524179 finished trip number 5700 / 8364\n",
      "2017-04-06 14:24:22.602190 finished trip number 5800 / 8364\n",
      "2017-04-06 14:24:35.614949 finished trip number 5900 / 8364\n",
      "2017-04-06 14:24:49.157249 finished trip number 6000 / 8364\n",
      "2017-04-06 14:25:01.582062 finished trip number 6100 / 8364\n",
      "2017-04-06 14:25:11.518769 finished trip number 6200 / 8364\n",
      "2017-04-06 14:25:22.285039 finished trip number 6300 / 8364\n",
      "2017-04-06 14:25:32.722821 finished trip number 6400 / 8364\n",
      "2017-04-06 14:25:43.293912 finished trip number 6500 / 8364\n",
      "2017-04-06 14:25:58.521855 finished trip number 6600 / 8364\n",
      "2017-04-06 14:26:10.651254 finished trip number 6700 / 8364\n",
      "2017-04-06 14:26:21.189663 finished trip number 6800 / 8364\n",
      "2017-04-06 14:26:31.582403 finished trip number 6900 / 8364\n",
      "2017-04-06 14:26:40.869949 finished trip number 7000 / 8364\n",
      "2017-04-06 14:26:52.962288 finished trip number 7100 / 8364\n",
      "2017-04-06 14:27:02.891226 finished trip number 7200 / 8364\n",
      "2017-04-06 14:27:12.686260 finished trip number 7300 / 8364\n",
      "2017-04-06 14:27:22.473016 finished trip number 7400 / 8364\n",
      "2017-04-06 14:27:32.289114 finished trip number 7500 / 8364\n",
      "2017-04-06 14:27:41.748736 finished trip number 7600 / 8364\n",
      "2017-04-06 14:27:50.822364 finished trip number 7700 / 8364\n",
      "2017-04-06 14:28:03.144233 finished trip number 7800 / 8364\n",
      "2017-04-06 14:28:12.610184 finished trip number 7900 / 8364\n",
      "2017-04-06 14:28:20.940648 finished trip number 8000 / 8364\n",
      "2017-04-06 14:28:28.182898 finished trip number 8100 / 8364\n",
      "2017-04-06 14:28:35.473746 finished trip number 8200 / 8364\n",
      "2017-04-06 14:28:42.376991 finished trip number 8300 / 8364\n"
     ]
    }
   ],
   "source": [
    "triplist = []\n",
    "count = 0\n",
    "\n",
    "for i in monday_trips:\n",
    "    count += 1\n",
    "    df = stop_times[stop_times['trip_id'] == i]\n",
    "    \n",
    "    # add arrival and departure dates\n",
    "    df = add_arrival_date(df, dates = arbitrary_dates)\n",
    "    df = add_departure_date(df, dates = arbitrary_dates)\n",
    "    df['arrival_datetime'] = pd.to_datetime(df['arrival_date'] + ' ' + df['arrival_time'])\n",
    "    df['departure_datetime'] = pd.to_datetime(df['departure_date'] + ' ' + df['departure_time'])\n",
    "\n",
    "    # join df with stops\n",
    "    df = pd.merge(df, stops[['stop_id', 'stop_name', 'stop_lat', 'stop_lon']],left_on='stop_id', right_on='stop_id')\n",
    "\n",
    "    # join df with trips to get direction id\n",
    "    df = pd.merge(df, trips[['trip_id', 'direction_id', 'route_id']], left_on='trip_id', right_on='trip_id', how='left')\n",
    "\n",
    "    # join df with routes to get route id\n",
    "    df = pd.merge(df, routes[['route_id', 'route_long_name']], left_on='route_id', right_on='route_id', how='left')\n",
    "    \n",
    "    # create new dataframe to store results\n",
    "    legs = pd.DataFrame()\n",
    "    legs['type_id'] = df['route_id']\n",
    "    legs['starttime'] = df['departure_datetime']\n",
    "    legs['stoptime'] = df['arrival_datetime'].shift(-1).fillna(method='ffill')\n",
    "    legs['tripduration'] = ((legs['stoptime'] - legs['starttime'])/np.timedelta64(1, 's')).astype(int)\n",
    "    legs['start_lat'] = df['stop_lat']\n",
    "    legs['start_lon'] = df['stop_lon']\n",
    "    legs['end_lat'] = legs['start_lat'].shift(-1).fillna(method='ffill')\n",
    "    legs['end_lon'] = legs['start_lon'].shift(-1).fillna(method='ffill')\n",
    "    \n",
    "    # append results to triplist\n",
    "    triplist.append(legs)\n",
    "    \n",
    "    if count % 100 == 0:\n",
    "        print str(dt.datetime.now()), \"finished trip number\", count, \"/\", len(monday_trips)"
   ]
  },
  {
   "cell_type": "code",
   "execution_count": 41,
   "metadata": {
    "collapsed": false
   },
   "outputs": [
    {
     "data": {
      "text/html": [
       "<div>\n",
       "<table border=\"1\" class=\"dataframe\">\n",
       "  <thead>\n",
       "    <tr style=\"text-align: right;\">\n",
       "      <th></th>\n",
       "      <th>type_id</th>\n",
       "      <th>starttime</th>\n",
       "      <th>stoptime</th>\n",
       "      <th>tripduration</th>\n",
       "      <th>start_lat</th>\n",
       "      <th>start_lon</th>\n",
       "      <th>end_lat</th>\n",
       "      <th>end_lon</th>\n",
       "    </tr>\n",
       "  </thead>\n",
       "  <tbody>\n",
       "    <tr>\n",
       "      <th>0</th>\n",
       "      <td>1</td>\n",
       "      <td>2015-01-05 04:57:30</td>\n",
       "      <td>2015-01-05 04:59:00</td>\n",
       "      <td>90</td>\n",
       "      <td>40.889248</td>\n",
       "      <td>-73.898583</td>\n",
       "      <td>40.884667</td>\n",
       "      <td>-73.900870</td>\n",
       "    </tr>\n",
       "    <tr>\n",
       "      <th>1</th>\n",
       "      <td>1</td>\n",
       "      <td>2015-01-05 04:59:00</td>\n",
       "      <td>2015-01-05 05:00:30</td>\n",
       "      <td>90</td>\n",
       "      <td>40.884667</td>\n",
       "      <td>-73.900870</td>\n",
       "      <td>40.878856</td>\n",
       "      <td>-73.904834</td>\n",
       "    </tr>\n",
       "    <tr>\n",
       "      <th>2</th>\n",
       "      <td>1</td>\n",
       "      <td>2015-01-05 05:00:30</td>\n",
       "      <td>2015-01-05 05:02:00</td>\n",
       "      <td>90</td>\n",
       "      <td>40.878856</td>\n",
       "      <td>-73.904834</td>\n",
       "      <td>40.874561</td>\n",
       "      <td>-73.909831</td>\n",
       "    </tr>\n",
       "    <tr>\n",
       "      <th>3</th>\n",
       "      <td>1</td>\n",
       "      <td>2015-01-05 05:02:00</td>\n",
       "      <td>2015-01-05 05:03:30</td>\n",
       "      <td>90</td>\n",
       "      <td>40.874561</td>\n",
       "      <td>-73.909831</td>\n",
       "      <td>40.869444</td>\n",
       "      <td>-73.915279</td>\n",
       "    </tr>\n",
       "    <tr>\n",
       "      <th>4</th>\n",
       "      <td>1</td>\n",
       "      <td>2015-01-05 05:03:30</td>\n",
       "      <td>2015-01-05 05:04:30</td>\n",
       "      <td>60</td>\n",
       "      <td>40.869444</td>\n",
       "      <td>-73.915279</td>\n",
       "      <td>40.864621</td>\n",
       "      <td>-73.918822</td>\n",
       "    </tr>\n",
       "  </tbody>\n",
       "</table>\n",
       "</div>"
      ],
      "text/plain": [
       "  type_id           starttime            stoptime  tripduration  start_lat  \\\n",
       "0       1 2015-01-05 04:57:30 2015-01-05 04:59:00            90  40.889248   \n",
       "1       1 2015-01-05 04:59:00 2015-01-05 05:00:30            90  40.884667   \n",
       "2       1 2015-01-05 05:00:30 2015-01-05 05:02:00            90  40.878856   \n",
       "3       1 2015-01-05 05:02:00 2015-01-05 05:03:30            90  40.874561   \n",
       "4       1 2015-01-05 05:03:30 2015-01-05 05:04:30            60  40.869444   \n",
       "\n",
       "   start_lon    end_lat    end_lon  \n",
       "0 -73.898583  40.884667 -73.900870  \n",
       "1 -73.900870  40.878856 -73.904834  \n",
       "2 -73.904834  40.874561 -73.909831  \n",
       "3 -73.909831  40.869444 -73.915279  \n",
       "4 -73.915279  40.864621 -73.918822  "
      ]
     },
     "execution_count": 41,
     "metadata": {},
     "output_type": "execute_result"
    }
   ],
   "source": [
    "triplist[0].head()"
   ]
  },
  {
   "cell_type": "code",
   "execution_count": 45,
   "metadata": {
    "collapsed": false
   },
   "outputs": [
    {
     "data": {
      "text/html": [
       "<div>\n",
       "<table border=\"1\" class=\"dataframe\">\n",
       "  <thead>\n",
       "    <tr style=\"text-align: right;\">\n",
       "      <th></th>\n",
       "      <th>type_id</th>\n",
       "      <th>starttime</th>\n",
       "      <th>stoptime</th>\n",
       "      <th>tripduration</th>\n",
       "      <th>start_lat</th>\n",
       "      <th>start_lon</th>\n",
       "      <th>end_lat</th>\n",
       "      <th>end_lon</th>\n",
       "    </tr>\n",
       "  </thead>\n",
       "  <tbody>\n",
       "    <tr>\n",
       "      <th>16</th>\n",
       "      <td>SI</td>\n",
       "      <td>2015-01-05 20:26:00</td>\n",
       "      <td>2015-01-05 20:28:00</td>\n",
       "      <td>120</td>\n",
       "      <td>40.525507</td>\n",
       "      <td>-74.200064</td>\n",
       "      <td>40.522410</td>\n",
       "      <td>-74.217847</td>\n",
       "    </tr>\n",
       "    <tr>\n",
       "      <th>17</th>\n",
       "      <td>SI</td>\n",
       "      <td>2015-01-05 20:28:00</td>\n",
       "      <td>2015-01-05 20:30:00</td>\n",
       "      <td>120</td>\n",
       "      <td>40.522410</td>\n",
       "      <td>-74.217847</td>\n",
       "      <td>40.519631</td>\n",
       "      <td>-74.229141</td>\n",
       "    </tr>\n",
       "    <tr>\n",
       "      <th>18</th>\n",
       "      <td>SI</td>\n",
       "      <td>2015-01-05 20:30:00</td>\n",
       "      <td>2015-01-05 20:32:00</td>\n",
       "      <td>120</td>\n",
       "      <td>40.519631</td>\n",
       "      <td>-74.229141</td>\n",
       "      <td>40.516578</td>\n",
       "      <td>-74.242096</td>\n",
       "    </tr>\n",
       "    <tr>\n",
       "      <th>19</th>\n",
       "      <td>SI</td>\n",
       "      <td>2015-01-05 20:32:00</td>\n",
       "      <td>2015-01-05 20:35:00</td>\n",
       "      <td>180</td>\n",
       "      <td>40.516578</td>\n",
       "      <td>-74.242096</td>\n",
       "      <td>40.512764</td>\n",
       "      <td>-74.251961</td>\n",
       "    </tr>\n",
       "    <tr>\n",
       "      <th>20</th>\n",
       "      <td>SI</td>\n",
       "      <td>2015-01-05 20:35:00</td>\n",
       "      <td>2015-01-05 20:35:00</td>\n",
       "      <td>0</td>\n",
       "      <td>40.512764</td>\n",
       "      <td>-74.251961</td>\n",
       "      <td>40.512764</td>\n",
       "      <td>-74.251961</td>\n",
       "    </tr>\n",
       "  </tbody>\n",
       "</table>\n",
       "</div>"
      ],
      "text/plain": [
       "   type_id           starttime            stoptime  tripduration  start_lat  \\\n",
       "16      SI 2015-01-05 20:26:00 2015-01-05 20:28:00           120  40.525507   \n",
       "17      SI 2015-01-05 20:28:00 2015-01-05 20:30:00           120  40.522410   \n",
       "18      SI 2015-01-05 20:30:00 2015-01-05 20:32:00           120  40.519631   \n",
       "19      SI 2015-01-05 20:32:00 2015-01-05 20:35:00           180  40.516578   \n",
       "20      SI 2015-01-05 20:35:00 2015-01-05 20:35:00             0  40.512764   \n",
       "\n",
       "    start_lon    end_lat    end_lon  \n",
       "16 -74.200064  40.522410 -74.217847  \n",
       "17 -74.217847  40.519631 -74.229141  \n",
       "18 -74.229141  40.516578 -74.242096  \n",
       "19 -74.242096  40.512764 -74.251961  \n",
       "20 -74.251961  40.512764 -74.251961  "
      ]
     },
     "execution_count": 45,
     "metadata": {},
     "output_type": "execute_result"
    }
   ],
   "source": [
    "triplist[8363].tail()"
   ]
  },
  {
   "cell_type": "code",
   "execution_count": 46,
   "metadata": {
    "collapsed": false
   },
   "outputs": [
    {
     "data": {
      "text/plain": [
       "8364"
      ]
     },
     "execution_count": 46,
     "metadata": {},
     "output_type": "execute_result"
    }
   ],
   "source": [
    "len(triplist)"
   ]
  },
  {
   "cell_type": "code",
   "execution_count": 47,
   "metadata": {
    "collapsed": true
   },
   "outputs": [],
   "source": [
    "data = pd.concat(triplist)"
   ]
  },
  {
   "cell_type": "code",
   "execution_count": 48,
   "metadata": {
    "collapsed": false
   },
   "outputs": [
    {
     "data": {
      "text/html": [
       "<div>\n",
       "<table border=\"1\" class=\"dataframe\">\n",
       "  <thead>\n",
       "    <tr style=\"text-align: right;\">\n",
       "      <th></th>\n",
       "      <th>type_id</th>\n",
       "      <th>starttime</th>\n",
       "      <th>stoptime</th>\n",
       "      <th>tripduration</th>\n",
       "      <th>start_lat</th>\n",
       "      <th>start_lon</th>\n",
       "      <th>end_lat</th>\n",
       "      <th>end_lon</th>\n",
       "    </tr>\n",
       "  </thead>\n",
       "  <tbody>\n",
       "    <tr>\n",
       "      <th>0</th>\n",
       "      <td>1</td>\n",
       "      <td>2015-01-05 04:57:30</td>\n",
       "      <td>2015-01-05 04:59:00</td>\n",
       "      <td>90</td>\n",
       "      <td>40.889248</td>\n",
       "      <td>-73.898583</td>\n",
       "      <td>40.884667</td>\n",
       "      <td>-73.900870</td>\n",
       "    </tr>\n",
       "    <tr>\n",
       "      <th>1</th>\n",
       "      <td>1</td>\n",
       "      <td>2015-01-05 04:59:00</td>\n",
       "      <td>2015-01-05 05:00:30</td>\n",
       "      <td>90</td>\n",
       "      <td>40.884667</td>\n",
       "      <td>-73.900870</td>\n",
       "      <td>40.878856</td>\n",
       "      <td>-73.904834</td>\n",
       "    </tr>\n",
       "    <tr>\n",
       "      <th>2</th>\n",
       "      <td>1</td>\n",
       "      <td>2015-01-05 05:00:30</td>\n",
       "      <td>2015-01-05 05:02:00</td>\n",
       "      <td>90</td>\n",
       "      <td>40.878856</td>\n",
       "      <td>-73.904834</td>\n",
       "      <td>40.874561</td>\n",
       "      <td>-73.909831</td>\n",
       "    </tr>\n",
       "    <tr>\n",
       "      <th>3</th>\n",
       "      <td>1</td>\n",
       "      <td>2015-01-05 05:02:00</td>\n",
       "      <td>2015-01-05 05:03:30</td>\n",
       "      <td>90</td>\n",
       "      <td>40.874561</td>\n",
       "      <td>-73.909831</td>\n",
       "      <td>40.869444</td>\n",
       "      <td>-73.915279</td>\n",
       "    </tr>\n",
       "    <tr>\n",
       "      <th>4</th>\n",
       "      <td>1</td>\n",
       "      <td>2015-01-05 05:03:30</td>\n",
       "      <td>2015-01-05 05:04:30</td>\n",
       "      <td>60</td>\n",
       "      <td>40.869444</td>\n",
       "      <td>-73.915279</td>\n",
       "      <td>40.864621</td>\n",
       "      <td>-73.918822</td>\n",
       "    </tr>\n",
       "  </tbody>\n",
       "</table>\n",
       "</div>"
      ],
      "text/plain": [
       "  type_id           starttime            stoptime  tripduration  start_lat  \\\n",
       "0       1 2015-01-05 04:57:30 2015-01-05 04:59:00            90  40.889248   \n",
       "1       1 2015-01-05 04:59:00 2015-01-05 05:00:30            90  40.884667   \n",
       "2       1 2015-01-05 05:00:30 2015-01-05 05:02:00            90  40.878856   \n",
       "3       1 2015-01-05 05:02:00 2015-01-05 05:03:30            90  40.874561   \n",
       "4       1 2015-01-05 05:03:30 2015-01-05 05:04:30            60  40.869444   \n",
       "\n",
       "   start_lon    end_lat    end_lon  \n",
       "0 -73.898583  40.884667 -73.900870  \n",
       "1 -73.900870  40.878856 -73.904834  \n",
       "2 -73.904834  40.874561 -73.909831  \n",
       "3 -73.909831  40.869444 -73.915279  \n",
       "4 -73.915279  40.864621 -73.918822  "
      ]
     },
     "execution_count": 48,
     "metadata": {},
     "output_type": "execute_result"
    }
   ],
   "source": [
    "data.head()"
   ]
  },
  {
   "cell_type": "code",
   "execution_count": 49,
   "metadata": {
    "collapsed": false
   },
   "outputs": [
    {
     "data": {
      "text/plain": [
       "230954"
      ]
     },
     "execution_count": 49,
     "metadata": {},
     "output_type": "execute_result"
    }
   ],
   "source": [
    "len(data)"
   ]
  },
  {
   "cell_type": "code",
   "execution_count": 50,
   "metadata": {
    "collapsed": true
   },
   "outputs": [],
   "source": [
    "data = data[data.tripduration != 0]"
   ]
  },
  {
   "cell_type": "code",
   "execution_count": 51,
   "metadata": {
    "collapsed": false
   },
   "outputs": [
    {
     "data": {
      "text/plain": [
       "222674"
      ]
     },
     "execution_count": 51,
     "metadata": {},
     "output_type": "execute_result"
    }
   ],
   "source": [
    "len(data)"
   ]
  },
  {
   "cell_type": "code",
   "execution_count": 54,
   "metadata": {
    "collapsed": false
   },
   "outputs": [],
   "source": [
    "data = data.sort_values(by='starttime')\n",
    "data = data.reset_index(drop=True)"
   ]
  },
  {
   "cell_type": "markdown",
   "metadata": {},
   "source": [
    "Set the type_id to 8 for now (since 1-2 are taxis and 3-8 are bus)"
   ]
  },
  {
   "cell_type": "code",
   "execution_count": 60,
   "metadata": {
    "collapsed": false
   },
   "outputs": [],
   "source": [
    "data['type_id'] = 8"
   ]
  },
  {
   "cell_type": "code",
   "execution_count": 61,
   "metadata": {
    "collapsed": true
   },
   "outputs": [],
   "source": [
    "data.to_csv('subway_monday_raw.csv')"
   ]
  },
  {
   "cell_type": "markdown",
   "metadata": {},
   "source": [
    "See how pandas leaves a blank first column with the index?"
   ]
  },
  {
   "cell_type": "code",
   "execution_count": 62,
   "metadata": {
    "collapsed": false
   },
   "outputs": [
    {
     "name": "stdout",
     "output_type": "stream",
     "text": [
      ",type_id,starttime,stoptime,tripduration,start_lat,start_lon,end_lat,end_lon\n",
      "0,8,2015-01-05 00:00:00,2015-01-05 00:02:00,120,40.680596,-73.955827,40.674772,-73.957624\n",
      "1,8,2015-01-05 00:00:00,2015-01-05 00:02:30,150,40.697207,-73.935657,40.697857,-73.927397\n",
      "2,8,2015-01-05 00:01:00,2015-01-05 00:02:30,90,40.903125,-73.85062,40.898379,-73.854376\n",
      "3,8,2015-01-05 00:02:00,2015-01-05 00:04:00,120,40.8883,-73.830834,40.878663,-73.838591\n",
      "4,8,2015-01-05 00:02:00,2015-01-05 00:03:30,90,40.674772,-73.957624,40.670343,-73.959245\n",
      "5,8,2015-01-05 00:02:30,2015-01-05 00:04:00,90,40.697857,-73.927397,40.698664,-73.919711\n",
      "6,8,2015-01-05 00:02:30,2015-01-05 00:04:30,120,40.82388,-73.93647,40.820421,-73.936245\n",
      "7,8,2015-01-05 00:02:30,2015-01-05 00:04:00,90,40.898379,-73.854376,40.893193,-73.857473\n",
      "8,8,2015-01-05 00:03:30,2015-01-05 00:06:30,180,40.670343,-73.959245,40.661614,-73.962246\n"
     ]
    }
   ],
   "source": [
    "%%bash \n",
    "\n",
    "head subway_monday_raw.csv"
   ]
  },
  {
   "cell_type": "markdown",
   "metadata": {},
   "source": [
    "We need to delete it. Bash command to remove first column from csv output:"
   ]
  },
  {
   "cell_type": "code",
   "execution_count": 63,
   "metadata": {
    "collapsed": false
   },
   "outputs": [],
   "source": [
    "%%bash\n",
    "\n",
    "awk -F\",\" -v OFS=\",\" '{ $1=\"\" ; $0=substr($0,2) } 1' subway_monday_raw.csv > subway_monday.csv"
   ]
  },
  {
   "cell_type": "code",
   "execution_count": 64,
   "metadata": {
    "collapsed": false
   },
   "outputs": [
    {
     "name": "stdout",
     "output_type": "stream",
     "text": [
      "type_id,starttime,stoptime,tripduration,start_lat,start_lon,end_lat,end_lon\n",
      "8,2015-01-05 00:00:00,2015-01-05 00:02:00,120,40.680596,-73.955827,40.674772,-73.957624\n",
      "8,2015-01-05 00:00:00,2015-01-05 00:02:30,150,40.697207,-73.935657,40.697857,-73.927397\n",
      "8,2015-01-05 00:01:00,2015-01-05 00:02:30,90,40.903125,-73.85062,40.898379,-73.854376\n",
      "8,2015-01-05 00:02:00,2015-01-05 00:04:00,120,40.8883,-73.830834,40.878663,-73.838591\n",
      "8,2015-01-05 00:02:00,2015-01-05 00:03:30,90,40.674772,-73.957624,40.670343,-73.959245\n",
      "8,2015-01-05 00:02:30,2015-01-05 00:04:00,90,40.697857,-73.927397,40.698664,-73.919711\n",
      "8,2015-01-05 00:02:30,2015-01-05 00:04:30,120,40.82388,-73.93647,40.820421,-73.936245\n",
      "8,2015-01-05 00:02:30,2015-01-05 00:04:00,90,40.898379,-73.854376,40.893193,-73.857473\n",
      "8,2015-01-05 00:03:30,2015-01-05 00:06:30,180,40.670343,-73.959245,40.661614,-73.962246\n"
     ]
    }
   ],
   "source": [
    "%%bash\n",
    "\n",
    "head subway_monday.csv"
   ]
  },
  {
   "cell_type": "markdown",
   "metadata": {},
   "source": [
    "# Merge subway data with existing bus + taxi output file"
   ]
  },
  {
   "cell_type": "code",
   "execution_count": 76,
   "metadata": {
    "collapsed": false
   },
   "outputs": [
    {
     "name": "stdout",
     "output_type": "stream",
     "text": [
      ",type_id,starttime,stoptime,tripduration,start_lat,start_lon,end_lat,end_lon\n",
      "0,6,2015-01-05 00:00:00,2015-01-05 00:01:00,60,40.829098,-73.874573,40.826763,-73.874023\n",
      "1,7,2015-01-05 00:00:00,2015-01-05 00:00:45,45,40.643429,-74.073654,40.641872,-74.075699\n",
      "2,2,2015-01-05 00:00:00,2015-01-05 00:06:44,404,40.7239456177,-73.9512939453,40.6974105835,-73.9648513794\n",
      "3,3,2015-01-05 00:00:00,2015-01-05 00:01:09,69,40.642979,-73.878334,40.645187,-73.878555\n",
      "4,3,2015-01-05 00:00:00,2015-01-05 00:01:09,69,40.642979,-73.878334,40.645187,-73.878555\n",
      "5,3,2015-01-05 00:00:00,2015-01-05 00:00:23,23,40.645714,-73.902313,40.644871,-73.902176\n",
      "6,3,2015-01-05 00:00:00,2015-01-05 00:01:09,69,40.642979,-73.878334,40.645187,-73.878555\n",
      "7,3,2015-01-05 00:00:00,2015-01-05 00:00:48,48,40.748638,-73.938446,40.747673,-73.941116\n",
      "8,3,2015-01-05 00:00:00,2015-01-05 00:00:48,48,40.748638,-73.938446,40.747673,-73.941116\n"
     ]
    }
   ],
   "source": [
    "%%bash\n",
    "\n",
    "cd /Users/Will/Dropbox/Portfolio/taxi_and_bus_and_subway_dynamic/data\n",
    "\n",
    "head taxi_and_bus_raw.csv"
   ]
  },
  {
   "cell_type": "markdown",
   "metadata": {},
   "source": [
    "Remove blank first column."
   ]
  },
  {
   "cell_type": "code",
   "execution_count": 78,
   "metadata": {
    "collapsed": false
   },
   "outputs": [],
   "source": [
    "%%bash\n",
    "\n",
    "cd /Users/Will/Dropbox/Portfolio/taxi_and_bus_and_subway_dynamic/data\n",
    "\n",
    "awk -F\",\" -v OFS=\",\" '{ $1=\"\" ; $0=substr($0,2) } 1' taxi_and_bus_raw.csv > taxi_and_bus.csv"
   ]
  },
  {
   "cell_type": "code",
   "execution_count": 79,
   "metadata": {
    "collapsed": false
   },
   "outputs": [
    {
     "name": "stdout",
     "output_type": "stream",
     "text": [
      "type_id,starttime,stoptime,tripduration,start_lat,start_lon,end_lat,end_lon\n",
      "6,2015-01-05 00:00:00,2015-01-05 00:01:00,60,40.829098,-73.874573,40.826763,-73.874023\n",
      "7,2015-01-05 00:00:00,2015-01-05 00:00:45,45,40.643429,-74.073654,40.641872,-74.075699\n",
      "2,2015-01-05 00:00:00,2015-01-05 00:06:44,404,40.7239456177,-73.9512939453,40.6974105835,-73.9648513794\n",
      "3,2015-01-05 00:00:00,2015-01-05 00:01:09,69,40.642979,-73.878334,40.645187,-73.878555\n",
      "3,2015-01-05 00:00:00,2015-01-05 00:01:09,69,40.642979,-73.878334,40.645187,-73.878555\n",
      "3,2015-01-05 00:00:00,2015-01-05 00:00:23,23,40.645714,-73.902313,40.644871,-73.902176\n",
      "3,2015-01-05 00:00:00,2015-01-05 00:01:09,69,40.642979,-73.878334,40.645187,-73.878555\n",
      "3,2015-01-05 00:00:00,2015-01-05 00:00:48,48,40.748638,-73.938446,40.747673,-73.941116\n",
      "3,2015-01-05 00:00:00,2015-01-05 00:00:48,48,40.748638,-73.938446,40.747673,-73.941116\n"
     ]
    }
   ],
   "source": [
    "%%bash\n",
    "\n",
    "cd /Users/Will/Dropbox/Portfolio/taxi_and_bus_and_subway_dynamic/data\n",
    "\n",
    "head taxi_and_bus.csv"
   ]
  },
  {
   "cell_type": "code",
   "execution_count": 73,
   "metadata": {
    "collapsed": false
   },
   "outputs": [
    {
     "name": "stdout",
     "output_type": "stream",
     "text": [
      "type_id,starttime,stoptime,tripduration,start_lat,start_lon,end_lat,end_lon\n",
      "8,2015-01-05 00:00:00,2015-01-05 00:02:00,120,40.680596,-73.955827,40.674772,-73.957624\n",
      "8,2015-01-05 00:00:00,2015-01-05 00:02:30,150,40.697207,-73.935657,40.697857,-73.927397\n",
      "8,2015-01-05 00:01:00,2015-01-05 00:02:30,90,40.903125,-73.85062,40.898379,-73.854376\n",
      "8,2015-01-05 00:02:00,2015-01-05 00:04:00,120,40.8883,-73.830834,40.878663,-73.838591\n",
      "8,2015-01-05 00:02:00,2015-01-05 00:03:30,90,40.674772,-73.957624,40.670343,-73.959245\n",
      "8,2015-01-05 00:02:30,2015-01-05 00:04:00,90,40.697857,-73.927397,40.698664,-73.919711\n",
      "8,2015-01-05 00:02:30,2015-01-05 00:04:30,120,40.82388,-73.93647,40.820421,-73.936245\n",
      "8,2015-01-05 00:02:30,2015-01-05 00:04:00,90,40.898379,-73.854376,40.893193,-73.857473\n",
      "8,2015-01-05 00:03:30,2015-01-05 00:06:30,180,40.670343,-73.959245,40.661614,-73.962246\n"
     ]
    }
   ],
   "source": [
    "%%bash\n",
    "\n",
    "cd /Users/Will/Dropbox/Portfolio/taxi_and_bus_and_subway_dynamic/data\n",
    "\n",
    "head subway_monday.csv"
   ]
  },
  {
   "cell_type": "code",
   "execution_count": 2,
   "metadata": {
    "collapsed": false
   },
   "outputs": [
    {
     "ename": "NameError",
     "evalue": "name 'pd' is not defined",
     "output_type": "error",
     "traceback": [
      "\u001b[0;31m---------------------------------------------------------------------------\u001b[0m",
      "\u001b[0;31mNameError\u001b[0m                                 Traceback (most recent call last)",
      "\u001b[0;32m<ipython-input-2-9ecb4cedfdb8>\u001b[0m in \u001b[0;36m<module>\u001b[0;34m()\u001b[0m\n\u001b[0;32m----> 1\u001b[0;31m \u001b[0msubway\u001b[0m \u001b[0;34m=\u001b[0m \u001b[0mpd\u001b[0m\u001b[0;34m.\u001b[0m\u001b[0mread_csv\u001b[0m\u001b[0;34m(\u001b[0m\u001b[0;34m\"/Users/Will/Dropbox/Portfolio/taxi_and_bus_and_subway_dynamic/data/subway_monday.csv\"\u001b[0m\u001b[0;34m)\u001b[0m\u001b[0;34m\u001b[0m\u001b[0m\n\u001b[0m",
      "\u001b[0;31mNameError\u001b[0m: name 'pd' is not defined"
     ]
    }
   ],
   "source": [
    "subway = pd.read_csv(\"/Users/Will/Dropbox/Portfolio/taxi_and_bus_and_subway_dynamic/data/subway_monday.csv\")"
   ]
  },
  {
   "cell_type": "code",
   "execution_count": 3,
   "metadata": {
    "collapsed": false
   },
   "outputs": [
    {
     "ename": "NameError",
     "evalue": "name 'pd' is not defined",
     "output_type": "error",
     "traceback": [
      "\u001b[0;31m---------------------------------------------------------------------------\u001b[0m",
      "\u001b[0;31mNameError\u001b[0m                                 Traceback (most recent call last)",
      "\u001b[0;32m<ipython-input-3-d86f3d14f276>\u001b[0m in \u001b[0;36m<module>\u001b[0;34m()\u001b[0m\n\u001b[0;32m----> 1\u001b[0;31m \u001b[0mtaxi_bus_subway\u001b[0m \u001b[0;34m=\u001b[0m \u001b[0mpd\u001b[0m\u001b[0;34m.\u001b[0m\u001b[0mread_csv\u001b[0m\u001b[0;34m(\u001b[0m\u001b[0;34m\"/Users/Will/Dropbox/Portfolio/taxi_and_bus_and_subway_dynamic/data/taxiBusSubway.csv\"\u001b[0m\u001b[0;34m)\u001b[0m\u001b[0;34m\u001b[0m\u001b[0m\n\u001b[0m",
      "\u001b[0;31mNameError\u001b[0m: name 'pd' is not defined"
     ]
    }
   ],
   "source": [
    "taxi_bus = pd.read_csv(\"/Users/Will/Dropbox/Portfolio/taxi_and_bus_and_subway_dynamic/data/taxi_and_bus.csv\")"
   ]
  },
  {
   "cell_type": "code",
   "execution_count": 82,
   "metadata": {
    "collapsed": true
   },
   "outputs": [],
   "source": [
    "output = pd.concat([taxi_bus, subway])"
   ]
  },
  {
   "cell_type": "code",
   "execution_count": 83,
   "metadata": {
    "collapsed": false
   },
   "outputs": [
    {
     "data": {
      "text/html": [
       "<div>\n",
       "<table border=\"1\" class=\"dataframe\">\n",
       "  <thead>\n",
       "    <tr style=\"text-align: right;\">\n",
       "      <th></th>\n",
       "      <th>type_id</th>\n",
       "      <th>starttime</th>\n",
       "      <th>stoptime</th>\n",
       "      <th>tripduration</th>\n",
       "      <th>start_lat</th>\n",
       "      <th>start_lon</th>\n",
       "      <th>end_lat</th>\n",
       "      <th>end_lon</th>\n",
       "    </tr>\n",
       "  </thead>\n",
       "  <tbody>\n",
       "    <tr>\n",
       "      <th>0</th>\n",
       "      <td>6</td>\n",
       "      <td>2015-01-05 00:00:00</td>\n",
       "      <td>2015-01-05 00:01:00</td>\n",
       "      <td>60</td>\n",
       "      <td>40.829098</td>\n",
       "      <td>-73.874573</td>\n",
       "      <td>40.826763</td>\n",
       "      <td>-73.874023</td>\n",
       "    </tr>\n",
       "    <tr>\n",
       "      <th>1</th>\n",
       "      <td>7</td>\n",
       "      <td>2015-01-05 00:00:00</td>\n",
       "      <td>2015-01-05 00:00:45</td>\n",
       "      <td>45</td>\n",
       "      <td>40.643429</td>\n",
       "      <td>-74.073654</td>\n",
       "      <td>40.641872</td>\n",
       "      <td>-74.075699</td>\n",
       "    </tr>\n",
       "    <tr>\n",
       "      <th>2</th>\n",
       "      <td>2</td>\n",
       "      <td>2015-01-05 00:00:00</td>\n",
       "      <td>2015-01-05 00:06:44</td>\n",
       "      <td>404</td>\n",
       "      <td>40.723946</td>\n",
       "      <td>-73.951294</td>\n",
       "      <td>40.697411</td>\n",
       "      <td>-73.964851</td>\n",
       "    </tr>\n",
       "    <tr>\n",
       "      <th>3</th>\n",
       "      <td>3</td>\n",
       "      <td>2015-01-05 00:00:00</td>\n",
       "      <td>2015-01-05 00:01:09</td>\n",
       "      <td>69</td>\n",
       "      <td>40.642979</td>\n",
       "      <td>-73.878334</td>\n",
       "      <td>40.645187</td>\n",
       "      <td>-73.878555</td>\n",
       "    </tr>\n",
       "    <tr>\n",
       "      <th>4</th>\n",
       "      <td>3</td>\n",
       "      <td>2015-01-05 00:00:00</td>\n",
       "      <td>2015-01-05 00:01:09</td>\n",
       "      <td>69</td>\n",
       "      <td>40.642979</td>\n",
       "      <td>-73.878334</td>\n",
       "      <td>40.645187</td>\n",
       "      <td>-73.878555</td>\n",
       "    </tr>\n",
       "  </tbody>\n",
       "</table>\n",
       "</div>"
      ],
      "text/plain": [
       "   type_id            starttime             stoptime  tripduration  start_lat  \\\n",
       "0        6  2015-01-05 00:00:00  2015-01-05 00:01:00            60  40.829098   \n",
       "1        7  2015-01-05 00:00:00  2015-01-05 00:00:45            45  40.643429   \n",
       "2        2  2015-01-05 00:00:00  2015-01-05 00:06:44           404  40.723946   \n",
       "3        3  2015-01-05 00:00:00  2015-01-05 00:01:09            69  40.642979   \n",
       "4        3  2015-01-05 00:00:00  2015-01-05 00:01:09            69  40.642979   \n",
       "\n",
       "   start_lon    end_lat    end_lon  \n",
       "0 -73.874573  40.826763 -73.874023  \n",
       "1 -74.073654  40.641872 -74.075699  \n",
       "2 -73.951294  40.697411 -73.964851  \n",
       "3 -73.878334  40.645187 -73.878555  \n",
       "4 -73.878334  40.645187 -73.878555  "
      ]
     },
     "execution_count": 83,
     "metadata": {},
     "output_type": "execute_result"
    }
   ],
   "source": [
    "output.head()"
   ]
  },
  {
   "cell_type": "code",
   "execution_count": 84,
   "metadata": {
    "collapsed": false
   },
   "outputs": [
    {
     "data": {
      "text/html": [
       "<div>\n",
       "<table border=\"1\" class=\"dataframe\">\n",
       "  <thead>\n",
       "    <tr style=\"text-align: right;\">\n",
       "      <th></th>\n",
       "      <th>type_id</th>\n",
       "      <th>starttime</th>\n",
       "      <th>stoptime</th>\n",
       "      <th>tripduration</th>\n",
       "      <th>start_lat</th>\n",
       "      <th>start_lon</th>\n",
       "      <th>end_lat</th>\n",
       "      <th>end_lon</th>\n",
       "    </tr>\n",
       "  </thead>\n",
       "  <tbody>\n",
       "    <tr>\n",
       "      <th>222669</th>\n",
       "      <td>8</td>\n",
       "      <td>2015-01-06 03:38:30</td>\n",
       "      <td>2015-01-06 03:40:30</td>\n",
       "      <td>120</td>\n",
       "      <td>40.898379</td>\n",
       "      <td>-73.854376</td>\n",
       "      <td>40.903125</td>\n",
       "      <td>-73.850620</td>\n",
       "    </tr>\n",
       "    <tr>\n",
       "      <th>222670</th>\n",
       "      <td>8</td>\n",
       "      <td>2015-01-06 03:39:30</td>\n",
       "      <td>2015-01-06 03:40:30</td>\n",
       "      <td>60</td>\n",
       "      <td>40.847391</td>\n",
       "      <td>-73.939704</td>\n",
       "      <td>40.851695</td>\n",
       "      <td>-73.937969</td>\n",
       "    </tr>\n",
       "    <tr>\n",
       "      <th>222671</th>\n",
       "      <td>8</td>\n",
       "      <td>2015-01-06 03:40:30</td>\n",
       "      <td>2015-01-06 03:42:30</td>\n",
       "      <td>120</td>\n",
       "      <td>40.851695</td>\n",
       "      <td>-73.937969</td>\n",
       "      <td>40.859022</td>\n",
       "      <td>-73.934180</td>\n",
       "    </tr>\n",
       "    <tr>\n",
       "      <th>222672</th>\n",
       "      <td>8</td>\n",
       "      <td>2015-01-06 03:42:30</td>\n",
       "      <td>2015-01-06 03:45:00</td>\n",
       "      <td>150</td>\n",
       "      <td>40.859022</td>\n",
       "      <td>-73.934180</td>\n",
       "      <td>40.865491</td>\n",
       "      <td>-73.927271</td>\n",
       "    </tr>\n",
       "    <tr>\n",
       "      <th>222673</th>\n",
       "      <td>8</td>\n",
       "      <td>2015-01-06 03:47:30</td>\n",
       "      <td>2015-01-06 03:49:00</td>\n",
       "      <td>90</td>\n",
       "      <td>40.865491</td>\n",
       "      <td>-73.927271</td>\n",
       "      <td>40.868072</td>\n",
       "      <td>-73.919899</td>\n",
       "    </tr>\n",
       "  </tbody>\n",
       "</table>\n",
       "</div>"
      ],
      "text/plain": [
       "        type_id            starttime             stoptime  tripduration  \\\n",
       "222669        8  2015-01-06 03:38:30  2015-01-06 03:40:30           120   \n",
       "222670        8  2015-01-06 03:39:30  2015-01-06 03:40:30            60   \n",
       "222671        8  2015-01-06 03:40:30  2015-01-06 03:42:30           120   \n",
       "222672        8  2015-01-06 03:42:30  2015-01-06 03:45:00           150   \n",
       "222673        8  2015-01-06 03:47:30  2015-01-06 03:49:00            90   \n",
       "\n",
       "        start_lat  start_lon    end_lat    end_lon  \n",
       "222669  40.898379 -73.854376  40.903125 -73.850620  \n",
       "222670  40.847391 -73.939704  40.851695 -73.937969  \n",
       "222671  40.851695 -73.937969  40.859022 -73.934180  \n",
       "222672  40.859022 -73.934180  40.865491 -73.927271  \n",
       "222673  40.865491 -73.927271  40.868072 -73.919899  "
      ]
     },
     "execution_count": 84,
     "metadata": {},
     "output_type": "execute_result"
    }
   ],
   "source": [
    "output.tail()"
   ]
  },
  {
   "cell_type": "code",
   "execution_count": 88,
   "metadata": {
    "collapsed": false
   },
   "outputs": [
    {
     "data": {
      "text/plain": [
       "(4315381, 8)"
      ]
     },
     "execution_count": 88,
     "metadata": {},
     "output_type": "execute_result"
    }
   ],
   "source": [
    "output.shape"
   ]
  },
  {
   "cell_type": "code",
   "execution_count": 91,
   "metadata": {
    "collapsed": true
   },
   "outputs": [],
   "source": [
    "output = output.sort_values(by=['starttime', 'type_id'])\n",
    "output = output.reset_index(drop=True)"
   ]
  },
  {
   "cell_type": "code",
   "execution_count": 93,
   "metadata": {
    "collapsed": false
   },
   "outputs": [
    {
     "data": {
      "text/html": [
       "<div>\n",
       "<table border=\"1\" class=\"dataframe\">\n",
       "  <thead>\n",
       "    <tr style=\"text-align: right;\">\n",
       "      <th></th>\n",
       "      <th>type_id</th>\n",
       "      <th>starttime</th>\n",
       "      <th>stoptime</th>\n",
       "      <th>tripduration</th>\n",
       "      <th>start_lat</th>\n",
       "      <th>start_lon</th>\n",
       "      <th>end_lat</th>\n",
       "      <th>end_lon</th>\n",
       "    </tr>\n",
       "  </thead>\n",
       "  <tbody>\n",
       "    <tr>\n",
       "      <th>0</th>\n",
       "      <td>1</td>\n",
       "      <td>2015-01-05 00:00:00</td>\n",
       "      <td>2015-01-05 00:09:43</td>\n",
       "      <td>583</td>\n",
       "      <td>40.686058</td>\n",
       "      <td>-73.990952</td>\n",
       "      <td>40.677547</td>\n",
       "      <td>-73.938622</td>\n",
       "    </tr>\n",
       "    <tr>\n",
       "      <th>1</th>\n",
       "      <td>2</td>\n",
       "      <td>2015-01-05 00:00:00</td>\n",
       "      <td>2015-01-05 00:06:44</td>\n",
       "      <td>404</td>\n",
       "      <td>40.723946</td>\n",
       "      <td>-73.951294</td>\n",
       "      <td>40.697411</td>\n",
       "      <td>-73.964851</td>\n",
       "    </tr>\n",
       "    <tr>\n",
       "      <th>2</th>\n",
       "      <td>3</td>\n",
       "      <td>2015-01-05 00:00:00</td>\n",
       "      <td>2015-01-05 00:01:09</td>\n",
       "      <td>69</td>\n",
       "      <td>40.642979</td>\n",
       "      <td>-73.878334</td>\n",
       "      <td>40.645187</td>\n",
       "      <td>-73.878555</td>\n",
       "    </tr>\n",
       "    <tr>\n",
       "      <th>3</th>\n",
       "      <td>3</td>\n",
       "      <td>2015-01-05 00:00:00</td>\n",
       "      <td>2015-01-05 00:01:09</td>\n",
       "      <td>69</td>\n",
       "      <td>40.642979</td>\n",
       "      <td>-73.878334</td>\n",
       "      <td>40.645187</td>\n",
       "      <td>-73.878555</td>\n",
       "    </tr>\n",
       "    <tr>\n",
       "      <th>4</th>\n",
       "      <td>3</td>\n",
       "      <td>2015-01-05 00:00:00</td>\n",
       "      <td>2015-01-05 00:00:23</td>\n",
       "      <td>23</td>\n",
       "      <td>40.645714</td>\n",
       "      <td>-73.902313</td>\n",
       "      <td>40.644871</td>\n",
       "      <td>-73.902176</td>\n",
       "    </tr>\n",
       "  </tbody>\n",
       "</table>\n",
       "</div>"
      ],
      "text/plain": [
       "   type_id            starttime             stoptime  tripduration  start_lat  \\\n",
       "0        1  2015-01-05 00:00:00  2015-01-05 00:09:43           583  40.686058   \n",
       "1        2  2015-01-05 00:00:00  2015-01-05 00:06:44           404  40.723946   \n",
       "2        3  2015-01-05 00:00:00  2015-01-05 00:01:09            69  40.642979   \n",
       "3        3  2015-01-05 00:00:00  2015-01-05 00:01:09            69  40.642979   \n",
       "4        3  2015-01-05 00:00:00  2015-01-05 00:00:23            23  40.645714   \n",
       "\n",
       "   start_lon    end_lat    end_lon  \n",
       "0 -73.990952  40.677547 -73.938622  \n",
       "1 -73.951294  40.697411 -73.964851  \n",
       "2 -73.878334  40.645187 -73.878555  \n",
       "3 -73.878334  40.645187 -73.878555  \n",
       "4 -73.902313  40.644871 -73.902176  "
      ]
     },
     "execution_count": 93,
     "metadata": {},
     "output_type": "execute_result"
    }
   ],
   "source": [
    "output.head()"
   ]
  },
  {
   "cell_type": "code",
   "execution_count": 94,
   "metadata": {
    "collapsed": false
   },
   "outputs": [
    {
     "data": {
      "text/html": [
       "<div>\n",
       "<table border=\"1\" class=\"dataframe\">\n",
       "  <thead>\n",
       "    <tr style=\"text-align: right;\">\n",
       "      <th></th>\n",
       "      <th>type_id</th>\n",
       "      <th>starttime</th>\n",
       "      <th>stoptime</th>\n",
       "      <th>tripduration</th>\n",
       "      <th>start_lat</th>\n",
       "      <th>start_lon</th>\n",
       "      <th>end_lat</th>\n",
       "      <th>end_lon</th>\n",
       "    </tr>\n",
       "  </thead>\n",
       "  <tbody>\n",
       "    <tr>\n",
       "      <th>4315376</th>\n",
       "      <td>4</td>\n",
       "      <td>2015-01-06 04:42:13</td>\n",
       "      <td>2015-01-06 04:42:47</td>\n",
       "      <td>34</td>\n",
       "      <td>40.711842</td>\n",
       "      <td>-73.790161</td>\n",
       "      <td>40.710716</td>\n",
       "      <td>-73.793091</td>\n",
       "    </tr>\n",
       "    <tr>\n",
       "      <th>4315377</th>\n",
       "      <td>4</td>\n",
       "      <td>2015-01-06 04:42:47</td>\n",
       "      <td>2015-01-06 04:44:00</td>\n",
       "      <td>73</td>\n",
       "      <td>40.710716</td>\n",
       "      <td>-73.793091</td>\n",
       "      <td>40.707237</td>\n",
       "      <td>-73.794998</td>\n",
       "    </tr>\n",
       "    <tr>\n",
       "      <th>4315378</th>\n",
       "      <td>4</td>\n",
       "      <td>2015-01-06 04:42:47</td>\n",
       "      <td>2015-01-06 04:44:00</td>\n",
       "      <td>73</td>\n",
       "      <td>40.710716</td>\n",
       "      <td>-73.793091</td>\n",
       "      <td>40.707237</td>\n",
       "      <td>-73.794998</td>\n",
       "    </tr>\n",
       "    <tr>\n",
       "      <th>4315379</th>\n",
       "      <td>4</td>\n",
       "      <td>2015-01-06 04:44:00</td>\n",
       "      <td>2015-01-06 04:45:00</td>\n",
       "      <td>60</td>\n",
       "      <td>40.707237</td>\n",
       "      <td>-73.794998</td>\n",
       "      <td>40.704933</td>\n",
       "      <td>-73.793320</td>\n",
       "    </tr>\n",
       "    <tr>\n",
       "      <th>4315380</th>\n",
       "      <td>4</td>\n",
       "      <td>2015-01-06 04:44:00</td>\n",
       "      <td>2015-01-06 04:45:00</td>\n",
       "      <td>60</td>\n",
       "      <td>40.707237</td>\n",
       "      <td>-73.794998</td>\n",
       "      <td>40.704933</td>\n",
       "      <td>-73.793320</td>\n",
       "    </tr>\n",
       "  </tbody>\n",
       "</table>\n",
       "</div>"
      ],
      "text/plain": [
       "         type_id            starttime             stoptime  tripduration  \\\n",
       "4315376        4  2015-01-06 04:42:13  2015-01-06 04:42:47            34   \n",
       "4315377        4  2015-01-06 04:42:47  2015-01-06 04:44:00            73   \n",
       "4315378        4  2015-01-06 04:42:47  2015-01-06 04:44:00            73   \n",
       "4315379        4  2015-01-06 04:44:00  2015-01-06 04:45:00            60   \n",
       "4315380        4  2015-01-06 04:44:00  2015-01-06 04:45:00            60   \n",
       "\n",
       "         start_lat  start_lon    end_lat    end_lon  \n",
       "4315376  40.711842 -73.790161  40.710716 -73.793091  \n",
       "4315377  40.710716 -73.793091  40.707237 -73.794998  \n",
       "4315378  40.710716 -73.793091  40.707237 -73.794998  \n",
       "4315379  40.707237 -73.794998  40.704933 -73.793320  \n",
       "4315380  40.707237 -73.794998  40.704933 -73.793320  "
      ]
     },
     "execution_count": 94,
     "metadata": {},
     "output_type": "execute_result"
    }
   ],
   "source": [
    "output.tail()"
   ]
  },
  {
   "cell_type": "code",
   "execution_count": 120,
   "metadata": {
    "collapsed": false
   },
   "outputs": [
    {
     "data": {
      "text/plain": [
       "222674"
      ]
     },
     "execution_count": 120,
     "metadata": {},
     "output_type": "execute_result"
    }
   ],
   "source": [
    "len(output[output.type_id == 8])"
   ]
  },
  {
   "cell_type": "code",
   "execution_count": 96,
   "metadata": {
    "collapsed": false
   },
   "outputs": [],
   "source": [
    "output.to_csv(\"data/output.csv\")"
   ]
  },
  {
   "cell_type": "code",
   "execution_count": 97,
   "metadata": {
    "collapsed": false
   },
   "outputs": [
    {
     "name": "stdout",
     "output_type": "stream",
     "text": [
      "Subway Data Notebook.ipynb  subway_dynamic.pde\r\n",
      "Trips.pde                   subway_monday.csv\r\n",
      "\u001b[34mdata\u001b[m\u001b[m/                       subway_monday_raw.csv\r\n",
      "\u001b[34mgtfs\u001b[m\u001b[m/                       taxi_and_bus.csv\r\n"
     ]
    }
   ],
   "source": [
    "ls"
   ]
  },
  {
   "cell_type": "code",
   "execution_count": 98,
   "metadata": {
    "collapsed": false
   },
   "outputs": [
    {
     "name": "stdout",
     "output_type": "stream",
     "text": [
      ",type_id,starttime,stoptime,tripduration,start_lat,start_lon,end_lat,end_lon\n",
      "0,1,2015-01-05 00:00:00,2015-01-05 00:09:43,583,40.6860580444,-73.9909515381,40.6775474548,-73.938621521\n",
      "1,2,2015-01-05 00:00:00,2015-01-05 00:06:44,404,40.7239456177,-73.9512939453,40.6974105835,-73.9648513794\n",
      "2,3,2015-01-05 00:00:00,2015-01-05 00:01:09,69,40.642979,-73.878334,40.645187,-73.878555\n",
      "3,3,2015-01-05 00:00:00,2015-01-05 00:01:09,69,40.642979,-73.878334,40.645187,-73.878555\n",
      "4,3,2015-01-05 00:00:00,2015-01-05 00:00:23,23,40.645714,-73.902313,40.644871,-73.902176\n",
      "5,3,2015-01-05 00:00:00,2015-01-05 00:01:09,69,40.642979,-73.878334,40.645187,-73.878555\n",
      "6,3,2015-01-05 00:00:00,2015-01-05 00:00:48,48,40.748638,-73.938446,40.747673,-73.941116\n",
      "7,3,2015-01-05 00:00:00,2015-01-05 00:00:48,48,40.748638,-73.938446,40.747673,-73.941116\n",
      "8,3,2015-01-05 00:00:00,2015-01-05 00:00:48,48,40.748638,-73.938446,40.747673,-73.941116\n"
     ]
    }
   ],
   "source": [
    "%%bash\n",
    "\n",
    "cd /Users/Will/Dropbox/Portfolio/taxi_and_bus_and_subway_dynamic/data\n",
    "\n",
    "head output.csv"
   ]
  },
  {
   "cell_type": "code",
   "execution_count": 99,
   "metadata": {
    "collapsed": true
   },
   "outputs": [],
   "source": [
    "%%bash\n",
    "\n",
    "cd /Users/Will/Dropbox/Portfolio/taxi_and_bus_and_subway_dynamic/data\n",
    "\n",
    "awk -F\",\" -v OFS=\",\" '{ $1=\"\" ; $0=substr($0,2) } 1' output.csv > output_clean.csv"
   ]
  },
  {
   "cell_type": "code",
   "execution_count": 100,
   "metadata": {
    "collapsed": false
   },
   "outputs": [
    {
     "name": "stdout",
     "output_type": "stream",
     "text": [
      "type_id,starttime,stoptime,tripduration,start_lat,start_lon,end_lat,end_lon\n",
      "1,2015-01-05 00:00:00,2015-01-05 00:09:43,583,40.6860580444,-73.9909515381,40.6775474548,-73.938621521\n",
      "2,2015-01-05 00:00:00,2015-01-05 00:06:44,404,40.7239456177,-73.9512939453,40.6974105835,-73.9648513794\n",
      "3,2015-01-05 00:00:00,2015-01-05 00:01:09,69,40.642979,-73.878334,40.645187,-73.878555\n",
      "3,2015-01-05 00:00:00,2015-01-05 00:01:09,69,40.642979,-73.878334,40.645187,-73.878555\n",
      "3,2015-01-05 00:00:00,2015-01-05 00:00:23,23,40.645714,-73.902313,40.644871,-73.902176\n",
      "3,2015-01-05 00:00:00,2015-01-05 00:01:09,69,40.642979,-73.878334,40.645187,-73.878555\n",
      "3,2015-01-05 00:00:00,2015-01-05 00:00:48,48,40.748638,-73.938446,40.747673,-73.941116\n",
      "3,2015-01-05 00:00:00,2015-01-05 00:00:48,48,40.748638,-73.938446,40.747673,-73.941116\n",
      "3,2015-01-05 00:00:00,2015-01-05 00:00:48,48,40.748638,-73.938446,40.747673,-73.941116\n"
     ]
    }
   ],
   "source": [
    "%%bash\n",
    "\n",
    "cd /Users/Will/Dropbox/Portfolio/taxi_and_bus_and_subway_dynamic/data\n",
    "\n",
    "head output_clean.csv"
   ]
  },
  {
   "cell_type": "code",
   "execution_count": 101,
   "metadata": {
    "collapsed": false
   },
   "outputs": [
    {
     "name": "stdout",
     "output_type": "stream",
     "text": [
      "4315382\n"
     ]
    }
   ],
   "source": [
    "%%bash\n",
    "\n",
    "cd /Users/Will/Dropbox/Portfolio/taxi_and_bus_and_subway_dynamic/data\n",
    "\n",
    "# count lines in csv\n",
    "awk '{n+=1} END {print n}' output_clean.csv"
   ]
  },
  {
   "cell_type": "markdown",
   "metadata": {},
   "source": [
    "Split file into two smaller files"
   ]
  },
  {
   "cell_type": "code",
   "execution_count": 105,
   "metadata": {
    "collapsed": true
   },
   "outputs": [],
   "source": [
    "%%bash\n",
    "\n",
    "cd /Users/Will/Dropbox/Portfolio/taxi_and_bus_and_subway_dynamic/data\n",
    "\n",
    "# count lines in csv\n",
    "head -n 2500000 output_clean.csv > output_clean_h1.csv"
   ]
  },
  {
   "cell_type": "code",
   "execution_count": 106,
   "metadata": {
    "collapsed": true
   },
   "outputs": [],
   "source": [
    "%%bash\n",
    "\n",
    "cd /Users/Will/Dropbox/Portfolio/taxi_and_bus_and_subway_dynamic/data\n",
    "\n",
    "# count lines in csv\n",
    "tail -n 2500000 output_clean.csv > output_clean_h2.csv"
   ]
  },
  {
   "cell_type": "code",
   "execution_count": 109,
   "metadata": {
    "collapsed": false
   },
   "outputs": [
    {
     "name": "stdout",
     "output_type": "stream",
     "text": [
      "4,2015-01-05 15:54:23,2015-01-05 15:55:25,62,40.76762,-73.827103,40.765469,-73.827927\n",
      "4,2015-01-05 15:54:23,2015-01-05 15:55:23,60,40.694389,-73.781174,40.696316,-73.782944\n",
      "4,2015-01-05 15:54:23,2015-01-05 15:55:11,48,40.716011,-73.770683,40.716713,-73.768654\n",
      "4,2015-01-05 15:54:23,2015-01-05 15:55:28,65,40.729076,-73.744034,40.726543,-73.741341\n",
      "4,2015-01-05 15:54:23,2015-01-05 15:55:10,47,40.740452,-73.789452,40.739834,-73.791695\n",
      "4,2015-01-05 15:54:23,2015-01-05 15:54:50,27,40.696316,-73.782944,40.697052,-73.783958\n",
      "4,2015-01-05 15:54:23,2015-01-05 15:55:37,74,40.755901,-73.739388,40.752762,-73.741585\n",
      "4,2015-01-05 15:54:23,2015-01-05 15:55:26,63,40.767597,-73.881813,40.767113,-73.88456\n",
      "4,2015-01-05 15:54:23,2015-01-05 15:54:57,34,40.753956,-73.80661,40.754143,-73.809006\n",
      "5,2015-01-05 15:54:23,2015-01-05 15:55:11,48,40.778725,-73.985138,40.779552,-73.984116\n"
     ]
    }
   ],
   "source": [
    "%%bash\n",
    "\n",
    "cd /Users/Will/Dropbox/Portfolio/taxi_and_bus_and_subway_dynamic/data\n",
    "\n",
    "tail output_clean_h1.csv"
   ]
  },
  {
   "cell_type": "code",
   "execution_count": 108,
   "metadata": {
    "collapsed": false
   },
   "outputs": [
    {
     "name": "stdout",
     "output_type": "stream",
     "text": [
      "3,2015-01-05 12:55:00,2015-01-05 12:58:03,183,40.762562,-73.972794,40.759525,-73.976601\n",
      "3,2015-01-05 12:55:00,2015-01-05 12:56:01,61,40.593021,-73.99218,40.594521,-73.990623\n",
      "3,2015-01-05 12:55:00,2015-01-05 12:56:49,109,40.701019,-73.940872,40.700516,-73.944206\n",
      "3,2015-01-05 12:55:00,2015-01-05 12:56:40,100,40.691196,-73.997696,40.689487,-74.00071\n",
      "3,2015-01-05 12:55:00,2015-01-05 12:55:48,48,40.679749,-73.937424,40.679344,-73.93856\n",
      "3,2015-01-05 12:55:00,2015-01-05 12:56:30,90,40.636593,-73.994728,40.637897,-73.996773\n",
      "3,2015-01-05 12:55:00,2015-01-05 12:56:17,77,40.68837,-73.988808,40.687565,-73.986725\n",
      "3,2015-01-05 12:55:00,2015-01-05 12:57:08,128,40.676746,-73.89994,40.67527,-73.905182\n",
      "3,2015-01-05 12:55:00,2015-01-05 12:56:57,117,40.611763,-74.035118,40.614799,-74.0345\n",
      "3,2015-01-05 12:55:00,2015-01-05 12:55:50,50,40.678745,-73.921585,40.680058,-73.922081\n"
     ]
    }
   ],
   "source": [
    "%%bash\n",
    "\n",
    "cd /Users/Will/Dropbox/Portfolio/taxi_and_bus_and_subway_dynamic/data\n",
    "\n",
    "head output_clean_h2.csv"
   ]
  },
  {
   "cell_type": "markdown",
   "metadata": {},
   "source": [
    "Split in half again"
   ]
  },
  {
   "cell_type": "code",
   "execution_count": 110,
   "metadata": {
    "collapsed": true
   },
   "outputs": [],
   "source": [
    "%%bash\n",
    "\n",
    "cd /Users/Will/Dropbox/Portfolio/taxi_and_bus_and_subway_dynamic/data\n",
    "\n",
    "# count lines in csv\n",
    "head -n 1250000 output_clean_h1.csv > output_clean_q1.csv"
   ]
  },
  {
   "cell_type": "code",
   "execution_count": 123,
   "metadata": {
    "collapsed": true
   },
   "outputs": [],
   "source": [
    "%%bash\n",
    "\n",
    "cd /Users/Will/Dropbox/Portfolio/taxi_and_bus_and_subway_dynamic/data\n",
    "\n",
    "# count lines in csv\n",
    "tail -n 1350000 output_clean_h1.csv > output_clean_q2.csv"
   ]
  },
  {
   "cell_type": "code",
   "execution_count": 124,
   "metadata": {
    "collapsed": false
   },
   "outputs": [],
   "source": [
    "%%bash\n",
    "\n",
    "cd /Users/Will/Dropbox/Portfolio/taxi_and_bus_and_subway_dynamic/data\n",
    "\n",
    "# add header back in\n",
    "for csv in output_clean_q2.csv; do (echo \"type_id,starttime,stoptime,tripduration,start_lat,start_lon,end_lat,end_lon\"; cat output_clean_q2.csv) > tmp; mv tmp output_clean_q2_header.csv; done"
   ]
  },
  {
   "cell_type": "code",
   "execution_count": 112,
   "metadata": {
    "collapsed": true
   },
   "outputs": [],
   "source": [
    "%%bash\n",
    "\n",
    "cd /Users/Will/Dropbox/Portfolio/taxi_and_bus_and_subway_dynamic/data\n",
    "\n",
    "# count lines in csv\n",
    "head -n 1250000 output_clean_h2.csv > output_clean_q3.csv"
   ]
  },
  {
   "cell_type": "code",
   "execution_count": 121,
   "metadata": {
    "collapsed": true
   },
   "outputs": [],
   "source": [
    "%%bash\n",
    "\n",
    "cd /Users/Will/Dropbox/Portfolio/taxi_and_bus_and_subway_dynamic/data\n",
    "\n",
    "# add header back in\n",
    "for csv in output_clean_q3.csv; do (echo \"type_id,starttime,stoptime,tripduration,start_lat,start_lon,end_lat,end_lon\"; cat output_clean_q3.csv) > tmp; mv tmp output_clean_q3_header.csv; done"
   ]
  },
  {
   "cell_type": "code",
   "execution_count": 125,
   "metadata": {
    "collapsed": true
   },
   "outputs": [],
   "source": [
    "%%bash\n",
    "\n",
    "cd /Users/Will/Dropbox/Portfolio/taxi_and_bus_and_subway_dynamic/data\n",
    "\n",
    "# count lines in csv\n",
    "tail -n 1350000 output_clean_h2.csv > output_clean_q4.csv"
   ]
  },
  {
   "cell_type": "markdown",
   "metadata": {},
   "source": [
    "rename files"
   ]
  },
  {
   "cell_type": "code",
   "execution_count": null,
   "metadata": {
    "collapsed": true
   },
   "outputs": [],
   "source": [
    "find . -name '*.tiff' | awk 'BEGIN{ a=0 }{ printf \"mv \\\"%s\\\" %06d.tiff\\n\", $0, a++ }' | bash"
   ]
  },
  {
   "cell_type": "code",
   "execution_count": null,
   "metadata": {
    "collapsed": true
   },
   "outputs": [],
   "source": [
    "find . -name '*.tiff' | awk 'BEGIN{ a=1797 }{ printf \"mv \\\"%s\\\" %06d.tiff\\n\", $0, a++ }' | bash"
   ]
  },
  {
   "cell_type": "code",
   "execution_count": null,
   "metadata": {
    "collapsed": true
   },
   "outputs": [],
   "source": [
    "find . -name '*.tiff' | awk 'BEGIN{ a=3463 }{ printf \"mv \\\"%s\\\" %06d.tiff\\n\", $0, a++ }' | bash"
   ]
  },
  {
   "cell_type": "code",
   "execution_count": null,
   "metadata": {
    "collapsed": true
   },
   "outputs": [],
   "source": [
    "find . -name '*.tiff' | awk 'BEGIN{ a=4198 }{ printf \"mv \\\"%s\\\" %06d.tiff\\n\", $0, a++ }' | bash"
   ]
  }
 ],
 "metadata": {
  "kernelspec": {
   "display_name": "Python [Root]",
   "language": "python",
   "name": "Python [Root]"
  },
  "language_info": {
   "codemirror_mode": {
    "name": "ipython",
    "version": 2
   },
   "file_extension": ".py",
   "mimetype": "text/x-python",
   "name": "python",
   "nbconvert_exporter": "python",
   "pygments_lexer": "ipython2",
   "version": "2.7.12"
  }
 },
 "nbformat": 4,
 "nbformat_minor": 0
}
