{
 "cells": [
  {
   "cell_type": "markdown",
   "metadata": {},
   "source": [
    "# Visualizing Citibike Trip Data"
   ]
  },
  {
   "cell_type": "markdown",
   "metadata": {},
   "source": [
    "Data source: https://www.citibikenyc.com/system-data"
   ]
  },
  {
   "cell_type": "code",
   "execution_count": 1,
   "metadata": {
    "collapsed": false
   },
   "outputs": [],
   "source": [
    "url = \"http://data.trilliumtransit.com/gtfs/path-nj-us/path-nj-us.zip\""
   ]
  },
  {
   "cell_type": "code",
   "execution_count": 2,
   "metadata": {
    "collapsed": false
   },
   "outputs": [
    {
     "name": "stdout",
     "output_type": "stream",
     "text": [
      "Archive:  path-nj-us.zip\n",
      "  inflating: agency.txt              \n",
      "  inflating: calendar_dates.txt      \n",
      "  inflating: calendar.txt            \n",
      "  inflating: fare_attributes.txt     \n",
      "  inflating: fare_rules.txt          \n",
      "  inflating: feed_info.txt           \n",
      "  inflating: frequencies.txt         \n",
      "  inflating: route_directions.txt    \n",
      "  inflating: routes.txt              \n",
      "  inflating: shapes.txt              \n",
      "  inflating: stop_times.txt          \n",
      "  inflating: stops.txt               \n",
      "  inflating: timetable_stop_order-new.txt  \n",
      "  inflating: timetables-new.txt      \n",
      "  inflating: transfers.txt           \n",
      "  inflating: trips.txt               \n"
     ]
    },
    {
     "name": "stderr",
     "output_type": "stream",
     "text": [
      "--2017-04-08 10:17:05--  http://data.trilliumtransit.com/gtfs/path-nj-us/path-nj-us.zip\n",
      "Resolving data.trilliumtransit.com... 52.24.177.63\n",
      "Connecting to data.trilliumtransit.com|52.24.177.63|:80... connected.\n",
      "HTTP request sent, awaiting response... 200 OK\n",
      "Length: 180404 (176K) [application/zip]\n",
      "Saving to: ‘path-nj-us.zip’\n",
      "\n",
      "     0K .......... .......... .......... .......... .......... 28%  216K 1s\n",
      "    50K .......... .......... .......... .......... .......... 56%  228K 0s\n",
      "   100K .......... .......... .......... .......... .......... 85%  416K 0s\n",
      "   150K .......... .......... ......                          100%  253K=0.7s\n",
      "\n",
      "2017-04-08 10:17:06 (261 KB/s) - ‘path-nj-us.zip’ saved [180404/180404]\n",
      "\n"
     ]
    }
   ],
   "source": [
    "%%bash\n",
    "\n",
    "mkdir gtfs\n",
    "cd gtfs\n",
    "wget http://data.trilliumtransit.com/gtfs/path-nj-us/path-nj-us.zip\n",
    "unzip path-nj-us.zip"
   ]
  },
  {
   "cell_type": "code",
   "execution_count": 8,
   "metadata": {
    "collapsed": true
   },
   "outputs": [],
   "source": [
    "import pandas as pd\n",
    "import numpy as np\n",
    "import datetime as dt"
   ]
  },
  {
   "cell_type": "code",
   "execution_count": 9,
   "metadata": {
    "collapsed": true
   },
   "outputs": [],
   "source": [
    "df = pd.read_csv(\"data/201501-citibike-tripdata.csv\")"
   ]
  },
  {
   "cell_type": "code",
   "execution_count": 10,
   "metadata": {
    "collapsed": false
   },
   "outputs": [
    {
     "data": {
      "text/html": [
       "<div>\n",
       "<table border=\"1\" class=\"dataframe\">\n",
       "  <thead>\n",
       "    <tr style=\"text-align: right;\">\n",
       "      <th></th>\n",
       "      <th>tripduration</th>\n",
       "      <th>starttime</th>\n",
       "      <th>stoptime</th>\n",
       "      <th>start station id</th>\n",
       "      <th>start station name</th>\n",
       "      <th>start station latitude</th>\n",
       "      <th>start station longitude</th>\n",
       "      <th>end station id</th>\n",
       "      <th>end station name</th>\n",
       "      <th>end station latitude</th>\n",
       "      <th>end station longitude</th>\n",
       "      <th>bikeid</th>\n",
       "      <th>usertype</th>\n",
       "      <th>birth year</th>\n",
       "      <th>gender</th>\n",
       "    </tr>\n",
       "  </thead>\n",
       "  <tbody>\n",
       "    <tr>\n",
       "      <th>0</th>\n",
       "      <td>1346</td>\n",
       "      <td>1/1/2015 0:01</td>\n",
       "      <td>1/1/2015 0:24</td>\n",
       "      <td>455</td>\n",
       "      <td>1 Ave &amp; E 44 St</td>\n",
       "      <td>40.750020</td>\n",
       "      <td>-73.969053</td>\n",
       "      <td>265</td>\n",
       "      <td>Stanton St &amp; Chrystie St</td>\n",
       "      <td>40.722293</td>\n",
       "      <td>-73.991475</td>\n",
       "      <td>18660</td>\n",
       "      <td>Subscriber</td>\n",
       "      <td>1960.0</td>\n",
       "      <td>2</td>\n",
       "    </tr>\n",
       "    <tr>\n",
       "      <th>1</th>\n",
       "      <td>363</td>\n",
       "      <td>1/1/2015 0:02</td>\n",
       "      <td>1/1/2015 0:08</td>\n",
       "      <td>434</td>\n",
       "      <td>9 Ave &amp; W 18 St</td>\n",
       "      <td>40.743174</td>\n",
       "      <td>-74.003664</td>\n",
       "      <td>482</td>\n",
       "      <td>W 15 St &amp; 7 Ave</td>\n",
       "      <td>40.739355</td>\n",
       "      <td>-73.999318</td>\n",
       "      <td>16085</td>\n",
       "      <td>Subscriber</td>\n",
       "      <td>1963.0</td>\n",
       "      <td>1</td>\n",
       "    </tr>\n",
       "    <tr>\n",
       "      <th>2</th>\n",
       "      <td>346</td>\n",
       "      <td>1/1/2015 0:04</td>\n",
       "      <td>1/1/2015 0:10</td>\n",
       "      <td>491</td>\n",
       "      <td>E 24 St &amp; Park Ave S</td>\n",
       "      <td>40.740964</td>\n",
       "      <td>-73.986022</td>\n",
       "      <td>505</td>\n",
       "      <td>6 Ave &amp; W 33 St</td>\n",
       "      <td>40.749013</td>\n",
       "      <td>-73.988484</td>\n",
       "      <td>20845</td>\n",
       "      <td>Subscriber</td>\n",
       "      <td>1974.0</td>\n",
       "      <td>1</td>\n",
       "    </tr>\n",
       "    <tr>\n",
       "      <th>3</th>\n",
       "      <td>182</td>\n",
       "      <td>1/1/2015 0:04</td>\n",
       "      <td>1/1/2015 0:07</td>\n",
       "      <td>384</td>\n",
       "      <td>Fulton St &amp; Waverly Ave</td>\n",
       "      <td>40.683178</td>\n",
       "      <td>-73.965964</td>\n",
       "      <td>399</td>\n",
       "      <td>Lafayette Ave &amp; St James Pl</td>\n",
       "      <td>40.688515</td>\n",
       "      <td>-73.964763</td>\n",
       "      <td>19610</td>\n",
       "      <td>Subscriber</td>\n",
       "      <td>1969.0</td>\n",
       "      <td>1</td>\n",
       "    </tr>\n",
       "    <tr>\n",
       "      <th>4</th>\n",
       "      <td>969</td>\n",
       "      <td>1/1/2015 0:05</td>\n",
       "      <td>1/1/2015 0:21</td>\n",
       "      <td>474</td>\n",
       "      <td>5 Ave &amp; E 29 St</td>\n",
       "      <td>40.745168</td>\n",
       "      <td>-73.986831</td>\n",
       "      <td>432</td>\n",
       "      <td>E 7 St &amp; Avenue A</td>\n",
       "      <td>40.726218</td>\n",
       "      <td>-73.983799</td>\n",
       "      <td>20197</td>\n",
       "      <td>Subscriber</td>\n",
       "      <td>1977.0</td>\n",
       "      <td>1</td>\n",
       "    </tr>\n",
       "  </tbody>\n",
       "</table>\n",
       "</div>"
      ],
      "text/plain": [
       "   tripduration      starttime       stoptime  start station id  \\\n",
       "0          1346  1/1/2015 0:01  1/1/2015 0:24               455   \n",
       "1           363  1/1/2015 0:02  1/1/2015 0:08               434   \n",
       "2           346  1/1/2015 0:04  1/1/2015 0:10               491   \n",
       "3           182  1/1/2015 0:04  1/1/2015 0:07               384   \n",
       "4           969  1/1/2015 0:05  1/1/2015 0:21               474   \n",
       "\n",
       "        start station name  start station latitude  start station longitude  \\\n",
       "0          1 Ave & E 44 St               40.750020               -73.969053   \n",
       "1          9 Ave & W 18 St               40.743174               -74.003664   \n",
       "2     E 24 St & Park Ave S               40.740964               -73.986022   \n",
       "3  Fulton St & Waverly Ave               40.683178               -73.965964   \n",
       "4          5 Ave & E 29 St               40.745168               -73.986831   \n",
       "\n",
       "   end station id             end station name  end station latitude  \\\n",
       "0             265     Stanton St & Chrystie St             40.722293   \n",
       "1             482              W 15 St & 7 Ave             40.739355   \n",
       "2             505              6 Ave & W 33 St             40.749013   \n",
       "3             399  Lafayette Ave & St James Pl             40.688515   \n",
       "4             432            E 7 St & Avenue A             40.726218   \n",
       "\n",
       "   end station longitude  bikeid    usertype  birth year  gender  \n",
       "0             -73.991475   18660  Subscriber      1960.0       2  \n",
       "1             -73.999318   16085  Subscriber      1963.0       1  \n",
       "2             -73.988484   20845  Subscriber      1974.0       1  \n",
       "3             -73.964763   19610  Subscriber      1969.0       1  \n",
       "4             -73.983799   20197  Subscriber      1977.0       1  "
      ]
     },
     "execution_count": 10,
     "metadata": {},
     "output_type": "execute_result"
    }
   ],
   "source": [
    "df.head()"
   ]
  },
  {
   "cell_type": "code",
   "execution_count": 34,
   "metadata": {
    "collapsed": true
   },
   "outputs": [],
   "source": [
    "# id 10 = citibike\n",
    "df['type_id'] = 10"
   ]
  },
  {
   "cell_type": "code",
   "execution_count": 15,
   "metadata": {
    "collapsed": false
   },
   "outputs": [],
   "source": [
    "df.starttime = pd.to_datetime(df.starttime)"
   ]
  },
  {
   "cell_type": "code",
   "execution_count": 16,
   "metadata": {
    "collapsed": true
   },
   "outputs": [],
   "source": [
    "df.stoptime = pd.to_datetime(df.stoptime)"
   ]
  },
  {
   "cell_type": "code",
   "execution_count": 17,
   "metadata": {
    "collapsed": true
   },
   "outputs": [],
   "source": [
    "df.tripduration = df.tripduration.astypeype(int)"
   ]
  },
  {
   "cell_type": "code",
   "execution_count": 31,
   "metadata": {
    "collapsed": true
   },
   "outputs": [],
   "source": [
    "df['start_lat'] = df['start station latitude'].astype(float)\n",
    "df['start_lon'] = df['start station longitude'].astype(float)\n",
    "df['end_lat'] = df['end station latitude'].astype(float)\n",
    "df['end_lon'] = df['end station longitude'].astype(float)"
   ]
  },
  {
   "cell_type": "code",
   "execution_count": 32,
   "metadata": {
    "collapsed": false
   },
   "outputs": [
    {
     "data": {
      "text/plain": [
       "tripduration                        int64\n",
       "starttime                  datetime64[ns]\n",
       "stoptime                   datetime64[ns]\n",
       "start station id                    int64\n",
       "start station name                 object\n",
       "start station latitude            float64\n",
       "start station longitude           float64\n",
       "end station id                      int64\n",
       "end station name                   object\n",
       "end station latitude              float64\n",
       "end station longitude             float64\n",
       "bikeid                              int64\n",
       "usertype                           object\n",
       "birth year                        float64\n",
       "gender                              int64\n",
       "start_lat                         float64\n",
       "stop_lon                          float64\n",
       "end_lat                           float64\n",
       "end_lon                           float64\n",
       "start_lon                         float64\n",
       "dtype: object"
      ]
     },
     "execution_count": 32,
     "metadata": {},
     "output_type": "execute_result"
    }
   ],
   "source": [
    "df.dtypes"
   ]
  },
  {
   "cell_type": "code",
   "execution_count": 43,
   "metadata": {
    "collapsed": false
   },
   "outputs": [],
   "source": [
    "output = df[['type_id','starttime','stoptime','tripduration','start_lat','start_lon','end_lat','end_lon']]"
   ]
  },
  {
   "cell_type": "code",
   "execution_count": 44,
   "metadata": {
    "collapsed": false
   },
   "outputs": [
    {
     "data": {
      "text/html": [
       "<div>\n",
       "<table border=\"1\" class=\"dataframe\">\n",
       "  <thead>\n",
       "    <tr style=\"text-align: right;\">\n",
       "      <th></th>\n",
       "      <th>type_id</th>\n",
       "      <th>starttime</th>\n",
       "      <th>stoptime</th>\n",
       "      <th>tripduration</th>\n",
       "      <th>start_lat</th>\n",
       "      <th>start_lon</th>\n",
       "      <th>end_lat</th>\n",
       "      <th>end_lon</th>\n",
       "    </tr>\n",
       "  </thead>\n",
       "  <tbody>\n",
       "    <tr>\n",
       "      <th>0</th>\n",
       "      <td>10</td>\n",
       "      <td>2015-01-01 00:01:00</td>\n",
       "      <td>2015-01-01 00:24:00</td>\n",
       "      <td>1346</td>\n",
       "      <td>40.750020</td>\n",
       "      <td>-73.969053</td>\n",
       "      <td>40.722293</td>\n",
       "      <td>-73.991475</td>\n",
       "    </tr>\n",
       "    <tr>\n",
       "      <th>1</th>\n",
       "      <td>10</td>\n",
       "      <td>2015-01-01 00:02:00</td>\n",
       "      <td>2015-01-01 00:08:00</td>\n",
       "      <td>363</td>\n",
       "      <td>40.743174</td>\n",
       "      <td>-74.003664</td>\n",
       "      <td>40.739355</td>\n",
       "      <td>-73.999318</td>\n",
       "    </tr>\n",
       "    <tr>\n",
       "      <th>2</th>\n",
       "      <td>10</td>\n",
       "      <td>2015-01-01 00:04:00</td>\n",
       "      <td>2015-01-01 00:10:00</td>\n",
       "      <td>346</td>\n",
       "      <td>40.740964</td>\n",
       "      <td>-73.986022</td>\n",
       "      <td>40.749013</td>\n",
       "      <td>-73.988484</td>\n",
       "    </tr>\n",
       "    <tr>\n",
       "      <th>3</th>\n",
       "      <td>10</td>\n",
       "      <td>2015-01-01 00:04:00</td>\n",
       "      <td>2015-01-01 00:07:00</td>\n",
       "      <td>182</td>\n",
       "      <td>40.683178</td>\n",
       "      <td>-73.965964</td>\n",
       "      <td>40.688515</td>\n",
       "      <td>-73.964763</td>\n",
       "    </tr>\n",
       "    <tr>\n",
       "      <th>4</th>\n",
       "      <td>10</td>\n",
       "      <td>2015-01-01 00:05:00</td>\n",
       "      <td>2015-01-01 00:21:00</td>\n",
       "      <td>969</td>\n",
       "      <td>40.745168</td>\n",
       "      <td>-73.986831</td>\n",
       "      <td>40.726218</td>\n",
       "      <td>-73.983799</td>\n",
       "    </tr>\n",
       "  </tbody>\n",
       "</table>\n",
       "</div>"
      ],
      "text/plain": [
       "   type_id           starttime            stoptime  tripduration  start_lat  \\\n",
       "0       10 2015-01-01 00:01:00 2015-01-01 00:24:00          1346  40.750020   \n",
       "1       10 2015-01-01 00:02:00 2015-01-01 00:08:00           363  40.743174   \n",
       "2       10 2015-01-01 00:04:00 2015-01-01 00:10:00           346  40.740964   \n",
       "3       10 2015-01-01 00:04:00 2015-01-01 00:07:00           182  40.683178   \n",
       "4       10 2015-01-01 00:05:00 2015-01-01 00:21:00           969  40.745168   \n",
       "\n",
       "   start_lon    end_lat    end_lon  \n",
       "0 -73.969053  40.722293 -73.991475  \n",
       "1 -74.003664  40.739355 -73.999318  \n",
       "2 -73.986022  40.749013 -73.988484  \n",
       "3 -73.965964  40.688515 -73.964763  \n",
       "4 -73.986831  40.726218 -73.983799  "
      ]
     },
     "execution_count": 44,
     "metadata": {},
     "output_type": "execute_result"
    }
   ],
   "source": [
    "output.head()"
   ]
  },
  {
   "cell_type": "code",
   "execution_count": 45,
   "metadata": {
    "collapsed": false
   },
   "outputs": [],
   "source": [
    "output = output[output.starttime > pd.to_datetime('2015-01-05 00:00:00')]\n",
    "output = output[output.starttime < pd.to_datetime('2015-01-06 04:00:00')]"
   ]
  },
  {
   "cell_type": "code",
   "execution_count": 46,
   "metadata": {
    "collapsed": false
   },
   "outputs": [
    {
     "data": {
      "text/html": [
       "<div>\n",
       "<table border=\"1\" class=\"dataframe\">\n",
       "  <thead>\n",
       "    <tr style=\"text-align: right;\">\n",
       "      <th></th>\n",
       "      <th>type_id</th>\n",
       "      <th>starttime</th>\n",
       "      <th>stoptime</th>\n",
       "      <th>tripduration</th>\n",
       "      <th>start_lat</th>\n",
       "      <th>start_lon</th>\n",
       "      <th>end_lat</th>\n",
       "      <th>end_lon</th>\n",
       "    </tr>\n",
       "  </thead>\n",
       "  <tbody>\n",
       "    <tr>\n",
       "      <th>28951</th>\n",
       "      <td>10</td>\n",
       "      <td>2015-01-05 00:01:00</td>\n",
       "      <td>2015-01-05 00:15:00</td>\n",
       "      <td>836</td>\n",
       "      <td>40.742388</td>\n",
       "      <td>-73.997262</td>\n",
       "      <td>40.726281</td>\n",
       "      <td>-73.989780</td>\n",
       "    </tr>\n",
       "    <tr>\n",
       "      <th>28952</th>\n",
       "      <td>10</td>\n",
       "      <td>2015-01-05 00:01:00</td>\n",
       "      <td>2015-01-05 00:09:00</td>\n",
       "      <td>522</td>\n",
       "      <td>40.722293</td>\n",
       "      <td>-73.991475</td>\n",
       "      <td>40.714215</td>\n",
       "      <td>-73.981346</td>\n",
       "    </tr>\n",
       "    <tr>\n",
       "      <th>28953</th>\n",
       "      <td>10</td>\n",
       "      <td>2015-01-05 00:01:00</td>\n",
       "      <td>2015-01-05 00:10:00</td>\n",
       "      <td>520</td>\n",
       "      <td>40.746745</td>\n",
       "      <td>-74.007756</td>\n",
       "      <td>40.756604</td>\n",
       "      <td>-73.997901</td>\n",
       "    </tr>\n",
       "    <tr>\n",
       "      <th>28954</th>\n",
       "      <td>10</td>\n",
       "      <td>2015-01-05 00:02:00</td>\n",
       "      <td>2015-01-05 00:13:00</td>\n",
       "      <td>641</td>\n",
       "      <td>40.760203</td>\n",
       "      <td>-73.964785</td>\n",
       "      <td>40.762272</td>\n",
       "      <td>-73.987882</td>\n",
       "    </tr>\n",
       "    <tr>\n",
       "      <th>28955</th>\n",
       "      <td>10</td>\n",
       "      <td>2015-01-05 00:02:00</td>\n",
       "      <td>2015-01-05 00:09:00</td>\n",
       "      <td>447</td>\n",
       "      <td>40.712733</td>\n",
       "      <td>-74.004607</td>\n",
       "      <td>40.705693</td>\n",
       "      <td>-74.016777</td>\n",
       "    </tr>\n",
       "  </tbody>\n",
       "</table>\n",
       "</div>"
      ],
      "text/plain": [
       "       type_id           starttime            stoptime  tripduration  \\\n",
       "28951       10 2015-01-05 00:01:00 2015-01-05 00:15:00           836   \n",
       "28952       10 2015-01-05 00:01:00 2015-01-05 00:09:00           522   \n",
       "28953       10 2015-01-05 00:01:00 2015-01-05 00:10:00           520   \n",
       "28954       10 2015-01-05 00:02:00 2015-01-05 00:13:00           641   \n",
       "28955       10 2015-01-05 00:02:00 2015-01-05 00:09:00           447   \n",
       "\n",
       "       start_lat  start_lon    end_lat    end_lon  \n",
       "28951  40.742388 -73.997262  40.726281 -73.989780  \n",
       "28952  40.722293 -73.991475  40.714215 -73.981346  \n",
       "28953  40.746745 -74.007756  40.756604 -73.997901  \n",
       "28954  40.760203 -73.964785  40.762272 -73.987882  \n",
       "28955  40.712733 -74.004607  40.705693 -74.016777  "
      ]
     },
     "execution_count": 46,
     "metadata": {},
     "output_type": "execute_result"
    }
   ],
   "source": [
    "output.head()"
   ]
  },
  {
   "cell_type": "code",
   "execution_count": 47,
   "metadata": {
    "collapsed": false
   },
   "outputs": [
    {
     "data": {
      "text/plain": [
       "(14622, 8)"
      ]
     },
     "execution_count": 47,
     "metadata": {},
     "output_type": "execute_result"
    }
   ],
   "source": [
    "output.shape"
   ]
  },
  {
   "cell_type": "code",
   "execution_count": 50,
   "metadata": {
    "collapsed": true
   },
   "outputs": [],
   "source": [
    "output.to_csv(\"citibike_monday_raw.csv\")"
   ]
  },
  {
   "cell_type": "code",
   "execution_count": 51,
   "metadata": {
    "collapsed": false
   },
   "outputs": [
    {
     "name": "stdout",
     "output_type": "stream",
     "text": [
      ",type_id,starttime,stoptime,tripduration,start_lat,start_lon,end_lat,end_lon\n",
      "28951,10,2015-01-05 00:01:00,2015-01-05 00:15:00,836,40.74238787,-73.99726235,40.7262807,-73.98978041\n",
      "28952,10,2015-01-05 00:01:00,2015-01-05 00:09:00,522,40.72229346,-73.99147535,40.714215,-73.981346\n",
      "28953,10,2015-01-05 00:01:00,2015-01-05 00:10:00,520,40.746745,-74.007756,40.75660359,-73.9979009\n",
      "28954,10,2015-01-05 00:02:00,2015-01-05 00:13:00,641,40.76020258,-73.96478473,40.76227205,-73.98788205\n",
      "28955,10,2015-01-05 00:02:00,2015-01-05 00:09:00,447,40.71273266,-74.0046073,40.70569254,-74.01677685\n",
      "28956,10,2015-01-05 00:05:00,2015-01-05 00:11:00,364,40.76915505,-73.98191841,40.76669671,-73.99061728\n",
      "28957,10,2015-01-05 00:05:00,2015-01-05 00:11:00,343,40.75513557,-73.98658032,40.74780373,-73.9734419\n",
      "28958,10,2015-01-05 00:06:00,2015-01-05 00:26:00,1200,40.74206539,-74.00443172,40.71542197,-74.01121978\n",
      "28959,10,2015-01-05 00:06:00,2015-01-05 00:16:00,578,40.72873888,-74.00748842,40.7454973,-74.00197139\n"
     ]
    }
   ],
   "source": [
    "%%bash\n",
    "head citibike_monday_raw.csv"
   ]
  },
  {
   "cell_type": "code",
   "execution_count": 52,
   "metadata": {
    "collapsed": true
   },
   "outputs": [],
   "source": [
    "%%bash\n",
    "\n",
    "awk -F\",\" -v OFS=\",\" '{ $1=\"\" ; $0=substr($0,2) } 1' citibike_monday_raw.csv > citibike_monday.csv"
   ]
  },
  {
   "cell_type": "code",
   "execution_count": 53,
   "metadata": {
    "collapsed": false
   },
   "outputs": [
    {
     "name": "stdout",
     "output_type": "stream",
     "text": [
      "type_id,starttime,stoptime,tripduration,start_lat,start_lon,end_lat,end_lon\n",
      "10,2015-01-05 00:01:00,2015-01-05 00:15:00,836,40.74238787,-73.99726235,40.7262807,-73.98978041\n",
      "10,2015-01-05 00:01:00,2015-01-05 00:09:00,522,40.72229346,-73.99147535,40.714215,-73.981346\n",
      "10,2015-01-05 00:01:00,2015-01-05 00:10:00,520,40.746745,-74.007756,40.75660359,-73.9979009\n",
      "10,2015-01-05 00:02:00,2015-01-05 00:13:00,641,40.76020258,-73.96478473,40.76227205,-73.98788205\n",
      "10,2015-01-05 00:02:00,2015-01-05 00:09:00,447,40.71273266,-74.0046073,40.70569254,-74.01677685\n",
      "10,2015-01-05 00:05:00,2015-01-05 00:11:00,364,40.76915505,-73.98191841,40.76669671,-73.99061728\n",
      "10,2015-01-05 00:05:00,2015-01-05 00:11:00,343,40.75513557,-73.98658032,40.74780373,-73.9734419\n",
      "10,2015-01-05 00:06:00,2015-01-05 00:26:00,1200,40.74206539,-74.00443172,40.71542197,-74.01121978\n",
      "10,2015-01-05 00:06:00,2015-01-05 00:16:00,578,40.72873888,-74.00748842,40.7454973,-74.00197139\n"
     ]
    }
   ],
   "source": [
    "%%bash\n",
    "\n",
    "head citibike_monday.csv"
   ]
  },
  {
   "cell_type": "code",
   "execution_count": null,
   "metadata": {
    "collapsed": true
   },
   "outputs": [],
   "source": []
  }
 ],
 "metadata": {
  "anaconda-cloud": {},
  "kernelspec": {
   "display_name": "Python [Root]",
   "language": "python",
   "name": "Python [Root]"
  },
  "language_info": {
   "codemirror_mode": {
    "name": "ipython",
    "version": 2
   },
   "file_extension": ".py",
   "mimetype": "text/x-python",
   "name": "python",
   "nbconvert_exporter": "python",
   "pygments_lexer": "ipython2",
   "version": "2.7.12"
  }
 },
 "nbformat": 4,
 "nbformat_minor": 0
}
