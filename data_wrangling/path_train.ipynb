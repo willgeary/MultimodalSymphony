{
 "cells": [
  {
   "cell_type": "markdown",
   "metadata": {},
   "source": [
    "# Visualizing NJ PATH train GTFS data"
   ]
  },
  {
   "cell_type": "markdown",
   "metadata": {},
   "source": [
    "Data Source: http://www.panynj.gov/path/developers.html"
   ]
  },
  {
   "cell_type": "code",
   "execution_count": 1,
   "metadata": {
    "collapsed": true
   },
   "outputs": [],
   "source": [
    "url = \"http://data.trilliumtransit.com/gtfs/path-nj-us/path-nj-us.zip\""
   ]
  },
  {
   "cell_type": "code",
   "execution_count": 4,
   "metadata": {
    "collapsed": false
   },
   "outputs": [
    {
     "name": "stdout",
     "output_type": "stream",
     "text": [
      "Archive:  path-nj-us.zip\n",
      "  inflating: agency.txt              \n",
      "  inflating: calendar_dates.txt      \n",
      "  inflating: calendar.txt            \n",
      "  inflating: fare_attributes.txt     \n",
      "  inflating: fare_rules.txt          \n",
      "  inflating: feed_info.txt           \n",
      "  inflating: frequencies.txt         \n",
      "  inflating: route_directions.txt    \n",
      "  inflating: routes.txt              \n",
      "  inflating: shapes.txt              \n",
      "  inflating: stop_times.txt          \n",
      "  inflating: stops.txt               \n",
      "  inflating: timetable_stop_order-new.txt  \n",
      "  inflating: timetables-new.txt      \n",
      "  inflating: transfers.txt           \n",
      "  inflating: trips.txt               \n"
     ]
    },
    {
     "name": "stderr",
     "output_type": "stream",
     "text": [
      "--2017-04-08 10:19:02--  http://data.trilliumtransit.com/gtfs/path-nj-us/path-nj-us.zip\n",
      "Resolving data.trilliumtransit.com... 52.24.177.63\n",
      "Connecting to data.trilliumtransit.com|52.24.177.63|:80... connected.\n",
      "HTTP request sent, awaiting response... 200 OK\n",
      "Length: 180404 (176K) [application/zip]\n",
      "Saving to: ‘path-nj-us.zip’\n",
      "\n",
      "     0K .......... .......... .......... .......... .......... 28%  222K 1s\n",
      "    50K .......... .......... .......... .......... .......... 56%  209K 0s\n",
      "   100K .......... .......... .......... .......... .......... 85%  423K 0s\n",
      "   150K .......... .......... ......                          100%  211K=0.7s\n",
      "\n",
      "2017-04-08 10:19:03 (249 KB/s) - ‘path-nj-us.zip’ saved [180404/180404]\n",
      "\n"
     ]
    }
   ],
   "source": [
    "%%bash\n",
    "\n",
    "mkdir gtfs\n",
    "cd gtfs\n",
    "wget http://data.trilliumtransit.com/gtfs/path-nj-us/path-nj-us.zip\n",
    "unzip path-nj-us.zip"
   ]
  },
  {
   "cell_type": "markdown",
   "metadata": {},
   "source": [
    "Import libraries:"
   ]
  },
  {
   "cell_type": "code",
   "execution_count": 5,
   "metadata": {
    "collapsed": true
   },
   "outputs": [],
   "source": [
    "import pandas as pd\n",
    "import numpy as np\n",
    "import datetime as dt"
   ]
  },
  {
   "cell_type": "markdown",
   "metadata": {},
   "source": [
    "### Load GTFS data"
   ]
  },
  {
   "cell_type": "code",
   "execution_count": 7,
   "metadata": {
    "collapsed": true
   },
   "outputs": [],
   "source": [
    "agency = pd.read_csv('gtfs/agency.txt')\n",
    "calendar_dates = pd.read_csv('gtfs/calendar_dates.txt')\n",
    "calendar = pd.read_csv('gtfs/calendar.txt')\n",
    "routes = pd.read_csv('gtfs/routes.txt')\n",
    "shapes = pd.read_csv('gtfs/shapes.txt')\n",
    "stop_times = pd.read_csv('gtfs/stop_times.txt')\n",
    "stops = pd.read_csv('gtfs/stops.txt')\n",
    "trips = pd.read_csv('gtfs/trips.txt')"
   ]
  },
  {
   "cell_type": "markdown",
   "metadata": {},
   "source": [
    "### Merge calendar, service_id and trip_id information\n"
   ]
  },
  {
   "cell_type": "code",
   "execution_count": 8,
   "metadata": {
    "collapsed": false
   },
   "outputs": [
    {
     "data": {
      "text/html": [
       "<div>\n",
       "<table border=\"1\" class=\"dataframe\">\n",
       "  <thead>\n",
       "    <tr style=\"text-align: right;\">\n",
       "      <th></th>\n",
       "      <th>service_id</th>\n",
       "      <th>trip_id</th>\n",
       "      <th>route_id</th>\n",
       "    </tr>\n",
       "  </thead>\n",
       "  <tbody>\n",
       "    <tr>\n",
       "      <th>0</th>\n",
       "      <td>5302A6349</td>\n",
       "      <td>658979A5302B6349</td>\n",
       "      <td>5745</td>\n",
       "    </tr>\n",
       "    <tr>\n",
       "      <th>1</th>\n",
       "      <td>5302A6349</td>\n",
       "      <td>622824A5302B6349</td>\n",
       "      <td>5746</td>\n",
       "    </tr>\n",
       "    <tr>\n",
       "      <th>2</th>\n",
       "      <td>5302A6349</td>\n",
       "      <td>660183A5302B6349</td>\n",
       "      <td>5745</td>\n",
       "    </tr>\n",
       "    <tr>\n",
       "      <th>3</th>\n",
       "      <td>5302A6349</td>\n",
       "      <td>660184A5302B6349</td>\n",
       "      <td>5746</td>\n",
       "    </tr>\n",
       "    <tr>\n",
       "      <th>4</th>\n",
       "      <td>5302A6349</td>\n",
       "      <td>660185A5302B6349</td>\n",
       "      <td>5746</td>\n",
       "    </tr>\n",
       "  </tbody>\n",
       "</table>\n",
       "</div>"
      ],
      "text/plain": [
       "  service_id           trip_id  route_id\n",
       "0  5302A6349  658979A5302B6349      5745\n",
       "1  5302A6349  622824A5302B6349      5746\n",
       "2  5302A6349  660183A5302B6349      5745\n",
       "3  5302A6349  660184A5302B6349      5746\n",
       "4  5302A6349  660185A5302B6349      5746"
      ]
     },
     "execution_count": 8,
     "metadata": {},
     "output_type": "execute_result"
    }
   ],
   "source": [
    "service_trip_id = pd.merge(calendar[['service_id']],trips[['service_id', 'trip_id', 'route_id']])\n",
    "service_trip_id.head()"
   ]
  },
  {
   "cell_type": "code",
   "execution_count": 9,
   "metadata": {
    "collapsed": false
   },
   "outputs": [
    {
     "data": {
      "text/html": [
       "<div>\n",
       "<table border=\"1\" class=\"dataframe\">\n",
       "  <thead>\n",
       "    <tr style=\"text-align: right;\">\n",
       "      <th></th>\n",
       "      <th>service_id</th>\n",
       "      <th>service_name</th>\n",
       "      <th>monday</th>\n",
       "      <th>tuesday</th>\n",
       "      <th>wednesday</th>\n",
       "      <th>thursday</th>\n",
       "      <th>friday</th>\n",
       "      <th>saturday</th>\n",
       "      <th>sunday</th>\n",
       "      <th>start_date</th>\n",
       "      <th>end_date</th>\n",
       "      <th>trip_id</th>\n",
       "      <th>route_id</th>\n",
       "    </tr>\n",
       "  </thead>\n",
       "  <tbody>\n",
       "    <tr>\n",
       "      <th>0</th>\n",
       "      <td>5302A6349</td>\n",
       "      <td>Beginning February 20th (Mon-Sun)</td>\n",
       "      <td>1</td>\n",
       "      <td>1</td>\n",
       "      <td>1</td>\n",
       "      <td>1</td>\n",
       "      <td>1</td>\n",
       "      <td>1</td>\n",
       "      <td>1</td>\n",
       "      <td>20170208</td>\n",
       "      <td>20180101</td>\n",
       "      <td>658979A5302B6349</td>\n",
       "      <td>5745</td>\n",
       "    </tr>\n",
       "    <tr>\n",
       "      <th>1</th>\n",
       "      <td>5302A6349</td>\n",
       "      <td>Beginning February 20th (Mon-Sun)</td>\n",
       "      <td>1</td>\n",
       "      <td>1</td>\n",
       "      <td>1</td>\n",
       "      <td>1</td>\n",
       "      <td>1</td>\n",
       "      <td>1</td>\n",
       "      <td>1</td>\n",
       "      <td>20170208</td>\n",
       "      <td>20180101</td>\n",
       "      <td>622824A5302B6349</td>\n",
       "      <td>5746</td>\n",
       "    </tr>\n",
       "    <tr>\n",
       "      <th>2</th>\n",
       "      <td>5302A6349</td>\n",
       "      <td>Beginning February 20th (Mon-Sun)</td>\n",
       "      <td>1</td>\n",
       "      <td>1</td>\n",
       "      <td>1</td>\n",
       "      <td>1</td>\n",
       "      <td>1</td>\n",
       "      <td>1</td>\n",
       "      <td>1</td>\n",
       "      <td>20170208</td>\n",
       "      <td>20180101</td>\n",
       "      <td>660183A5302B6349</td>\n",
       "      <td>5745</td>\n",
       "    </tr>\n",
       "    <tr>\n",
       "      <th>3</th>\n",
       "      <td>5302A6349</td>\n",
       "      <td>Beginning February 20th (Mon-Sun)</td>\n",
       "      <td>1</td>\n",
       "      <td>1</td>\n",
       "      <td>1</td>\n",
       "      <td>1</td>\n",
       "      <td>1</td>\n",
       "      <td>1</td>\n",
       "      <td>1</td>\n",
       "      <td>20170208</td>\n",
       "      <td>20180101</td>\n",
       "      <td>660184A5302B6349</td>\n",
       "      <td>5746</td>\n",
       "    </tr>\n",
       "    <tr>\n",
       "      <th>4</th>\n",
       "      <td>5302A6349</td>\n",
       "      <td>Beginning February 20th (Mon-Sun)</td>\n",
       "      <td>1</td>\n",
       "      <td>1</td>\n",
       "      <td>1</td>\n",
       "      <td>1</td>\n",
       "      <td>1</td>\n",
       "      <td>1</td>\n",
       "      <td>1</td>\n",
       "      <td>20170208</td>\n",
       "      <td>20180101</td>\n",
       "      <td>660185A5302B6349</td>\n",
       "      <td>5746</td>\n",
       "    </tr>\n",
       "  </tbody>\n",
       "</table>\n",
       "</div>"
      ],
      "text/plain": [
       "  service_id                       service_name  monday  tuesday  wednesday  \\\n",
       "0  5302A6349  Beginning February 20th (Mon-Sun)       1        1          1   \n",
       "1  5302A6349  Beginning February 20th (Mon-Sun)       1        1          1   \n",
       "2  5302A6349  Beginning February 20th (Mon-Sun)       1        1          1   \n",
       "3  5302A6349  Beginning February 20th (Mon-Sun)       1        1          1   \n",
       "4  5302A6349  Beginning February 20th (Mon-Sun)       1        1          1   \n",
       "\n",
       "   thursday  friday  saturday  sunday  start_date  end_date           trip_id  \\\n",
       "0         1       1         1       1    20170208  20180101  658979A5302B6349   \n",
       "1         1       1         1       1    20170208  20180101  622824A5302B6349   \n",
       "2         1       1         1       1    20170208  20180101  660183A5302B6349   \n",
       "3         1       1         1       1    20170208  20180101  660184A5302B6349   \n",
       "4         1       1         1       1    20170208  20180101  660185A5302B6349   \n",
       "\n",
       "   route_id  \n",
       "0      5745  \n",
       "1      5746  \n",
       "2      5745  \n",
       "3      5746  \n",
       "4      5746  "
      ]
     },
     "execution_count": 9,
     "metadata": {},
     "output_type": "execute_result"
    }
   ],
   "source": [
    "calendar = pd.merge(calendar,service_trip_id)\n",
    "calendar.head()"
   ]
  },
  {
   "cell_type": "markdown",
   "metadata": {},
   "source": [
    "### Add abritrary arrival and departure dates to timetables\n",
    "\n",
    "Define a function to add arrival dates to stop_times tables. We will use 1/5/15 as the start date because that is the date we are currently using to visualize taxi trips. This code deals with arrival times > 24 hours and converts them to 1/6/15."
   ]
  },
  {
   "cell_type": "code",
   "execution_count": 10,
   "metadata": {
    "collapsed": true
   },
   "outputs": [],
   "source": [
    "arbitrary_dates = ['1/5/2015', '1/6/2015']"
   ]
  },
  {
   "cell_type": "code",
   "execution_count": 11,
   "metadata": {
    "collapsed": true
   },
   "outputs": [],
   "source": [
    "def add_arrival_date(df, dates = arbitrary_dates):\n",
    "    df = df.copy()\n",
    "    arrival_date = []\n",
    "    arrival_time = []\n",
    "\n",
    "    for i in df['arrival_time']:\n",
    "        hour = i[:i.find(':')]\n",
    "        minute = i[i.find(':')+1:i.find(':',4)]\n",
    "        second = i[i.find(':',5)+1:]\n",
    "        \n",
    "        if int(hour) < 24:\n",
    "            arrival_date.append(dates[0])\n",
    "            arrival_time.append(i)\n",
    "        elif 24 <= int(hour) < 48:\n",
    "            arrival_date.append(dates[1])\n",
    "            hour = int(hour) - 24\n",
    "            arrival_time.append(str(hour)+\":\"+minute+\":\"+second)\n",
    "        else:\n",
    "            arrival_date.append('NA')\n",
    "            \n",
    "    df['arrival_date'] = arrival_date\n",
    "    df['arrival_time'] = arrival_time\n",
    "    return df"
   ]
  },
  {
   "cell_type": "code",
   "execution_count": 12,
   "metadata": {
    "collapsed": true
   },
   "outputs": [],
   "source": [
    "def add_departure_date(df, dates = arbitrary_dates):\n",
    "    df = df.copy()\n",
    "    departure_date = []\n",
    "    departure_time = []\n",
    "\n",
    "    for i in df['departure_time']:\n",
    "        hour = i[:i.find(':')]\n",
    "        minute = i[i.find(':')+1:i.find(':',4)]\n",
    "        second = i[i.find(':',5)+1:]\n",
    "        \n",
    "        if int(hour) < 24:\n",
    "            departure_date.append(dates[0])\n",
    "            departure_time.append(i)\n",
    "        elif 24 <= int(hour) < 48:\n",
    "            departure_date.append(dates[1])\n",
    "            hour = int(hour) - 24\n",
    "            departure_time.append(str(hour)+\":\"+minute+\":\"+second)\n",
    "        else:\n",
    "            departure_date.append('NA')\n",
    "            \n",
    "    df['departure_date'] = departure_date\n",
    "    df['departure_time'] = departure_time\n",
    "    return df"
   ]
  },
  {
   "cell_type": "markdown",
   "metadata": {},
   "source": [
    "### Get timetables for each day of the week"
   ]
  },
  {
   "cell_type": "code",
   "execution_count": 13,
   "metadata": {
    "collapsed": true
   },
   "outputs": [],
   "source": [
    "monday = calendar[calendar['monday'] == 1]\n",
    "tuesday = calendar[calendar['tuesday'] == 1]\n",
    "wednesday = calendar[calendar['wednesday'] == 1]\n",
    "thursday = calendar[calendar['thursday'] == 1]\n",
    "friday = calendar[calendar['friday'] == 1]\n",
    "saturday = calendar[calendar['saturday'] == 1]\n",
    "sunday = calendar[calendar['sunday'] == 1]"
   ]
  },
  {
   "cell_type": "markdown",
   "metadata": {},
   "source": [
    "### Monday\n"
   ]
  },
  {
   "cell_type": "code",
   "execution_count": 14,
   "metadata": {
    "collapsed": false
   },
   "outputs": [
    {
     "data": {
      "text/html": [
       "<div>\n",
       "<table border=\"1\" class=\"dataframe\">\n",
       "  <thead>\n",
       "    <tr style=\"text-align: right;\">\n",
       "      <th></th>\n",
       "      <th>service_id</th>\n",
       "      <th>service_name</th>\n",
       "      <th>monday</th>\n",
       "      <th>tuesday</th>\n",
       "      <th>wednesday</th>\n",
       "      <th>thursday</th>\n",
       "      <th>friday</th>\n",
       "      <th>saturday</th>\n",
       "      <th>sunday</th>\n",
       "      <th>start_date</th>\n",
       "      <th>end_date</th>\n",
       "      <th>trip_id</th>\n",
       "      <th>route_id</th>\n",
       "    </tr>\n",
       "  </thead>\n",
       "  <tbody>\n",
       "    <tr>\n",
       "      <th>0</th>\n",
       "      <td>5302A6349</td>\n",
       "      <td>Beginning February 20th (Mon-Sun)</td>\n",
       "      <td>1</td>\n",
       "      <td>1</td>\n",
       "      <td>1</td>\n",
       "      <td>1</td>\n",
       "      <td>1</td>\n",
       "      <td>1</td>\n",
       "      <td>1</td>\n",
       "      <td>20170208</td>\n",
       "      <td>20180101</td>\n",
       "      <td>658979A5302B6349</td>\n",
       "      <td>5745</td>\n",
       "    </tr>\n",
       "    <tr>\n",
       "      <th>1</th>\n",
       "      <td>5302A6349</td>\n",
       "      <td>Beginning February 20th (Mon-Sun)</td>\n",
       "      <td>1</td>\n",
       "      <td>1</td>\n",
       "      <td>1</td>\n",
       "      <td>1</td>\n",
       "      <td>1</td>\n",
       "      <td>1</td>\n",
       "      <td>1</td>\n",
       "      <td>20170208</td>\n",
       "      <td>20180101</td>\n",
       "      <td>622824A5302B6349</td>\n",
       "      <td>5746</td>\n",
       "    </tr>\n",
       "    <tr>\n",
       "      <th>2</th>\n",
       "      <td>5302A6349</td>\n",
       "      <td>Beginning February 20th (Mon-Sun)</td>\n",
       "      <td>1</td>\n",
       "      <td>1</td>\n",
       "      <td>1</td>\n",
       "      <td>1</td>\n",
       "      <td>1</td>\n",
       "      <td>1</td>\n",
       "      <td>1</td>\n",
       "      <td>20170208</td>\n",
       "      <td>20180101</td>\n",
       "      <td>660183A5302B6349</td>\n",
       "      <td>5745</td>\n",
       "    </tr>\n",
       "    <tr>\n",
       "      <th>3</th>\n",
       "      <td>5302A6349</td>\n",
       "      <td>Beginning February 20th (Mon-Sun)</td>\n",
       "      <td>1</td>\n",
       "      <td>1</td>\n",
       "      <td>1</td>\n",
       "      <td>1</td>\n",
       "      <td>1</td>\n",
       "      <td>1</td>\n",
       "      <td>1</td>\n",
       "      <td>20170208</td>\n",
       "      <td>20180101</td>\n",
       "      <td>660184A5302B6349</td>\n",
       "      <td>5746</td>\n",
       "    </tr>\n",
       "    <tr>\n",
       "      <th>4</th>\n",
       "      <td>5302A6349</td>\n",
       "      <td>Beginning February 20th (Mon-Sun)</td>\n",
       "      <td>1</td>\n",
       "      <td>1</td>\n",
       "      <td>1</td>\n",
       "      <td>1</td>\n",
       "      <td>1</td>\n",
       "      <td>1</td>\n",
       "      <td>1</td>\n",
       "      <td>20170208</td>\n",
       "      <td>20180101</td>\n",
       "      <td>660185A5302B6349</td>\n",
       "      <td>5746</td>\n",
       "    </tr>\n",
       "  </tbody>\n",
       "</table>\n",
       "</div>"
      ],
      "text/plain": [
       "  service_id                       service_name  monday  tuesday  wednesday  \\\n",
       "0  5302A6349  Beginning February 20th (Mon-Sun)       1        1          1   \n",
       "1  5302A6349  Beginning February 20th (Mon-Sun)       1        1          1   \n",
       "2  5302A6349  Beginning February 20th (Mon-Sun)       1        1          1   \n",
       "3  5302A6349  Beginning February 20th (Mon-Sun)       1        1          1   \n",
       "4  5302A6349  Beginning February 20th (Mon-Sun)       1        1          1   \n",
       "\n",
       "   thursday  friday  saturday  sunday  start_date  end_date           trip_id  \\\n",
       "0         1       1         1       1    20170208  20180101  658979A5302B6349   \n",
       "1         1       1         1       1    20170208  20180101  622824A5302B6349   \n",
       "2         1       1         1       1    20170208  20180101  660183A5302B6349   \n",
       "3         1       1         1       1    20170208  20180101  660184A5302B6349   \n",
       "4         1       1         1       1    20170208  20180101  660185A5302B6349   \n",
       "\n",
       "   route_id  \n",
       "0      5745  \n",
       "1      5746  \n",
       "2      5745  \n",
       "3      5746  \n",
       "4      5746  "
      ]
     },
     "execution_count": 14,
     "metadata": {},
     "output_type": "execute_result"
    }
   ],
   "source": [
    "monday.head()"
   ]
  },
  {
   "cell_type": "code",
   "execution_count": 15,
   "metadata": {
    "collapsed": false
   },
   "outputs": [
    {
     "name": "stdout",
     "output_type": "stream",
     "text": [
      "There are  1039 trips on Monday\n"
     ]
    },
    {
     "data": {
      "text/plain": [
       "0    658979A5302B6349\n",
       "1    622824A5302B6349\n",
       "2    660183A5302B6349\n",
       "3    660184A5302B6349\n",
       "4    660185A5302B6349\n",
       "Name: trip_id, dtype: object"
      ]
     },
     "execution_count": 15,
     "metadata": {},
     "output_type": "execute_result"
    }
   ],
   "source": [
    "monday_trips = monday['trip_id']\n",
    "print \"There are \", len(monday_trips), \"trips on Monday\"\n",
    "monday_trips.head()"
   ]
  },
  {
   "cell_type": "code",
   "execution_count": 16,
   "metadata": {
    "collapsed": false
   },
   "outputs": [
    {
     "data": {
      "text/plain": [
       "1034    636190A5394B6507\n",
       "1035    636997A5394B6507\n",
       "1036    637648A5394B6507\n",
       "1037    637696A5394B6507\n",
       "1038    636204A5394B6507\n",
       "Name: trip_id, dtype: object"
      ]
     },
     "execution_count": 16,
     "metadata": {},
     "output_type": "execute_result"
    }
   ],
   "source": [
    "monday_trips.tail()"
   ]
  },
  {
   "cell_type": "code",
   "execution_count": 17,
   "metadata": {
    "collapsed": false
   },
   "outputs": [
    {
     "name": "stdout",
     "output_type": "stream",
     "text": [
      "2017-04-08 10:21:32.076240 finished trip number 100 / 1039\n",
      "2017-04-08 10:21:36.252281 finished trip number 200 / 1039\n",
      "2017-04-08 10:21:40.544042 finished trip number 300 / 1039\n",
      "2017-04-08 10:21:44.918853 finished trip number 400 / 1039\n",
      "2017-04-08 10:21:49.181194 finished trip number 500 / 1039\n",
      "2017-04-08 10:21:53.493988 finished trip number 600 / 1039\n",
      "2017-04-08 10:21:57.436426 finished trip number 700 / 1039\n",
      "2017-04-08 10:22:01.247265 finished trip number 800 / 1039\n",
      "2017-04-08 10:22:05.068849 finished trip number 900 / 1039\n",
      "2017-04-08 10:22:08.963401 finished trip number 1000 / 1039\n"
     ]
    }
   ],
   "source": [
    "triplist = []\n",
    "count = 0\n",
    "\n",
    "for i in monday_trips:\n",
    "    count += 1\n",
    "    df = stop_times[stop_times['trip_id'] == i]\n",
    "    \n",
    "    # add arrival and departure dates\n",
    "    df = add_arrival_date(df, dates = arbitrary_dates)\n",
    "    df = add_departure_date(df, dates = arbitrary_dates)\n",
    "    df['arrival_datetime'] = pd.to_datetime(df['arrival_date'] + ' ' + df['arrival_time'])\n",
    "    df['departure_datetime'] = pd.to_datetime(df['departure_date'] + ' ' + df['departure_time'])\n",
    "\n",
    "    # join df with stops\n",
    "    df = pd.merge(df, stops[['stop_id', 'stop_name', 'stop_lat', 'stop_lon']],left_on='stop_id', right_on='stop_id')\n",
    "\n",
    "    # join df with trips to get direction and route id\n",
    "    try:\n",
    "        df = pd.merge(df, trips[['trip_id', 'direction_id', 'route_id']], left_on='trip_id', right_on='trip_id', how='left')\n",
    "    except:\n",
    "        df = pd.merge(df, trips[['trip_id', 'route_id']], left_on='trip_id', right_on='trip_id', how='left')\n",
    "    \n",
    "    # join df with routes to get route id\n",
    "    df = pd.merge(df, routes[['route_id', 'route_long_name']], left_on='route_id', right_on='route_id', how='left')\n",
    "    \n",
    "    # create new dataframe to store results\n",
    "    legs = pd.DataFrame()\n",
    "    legs['type_id'] = df['route_id']\n",
    "    legs['starttime'] = df['departure_datetime']\n",
    "    legs['stoptime'] = df['arrival_datetime'].shift(-1).fillna(method='ffill')\n",
    "    legs['tripduration'] = ((legs['stoptime'] - legs['starttime'])/np.timedelta64(1, 's')).astype(int)\n",
    "    legs['start_lat'] = df['stop_lat']\n",
    "    legs['start_lon'] = df['stop_lon']\n",
    "    legs['end_lat'] = legs['start_lat'].shift(-1).fillna(method='ffill')\n",
    "    legs['end_lon'] = legs['start_lon'].shift(-1).fillna(method='ffill')\n",
    "    \n",
    "    # append results to triplist\n",
    "    triplist.append(legs)\n",
    "    \n",
    "    if count % 100 == 0:\n",
    "        print str(dt.datetime.now()), \"finished trip number\", count, \"/\", len(monday_trips)"
   ]
  },
  {
   "cell_type": "code",
   "execution_count": 18,
   "metadata": {
    "collapsed": false
   },
   "outputs": [
    {
     "data": {
      "text/html": [
       "<div>\n",
       "<table border=\"1\" class=\"dataframe\">\n",
       "  <thead>\n",
       "    <tr style=\"text-align: right;\">\n",
       "      <th></th>\n",
       "      <th>type_id</th>\n",
       "      <th>starttime</th>\n",
       "      <th>stoptime</th>\n",
       "      <th>tripduration</th>\n",
       "      <th>start_lat</th>\n",
       "      <th>start_lon</th>\n",
       "      <th>end_lat</th>\n",
       "      <th>end_lon</th>\n",
       "    </tr>\n",
       "  </thead>\n",
       "  <tbody>\n",
       "    <tr>\n",
       "      <th>0</th>\n",
       "      <td>5745</td>\n",
       "      <td>2015-01-05 04:00:00</td>\n",
       "      <td>2015-01-05 04:45:00</td>\n",
       "      <td>2700</td>\n",
       "      <td>40.774810</td>\n",
       "      <td>-73.884575</td>\n",
       "      <td>40.774810</td>\n",
       "      <td>-73.884575</td>\n",
       "    </tr>\n",
       "    <tr>\n",
       "      <th>1</th>\n",
       "      <td>5745</td>\n",
       "      <td>2015-01-05 04:45:00</td>\n",
       "      <td>2015-01-05 04:03:00</td>\n",
       "      <td>-2520</td>\n",
       "      <td>40.774810</td>\n",
       "      <td>-73.884575</td>\n",
       "      <td>40.773265</td>\n",
       "      <td>-73.886284</td>\n",
       "    </tr>\n",
       "    <tr>\n",
       "      <th>2</th>\n",
       "      <td>5745</td>\n",
       "      <td>2015-01-05 04:03:00</td>\n",
       "      <td>2015-01-05 04:04:00</td>\n",
       "      <td>60</td>\n",
       "      <td>40.773265</td>\n",
       "      <td>-73.886284</td>\n",
       "      <td>40.771058</td>\n",
       "      <td>-73.885487</td>\n",
       "    </tr>\n",
       "    <tr>\n",
       "      <th>3</th>\n",
       "      <td>5745</td>\n",
       "      <td>2015-01-05 04:04:00</td>\n",
       "      <td>2015-01-05 04:21:00</td>\n",
       "      <td>1020</td>\n",
       "      <td>40.771058</td>\n",
       "      <td>-73.885487</td>\n",
       "      <td>40.767808</td>\n",
       "      <td>-73.860764</td>\n",
       "    </tr>\n",
       "    <tr>\n",
       "      <th>4</th>\n",
       "      <td>5745</td>\n",
       "      <td>2015-01-05 04:21:00</td>\n",
       "      <td>2015-01-05 04:22:00</td>\n",
       "      <td>60</td>\n",
       "      <td>40.767808</td>\n",
       "      <td>-73.860764</td>\n",
       "      <td>40.768344</td>\n",
       "      <td>-73.861868</td>\n",
       "    </tr>\n",
       "  </tbody>\n",
       "</table>\n",
       "</div>"
      ],
      "text/plain": [
       "   type_id           starttime            stoptime  tripduration  start_lat  \\\n",
       "0     5745 2015-01-05 04:00:00 2015-01-05 04:45:00          2700  40.774810   \n",
       "1     5745 2015-01-05 04:45:00 2015-01-05 04:03:00         -2520  40.774810   \n",
       "2     5745 2015-01-05 04:03:00 2015-01-05 04:04:00            60  40.773265   \n",
       "3     5745 2015-01-05 04:04:00 2015-01-05 04:21:00          1020  40.771058   \n",
       "4     5745 2015-01-05 04:21:00 2015-01-05 04:22:00            60  40.767808   \n",
       "\n",
       "   start_lon    end_lat    end_lon  \n",
       "0 -73.884575  40.774810 -73.884575  \n",
       "1 -73.884575  40.773265 -73.886284  \n",
       "2 -73.886284  40.771058 -73.885487  \n",
       "3 -73.885487  40.767808 -73.860764  \n",
       "4 -73.860764  40.768344 -73.861868  "
      ]
     },
     "execution_count": 18,
     "metadata": {},
     "output_type": "execute_result"
    }
   ],
   "source": [
    "triplist[0].head()"
   ]
  },
  {
   "cell_type": "code",
   "execution_count": 19,
   "metadata": {
    "collapsed": false
   },
   "outputs": [
    {
     "data": {
      "text/plain": [
       "1039"
      ]
     },
     "execution_count": 19,
     "metadata": {},
     "output_type": "execute_result"
    }
   ],
   "source": [
    "len(triplist)"
   ]
  },
  {
   "cell_type": "code",
   "execution_count": 20,
   "metadata": {
    "collapsed": true
   },
   "outputs": [],
   "source": [
    "data = pd.concat(triplist)"
   ]
  },
  {
   "cell_type": "code",
   "execution_count": 21,
   "metadata": {
    "collapsed": false
   },
   "outputs": [
    {
     "data": {
      "text/html": [
       "<div>\n",
       "<table border=\"1\" class=\"dataframe\">\n",
       "  <thead>\n",
       "    <tr style=\"text-align: right;\">\n",
       "      <th></th>\n",
       "      <th>type_id</th>\n",
       "      <th>starttime</th>\n",
       "      <th>stoptime</th>\n",
       "      <th>tripduration</th>\n",
       "      <th>start_lat</th>\n",
       "      <th>start_lon</th>\n",
       "      <th>end_lat</th>\n",
       "      <th>end_lon</th>\n",
       "    </tr>\n",
       "  </thead>\n",
       "  <tbody>\n",
       "    <tr>\n",
       "      <th>0</th>\n",
       "      <td>5745</td>\n",
       "      <td>2015-01-05 04:00:00</td>\n",
       "      <td>2015-01-05 04:45:00</td>\n",
       "      <td>2700</td>\n",
       "      <td>40.774810</td>\n",
       "      <td>-73.884575</td>\n",
       "      <td>40.774810</td>\n",
       "      <td>-73.884575</td>\n",
       "    </tr>\n",
       "    <tr>\n",
       "      <th>1</th>\n",
       "      <td>5745</td>\n",
       "      <td>2015-01-05 04:45:00</td>\n",
       "      <td>2015-01-05 04:03:00</td>\n",
       "      <td>-2520</td>\n",
       "      <td>40.774810</td>\n",
       "      <td>-73.884575</td>\n",
       "      <td>40.773265</td>\n",
       "      <td>-73.886284</td>\n",
       "    </tr>\n",
       "    <tr>\n",
       "      <th>2</th>\n",
       "      <td>5745</td>\n",
       "      <td>2015-01-05 04:03:00</td>\n",
       "      <td>2015-01-05 04:04:00</td>\n",
       "      <td>60</td>\n",
       "      <td>40.773265</td>\n",
       "      <td>-73.886284</td>\n",
       "      <td>40.771058</td>\n",
       "      <td>-73.885487</td>\n",
       "    </tr>\n",
       "    <tr>\n",
       "      <th>3</th>\n",
       "      <td>5745</td>\n",
       "      <td>2015-01-05 04:04:00</td>\n",
       "      <td>2015-01-05 04:21:00</td>\n",
       "      <td>1020</td>\n",
       "      <td>40.771058</td>\n",
       "      <td>-73.885487</td>\n",
       "      <td>40.767808</td>\n",
       "      <td>-73.860764</td>\n",
       "    </tr>\n",
       "    <tr>\n",
       "      <th>4</th>\n",
       "      <td>5745</td>\n",
       "      <td>2015-01-05 04:21:00</td>\n",
       "      <td>2015-01-05 04:22:00</td>\n",
       "      <td>60</td>\n",
       "      <td>40.767808</td>\n",
       "      <td>-73.860764</td>\n",
       "      <td>40.768344</td>\n",
       "      <td>-73.861868</td>\n",
       "    </tr>\n",
       "  </tbody>\n",
       "</table>\n",
       "</div>"
      ],
      "text/plain": [
       "   type_id           starttime            stoptime  tripduration  start_lat  \\\n",
       "0     5745 2015-01-05 04:00:00 2015-01-05 04:45:00          2700  40.774810   \n",
       "1     5745 2015-01-05 04:45:00 2015-01-05 04:03:00         -2520  40.774810   \n",
       "2     5745 2015-01-05 04:03:00 2015-01-05 04:04:00            60  40.773265   \n",
       "3     5745 2015-01-05 04:04:00 2015-01-05 04:21:00          1020  40.771058   \n",
       "4     5745 2015-01-05 04:21:00 2015-01-05 04:22:00            60  40.767808   \n",
       "\n",
       "   start_lon    end_lat    end_lon  \n",
       "0 -73.884575  40.774810 -73.884575  \n",
       "1 -73.884575  40.773265 -73.886284  \n",
       "2 -73.886284  40.771058 -73.885487  \n",
       "3 -73.885487  40.767808 -73.860764  \n",
       "4 -73.860764  40.768344 -73.861868  "
      ]
     },
     "execution_count": 21,
     "metadata": {},
     "output_type": "execute_result"
    }
   ],
   "source": [
    "data.head()"
   ]
  },
  {
   "cell_type": "code",
   "execution_count": 22,
   "metadata": {
    "collapsed": false
   },
   "outputs": [
    {
     "data": {
      "text/plain": [
       "(6458, 8)"
      ]
     },
     "execution_count": 22,
     "metadata": {},
     "output_type": "execute_result"
    }
   ],
   "source": [
    "data.shape"
   ]
  },
  {
   "cell_type": "code",
   "execution_count": 23,
   "metadata": {
    "collapsed": true
   },
   "outputs": [],
   "source": [
    "data = data[data.tripduration != 0]"
   ]
  },
  {
   "cell_type": "code",
   "execution_count": 24,
   "metadata": {
    "collapsed": true
   },
   "outputs": [],
   "source": [
    "data = data[data.start_lon != 0]"
   ]
  },
  {
   "cell_type": "code",
   "execution_count": 25,
   "metadata": {
    "collapsed": true
   },
   "outputs": [],
   "source": [
    "data = data.sort_values(by='starttime')\n",
    "data = data.reset_index(drop=True)"
   ]
  },
  {
   "cell_type": "code",
   "execution_count": 26,
   "metadata": {
    "collapsed": false
   },
   "outputs": [
    {
     "data": {
      "text/plain": [
       "(5419, 8)"
      ]
     },
     "execution_count": 26,
     "metadata": {},
     "output_type": "execute_result"
    }
   ],
   "source": [
    "data.shape"
   ]
  },
  {
   "cell_type": "code",
   "execution_count": 27,
   "metadata": {
    "collapsed": true
   },
   "outputs": [],
   "source": [
    "data['type_id'] = 12 # 12 = PATH train"
   ]
  },
  {
   "cell_type": "code",
   "execution_count": 28,
   "metadata": {
    "collapsed": true
   },
   "outputs": [],
   "source": [
    "data.to_csv('path_monday_raw.csv')"
   ]
  },
  {
   "cell_type": "code",
   "execution_count": 29,
   "metadata": {
    "collapsed": false
   },
   "outputs": [
    {
     "name": "stdout",
     "output_type": "stream",
     "text": [
      ",type_id,starttime,stoptime,tripduration,start_lat,start_lon,end_lat,end_lon\n",
      "0,12,2015-01-05 00:10:00,2015-01-05 00:14:00,240,40.73301,-74.06289,40.71966,-74.04245\n",
      "1,12,2015-01-05 00:10:00,2015-01-05 00:12:00,120,40.74912,-73.98827,40.7429,-73.99278\n",
      "2,12,2015-01-05 00:12:00,2015-01-05 00:13:00,60,40.7429,-73.99278,40.73735,-73.99684\n",
      "3,12,2015-01-05 00:13:00,2015-01-05 00:14:00,60,40.73735,-73.99684,40.73424,-73.9991\n",
      "4,12,2015-01-05 00:14:00,2015-01-05 00:16:00,120,40.73424,-73.9991,40.73295,-74.00707\n",
      "5,12,2015-01-05 00:14:00,2015-01-05 00:18:00,240,40.71966,-74.04245,40.72699,-74.03383\n",
      "6,12,2015-01-05 00:16:00,2015-01-05 00:23:00,420,40.73295,-74.00707,40.73586,-74.02922\n",
      "7,12,2015-01-05 00:18:00,2015-01-05 00:20:00,120,40.72699,-74.03383,40.73586,-74.02922\n",
      "8,12,2015-01-05 00:23:00,2015-01-05 00:30:00,420,40.73586,-74.02922,40.73295,-74.00707\n"
     ]
    }
   ],
   "source": [
    "%%bash \n",
    "\n",
    "head path_monday_raw.csv"
   ]
  },
  {
   "cell_type": "code",
   "execution_count": 30,
   "metadata": {
    "collapsed": true
   },
   "outputs": [],
   "source": [
    "%%bash\n",
    "\n",
    "awk -F\",\" -v OFS=\",\" '{ $1=\"\" ; $0=substr($0,2) } 1' path_monday_raw.csv > path_monday.csv"
   ]
  },
  {
   "cell_type": "code",
   "execution_count": 31,
   "metadata": {
    "collapsed": false
   },
   "outputs": [
    {
     "name": "stdout",
     "output_type": "stream",
     "text": [
      "type_id,starttime,stoptime,tripduration,start_lat,start_lon,end_lat,end_lon\n",
      "12,2015-01-05 00:10:00,2015-01-05 00:14:00,240,40.73301,-74.06289,40.71966,-74.04245\n",
      "12,2015-01-05 00:10:00,2015-01-05 00:12:00,120,40.74912,-73.98827,40.7429,-73.99278\n",
      "12,2015-01-05 00:12:00,2015-01-05 00:13:00,60,40.7429,-73.99278,40.73735,-73.99684\n",
      "12,2015-01-05 00:13:00,2015-01-05 00:14:00,60,40.73735,-73.99684,40.73424,-73.9991\n",
      "12,2015-01-05 00:14:00,2015-01-05 00:16:00,120,40.73424,-73.9991,40.73295,-74.00707\n",
      "12,2015-01-05 00:14:00,2015-01-05 00:18:00,240,40.71966,-74.04245,40.72699,-74.03383\n",
      "12,2015-01-05 00:16:00,2015-01-05 00:23:00,420,40.73295,-74.00707,40.73586,-74.02922\n",
      "12,2015-01-05 00:18:00,2015-01-05 00:20:00,120,40.72699,-74.03383,40.73586,-74.02922\n",
      "12,2015-01-05 00:23:00,2015-01-05 00:30:00,420,40.73586,-74.02922,40.73295,-74.00707\n"
     ]
    }
   ],
   "source": [
    "%%bash \n",
    "\n",
    "head path_monday.csv"
   ]
  }
 ],
 "metadata": {
  "kernelspec": {
   "display_name": "Python [Root]",
   "language": "python",
   "name": "Python [Root]"
  },
  "language_info": {
   "codemirror_mode": {
    "name": "ipython",
    "version": 2
   },
   "file_extension": ".py",
   "mimetype": "text/x-python",
   "name": "python",
   "nbconvert_exporter": "python",
   "pygments_lexer": "ipython2",
   "version": "2.7.12"
  }
 },
 "nbformat": 4,
 "nbformat_minor": 0
}
