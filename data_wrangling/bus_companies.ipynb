{
 "cells": [
  {
   "cell_type": "markdown",
   "metadata": {},
   "source": [
    "# Visualizing Private Bus Company GTFS Data in NYC"
   ]
  },
  {
   "cell_type": "markdown",
   "metadata": {},
   "source": [
    "Data source: http://web.mta.info/developers/developer-data-terms.html#data"
   ]
  },
  {
   "cell_type": "code",
   "execution_count": 1,
   "metadata": {
    "collapsed": true
   },
   "outputs": [],
   "source": [
    "import pandas as pd\n",
    "import numpy as np\n",
    "import datetime as dt"
   ]
  },
  {
   "cell_type": "code",
   "execution_count": 2,
   "metadata": {
    "collapsed": true
   },
   "outputs": [],
   "source": [
    "agency = pd.read_csv('gtfs/agency.txt')\n",
    "calendar_dates = pd.read_csv('gtfs/calendar_dates.txt')\n",
    "calendar = pd.read_csv('gtfs/calendar.txt')\n",
    "routes = pd.read_csv('gtfs/routes.txt')\n",
    "shapes = pd.read_csv('gtfs/shapes.txt')\n",
    "stop_times = pd.read_csv('gtfs/stop_times.txt')\n",
    "stops = pd.read_csv('gtfs/stops.txt')\n",
    "trips = pd.read_csv('gtfs/trips.txt')"
   ]
  },
  {
   "cell_type": "code",
   "execution_count": 3,
   "metadata": {
    "collapsed": false
   },
   "outputs": [
    {
     "data": {
      "text/html": [
       "<div>\n",
       "<table border=\"1\" class=\"dataframe\">\n",
       "  <thead>\n",
       "    <tr style=\"text-align: right;\">\n",
       "      <th></th>\n",
       "      <th>service_id</th>\n",
       "      <th>trip_id</th>\n",
       "      <th>route_id</th>\n",
       "    </tr>\n",
       "  </thead>\n",
       "  <tbody>\n",
       "    <tr>\n",
       "      <th>0</th>\n",
       "      <td>BPPB7-BP_B7-Sunday-10</td>\n",
       "      <td>15411672-BPPB7-BP_B7-Sunday-10</td>\n",
       "      <td>Q64</td>\n",
       "    </tr>\n",
       "    <tr>\n",
       "      <th>1</th>\n",
       "      <td>BPPB7-BP_B7-Sunday-10</td>\n",
       "      <td>15411673-BPPB7-BP_B7-Sunday-10</td>\n",
       "      <td>Q64</td>\n",
       "    </tr>\n",
       "    <tr>\n",
       "      <th>2</th>\n",
       "      <td>BPPB7-BP_B7-Sunday-10</td>\n",
       "      <td>15411674-BPPB7-BP_B7-Sunday-10</td>\n",
       "      <td>Q64</td>\n",
       "    </tr>\n",
       "    <tr>\n",
       "      <th>3</th>\n",
       "      <td>BPPB7-BP_B7-Sunday-10</td>\n",
       "      <td>15411675-BPPB7-BP_B7-Sunday-10</td>\n",
       "      <td>Q64</td>\n",
       "    </tr>\n",
       "    <tr>\n",
       "      <th>4</th>\n",
       "      <td>BPPB7-BP_B7-Sunday-10</td>\n",
       "      <td>15411676-BPPB7-BP_B7-Sunday-10</td>\n",
       "      <td>Q64</td>\n",
       "    </tr>\n",
       "  </tbody>\n",
       "</table>\n",
       "</div>"
      ],
      "text/plain": [
       "              service_id                         trip_id route_id\n",
       "0  BPPB7-BP_B7-Sunday-10  15411672-BPPB7-BP_B7-Sunday-10      Q64\n",
       "1  BPPB7-BP_B7-Sunday-10  15411673-BPPB7-BP_B7-Sunday-10      Q64\n",
       "2  BPPB7-BP_B7-Sunday-10  15411674-BPPB7-BP_B7-Sunday-10      Q64\n",
       "3  BPPB7-BP_B7-Sunday-10  15411675-BPPB7-BP_B7-Sunday-10      Q64\n",
       "4  BPPB7-BP_B7-Sunday-10  15411676-BPPB7-BP_B7-Sunday-10      Q64"
      ]
     },
     "execution_count": 3,
     "metadata": {},
     "output_type": "execute_result"
    }
   ],
   "source": [
    "service_trip_id = pd.merge(calendar[['service_id']],trips[['service_id', 'trip_id', 'route_id']])\n",
    "service_trip_id.head()"
   ]
  },
  {
   "cell_type": "code",
   "execution_count": 4,
   "metadata": {
    "collapsed": false
   },
   "outputs": [
    {
     "data": {
      "text/html": [
       "<div>\n",
       "<table border=\"1\" class=\"dataframe\">\n",
       "  <thead>\n",
       "    <tr style=\"text-align: right;\">\n",
       "      <th></th>\n",
       "      <th>service_id</th>\n",
       "      <th>monday</th>\n",
       "      <th>tuesday</th>\n",
       "      <th>wednesday</th>\n",
       "      <th>thursday</th>\n",
       "      <th>friday</th>\n",
       "      <th>saturday</th>\n",
       "      <th>sunday</th>\n",
       "      <th>start_date</th>\n",
       "      <th>end_date</th>\n",
       "      <th>trip_id</th>\n",
       "      <th>route_id</th>\n",
       "    </tr>\n",
       "  </thead>\n",
       "  <tbody>\n",
       "    <tr>\n",
       "      <th>0</th>\n",
       "      <td>BPPB7-BP_B7-Sunday-10</td>\n",
       "      <td>0</td>\n",
       "      <td>0</td>\n",
       "      <td>0</td>\n",
       "      <td>0</td>\n",
       "      <td>0</td>\n",
       "      <td>0</td>\n",
       "      <td>1</td>\n",
       "      <td>20170409</td>\n",
       "      <td>20170625</td>\n",
       "      <td>15411672-BPPB7-BP_B7-Sunday-10</td>\n",
       "      <td>Q64</td>\n",
       "    </tr>\n",
       "    <tr>\n",
       "      <th>1</th>\n",
       "      <td>BPPB7-BP_B7-Sunday-10</td>\n",
       "      <td>0</td>\n",
       "      <td>0</td>\n",
       "      <td>0</td>\n",
       "      <td>0</td>\n",
       "      <td>0</td>\n",
       "      <td>0</td>\n",
       "      <td>1</td>\n",
       "      <td>20170409</td>\n",
       "      <td>20170625</td>\n",
       "      <td>15411673-BPPB7-BP_B7-Sunday-10</td>\n",
       "      <td>Q64</td>\n",
       "    </tr>\n",
       "    <tr>\n",
       "      <th>2</th>\n",
       "      <td>BPPB7-BP_B7-Sunday-10</td>\n",
       "      <td>0</td>\n",
       "      <td>0</td>\n",
       "      <td>0</td>\n",
       "      <td>0</td>\n",
       "      <td>0</td>\n",
       "      <td>0</td>\n",
       "      <td>1</td>\n",
       "      <td>20170409</td>\n",
       "      <td>20170625</td>\n",
       "      <td>15411674-BPPB7-BP_B7-Sunday-10</td>\n",
       "      <td>Q64</td>\n",
       "    </tr>\n",
       "    <tr>\n",
       "      <th>3</th>\n",
       "      <td>BPPB7-BP_B7-Sunday-10</td>\n",
       "      <td>0</td>\n",
       "      <td>0</td>\n",
       "      <td>0</td>\n",
       "      <td>0</td>\n",
       "      <td>0</td>\n",
       "      <td>0</td>\n",
       "      <td>1</td>\n",
       "      <td>20170409</td>\n",
       "      <td>20170625</td>\n",
       "      <td>15411675-BPPB7-BP_B7-Sunday-10</td>\n",
       "      <td>Q64</td>\n",
       "    </tr>\n",
       "    <tr>\n",
       "      <th>4</th>\n",
       "      <td>BPPB7-BP_B7-Sunday-10</td>\n",
       "      <td>0</td>\n",
       "      <td>0</td>\n",
       "      <td>0</td>\n",
       "      <td>0</td>\n",
       "      <td>0</td>\n",
       "      <td>0</td>\n",
       "      <td>1</td>\n",
       "      <td>20170409</td>\n",
       "      <td>20170625</td>\n",
       "      <td>15411676-BPPB7-BP_B7-Sunday-10</td>\n",
       "      <td>Q64</td>\n",
       "    </tr>\n",
       "  </tbody>\n",
       "</table>\n",
       "</div>"
      ],
      "text/plain": [
       "              service_id  monday  tuesday  wednesday  thursday  friday  \\\n",
       "0  BPPB7-BP_B7-Sunday-10       0        0          0         0       0   \n",
       "1  BPPB7-BP_B7-Sunday-10       0        0          0         0       0   \n",
       "2  BPPB7-BP_B7-Sunday-10       0        0          0         0       0   \n",
       "3  BPPB7-BP_B7-Sunday-10       0        0          0         0       0   \n",
       "4  BPPB7-BP_B7-Sunday-10       0        0          0         0       0   \n",
       "\n",
       "   saturday  sunday  start_date  end_date                         trip_id  \\\n",
       "0         0       1    20170409  20170625  15411672-BPPB7-BP_B7-Sunday-10   \n",
       "1         0       1    20170409  20170625  15411673-BPPB7-BP_B7-Sunday-10   \n",
       "2         0       1    20170409  20170625  15411674-BPPB7-BP_B7-Sunday-10   \n",
       "3         0       1    20170409  20170625  15411675-BPPB7-BP_B7-Sunday-10   \n",
       "4         0       1    20170409  20170625  15411676-BPPB7-BP_B7-Sunday-10   \n",
       "\n",
       "  route_id  \n",
       "0      Q64  \n",
       "1      Q64  \n",
       "2      Q64  \n",
       "3      Q64  \n",
       "4      Q64  "
      ]
     },
     "execution_count": 4,
     "metadata": {},
     "output_type": "execute_result"
    }
   ],
   "source": [
    "calendar = pd.merge(calendar,service_trip_id)\n",
    "calendar.head()"
   ]
  },
  {
   "cell_type": "markdown",
   "metadata": {},
   "source": [
    "### Add abritrary arrival and departure dates to timetables\n",
    "\n",
    "Define a function to add arrival dates to stop_times tables. We will use 1/5/15 as the start date because that is the date we are currently using to visualize taxi trips. This code deals with arrival times > 24 hours and converts them to 1/6/15."
   ]
  },
  {
   "cell_type": "code",
   "execution_count": 6,
   "metadata": {
    "collapsed": true
   },
   "outputs": [],
   "source": [
    "arbitrary_dates = ['1/5/2015', '1/6/2015']"
   ]
  },
  {
   "cell_type": "code",
   "execution_count": 7,
   "metadata": {
    "collapsed": true
   },
   "outputs": [],
   "source": [
    "def add_arrival_date(df, dates = arbitrary_dates):\n",
    "    df = df.copy()\n",
    "    arrival_date = []\n",
    "    arrival_time = []\n",
    "\n",
    "    for i in df['arrival_time']:\n",
    "        hour = i[:i.find(':')]\n",
    "        minute = i[i.find(':')+1:i.find(':',4)]\n",
    "        second = i[i.find(':',5)+1:]\n",
    "        \n",
    "        if int(hour) < 24:\n",
    "            arrival_date.append(dates[0])\n",
    "            arrival_time.append(i)\n",
    "        elif 24 <= int(hour) < 48:\n",
    "            arrival_date.append(dates[1])\n",
    "            hour = int(hour) - 24\n",
    "            arrival_time.append(str(hour)+\":\"+minute+\":\"+second)\n",
    "        else:\n",
    "            arrival_date.append('NA')\n",
    "            \n",
    "    df['arrival_date'] = arrival_date\n",
    "    df['arrival_time'] = arrival_time\n",
    "    return df"
   ]
  },
  {
   "cell_type": "code",
   "execution_count": 8,
   "metadata": {
    "collapsed": true
   },
   "outputs": [],
   "source": [
    "def add_departure_date(df, dates = arbitrary_dates):\n",
    "    df = df.copy()\n",
    "    departure_date = []\n",
    "    departure_time = []\n",
    "\n",
    "    for i in df['departure_time']:\n",
    "        hour = i[:i.find(':')]\n",
    "        minute = i[i.find(':')+1:i.find(':',4)]\n",
    "        second = i[i.find(':',5)+1:]\n",
    "        \n",
    "        if int(hour) < 24:\n",
    "            departure_date.append(dates[0])\n",
    "            departure_time.append(i)\n",
    "        elif 24 <= int(hour) < 48:\n",
    "            departure_date.append(dates[1])\n",
    "            hour = int(hour) - 24\n",
    "            departure_time.append(str(hour)+\":\"+minute+\":\"+second)\n",
    "        else:\n",
    "            departure_date.append('NA')\n",
    "            \n",
    "    df['departure_date'] = departure_date\n",
    "    df['departure_time'] = departure_time\n",
    "    return df"
   ]
  },
  {
   "cell_type": "code",
   "execution_count": 9,
   "metadata": {
    "collapsed": true
   },
   "outputs": [],
   "source": [
    "monday = calendar[calendar['monday'] == 1]\n",
    "tuesday = calendar[calendar['tuesday'] == 1]\n",
    "wednesday = calendar[calendar['wednesday'] == 1]\n",
    "thursday = calendar[calendar['thursday'] == 1]\n",
    "friday = calendar[calendar['friday'] == 1]\n",
    "saturday = calendar[calendar['saturday'] == 1]\n",
    "sunday = calendar[calendar['sunday'] == 1]"
   ]
  },
  {
   "cell_type": "markdown",
   "metadata": {},
   "source": [
    "## Monday"
   ]
  },
  {
   "cell_type": "code",
   "execution_count": 10,
   "metadata": {
    "collapsed": false
   },
   "outputs": [
    {
     "name": "stdout",
     "output_type": "stream",
     "text": [
      "There are  10783 trips on Monday\n"
     ]
    },
    {
     "data": {
      "text/plain": [
       "817    15408564-BPPB7-BP_B7-Weekday-10-SDon\n",
       "818    15408565-BPPB7-BP_B7-Weekday-10-SDon\n",
       "819    15408566-BPPB7-BP_B7-Weekday-10-SDon\n",
       "820    15408567-BPPB7-BP_B7-Weekday-10-SDon\n",
       "821    15408568-BPPB7-BP_B7-Weekday-10-SDon\n",
       "Name: trip_id, dtype: object"
      ]
     },
     "execution_count": 10,
     "metadata": {},
     "output_type": "execute_result"
    }
   ],
   "source": [
    "monday_trips = monday['trip_id']\n",
    "print \"There are \", len(monday_trips), \"trips on Monday\"\n",
    "monday_trips.head()"
   ]
  },
  {
   "cell_type": "code",
   "execution_count": 11,
   "metadata": {
    "collapsed": false
   },
   "outputs": [
    {
     "name": "stdout",
     "output_type": "stream",
     "text": [
      "2017-04-08 12:03:10.814570 finished trip number 100 / 10783\n",
      "2017-04-08 12:03:20.469591 finished trip number 200 / 10783\n",
      "2017-04-08 12:03:30.341038 finished trip number 300 / 10783\n",
      "2017-04-08 12:03:43.637175 finished trip number 400 / 10783\n",
      "2017-04-08 12:03:56.531381 finished trip number 500 / 10783\n",
      "2017-04-08 12:04:09.072302 finished trip number 600 / 10783\n",
      "2017-04-08 12:04:20.430129 finished trip number 700 / 10783\n",
      "2017-04-08 12:04:30.994823 finished trip number 800 / 10783\n",
      "2017-04-08 12:04:42.460349 finished trip number 900 / 10783\n",
      "2017-04-08 12:04:52.728138 finished trip number 1000 / 10783\n",
      "2017-04-08 12:05:03.373361 finished trip number 1100 / 10783\n",
      "2017-04-08 12:05:14.630538 finished trip number 1200 / 10783\n",
      "2017-04-08 12:05:26.383442 finished trip number 1300 / 10783\n",
      "2017-04-08 12:05:36.865267 finished trip number 1400 / 10783\n",
      "2017-04-08 12:05:48.966804 finished trip number 1500 / 10783\n",
      "2017-04-08 12:06:00.787077 finished trip number 1600 / 10783\n",
      "2017-04-08 12:06:12.081417 finished trip number 1700 / 10783\n",
      "2017-04-08 12:06:22.682476 finished trip number 1800 / 10783\n",
      "2017-04-08 12:06:34.937693 finished trip number 1900 / 10783\n",
      "2017-04-08 12:06:47.919887 finished trip number 2000 / 10783\n",
      "2017-04-08 12:07:01.173234 finished trip number 2100 / 10783\n",
      "2017-04-08 12:07:13.089396 finished trip number 2200 / 10783\n",
      "2017-04-08 12:07:26.053541 finished trip number 2300 / 10783\n",
      "2017-04-08 12:07:39.613004 finished trip number 2400 / 10783\n",
      "2017-04-08 12:07:51.582086 finished trip number 2500 / 10783\n",
      "2017-04-08 12:08:03.032047 finished trip number 2600 / 10783\n",
      "2017-04-08 12:08:15.175139 finished trip number 2700 / 10783\n",
      "2017-04-08 12:08:26.477817 finished trip number 2800 / 10783\n",
      "2017-04-08 12:08:36.988971 finished trip number 2900 / 10783\n",
      "2017-04-08 12:08:50.296059 finished trip number 3000 / 10783\n",
      "2017-04-08 12:09:01.450934 finished trip number 3100 / 10783\n",
      "2017-04-08 12:09:11.404717 finished trip number 3200 / 10783\n",
      "2017-04-08 12:09:23.082652 finished trip number 3300 / 10783\n",
      "2017-04-08 12:09:34.247287 finished trip number 3400 / 10783\n",
      "2017-04-08 12:09:45.719678 finished trip number 3500 / 10783\n",
      "2017-04-08 12:09:57.948180 finished trip number 3600 / 10783\n",
      "2017-04-08 12:10:08.556479 finished trip number 3700 / 10783\n",
      "2017-04-08 12:10:18.466343 finished trip number 3800 / 10783\n",
      "2017-04-08 12:10:28.884609 finished trip number 3900 / 10783\n",
      "2017-04-08 12:10:39.034364 finished trip number 4000 / 10783\n",
      "2017-04-08 12:10:48.694705 finished trip number 4100 / 10783\n",
      "2017-04-08 12:10:59.301636 finished trip number 4200 / 10783\n",
      "2017-04-08 12:11:09.132950 finished trip number 4300 / 10783\n",
      "2017-04-08 12:11:21.330629 finished trip number 4400 / 10783\n",
      "2017-04-08 12:11:35.997887 finished trip number 4500 / 10783\n",
      "2017-04-08 12:11:47.535162 finished trip number 4600 / 10783\n",
      "2017-04-08 12:11:59.123657 finished trip number 4700 / 10783\n",
      "2017-04-08 12:12:12.372046 finished trip number 4800 / 10783\n",
      "2017-04-08 12:12:25.050453 finished trip number 4900 / 10783\n",
      "2017-04-08 12:12:37.915741 finished trip number 5000 / 10783\n",
      "2017-04-08 12:12:50.987249 finished trip number 5100 / 10783\n",
      "2017-04-08 12:13:03.271189 finished trip number 5200 / 10783\n",
      "2017-04-08 12:13:13.940281 finished trip number 5300 / 10783\n",
      "2017-04-08 12:13:25.328411 finished trip number 5400 / 10783\n",
      "2017-04-08 12:13:36.497773 finished trip number 5500 / 10783\n",
      "2017-04-08 12:13:49.671262 finished trip number 5600 / 10783\n",
      "2017-04-08 12:14:07.321749 finished trip number 5700 / 10783\n",
      "2017-04-08 12:14:20.167612 finished trip number 5800 / 10783\n",
      "2017-04-08 12:14:34.113061 finished trip number 5900 / 10783\n",
      "2017-04-08 12:14:51.630503 finished trip number 6000 / 10783\n",
      "2017-04-08 12:15:03.676406 finished trip number 6100 / 10783\n",
      "2017-04-08 12:15:15.515299 finished trip number 6200 / 10783\n",
      "2017-04-08 12:15:27.128595 finished trip number 6300 / 10783\n",
      "2017-04-08 12:15:36.675042 finished trip number 6400 / 10783\n",
      "2017-04-08 12:15:45.822162 finished trip number 6500 / 10783\n",
      "2017-04-08 12:15:57.419946 finished trip number 6600 / 10783\n",
      "2017-04-08 12:16:07.535785 finished trip number 6700 / 10783\n",
      "2017-04-08 12:16:17.210750 finished trip number 6800 / 10783\n",
      "2017-04-08 12:16:26.817147 finished trip number 6900 / 10783\n",
      "2017-04-08 12:16:37.343749 finished trip number 7000 / 10783\n",
      "2017-04-08 12:16:47.330302 finished trip number 7100 / 10783\n",
      "2017-04-08 12:16:57.813522 finished trip number 7200 / 10783\n",
      "2017-04-08 12:17:07.840938 finished trip number 7300 / 10783\n",
      "2017-04-08 12:17:19.071255 finished trip number 7400 / 10783\n",
      "2017-04-08 12:17:30.956719 finished trip number 7500 / 10783\n",
      "2017-04-08 12:17:42.986327 finished trip number 7600 / 10783\n",
      "2017-04-08 12:17:56.140836 finished trip number 7700 / 10783\n",
      "2017-04-08 12:18:09.472276 finished trip number 7800 / 10783\n",
      "2017-04-08 12:18:20.713464 finished trip number 7900 / 10783\n",
      "2017-04-08 12:18:31.396009 finished trip number 8000 / 10783\n",
      "2017-04-08 12:18:41.541566 finished trip number 8100 / 10783\n",
      "2017-04-08 12:18:52.962497 finished trip number 8200 / 10783\n",
      "2017-04-08 12:19:06.651643 finished trip number 8300 / 10783\n",
      "2017-04-08 12:19:18.330364 finished trip number 8400 / 10783\n",
      "2017-04-08 12:19:30.717134 finished trip number 8500 / 10783\n",
      "2017-04-08 12:19:40.667100 finished trip number 8600 / 10783\n",
      "2017-04-08 12:19:50.987223 finished trip number 8700 / 10783\n",
      "2017-04-08 12:20:00.310497 finished trip number 8800 / 10783\n",
      "2017-04-08 12:20:09.686210 finished trip number 8900 / 10783\n",
      "2017-04-08 12:20:21.250911 finished trip number 9000 / 10783\n",
      "2017-04-08 12:20:33.445783 finished trip number 9100 / 10783\n",
      "2017-04-08 12:20:43.717924 finished trip number 9200 / 10783\n",
      "2017-04-08 12:20:55.526955 finished trip number 9300 / 10783\n",
      "2017-04-08 12:21:08.780156 finished trip number 9400 / 10783\n",
      "2017-04-08 12:21:20.616423 finished trip number 9500 / 10783\n",
      "2017-04-08 12:21:33.313889 finished trip number 9600 / 10783\n",
      "2017-04-08 12:21:44.831992 finished trip number 9700 / 10783\n",
      "2017-04-08 12:21:56.139470 finished trip number 9800 / 10783\n",
      "2017-04-08 12:22:07.549669 finished trip number 9900 / 10783\n",
      "2017-04-08 12:22:18.556626 finished trip number 10000 / 10783\n",
      "2017-04-08 12:22:29.850897 finished trip number 10100 / 10783\n",
      "2017-04-08 12:22:41.450122 finished trip number 10200 / 10783\n",
      "2017-04-08 12:22:52.318597 finished trip number 10300 / 10783\n",
      "2017-04-08 12:23:05.365106 finished trip number 10400 / 10783\n",
      "2017-04-08 12:23:16.956816 finished trip number 10500 / 10783\n",
      "2017-04-08 12:23:28.487430 finished trip number 10600 / 10783\n",
      "2017-04-08 12:23:44.331746 finished trip number 10700 / 10783\n"
     ]
    }
   ],
   "source": [
    "triplist = []\n",
    "count = 0\n",
    "\n",
    "for i in monday_trips:\n",
    "    count += 1\n",
    "    df = stop_times[stop_times['trip_id'] == i]\n",
    "    \n",
    "    # add arrival and departure dates\n",
    "    df = add_arrival_date(df, dates = arbitrary_dates)\n",
    "    df = add_departure_date(df, dates = arbitrary_dates)\n",
    "    df['arrival_datetime'] = pd.to_datetime(df['arrival_date'] + ' ' + df['arrival_time'])\n",
    "    df['departure_datetime'] = pd.to_datetime(df['departure_date'] + ' ' + df['departure_time'])\n",
    "\n",
    "    # join df with stops\n",
    "    df = pd.merge(df, stops[['stop_id', 'stop_name', 'stop_lat', 'stop_lon']],left_on='stop_id', right_on='stop_id')\n",
    "\n",
    "    # join df with trips to get direction and route id\n",
    "    try:\n",
    "        df = pd.merge(df, trips[['trip_id', 'direction_id', 'route_id']], left_on='trip_id', right_on='trip_id', how='left')\n",
    "    except:\n",
    "        df = pd.merge(df, trips[['trip_id', 'route_id']], left_on='trip_id', right_on='trip_id', how='left')\n",
    "    \n",
    "    # join df with routes to get route id\n",
    "    df = pd.merge(df, routes[['route_id', 'route_long_name']], left_on='route_id', right_on='route_id', how='left')\n",
    "    \n",
    "    # create new dataframe to store results\n",
    "    legs = pd.DataFrame()\n",
    "    legs['type_id'] = df['route_id']\n",
    "    legs['starttime'] = df['departure_datetime']\n",
    "    legs['stoptime'] = df['arrival_datetime'].shift(-1).fillna(method='ffill')\n",
    "    legs['tripduration'] = ((legs['stoptime'] - legs['starttime'])/np.timedelta64(1, 's')).astype(int)\n",
    "    legs['start_lat'] = df['stop_lat']\n",
    "    legs['start_lon'] = df['stop_lon']\n",
    "    legs['end_lat'] = legs['start_lat'].shift(-1).fillna(method='ffill')\n",
    "    legs['end_lon'] = legs['start_lon'].shift(-1).fillna(method='ffill')\n",
    "    \n",
    "    # append results to triplist\n",
    "    triplist.append(legs)\n",
    "    \n",
    "    if count % 100 == 0:\n",
    "        print str(dt.datetime.now()), \"finished trip number\", count, \"/\", len(monday_trips)"
   ]
  },
  {
   "cell_type": "code",
   "execution_count": 12,
   "metadata": {
    "collapsed": false
   },
   "outputs": [
    {
     "data": {
      "text/html": [
       "<div>\n",
       "<table border=\"1\" class=\"dataframe\">\n",
       "  <thead>\n",
       "    <tr style=\"text-align: right;\">\n",
       "      <th></th>\n",
       "      <th>type_id</th>\n",
       "      <th>starttime</th>\n",
       "      <th>stoptime</th>\n",
       "      <th>tripduration</th>\n",
       "      <th>start_lat</th>\n",
       "      <th>start_lon</th>\n",
       "      <th>end_lat</th>\n",
       "      <th>end_lon</th>\n",
       "    </tr>\n",
       "  </thead>\n",
       "  <tbody>\n",
       "    <tr>\n",
       "      <th>0</th>\n",
       "      <td>Q64</td>\n",
       "      <td>2015-01-05 00:00:00</td>\n",
       "      <td>2015-01-05 00:00:29</td>\n",
       "      <td>29</td>\n",
       "      <td>40.731841</td>\n",
       "      <td>-73.805384</td>\n",
       "      <td>40.732107</td>\n",
       "      <td>-73.808141</td>\n",
       "    </tr>\n",
       "    <tr>\n",
       "      <th>1</th>\n",
       "      <td>Q64</td>\n",
       "      <td>2015-01-05 00:00:29</td>\n",
       "      <td>2015-01-05 00:01:00</td>\n",
       "      <td>31</td>\n",
       "      <td>40.732107</td>\n",
       "      <td>-73.808141</td>\n",
       "      <td>40.732469</td>\n",
       "      <td>-73.811062</td>\n",
       "    </tr>\n",
       "    <tr>\n",
       "      <th>2</th>\n",
       "      <td>Q64</td>\n",
       "      <td>2015-01-05 00:01:00</td>\n",
       "      <td>2015-01-05 00:01:24</td>\n",
       "      <td>24</td>\n",
       "      <td>40.732469</td>\n",
       "      <td>-73.811062</td>\n",
       "      <td>40.732236</td>\n",
       "      <td>-73.812835</td>\n",
       "    </tr>\n",
       "    <tr>\n",
       "      <th>3</th>\n",
       "      <td>Q64</td>\n",
       "      <td>2015-01-05 00:01:24</td>\n",
       "      <td>2015-01-05 00:01:58</td>\n",
       "      <td>34</td>\n",
       "      <td>40.732236</td>\n",
       "      <td>-73.812835</td>\n",
       "      <td>40.732135</td>\n",
       "      <td>-73.815248</td>\n",
       "    </tr>\n",
       "    <tr>\n",
       "      <th>4</th>\n",
       "      <td>Q64</td>\n",
       "      <td>2015-01-05 00:01:58</td>\n",
       "      <td>2015-01-05 00:02:33</td>\n",
       "      <td>35</td>\n",
       "      <td>40.732135</td>\n",
       "      <td>-73.815248</td>\n",
       "      <td>40.731808</td>\n",
       "      <td>-73.817786</td>\n",
       "    </tr>\n",
       "  </tbody>\n",
       "</table>\n",
       "</div>"
      ],
      "text/plain": [
       "  type_id           starttime            stoptime  tripduration  start_lat  \\\n",
       "0     Q64 2015-01-05 00:00:00 2015-01-05 00:00:29            29  40.731841   \n",
       "1     Q64 2015-01-05 00:00:29 2015-01-05 00:01:00            31  40.732107   \n",
       "2     Q64 2015-01-05 00:01:00 2015-01-05 00:01:24            24  40.732469   \n",
       "3     Q64 2015-01-05 00:01:24 2015-01-05 00:01:58            34  40.732236   \n",
       "4     Q64 2015-01-05 00:01:58 2015-01-05 00:02:33            35  40.732135   \n",
       "\n",
       "   start_lon    end_lat    end_lon  \n",
       "0 -73.805384  40.732107 -73.808141  \n",
       "1 -73.808141  40.732469 -73.811062  \n",
       "2 -73.811062  40.732236 -73.812835  \n",
       "3 -73.812835  40.732135 -73.815248  \n",
       "4 -73.815248  40.731808 -73.817786  "
      ]
     },
     "execution_count": 12,
     "metadata": {},
     "output_type": "execute_result"
    }
   ],
   "source": [
    "triplist[0].head()"
   ]
  },
  {
   "cell_type": "code",
   "execution_count": 13,
   "metadata": {
    "collapsed": false
   },
   "outputs": [
    {
     "data": {
      "text/plain": [
       "10783"
      ]
     },
     "execution_count": 13,
     "metadata": {},
     "output_type": "execute_result"
    }
   ],
   "source": [
    "len(triplist)"
   ]
  },
  {
   "cell_type": "code",
   "execution_count": 14,
   "metadata": {
    "collapsed": true
   },
   "outputs": [],
   "source": [
    "data = pd.concat(triplist)"
   ]
  },
  {
   "cell_type": "code",
   "execution_count": 15,
   "metadata": {
    "collapsed": true
   },
   "outputs": [],
   "source": [
    "data = data[data.tripduration != 0]"
   ]
  },
  {
   "cell_type": "code",
   "execution_count": 16,
   "metadata": {
    "collapsed": true
   },
   "outputs": [],
   "source": [
    "data = data[data.start_lon != 0]"
   ]
  },
  {
   "cell_type": "code",
   "execution_count": 17,
   "metadata": {
    "collapsed": true
   },
   "outputs": [],
   "source": [
    "data = data.sort_values(by='starttime')\n",
    "data = data.reset_index(drop=True)"
   ]
  },
  {
   "cell_type": "code",
   "execution_count": 18,
   "metadata": {
    "collapsed": false
   },
   "outputs": [
    {
     "data": {
      "text/plain": [
       "(340895, 8)"
      ]
     },
     "execution_count": 18,
     "metadata": {},
     "output_type": "execute_result"
    }
   ],
   "source": [
    "data.shape"
   ]
  },
  {
   "cell_type": "code",
   "execution_count": 19,
   "metadata": {
    "collapsed": true
   },
   "outputs": [],
   "source": [
    "data['type_id'] = 13 # 13 = bus company"
   ]
  },
  {
   "cell_type": "code",
   "execution_count": 20,
   "metadata": {
    "collapsed": true
   },
   "outputs": [],
   "source": [
    "data.to_csv('bus_company_monday_raw.csv')"
   ]
  },
  {
   "cell_type": "code",
   "execution_count": 21,
   "metadata": {
    "collapsed": false
   },
   "outputs": [
    {
     "name": "stdout",
     "output_type": "stream",
     "text": [
      ",type_id,starttime,stoptime,tripduration,start_lat,start_lon,end_lat,end_lon\n",
      "0,13,2015-01-05 00:00:00,2015-01-05 00:00:29,29,40.731841,-73.805384,40.732107,-73.808141\n",
      "1,13,2015-01-05 00:00:00,2015-01-05 00:01:11,71,40.773573,-73.89329,40.772406,-73.895761\n",
      "2,13,2015-01-05 00:00:00,2015-01-05 00:00:09,9,40.770302,-73.875496,40.770078,-73.876107\n",
      "3,13,2015-01-05 00:00:00,2015-01-05 00:01:15,75,40.759351,-73.830739,40.762739,-73.831742\n",
      "4,13,2015-01-05 00:00:00,2015-01-05 00:04:00,240,40.745603,-73.902741,40.746288,-73.890604\n",
      "5,13,2015-01-05 00:00:00,2015-01-05 00:01:03,63,40.746637,-73.890854,40.74704,-73.889365\n",
      "6,13,2015-01-05 00:00:00,2015-01-05 00:04:00,240,40.745696,-73.902305,40.746515,-73.890689\n",
      "7,13,2015-01-05 00:00:09,2015-01-05 00:00:32,23,40.770078,-73.876107,40.768294,-73.87641\n",
      "8,13,2015-01-05 00:00:29,2015-01-05 00:01:00,31,40.732107,-73.808141,40.732469,-73.811062\n"
     ]
    }
   ],
   "source": [
    "%%bash \n",
    "\n",
    "head bus_company_monday_raw.csv"
   ]
  },
  {
   "cell_type": "code",
   "execution_count": 22,
   "metadata": {
    "collapsed": true
   },
   "outputs": [],
   "source": [
    "%%bash\n",
    "\n",
    "awk -F\",\" -v OFS=\",\" '{ $1=\"\" ; $0=substr($0,2) } 1' bus_company_monday_raw.csv > bus_company_monday.csv"
   ]
  },
  {
   "cell_type": "code",
   "execution_count": 23,
   "metadata": {
    "collapsed": false
   },
   "outputs": [
    {
     "name": "stdout",
     "output_type": "stream",
     "text": [
      "type_id,starttime,stoptime,tripduration,start_lat,start_lon,end_lat,end_lon\n",
      "13,2015-01-05 00:00:00,2015-01-05 00:00:29,29,40.731841,-73.805384,40.732107,-73.808141\n",
      "13,2015-01-05 00:00:00,2015-01-05 00:01:11,71,40.773573,-73.89329,40.772406,-73.895761\n",
      "13,2015-01-05 00:00:00,2015-01-05 00:00:09,9,40.770302,-73.875496,40.770078,-73.876107\n",
      "13,2015-01-05 00:00:00,2015-01-05 00:01:15,75,40.759351,-73.830739,40.762739,-73.831742\n",
      "13,2015-01-05 00:00:00,2015-01-05 00:04:00,240,40.745603,-73.902741,40.746288,-73.890604\n",
      "13,2015-01-05 00:00:00,2015-01-05 00:01:03,63,40.746637,-73.890854,40.74704,-73.889365\n",
      "13,2015-01-05 00:00:00,2015-01-05 00:04:00,240,40.745696,-73.902305,40.746515,-73.890689\n",
      "13,2015-01-05 00:00:09,2015-01-05 00:00:32,23,40.770078,-73.876107,40.768294,-73.87641\n",
      "13,2015-01-05 00:00:29,2015-01-05 00:01:00,31,40.732107,-73.808141,40.732469,-73.811062\n"
     ]
    }
   ],
   "source": [
    "%%bash \n",
    "\n",
    "head bus_company_monday.csv"
   ]
  }
 ],
 "metadata": {
  "anaconda-cloud": {},
  "kernelspec": {
   "display_name": "Python [Root]",
   "language": "python",
   "name": "Python [Root]"
  },
  "language_info": {
   "codemirror_mode": {
    "name": "ipython",
    "version": 2
   },
   "file_extension": ".py",
   "mimetype": "text/x-python",
   "name": "python",
   "nbconvert_exporter": "python",
   "pygments_lexer": "ipython2",
   "version": "2.7.12"
  }
 },
 "nbformat": 4,
 "nbformat_minor": 0
}
