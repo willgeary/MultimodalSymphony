{
 "cells": [
  {
   "cell_type": "code",
   "execution_count": 18,
   "metadata": {
    "collapsed": true
   },
   "outputs": [],
   "source": [
    "import pandas as pd\n",
    "from datetime import datetime, timedelta"
   ]
  },
  {
   "cell_type": "code",
   "execution_count": 5,
   "metadata": {
    "collapsed": false
   },
   "outputs": [
    {
     "data": {
      "text/html": [
       "<div>\n",
       "<table border=\"1\" class=\"dataframe\">\n",
       "  <thead>\n",
       "    <tr style=\"text-align: right;\">\n",
       "      <th></th>\n",
       "      <th>starttime</th>\n",
       "      <th>stoptime</th>\n",
       "      <th>tripduration</th>\n",
       "      <th>start station id</th>\n",
       "      <th>start station name</th>\n",
       "      <th>start station latitude</th>\n",
       "      <th>start station longitude</th>\n",
       "      <th>end station id</th>\n",
       "      <th>end station name</th>\n",
       "      <th>end station latitude</th>\n",
       "      <th>end station longitude</th>\n",
       "      <th>route_id</th>\n",
       "      <th>direction</th>\n",
       "      <th>trainName</th>\n",
       "      <th>trainNumber</th>\n",
       "      <th>Region</th>\n",
       "      <th>Train</th>\n",
       "      <th>RegionNumber</th>\n",
       "      <th>TrainNumber</th>\n",
       "    </tr>\n",
       "  </thead>\n",
       "  <tbody>\n",
       "    <tr>\n",
       "      <th>0</th>\n",
       "      <td>1/4/16 3:15</td>\n",
       "      <td>1/4/16 3:39</td>\n",
       "      <td>1440</td>\n",
       "      <td>WAS</td>\n",
       "      <td>Washington Union Station</td>\n",
       "      <td>38.896993</td>\n",
       "      <td>-77.006422</td>\n",
       "      <td>BWI</td>\n",
       "      <td>BWI Marshall Airport Amtrak</td>\n",
       "      <td>39.192362</td>\n",
       "      <td>-76.6943</td>\n",
       "      <td>1</td>\n",
       "      <td>0</td>\n",
       "      <td>Northeast Regional</td>\n",
       "      <td>190</td>\n",
       "      <td>Northeast Corridor</td>\n",
       "      <td>Northeast Regional</td>\n",
       "      <td>1</td>\n",
       "      <td>2</td>\n",
       "    </tr>\n",
       "    <tr>\n",
       "      <th>1</th>\n",
       "      <td>1/4/16 3:15</td>\n",
       "      <td>1/4/16 3:39</td>\n",
       "      <td>1440</td>\n",
       "      <td>WAS</td>\n",
       "      <td>Washington Union Station</td>\n",
       "      <td>38.896993</td>\n",
       "      <td>-77.006422</td>\n",
       "      <td>BWI</td>\n",
       "      <td>BWI Marshall Airport Amtrak</td>\n",
       "      <td>39.192362</td>\n",
       "      <td>-76.6943</td>\n",
       "      <td>1</td>\n",
       "      <td>0</td>\n",
       "      <td>Northeast Regional</td>\n",
       "      <td>190</td>\n",
       "      <td>Northeast Corridor</td>\n",
       "      <td>Northeast Regional</td>\n",
       "      <td>1</td>\n",
       "      <td>2</td>\n",
       "    </tr>\n",
       "  </tbody>\n",
       "</table>\n",
       "</div>"
      ],
      "text/plain": [
       "     starttime     stoptime  tripduration start station id  \\\n",
       "0  1/4/16 3:15  1/4/16 3:39          1440              WAS   \n",
       "1  1/4/16 3:15  1/4/16 3:39          1440              WAS   \n",
       "\n",
       "         start station name  start station latitude  start station longitude  \\\n",
       "0  Washington Union Station               38.896993               -77.006422   \n",
       "1  Washington Union Station               38.896993               -77.006422   \n",
       "\n",
       "  end station id             end station name  end station latitude  \\\n",
       "0            BWI  BWI Marshall Airport Amtrak             39.192362   \n",
       "1            BWI  BWI Marshall Airport Amtrak             39.192362   \n",
       "\n",
       "   end station longitude  route_id  direction           trainName  \\\n",
       "0               -76.6943         1          0  Northeast Regional   \n",
       "1               -76.6943         1          0  Northeast Regional   \n",
       "\n",
       "   trainNumber              Region               Train  RegionNumber  \\\n",
       "0          190  Northeast Corridor  Northeast Regional             1   \n",
       "1          190  Northeast Corridor  Northeast Regional             1   \n",
       "\n",
       "   TrainNumber  \n",
       "0            2  \n",
       "1            2  "
      ]
     },
     "execution_count": 5,
     "metadata": {},
     "output_type": "execute_result"
    }
   ],
   "source": [
    "df = pd.read_csv(\"data/trips.csv\")\n",
    "df.head(2)"
   ]
  },
  {
   "cell_type": "code",
   "execution_count": 6,
   "metadata": {
    "collapsed": true
   },
   "outputs": [],
   "source": [
    "# id 11 = amtrak\n",
    "df['type_id'] = 11"
   ]
  },
  {
   "cell_type": "code",
   "execution_count": 7,
   "metadata": {
    "collapsed": true
   },
   "outputs": [],
   "source": [
    "df.starttime = pd.to_datetime(df.starttime)"
   ]
  },
  {
   "cell_type": "code",
   "execution_count": 8,
   "metadata": {
    "collapsed": true
   },
   "outputs": [],
   "source": [
    "df.stoptime = pd.to_datetime(df.stoptime)"
   ]
  },
  {
   "cell_type": "code",
   "execution_count": 11,
   "metadata": {
    "collapsed": false
   },
   "outputs": [],
   "source": [
    "df['tripduration'] = df['tripduration'].astype(int)"
   ]
  },
  {
   "cell_type": "code",
   "execution_count": 12,
   "metadata": {
    "collapsed": true
   },
   "outputs": [],
   "source": [
    "df['start_lat'] = df['start station latitude'].astype(float)\n",
    "df['start_lon'] = df['start station longitude'].astype(float)\n",
    "df['end_lat'] = df['end station latitude'].astype(float)\n",
    "df['end_lon'] = df['end station longitude'].astype(float)"
   ]
  },
  {
   "cell_type": "code",
   "execution_count": 13,
   "metadata": {
    "collapsed": false
   },
   "outputs": [
    {
     "data": {
      "text/plain": [
       "starttime                  datetime64[ns]\n",
       "stoptime                   datetime64[ns]\n",
       "tripduration                        int64\n",
       "start station id                   object\n",
       "start station name                 object\n",
       "start station latitude            float64\n",
       "start station longitude           float64\n",
       "end station id                     object\n",
       "end station name                   object\n",
       "end station latitude              float64\n",
       "end station longitude             float64\n",
       "route_id                            int64\n",
       "direction                           int64\n",
       "trainName                          object\n",
       "trainNumber                         int64\n",
       "Region                             object\n",
       "Train                              object\n",
       "RegionNumber                        int64\n",
       "TrainNumber                         int64\n",
       "type_id                             int64\n",
       "start_lat                         float64\n",
       "start_lon                         float64\n",
       "end_lat                           float64\n",
       "end_lon                           float64\n",
       "dtype: object"
      ]
     },
     "execution_count": 13,
     "metadata": {},
     "output_type": "execute_result"
    }
   ],
   "source": [
    "df.dtypes"
   ]
  },
  {
   "cell_type": "code",
   "execution_count": 38,
   "metadata": {
    "collapsed": true
   },
   "outputs": [],
   "source": [
    "output = df[['type_id','starttime','stoptime','tripduration','start_lat','start_lon','end_lat','end_lon']]"
   ]
  },
  {
   "cell_type": "code",
   "execution_count": 39,
   "metadata": {
    "collapsed": false
   },
   "outputs": [
    {
     "data": {
      "text/html": [
       "<div>\n",
       "<table border=\"1\" class=\"dataframe\">\n",
       "  <thead>\n",
       "    <tr style=\"text-align: right;\">\n",
       "      <th></th>\n",
       "      <th>type_id</th>\n",
       "      <th>starttime</th>\n",
       "      <th>stoptime</th>\n",
       "      <th>tripduration</th>\n",
       "      <th>start_lat</th>\n",
       "      <th>start_lon</th>\n",
       "      <th>end_lat</th>\n",
       "      <th>end_lon</th>\n",
       "    </tr>\n",
       "  </thead>\n",
       "  <tbody>\n",
       "    <tr>\n",
       "      <th>0</th>\n",
       "      <td>11</td>\n",
       "      <td>2016-01-04 03:15:00</td>\n",
       "      <td>2016-01-04 03:39:00</td>\n",
       "      <td>1440</td>\n",
       "      <td>38.896993</td>\n",
       "      <td>-77.006422</td>\n",
       "      <td>39.192362</td>\n",
       "      <td>-76.6943</td>\n",
       "    </tr>\n",
       "    <tr>\n",
       "      <th>1</th>\n",
       "      <td>11</td>\n",
       "      <td>2016-01-04 03:15:00</td>\n",
       "      <td>2016-01-04 03:39:00</td>\n",
       "      <td>1440</td>\n",
       "      <td>38.896993</td>\n",
       "      <td>-77.006422</td>\n",
       "      <td>39.192362</td>\n",
       "      <td>-76.6943</td>\n",
       "    </tr>\n",
       "    <tr>\n",
       "      <th>2</th>\n",
       "      <td>11</td>\n",
       "      <td>2016-01-04 03:15:00</td>\n",
       "      <td>2016-01-04 03:39:00</td>\n",
       "      <td>1440</td>\n",
       "      <td>38.896993</td>\n",
       "      <td>-77.006422</td>\n",
       "      <td>39.192362</td>\n",
       "      <td>-76.6943</td>\n",
       "    </tr>\n",
       "    <tr>\n",
       "      <th>3</th>\n",
       "      <td>11</td>\n",
       "      <td>2016-01-04 03:15:00</td>\n",
       "      <td>2016-01-04 03:39:00</td>\n",
       "      <td>1440</td>\n",
       "      <td>38.896993</td>\n",
       "      <td>-77.006422</td>\n",
       "      <td>39.192362</td>\n",
       "      <td>-76.6943</td>\n",
       "    </tr>\n",
       "    <tr>\n",
       "      <th>4</th>\n",
       "      <td>11</td>\n",
       "      <td>2016-01-04 03:15:00</td>\n",
       "      <td>2016-01-04 03:38:00</td>\n",
       "      <td>1380</td>\n",
       "      <td>38.896993</td>\n",
       "      <td>-77.006422</td>\n",
       "      <td>39.192362</td>\n",
       "      <td>-76.6943</td>\n",
       "    </tr>\n",
       "  </tbody>\n",
       "</table>\n",
       "</div>"
      ],
      "text/plain": [
       "   type_id           starttime            stoptime  tripduration  start_lat  \\\n",
       "0       11 2016-01-04 03:15:00 2016-01-04 03:39:00          1440  38.896993   \n",
       "1       11 2016-01-04 03:15:00 2016-01-04 03:39:00          1440  38.896993   \n",
       "2       11 2016-01-04 03:15:00 2016-01-04 03:39:00          1440  38.896993   \n",
       "3       11 2016-01-04 03:15:00 2016-01-04 03:39:00          1440  38.896993   \n",
       "4       11 2016-01-04 03:15:00 2016-01-04 03:38:00          1380  38.896993   \n",
       "\n",
       "   start_lon    end_lat  end_lon  \n",
       "0 -77.006422  39.192362 -76.6943  \n",
       "1 -77.006422  39.192362 -76.6943  \n",
       "2 -77.006422  39.192362 -76.6943  \n",
       "3 -77.006422  39.192362 -76.6943  \n",
       "4 -77.006422  39.192362 -76.6943  "
      ]
     },
     "execution_count": 39,
     "metadata": {},
     "output_type": "execute_result"
    }
   ],
   "source": [
    "output.head()"
   ]
  },
  {
   "cell_type": "markdown",
   "metadata": {},
   "source": [
    "Substitute 2016-01-04 with 2015-01-05 and\n",
    "\n",
    "Substitute 2016-01-05 with 2015-01-06"
   ]
  },
  {
   "cell_type": "code",
   "execution_count": 40,
   "metadata": {
    "collapsed": false
   },
   "outputs": [],
   "source": [
    "output.starttime = output.starttime.copy() - timedelta(days=364)"
   ]
  },
  {
   "cell_type": "code",
   "execution_count": 41,
   "metadata": {
    "collapsed": true
   },
   "outputs": [],
   "source": [
    "output.stoptime = output.stoptime.copy() - timedelta(days=364)"
   ]
  },
  {
   "cell_type": "code",
   "execution_count": 42,
   "metadata": {
    "collapsed": true
   },
   "outputs": [],
   "source": [
    "output = output[output.starttime > pd.to_datetime('2015-01-05 00:00:00')]\n",
    "output = output[output.starttime < pd.to_datetime('2015-01-06 04:00:00')]"
   ]
  },
  {
   "cell_type": "code",
   "execution_count": 43,
   "metadata": {
    "collapsed": false
   },
   "outputs": [
    {
     "data": {
      "text/html": [
       "<div>\n",
       "<table border=\"1\" class=\"dataframe\">\n",
       "  <thead>\n",
       "    <tr style=\"text-align: right;\">\n",
       "      <th></th>\n",
       "      <th>type_id</th>\n",
       "      <th>starttime</th>\n",
       "      <th>stoptime</th>\n",
       "      <th>tripduration</th>\n",
       "      <th>start_lat</th>\n",
       "      <th>start_lon</th>\n",
       "      <th>end_lat</th>\n",
       "      <th>end_lon</th>\n",
       "    </tr>\n",
       "  </thead>\n",
       "  <tbody>\n",
       "    <tr>\n",
       "      <th>0</th>\n",
       "      <td>11</td>\n",
       "      <td>2015-01-05 03:15:00</td>\n",
       "      <td>2015-01-05 03:39:00</td>\n",
       "      <td>1440</td>\n",
       "      <td>38.896993</td>\n",
       "      <td>-77.006422</td>\n",
       "      <td>39.192362</td>\n",
       "      <td>-76.6943</td>\n",
       "    </tr>\n",
       "    <tr>\n",
       "      <th>1</th>\n",
       "      <td>11</td>\n",
       "      <td>2015-01-05 03:15:00</td>\n",
       "      <td>2015-01-05 03:39:00</td>\n",
       "      <td>1440</td>\n",
       "      <td>38.896993</td>\n",
       "      <td>-77.006422</td>\n",
       "      <td>39.192362</td>\n",
       "      <td>-76.6943</td>\n",
       "    </tr>\n",
       "    <tr>\n",
       "      <th>2</th>\n",
       "      <td>11</td>\n",
       "      <td>2015-01-05 03:15:00</td>\n",
       "      <td>2015-01-05 03:39:00</td>\n",
       "      <td>1440</td>\n",
       "      <td>38.896993</td>\n",
       "      <td>-77.006422</td>\n",
       "      <td>39.192362</td>\n",
       "      <td>-76.6943</td>\n",
       "    </tr>\n",
       "    <tr>\n",
       "      <th>3</th>\n",
       "      <td>11</td>\n",
       "      <td>2015-01-05 03:15:00</td>\n",
       "      <td>2015-01-05 03:39:00</td>\n",
       "      <td>1440</td>\n",
       "      <td>38.896993</td>\n",
       "      <td>-77.006422</td>\n",
       "      <td>39.192362</td>\n",
       "      <td>-76.6943</td>\n",
       "    </tr>\n",
       "    <tr>\n",
       "      <th>4</th>\n",
       "      <td>11</td>\n",
       "      <td>2015-01-05 03:15:00</td>\n",
       "      <td>2015-01-05 03:38:00</td>\n",
       "      <td>1380</td>\n",
       "      <td>38.896993</td>\n",
       "      <td>-77.006422</td>\n",
       "      <td>39.192362</td>\n",
       "      <td>-76.6943</td>\n",
       "    </tr>\n",
       "  </tbody>\n",
       "</table>\n",
       "</div>"
      ],
      "text/plain": [
       "   type_id           starttime            stoptime  tripduration  start_lat  \\\n",
       "0       11 2015-01-05 03:15:00 2015-01-05 03:39:00          1440  38.896993   \n",
       "1       11 2015-01-05 03:15:00 2015-01-05 03:39:00          1440  38.896993   \n",
       "2       11 2015-01-05 03:15:00 2015-01-05 03:39:00          1440  38.896993   \n",
       "3       11 2015-01-05 03:15:00 2015-01-05 03:39:00          1440  38.896993   \n",
       "4       11 2015-01-05 03:15:00 2015-01-05 03:38:00          1380  38.896993   \n",
       "\n",
       "   start_lon    end_lat  end_lon  \n",
       "0 -77.006422  39.192362 -76.6943  \n",
       "1 -77.006422  39.192362 -76.6943  \n",
       "2 -77.006422  39.192362 -76.6943  \n",
       "3 -77.006422  39.192362 -76.6943  \n",
       "4 -77.006422  39.192362 -76.6943  "
      ]
     },
     "execution_count": 43,
     "metadata": {},
     "output_type": "execute_result"
    }
   ],
   "source": [
    "output.head()"
   ]
  },
  {
   "cell_type": "code",
   "execution_count": 44,
   "metadata": {
    "collapsed": false
   },
   "outputs": [
    {
     "data": {
      "text/html": [
       "<div>\n",
       "<table border=\"1\" class=\"dataframe\">\n",
       "  <thead>\n",
       "    <tr style=\"text-align: right;\">\n",
       "      <th></th>\n",
       "      <th>type_id</th>\n",
       "      <th>starttime</th>\n",
       "      <th>stoptime</th>\n",
       "      <th>tripduration</th>\n",
       "      <th>start_lat</th>\n",
       "      <th>start_lon</th>\n",
       "      <th>end_lat</th>\n",
       "      <th>end_lon</th>\n",
       "    </tr>\n",
       "  </thead>\n",
       "  <tbody>\n",
       "    <tr>\n",
       "      <th>83664</th>\n",
       "      <td>11</td>\n",
       "      <td>2015-01-05 21:56:00</td>\n",
       "      <td>2015-01-05 22:10:00</td>\n",
       "      <td>840</td>\n",
       "      <td>41.635595</td>\n",
       "      <td>-72.765274</td>\n",
       "      <td>41.768761</td>\n",
       "      <td>-72.681314</td>\n",
       "    </tr>\n",
       "    <tr>\n",
       "      <th>83665</th>\n",
       "      <td>11</td>\n",
       "      <td>2015-01-05 22:10:00</td>\n",
       "      <td>2015-01-05 22:19:00</td>\n",
       "      <td>540</td>\n",
       "      <td>41.768761</td>\n",
       "      <td>-72.681314</td>\n",
       "      <td>41.852013</td>\n",
       "      <td>-72.642253</td>\n",
       "    </tr>\n",
       "    <tr>\n",
       "      <th>83666</th>\n",
       "      <td>11</td>\n",
       "      <td>2015-01-05 22:19:00</td>\n",
       "      <td>2015-01-05 22:25:00</td>\n",
       "      <td>360</td>\n",
       "      <td>41.852013</td>\n",
       "      <td>-72.642253</td>\n",
       "      <td>41.913956</td>\n",
       "      <td>-72.626101</td>\n",
       "    </tr>\n",
       "    <tr>\n",
       "      <th>83667</th>\n",
       "      <td>11</td>\n",
       "      <td>2015-01-05 22:25:00</td>\n",
       "      <td>2015-01-05 22:50:00</td>\n",
       "      <td>1500</td>\n",
       "      <td>41.913956</td>\n",
       "      <td>-72.626101</td>\n",
       "      <td>42.105987</td>\n",
       "      <td>-72.592905</td>\n",
       "    </tr>\n",
       "    <tr>\n",
       "      <th>83668</th>\n",
       "      <td>11</td>\n",
       "      <td>2015-01-05 22:50:00</td>\n",
       "      <td>2015-01-05 22:50:00</td>\n",
       "      <td>0</td>\n",
       "      <td>42.105987</td>\n",
       "      <td>-72.592905</td>\n",
       "      <td>42.105987</td>\n",
       "      <td>-72.592905</td>\n",
       "    </tr>\n",
       "  </tbody>\n",
       "</table>\n",
       "</div>"
      ],
      "text/plain": [
       "       type_id           starttime            stoptime  tripduration  \\\n",
       "83664       11 2015-01-05 21:56:00 2015-01-05 22:10:00           840   \n",
       "83665       11 2015-01-05 22:10:00 2015-01-05 22:19:00           540   \n",
       "83666       11 2015-01-05 22:19:00 2015-01-05 22:25:00           360   \n",
       "83667       11 2015-01-05 22:25:00 2015-01-05 22:50:00          1500   \n",
       "83668       11 2015-01-05 22:50:00 2015-01-05 22:50:00             0   \n",
       "\n",
       "       start_lat  start_lon    end_lat    end_lon  \n",
       "83664  41.635595 -72.765274  41.768761 -72.681314  \n",
       "83665  41.768761 -72.681314  41.852013 -72.642253  \n",
       "83666  41.852013 -72.642253  41.913956 -72.626101  \n",
       "83667  41.913956 -72.626101  42.105987 -72.592905  \n",
       "83668  42.105987 -72.592905  42.105987 -72.592905  "
      ]
     },
     "execution_count": 44,
     "metadata": {},
     "output_type": "execute_result"
    }
   ],
   "source": [
    "output.tail()"
   ]
  },
  {
   "cell_type": "code",
   "execution_count": 45,
   "metadata": {
    "collapsed": false
   },
   "outputs": [
    {
     "data": {
      "text/plain": [
       "(13075, 8)"
      ]
     },
     "execution_count": 45,
     "metadata": {},
     "output_type": "execute_result"
    }
   ],
   "source": [
    "output.shape"
   ]
  },
  {
   "cell_type": "code",
   "execution_count": 46,
   "metadata": {
    "collapsed": true
   },
   "outputs": [],
   "source": [
    "output.to_csv(\"amtrak_monday_raw.csv\")"
   ]
  },
  {
   "cell_type": "code",
   "execution_count": 48,
   "metadata": {
    "collapsed": true
   },
   "outputs": [],
   "source": [
    "%%bash\n",
    "\n",
    "awk -F\",\" -v OFS=\",\" '{ $1=\"\" ; $0=substr($0,2) } 1' amtrak_monday_raw.csv > amtrak_monday.csv"
   ]
  }
 ],
 "metadata": {
  "anaconda-cloud": {},
  "kernelspec": {
   "display_name": "Python [Root]",
   "language": "python",
   "name": "Python [Root]"
  },
  "language_info": {
   "codemirror_mode": {
    "name": "ipython",
    "version": 2
   },
   "file_extension": ".py",
   "mimetype": "text/x-python",
   "name": "python",
   "nbconvert_exporter": "python",
   "pygments_lexer": "ipython2",
   "version": "2.7.12"
  }
 },
 "nbformat": 4,
 "nbformat_minor": 0
}
