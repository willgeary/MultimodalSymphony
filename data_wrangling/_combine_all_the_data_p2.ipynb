{
 "cells": [
  {
   "cell_type": "code",
   "execution_count": 2,
   "metadata": {
    "collapsed": true
   },
   "outputs": [],
   "source": [
    "import pandas as pd"
   ]
  },
  {
   "cell_type": "code",
   "execution_count": 3,
   "metadata": {
    "collapsed": false
   },
   "outputs": [
    {
     "name": "stdout",
     "output_type": "stream",
     "text": [
      "Combine All Data.ipynb            output_clean_q3_header.csv\r\n",
      "bus_company_monday.csv            output_clean_q4_header.csv\r\n",
      "metronorth_monday.csv             output_raw.csv\r\n",
      "output_clean.csv                  path_monday.csv\r\n",
      "output_clean_q1.csv               taxiBusSubwayFerryBikeAmtrak.csv\r\n",
      "output_clean_q2_header.csv        waterways_monday.csv\r\n"
     ]
    }
   ],
   "source": [
    "ls"
   ]
  },
  {
   "cell_type": "code",
   "execution_count": 9,
   "metadata": {
    "collapsed": true
   },
   "outputs": [],
   "source": [
    "bus_company = pd.read_csv(\"bus_company_monday.csv\")"
   ]
  },
  {
   "cell_type": "code",
   "execution_count": 10,
   "metadata": {
    "collapsed": true
   },
   "outputs": [],
   "source": [
    "metronorth = pd.read_csv(\"metronorth_monday.csv\")"
   ]
  },
  {
   "cell_type": "code",
   "execution_count": 11,
   "metadata": {
    "collapsed": true
   },
   "outputs": [],
   "source": [
    "path = pd.read_csv(\"path_monday.csv\")"
   ]
  },
  {
   "cell_type": "code",
   "execution_count": 12,
   "metadata": {
    "collapsed": true
   },
   "outputs": [],
   "source": [
    "waterways = pd.read_csv(\"waterways_monday.csv\")"
   ]
  },
  {
   "cell_type": "code",
   "execution_count": 13,
   "metadata": {
    "collapsed": true
   },
   "outputs": [],
   "source": [
    "taxiBusSubwayFerryBikeAmtrak = pd.read_csv(\"taxiBusSubwayFerryBikeAmtrak.csv\")"
   ]
  },
  {
   "cell_type": "code",
   "execution_count": 14,
   "metadata": {
    "collapsed": true
   },
   "outputs": [],
   "source": [
    "output = pd.concat([bus_company, metronorth, path, waterways, taxiBusSubwayFerryBikeAmtrak])"
   ]
  },
  {
   "cell_type": "code",
   "execution_count": 15,
   "metadata": {
    "collapsed": false
   },
   "outputs": [
    {
     "data": {
      "text/html": [
       "<div>\n",
       "<table border=\"1\" class=\"dataframe\">\n",
       "  <thead>\n",
       "    <tr style=\"text-align: right;\">\n",
       "      <th></th>\n",
       "      <th>type_id</th>\n",
       "      <th>starttime</th>\n",
       "      <th>stoptime</th>\n",
       "      <th>tripduration</th>\n",
       "      <th>start_lat</th>\n",
       "      <th>start_lon</th>\n",
       "      <th>end_lat</th>\n",
       "      <th>end_lon</th>\n",
       "    </tr>\n",
       "  </thead>\n",
       "  <tbody>\n",
       "    <tr>\n",
       "      <th>0</th>\n",
       "      <td>13</td>\n",
       "      <td>2015-01-05 00:00:00</td>\n",
       "      <td>2015-01-05 00:00:29</td>\n",
       "      <td>29</td>\n",
       "      <td>40.731841</td>\n",
       "      <td>-73.805384</td>\n",
       "      <td>40.732107</td>\n",
       "      <td>-73.808141</td>\n",
       "    </tr>\n",
       "    <tr>\n",
       "      <th>1</th>\n",
       "      <td>13</td>\n",
       "      <td>2015-01-05 00:00:00</td>\n",
       "      <td>2015-01-05 00:01:11</td>\n",
       "      <td>71</td>\n",
       "      <td>40.773573</td>\n",
       "      <td>-73.893290</td>\n",
       "      <td>40.772406</td>\n",
       "      <td>-73.895761</td>\n",
       "    </tr>\n",
       "    <tr>\n",
       "      <th>2</th>\n",
       "      <td>13</td>\n",
       "      <td>2015-01-05 00:00:00</td>\n",
       "      <td>2015-01-05 00:00:09</td>\n",
       "      <td>9</td>\n",
       "      <td>40.770302</td>\n",
       "      <td>-73.875496</td>\n",
       "      <td>40.770078</td>\n",
       "      <td>-73.876107</td>\n",
       "    </tr>\n",
       "    <tr>\n",
       "      <th>3</th>\n",
       "      <td>13</td>\n",
       "      <td>2015-01-05 00:00:00</td>\n",
       "      <td>2015-01-05 00:01:15</td>\n",
       "      <td>75</td>\n",
       "      <td>40.759351</td>\n",
       "      <td>-73.830739</td>\n",
       "      <td>40.762739</td>\n",
       "      <td>-73.831742</td>\n",
       "    </tr>\n",
       "    <tr>\n",
       "      <th>4</th>\n",
       "      <td>13</td>\n",
       "      <td>2015-01-05 00:00:00</td>\n",
       "      <td>2015-01-05 00:04:00</td>\n",
       "      <td>240</td>\n",
       "      <td>40.745603</td>\n",
       "      <td>-73.902741</td>\n",
       "      <td>40.746288</td>\n",
       "      <td>-73.890604</td>\n",
       "    </tr>\n",
       "  </tbody>\n",
       "</table>\n",
       "</div>"
      ],
      "text/plain": [
       "   type_id            starttime             stoptime  tripduration  start_lat  \\\n",
       "0       13  2015-01-05 00:00:00  2015-01-05 00:00:29            29  40.731841   \n",
       "1       13  2015-01-05 00:00:00  2015-01-05 00:01:11            71  40.773573   \n",
       "2       13  2015-01-05 00:00:00  2015-01-05 00:00:09             9  40.770302   \n",
       "3       13  2015-01-05 00:00:00  2015-01-05 00:01:15            75  40.759351   \n",
       "4       13  2015-01-05 00:00:00  2015-01-05 00:04:00           240  40.745603   \n",
       "\n",
       "   start_lon    end_lat    end_lon  \n",
       "0 -73.805384  40.732107 -73.808141  \n",
       "1 -73.893290  40.772406 -73.895761  \n",
       "2 -73.875496  40.770078 -73.876107  \n",
       "3 -73.830739  40.762739 -73.831742  \n",
       "4 -73.902741  40.746288 -73.890604  "
      ]
     },
     "execution_count": 15,
     "metadata": {},
     "output_type": "execute_result"
    }
   ],
   "source": [
    "output.head()"
   ]
  },
  {
   "cell_type": "code",
   "execution_count": 16,
   "metadata": {
    "collapsed": false
   },
   "outputs": [
    {
     "data": {
      "text/plain": [
       "(4699024, 8)"
      ]
     },
     "execution_count": 16,
     "metadata": {},
     "output_type": "execute_result"
    }
   ],
   "source": [
    "output.shape"
   ]
  },
  {
   "cell_type": "code",
   "execution_count": 17,
   "metadata": {
    "collapsed": true
   },
   "outputs": [],
   "source": [
    "output = output[output.tripduration != 0]\n",
    "output = output[output.start_lat != 0]\n",
    "output = output[output.end_lat != 0]\n",
    "output = output.sort_values(by=['starttime', 'type_id'])\n",
    "output = output.reset_index(drop=True)"
   ]
  },
  {
   "cell_type": "code",
   "execution_count": 18,
   "metadata": {
    "collapsed": false
   },
   "outputs": [
    {
     "data": {
      "text/plain": [
       "(4699024, 8)"
      ]
     },
     "execution_count": 18,
     "metadata": {},
     "output_type": "execute_result"
    }
   ],
   "source": [
    "output.shape"
   ]
  },
  {
   "cell_type": "code",
   "execution_count": 19,
   "metadata": {
    "collapsed": false
   },
   "outputs": [
    {
     "data": {
      "text/html": [
       "<div>\n",
       "<table border=\"1\" class=\"dataframe\">\n",
       "  <thead>\n",
       "    <tr style=\"text-align: right;\">\n",
       "      <th></th>\n",
       "      <th>type_id</th>\n",
       "      <th>starttime</th>\n",
       "      <th>stoptime</th>\n",
       "      <th>tripduration</th>\n",
       "      <th>start_lat</th>\n",
       "      <th>start_lon</th>\n",
       "      <th>end_lat</th>\n",
       "      <th>end_lon</th>\n",
       "    </tr>\n",
       "  </thead>\n",
       "  <tbody>\n",
       "    <tr>\n",
       "      <th>0</th>\n",
       "      <td>1</td>\n",
       "      <td>2015-01-05 00:00:00</td>\n",
       "      <td>2015-01-05 00:09:43</td>\n",
       "      <td>583</td>\n",
       "      <td>40.686058</td>\n",
       "      <td>-73.990952</td>\n",
       "      <td>40.677547</td>\n",
       "      <td>-73.938622</td>\n",
       "    </tr>\n",
       "    <tr>\n",
       "      <th>1</th>\n",
       "      <td>2</td>\n",
       "      <td>2015-01-05 00:00:00</td>\n",
       "      <td>2015-01-05 00:06:44</td>\n",
       "      <td>404</td>\n",
       "      <td>40.723946</td>\n",
       "      <td>-73.951294</td>\n",
       "      <td>40.697411</td>\n",
       "      <td>-73.964851</td>\n",
       "    </tr>\n",
       "    <tr>\n",
       "      <th>2</th>\n",
       "      <td>3</td>\n",
       "      <td>2015-01-05 00:00:00</td>\n",
       "      <td>2015-01-05 00:01:09</td>\n",
       "      <td>69</td>\n",
       "      <td>40.642979</td>\n",
       "      <td>-73.878334</td>\n",
       "      <td>40.645187</td>\n",
       "      <td>-73.878555</td>\n",
       "    </tr>\n",
       "    <tr>\n",
       "      <th>3</th>\n",
       "      <td>3</td>\n",
       "      <td>2015-01-05 00:00:00</td>\n",
       "      <td>2015-01-05 00:01:09</td>\n",
       "      <td>69</td>\n",
       "      <td>40.642979</td>\n",
       "      <td>-73.878334</td>\n",
       "      <td>40.645187</td>\n",
       "      <td>-73.878555</td>\n",
       "    </tr>\n",
       "    <tr>\n",
       "      <th>4</th>\n",
       "      <td>3</td>\n",
       "      <td>2015-01-05 00:00:00</td>\n",
       "      <td>2015-01-05 00:00:23</td>\n",
       "      <td>23</td>\n",
       "      <td>40.645714</td>\n",
       "      <td>-73.902313</td>\n",
       "      <td>40.644871</td>\n",
       "      <td>-73.902176</td>\n",
       "    </tr>\n",
       "  </tbody>\n",
       "</table>\n",
       "</div>"
      ],
      "text/plain": [
       "   type_id            starttime             stoptime  tripduration  start_lat  \\\n",
       "0        1  2015-01-05 00:00:00  2015-01-05 00:09:43           583  40.686058   \n",
       "1        2  2015-01-05 00:00:00  2015-01-05 00:06:44           404  40.723946   \n",
       "2        3  2015-01-05 00:00:00  2015-01-05 00:01:09            69  40.642979   \n",
       "3        3  2015-01-05 00:00:00  2015-01-05 00:01:09            69  40.642979   \n",
       "4        3  2015-01-05 00:00:00  2015-01-05 00:00:23            23  40.645714   \n",
       "\n",
       "   start_lon    end_lat    end_lon  \n",
       "0 -73.990952  40.677547 -73.938622  \n",
       "1 -73.951294  40.697411 -73.964851  \n",
       "2 -73.878334  40.645187 -73.878555  \n",
       "3 -73.878334  40.645187 -73.878555  \n",
       "4 -73.902313  40.644871 -73.902176  "
      ]
     },
     "execution_count": 19,
     "metadata": {},
     "output_type": "execute_result"
    }
   ],
   "source": [
    "output.head()"
   ]
  },
  {
   "cell_type": "code",
   "execution_count": 20,
   "metadata": {
    "collapsed": false
   },
   "outputs": [
    {
     "data": {
      "text/html": [
       "<div>\n",
       "<table border=\"1\" class=\"dataframe\">\n",
       "  <thead>\n",
       "    <tr style=\"text-align: right;\">\n",
       "      <th></th>\n",
       "      <th>type_id</th>\n",
       "      <th>starttime</th>\n",
       "      <th>stoptime</th>\n",
       "      <th>tripduration</th>\n",
       "      <th>start_lat</th>\n",
       "      <th>start_lon</th>\n",
       "      <th>end_lat</th>\n",
       "      <th>end_lon</th>\n",
       "    </tr>\n",
       "  </thead>\n",
       "  <tbody>\n",
       "    <tr>\n",
       "      <th>4699019</th>\n",
       "      <td>4</td>\n",
       "      <td>2015-01-06 04:42:13</td>\n",
       "      <td>2015-01-06 04:42:47</td>\n",
       "      <td>34</td>\n",
       "      <td>40.711842</td>\n",
       "      <td>-73.790161</td>\n",
       "      <td>40.710716</td>\n",
       "      <td>-73.793091</td>\n",
       "    </tr>\n",
       "    <tr>\n",
       "      <th>4699020</th>\n",
       "      <td>4</td>\n",
       "      <td>2015-01-06 04:42:47</td>\n",
       "      <td>2015-01-06 04:44:00</td>\n",
       "      <td>73</td>\n",
       "      <td>40.710716</td>\n",
       "      <td>-73.793091</td>\n",
       "      <td>40.707237</td>\n",
       "      <td>-73.794998</td>\n",
       "    </tr>\n",
       "    <tr>\n",
       "      <th>4699021</th>\n",
       "      <td>4</td>\n",
       "      <td>2015-01-06 04:42:47</td>\n",
       "      <td>2015-01-06 04:44:00</td>\n",
       "      <td>73</td>\n",
       "      <td>40.710716</td>\n",
       "      <td>-73.793091</td>\n",
       "      <td>40.707237</td>\n",
       "      <td>-73.794998</td>\n",
       "    </tr>\n",
       "    <tr>\n",
       "      <th>4699022</th>\n",
       "      <td>4</td>\n",
       "      <td>2015-01-06 04:44:00</td>\n",
       "      <td>2015-01-06 04:45:00</td>\n",
       "      <td>60</td>\n",
       "      <td>40.707237</td>\n",
       "      <td>-73.794998</td>\n",
       "      <td>40.704933</td>\n",
       "      <td>-73.793320</td>\n",
       "    </tr>\n",
       "    <tr>\n",
       "      <th>4699023</th>\n",
       "      <td>4</td>\n",
       "      <td>2015-01-06 04:44:00</td>\n",
       "      <td>2015-01-06 04:45:00</td>\n",
       "      <td>60</td>\n",
       "      <td>40.707237</td>\n",
       "      <td>-73.794998</td>\n",
       "      <td>40.704933</td>\n",
       "      <td>-73.793320</td>\n",
       "    </tr>\n",
       "  </tbody>\n",
       "</table>\n",
       "</div>"
      ],
      "text/plain": [
       "         type_id            starttime             stoptime  tripduration  \\\n",
       "4699019        4  2015-01-06 04:42:13  2015-01-06 04:42:47            34   \n",
       "4699020        4  2015-01-06 04:42:47  2015-01-06 04:44:00            73   \n",
       "4699021        4  2015-01-06 04:42:47  2015-01-06 04:44:00            73   \n",
       "4699022        4  2015-01-06 04:44:00  2015-01-06 04:45:00            60   \n",
       "4699023        4  2015-01-06 04:44:00  2015-01-06 04:45:00            60   \n",
       "\n",
       "         start_lat  start_lon    end_lat    end_lon  \n",
       "4699019  40.711842 -73.790161  40.710716 -73.793091  \n",
       "4699020  40.710716 -73.793091  40.707237 -73.794998  \n",
       "4699021  40.710716 -73.793091  40.707237 -73.794998  \n",
       "4699022  40.707237 -73.794998  40.704933 -73.793320  \n",
       "4699023  40.707237 -73.794998  40.704933 -73.793320  "
      ]
     },
     "execution_count": 20,
     "metadata": {},
     "output_type": "execute_result"
    }
   ],
   "source": [
    "output.tail()"
   ]
  },
  {
   "cell_type": "code",
   "execution_count": 22,
   "metadata": {
    "collapsed": true
   },
   "outputs": [],
   "source": [
    "output.starttime = pd.to_datetime(output.starttime)"
   ]
  },
  {
   "cell_type": "code",
   "execution_count": 23,
   "metadata": {
    "collapsed": true
   },
   "outputs": [],
   "source": [
    "output.stoptime = pd.to_datetime(output.stoptime)"
   ]
  },
  {
   "cell_type": "code",
   "execution_count": null,
   "metadata": {
    "collapsed": true
   },
   "outputs": [],
   "source": []
  },
  {
   "cell_type": "code",
   "execution_count": null,
   "metadata": {
    "collapsed": true
   },
   "outputs": [],
   "source": []
  },
  {
   "cell_type": "code",
   "execution_count": 15,
   "metadata": {
    "collapsed": true
   },
   "outputs": [],
   "source": [
    "output.to_csv(\"output_raw.csv\")"
   ]
  },
  {
   "cell_type": "code",
   "execution_count": 16,
   "metadata": {
    "collapsed": true
   },
   "outputs": [],
   "source": [
    "%%bash\n",
    "awk -F\",\" -v OFS=\",\" '{ $1=\"\" ; $0=substr($0,2) } 1' output_raw.csv > output_clean.csv"
   ]
  },
  {
   "cell_type": "code",
   "execution_count": 29,
   "metadata": {
    "collapsed": false
   },
   "outputs": [
    {
     "name": "stdout",
     "output_type": "stream",
     "text": [
      "type_id,starttime,stoptime,tripduration,start_lat,start_lon,end_lat,end_lon\n",
      "1,2015-01-05 00:00:00,2015-01-05 00:09:43,583,40.6860580444,-73.9909515381,40.6775474548,-73.938621521\n",
      "2,2015-01-05 00:00:00,2015-01-05 00:06:44,404,40.7239456177,-73.9512939453,40.6974105835,-73.9648513794\n",
      "3,2015-01-05 00:00:00,2015-01-05 00:01:09,69,40.642979,-73.878334,40.645187,-73.878555\n",
      "3,2015-01-05 00:00:00,2015-01-05 00:01:09,69,40.642979,-73.878334,40.645187,-73.878555\n",
      "3,2015-01-05 00:00:00,2015-01-05 00:00:23,23,40.645714,-73.902313,40.644871,-73.902176\n",
      "3,2015-01-05 00:00:00,2015-01-05 00:01:09,69,40.642979,-73.878334,40.645187,-73.878555\n",
      "3,2015-01-05 00:00:00,2015-01-05 00:00:48,48,40.748638,-73.938446,40.747673,-73.941116\n",
      "3,2015-01-05 00:00:00,2015-01-05 00:00:48,48,40.748638,-73.938446,40.747673,-73.941116\n",
      "3,2015-01-05 00:00:00,2015-01-05 00:00:48,48,40.748638,-73.938446,40.747673,-73.941116\n"
     ]
    }
   ],
   "source": [
    "%%bash\n",
    "head output_clean.csv"
   ]
  },
  {
   "cell_type": "code",
   "execution_count": 30,
   "metadata": {
    "collapsed": false
   },
   "outputs": [
    {
     "name": "stdout",
     "output_type": "stream",
     "text": [
      "4699025\n"
     ]
    }
   ],
   "source": [
    "%%bash\n",
    "awk '{n+=1} END {print n}' output_clean.csv"
   ]
  },
  {
   "cell_type": "code",
   "execution_count": 32,
   "metadata": {
    "collapsed": false
   },
   "outputs": [
    {
     "data": {
      "text/plain": [
       "2349512"
      ]
     },
     "execution_count": 32,
     "metadata": {},
     "output_type": "execute_result"
    }
   ],
   "source": [
    "4699024 / 2"
   ]
  },
  {
   "cell_type": "code",
   "execution_count": 33,
   "metadata": {
    "collapsed": true
   },
   "outputs": [],
   "source": [
    "%%bash\n",
    "head -n 2500000 output_clean.csv > output_clean_h1.csv"
   ]
  },
  {
   "cell_type": "code",
   "execution_count": 34,
   "metadata": {
    "collapsed": true
   },
   "outputs": [],
   "source": [
    "%%bash\n",
    "tail -n 2500000 output_clean.csv > output_clean_h2.csv"
   ]
  },
  {
   "cell_type": "code",
   "execution_count": 35,
   "metadata": {
    "collapsed": true
   },
   "outputs": [],
   "source": [
    "%%bash\n",
    "head -n 1450000 output_clean_h1.csv > output_clean_q1.csv"
   ]
  },
  {
   "cell_type": "code",
   "execution_count": 36,
   "metadata": {
    "collapsed": true
   },
   "outputs": [],
   "source": [
    "%%bash\n",
    "tail -n 1450000 output_clean_h1.csv > output_clean_q2.csv\n",
    "# add header back in\n",
    "for csv in output_clean_q2.csv; do (echo \"type_id,starttime,stoptime,tripduration,start_lat,start_lon,end_lat,end_lon\"; cat output_clean_q2.csv) > tmp; mv tmp output_clean_q2_header.csv; done"
   ]
  },
  {
   "cell_type": "code",
   "execution_count": 37,
   "metadata": {
    "collapsed": true
   },
   "outputs": [],
   "source": [
    "%%bash\n",
    "head -n 1450000 output_clean_h2.csv > output_clean_q3.csv\n",
    "# add header back in\n",
    "for csv in output_clean_q3.csv; do (echo \"type_id,starttime,stoptime,tripduration,start_lat,start_lon,end_lat,end_lon\"; cat output_clean_q3.csv) > tmp; mv tmp output_clean_q3_header.csv; done"
   ]
  },
  {
   "cell_type": "code",
   "execution_count": 38,
   "metadata": {
    "collapsed": true
   },
   "outputs": [],
   "source": [
    "%%bash\n",
    "tail -n 1450000 output_clean_h2.csv > output_clean_q4.csv\n",
    "# add header back in\n",
    "for csv in output_clean_q4.csv; do (echo \"type_id,starttime,stoptime,tripduration,start_lat,start_lon,end_lat,end_lon\"; cat output_clean_q4.csv) > tmp; mv tmp output_clean_q4_header.csv; done"
   ]
  },
  {
   "cell_type": "markdown",
   "metadata": {},
   "source": [
    "Rename image files:"
   ]
  },
  {
   "cell_type": "code",
   "execution_count": null,
   "metadata": {
    "collapsed": true
   },
   "outputs": [],
   "source": [
    "%%bash\n",
    "\n",
    "num=900; for i in *.tiff; do mv \"$i\" \"$(printf '%06d' $num).${i#*.}\"; ((num++)); done"
   ]
  },
  {
   "cell_type": "code",
   "execution_count": null,
   "metadata": {
    "collapsed": true
   },
   "outputs": [],
   "source": [
    "%%bash\n",
    "\n",
    "num=1800; for i in *.tiff; do mv \"$i\" \"$(printf '%06d' $num).${i#*.}\"; ((num++)); done"
   ]
  },
  {
   "cell_type": "markdown",
   "metadata": {},
   "source": [
    "Try splitting output file based on time rather than number of rows."
   ]
  },
  {
   "cell_type": "markdown",
   "metadata": {},
   "source": [
    "12am - 6am,\n",
    "\n",
    "6am - 12pm,\n",
    "\n",
    "12pm - 6pm,\n",
    "\n",
    "6pm - 12am"
   ]
  },
  {
   "cell_type": "markdown",
   "metadata": {},
   "source": [
    "To allow for some wiggle room...\n",
    "\n",
    "12am - 8am,\n",
    "\n",
    "6am - 2pm,\n",
    "\n",
    "12pm - 8pm,\n",
    "\n",
    "6pm - 2am"
   ]
  },
  {
   "cell_type": "code",
   "execution_count": 29,
   "metadata": {
    "collapsed": false
   },
   "outputs": [
    {
     "data": {
      "text/html": [
       "<div>\n",
       "<table border=\"1\" class=\"dataframe\">\n",
       "  <thead>\n",
       "    <tr style=\"text-align: right;\">\n",
       "      <th></th>\n",
       "      <th>type_id</th>\n",
       "      <th>starttime</th>\n",
       "      <th>stoptime</th>\n",
       "      <th>tripduration</th>\n",
       "      <th>start_lat</th>\n",
       "      <th>start_lon</th>\n",
       "      <th>end_lat</th>\n",
       "      <th>end_lon</th>\n",
       "    </tr>\n",
       "  </thead>\n",
       "  <tbody>\n",
       "    <tr>\n",
       "      <th>783505</th>\n",
       "      <td>7</td>\n",
       "      <td>2015-01-05 07:59:59</td>\n",
       "      <td>2015-01-05 08:04:00</td>\n",
       "      <td>241</td>\n",
       "      <td>40.737930</td>\n",
       "      <td>-73.996346</td>\n",
       "      <td>40.741528</td>\n",
       "      <td>-73.989777</td>\n",
       "    </tr>\n",
       "    <tr>\n",
       "      <th>783506</th>\n",
       "      <td>13</td>\n",
       "      <td>2015-01-05 07:59:59</td>\n",
       "      <td>2015-01-05 08:01:09</td>\n",
       "      <td>70</td>\n",
       "      <td>40.727153</td>\n",
       "      <td>-73.846460</td>\n",
       "      <td>40.728888</td>\n",
       "      <td>-73.847389</td>\n",
       "    </tr>\n",
       "    <tr>\n",
       "      <th>783507</th>\n",
       "      <td>13</td>\n",
       "      <td>2015-01-05 07:59:59</td>\n",
       "      <td>2015-01-05 08:00:50</td>\n",
       "      <td>51</td>\n",
       "      <td>40.765819</td>\n",
       "      <td>-73.864246</td>\n",
       "      <td>40.764312</td>\n",
       "      <td>-73.862806</td>\n",
       "    </tr>\n",
       "    <tr>\n",
       "      <th>783508</th>\n",
       "      <td>13</td>\n",
       "      <td>2015-01-05 07:59:59</td>\n",
       "      <td>2015-01-05 08:01:13</td>\n",
       "      <td>74</td>\n",
       "      <td>40.713231</td>\n",
       "      <td>-73.903961</td>\n",
       "      <td>40.713987</td>\n",
       "      <td>-73.902349</td>\n",
       "    </tr>\n",
       "    <tr>\n",
       "      <th>783509</th>\n",
       "      <td>13</td>\n",
       "      <td>2015-01-05 07:59:59</td>\n",
       "      <td>2015-01-05 08:00:32</td>\n",
       "      <td>33</td>\n",
       "      <td>40.674307</td>\n",
       "      <td>-73.799117</td>\n",
       "      <td>40.674451</td>\n",
       "      <td>-73.800602</td>\n",
       "    </tr>\n",
       "  </tbody>\n",
       "</table>\n",
       "</div>"
      ],
      "text/plain": [
       "        type_id           starttime            stoptime  tripduration  \\\n",
       "783505        7 2015-01-05 07:59:59 2015-01-05 08:04:00           241   \n",
       "783506       13 2015-01-05 07:59:59 2015-01-05 08:01:09            70   \n",
       "783507       13 2015-01-05 07:59:59 2015-01-05 08:00:50            51   \n",
       "783508       13 2015-01-05 07:59:59 2015-01-05 08:01:13            74   \n",
       "783509       13 2015-01-05 07:59:59 2015-01-05 08:00:32            33   \n",
       "\n",
       "        start_lat  start_lon    end_lat    end_lon  \n",
       "783505  40.737930 -73.996346  40.741528 -73.989777  \n",
       "783506  40.727153 -73.846460  40.728888 -73.847389  \n",
       "783507  40.765819 -73.864246  40.764312 -73.862806  \n",
       "783508  40.713231 -73.903961  40.713987 -73.902349  \n",
       "783509  40.674307 -73.799117  40.674451 -73.800602  "
      ]
     },
     "execution_count": 29,
     "metadata": {},
     "output_type": "execute_result"
    }
   ],
   "source": [
    "output_q1 = output[output.starttime >= pd.to_datetime('2015-01-05 00:00:00')][output.starttime < pd.to_datetime('2015-01-05 08:00:00')]\n",
    "output_q1.tail()"
   ]
  },
  {
   "cell_type": "code",
   "execution_count": 31,
   "metadata": {
    "collapsed": false
   },
   "outputs": [
    {
     "name": "stderr",
     "output_type": "stream",
     "text": [
      "/Users/Will/anaconda/lib/python2.7/site-packages/ipykernel/__main__.py:1: UserWarning: Boolean Series key will be reindexed to match DataFrame index.\n",
      "  if __name__ == '__main__':\n"
     ]
    },
    {
     "data": {
      "text/html": [
       "<div>\n",
       "<table border=\"1\" class=\"dataframe\">\n",
       "  <thead>\n",
       "    <tr style=\"text-align: right;\">\n",
       "      <th></th>\n",
       "      <th>type_id</th>\n",
       "      <th>starttime</th>\n",
       "      <th>stoptime</th>\n",
       "      <th>tripduration</th>\n",
       "      <th>start_lat</th>\n",
       "      <th>start_lon</th>\n",
       "      <th>end_lat</th>\n",
       "      <th>end_lon</th>\n",
       "    </tr>\n",
       "  </thead>\n",
       "  <tbody>\n",
       "    <tr>\n",
       "      <th>2229313</th>\n",
       "      <td>7</td>\n",
       "      <td>2015-01-05 13:59:59</td>\n",
       "      <td>2015-01-05 14:01:08</td>\n",
       "      <td>69</td>\n",
       "      <td>40.635010</td>\n",
       "      <td>-74.132408</td>\n",
       "      <td>40.636597</td>\n",
       "      <td>-74.134224</td>\n",
       "    </tr>\n",
       "    <tr>\n",
       "      <th>2229314</th>\n",
       "      <td>7</td>\n",
       "      <td>2015-01-05 13:59:59</td>\n",
       "      <td>2015-01-05 14:02:00</td>\n",
       "      <td>121</td>\n",
       "      <td>40.583580</td>\n",
       "      <td>-74.073128</td>\n",
       "      <td>40.590076</td>\n",
       "      <td>-74.066795</td>\n",
       "    </tr>\n",
       "    <tr>\n",
       "      <th>2229315</th>\n",
       "      <td>7</td>\n",
       "      <td>2015-01-05 13:59:59</td>\n",
       "      <td>2015-01-05 14:00:40</td>\n",
       "      <td>41</td>\n",
       "      <td>40.615307</td>\n",
       "      <td>-74.073448</td>\n",
       "      <td>40.613789</td>\n",
       "      <td>-74.072304</td>\n",
       "    </tr>\n",
       "    <tr>\n",
       "      <th>2229316</th>\n",
       "      <td>7</td>\n",
       "      <td>2015-01-05 13:59:59</td>\n",
       "      <td>2015-01-05 14:00:26</td>\n",
       "      <td>27</td>\n",
       "      <td>40.558010</td>\n",
       "      <td>-74.126335</td>\n",
       "      <td>40.559101</td>\n",
       "      <td>-74.125153</td>\n",
       "    </tr>\n",
       "    <tr>\n",
       "      <th>2229317</th>\n",
       "      <td>13</td>\n",
       "      <td>2015-01-05 13:59:59</td>\n",
       "      <td>2015-01-05 14:01:05</td>\n",
       "      <td>66</td>\n",
       "      <td>40.606777</td>\n",
       "      <td>-73.819329</td>\n",
       "      <td>40.611468</td>\n",
       "      <td>-73.819011</td>\n",
       "    </tr>\n",
       "  </tbody>\n",
       "</table>\n",
       "</div>"
      ],
      "text/plain": [
       "         type_id           starttime            stoptime  tripduration  \\\n",
       "2229313        7 2015-01-05 13:59:59 2015-01-05 14:01:08            69   \n",
       "2229314        7 2015-01-05 13:59:59 2015-01-05 14:02:00           121   \n",
       "2229315        7 2015-01-05 13:59:59 2015-01-05 14:00:40            41   \n",
       "2229316        7 2015-01-05 13:59:59 2015-01-05 14:00:26            27   \n",
       "2229317       13 2015-01-05 13:59:59 2015-01-05 14:01:05            66   \n",
       "\n",
       "         start_lat  start_lon    end_lat    end_lon  \n",
       "2229313  40.635010 -74.132408  40.636597 -74.134224  \n",
       "2229314  40.583580 -74.073128  40.590076 -74.066795  \n",
       "2229315  40.615307 -74.073448  40.613789 -74.072304  \n",
       "2229316  40.558010 -74.126335  40.559101 -74.125153  \n",
       "2229317  40.606777 -73.819329  40.611468 -73.819011  "
      ]
     },
     "execution_count": 31,
     "metadata": {},
     "output_type": "execute_result"
    }
   ],
   "source": [
    "output_q2 = output[output.starttime >= pd.to_datetime('2015-01-05 06:00:00')][output.starttime < pd.to_datetime('2015-01-05 14:00:00')]\n",
    "output_q2.tail()"
   ]
  },
  {
   "cell_type": "code",
   "execution_count": 32,
   "metadata": {
    "collapsed": false
   },
   "outputs": [
    {
     "name": "stderr",
     "output_type": "stream",
     "text": [
      "/Users/Will/anaconda/lib/python2.7/site-packages/ipykernel/__main__.py:1: UserWarning: Boolean Series key will be reindexed to match DataFrame index.\n",
      "  if __name__ == '__main__':\n"
     ]
    },
    {
     "data": {
      "text/html": [
       "<div>\n",
       "<table border=\"1\" class=\"dataframe\">\n",
       "  <thead>\n",
       "    <tr style=\"text-align: right;\">\n",
       "      <th></th>\n",
       "      <th>type_id</th>\n",
       "      <th>starttime</th>\n",
       "      <th>stoptime</th>\n",
       "      <th>tripduration</th>\n",
       "      <th>start_lat</th>\n",
       "      <th>start_lon</th>\n",
       "      <th>end_lat</th>\n",
       "      <th>end_lon</th>\n",
       "    </tr>\n",
       "  </thead>\n",
       "  <tbody>\n",
       "    <tr>\n",
       "      <th>3872702</th>\n",
       "      <td>13</td>\n",
       "      <td>2015-01-05 19:59:59</td>\n",
       "      <td>2015-01-05 20:01:00</td>\n",
       "      <td>61</td>\n",
       "      <td>40.772580</td>\n",
       "      <td>-73.895658</td>\n",
       "      <td>40.774158</td>\n",
       "      <td>-73.893644</td>\n",
       "    </tr>\n",
       "    <tr>\n",
       "      <th>3872703</th>\n",
       "      <td>13</td>\n",
       "      <td>2015-01-05 19:59:59</td>\n",
       "      <td>2015-01-05 20:00:46</td>\n",
       "      <td>47</td>\n",
       "      <td>40.689655</td>\n",
       "      <td>-73.850250</td>\n",
       "      <td>40.688266</td>\n",
       "      <td>-73.849243</td>\n",
       "    </tr>\n",
       "    <tr>\n",
       "      <th>3872704</th>\n",
       "      <td>13</td>\n",
       "      <td>2015-01-05 19:59:59</td>\n",
       "      <td>2015-01-05 20:00:45</td>\n",
       "      <td>46</td>\n",
       "      <td>40.752434</td>\n",
       "      <td>-73.879283</td>\n",
       "      <td>40.752228</td>\n",
       "      <td>-73.881181</td>\n",
       "    </tr>\n",
       "    <tr>\n",
       "      <th>3872705</th>\n",
       "      <td>13</td>\n",
       "      <td>2015-01-05 19:59:59</td>\n",
       "      <td>2015-01-05 20:01:39</td>\n",
       "      <td>100</td>\n",
       "      <td>40.706965</td>\n",
       "      <td>-73.897269</td>\n",
       "      <td>40.703742</td>\n",
       "      <td>-73.895737</td>\n",
       "    </tr>\n",
       "    <tr>\n",
       "      <th>3872706</th>\n",
       "      <td>13</td>\n",
       "      <td>2015-01-05 19:59:59</td>\n",
       "      <td>2015-01-05 20:00:34</td>\n",
       "      <td>35</td>\n",
       "      <td>40.768610</td>\n",
       "      <td>-73.892268</td>\n",
       "      <td>40.768743</td>\n",
       "      <td>-73.890445</td>\n",
       "    </tr>\n",
       "  </tbody>\n",
       "</table>\n",
       "</div>"
      ],
      "text/plain": [
       "         type_id           starttime            stoptime  tripduration  \\\n",
       "3872702       13 2015-01-05 19:59:59 2015-01-05 20:01:00            61   \n",
       "3872703       13 2015-01-05 19:59:59 2015-01-05 20:00:46            47   \n",
       "3872704       13 2015-01-05 19:59:59 2015-01-05 20:00:45            46   \n",
       "3872705       13 2015-01-05 19:59:59 2015-01-05 20:01:39           100   \n",
       "3872706       13 2015-01-05 19:59:59 2015-01-05 20:00:34            35   \n",
       "\n",
       "         start_lat  start_lon    end_lat    end_lon  \n",
       "3872702  40.772580 -73.895658  40.774158 -73.893644  \n",
       "3872703  40.689655 -73.850250  40.688266 -73.849243  \n",
       "3872704  40.752434 -73.879283  40.752228 -73.881181  \n",
       "3872705  40.706965 -73.897269  40.703742 -73.895737  \n",
       "3872706  40.768610 -73.892268  40.768743 -73.890445  "
      ]
     },
     "execution_count": 32,
     "metadata": {},
     "output_type": "execute_result"
    }
   ],
   "source": [
    "output_q3 = output[output.starttime >= pd.to_datetime('2015-01-05 12:00:00')][output.starttime < pd.to_datetime('2015-01-05 20:00:00')]\n",
    "output_q3.tail()"
   ]
  },
  {
   "cell_type": "code",
   "execution_count": 33,
   "metadata": {
    "collapsed": false
   },
   "outputs": [
    {
     "name": "stderr",
     "output_type": "stream",
     "text": [
      "/Users/Will/anaconda/lib/python2.7/site-packages/ipykernel/__main__.py:1: UserWarning: Boolean Series key will be reindexed to match DataFrame index.\n",
      "  if __name__ == '__main__':\n"
     ]
    },
    {
     "data": {
      "text/html": [
       "<div>\n",
       "<table border=\"1\" class=\"dataframe\">\n",
       "  <thead>\n",
       "    <tr style=\"text-align: right;\">\n",
       "      <th></th>\n",
       "      <th>type_id</th>\n",
       "      <th>starttime</th>\n",
       "      <th>stoptime</th>\n",
       "      <th>tripduration</th>\n",
       "      <th>start_lat</th>\n",
       "      <th>start_lon</th>\n",
       "      <th>end_lat</th>\n",
       "      <th>end_lon</th>\n",
       "    </tr>\n",
       "  </thead>\n",
       "  <tbody>\n",
       "    <tr>\n",
       "      <th>4692644</th>\n",
       "      <td>3</td>\n",
       "      <td>2015-01-06 01:59:59</td>\n",
       "      <td>2015-01-06 02:00:57</td>\n",
       "      <td>58</td>\n",
       "      <td>40.688210</td>\n",
       "      <td>-73.936020</td>\n",
       "      <td>40.690422</td>\n",
       "      <td>-73.936462</td>\n",
       "    </tr>\n",
       "    <tr>\n",
       "      <th>4692645</th>\n",
       "      <td>3</td>\n",
       "      <td>2015-01-06 01:59:59</td>\n",
       "      <td>2015-01-06 02:00:57</td>\n",
       "      <td>58</td>\n",
       "      <td>40.688210</td>\n",
       "      <td>-73.936020</td>\n",
       "      <td>40.690422</td>\n",
       "      <td>-73.936462</td>\n",
       "    </tr>\n",
       "    <tr>\n",
       "      <th>4692646</th>\n",
       "      <td>3</td>\n",
       "      <td>2015-01-06 01:59:59</td>\n",
       "      <td>2015-01-06 02:00:29</td>\n",
       "      <td>30</td>\n",
       "      <td>40.673885</td>\n",
       "      <td>-73.952827</td>\n",
       "      <td>40.675598</td>\n",
       "      <td>-73.952667</td>\n",
       "    </tr>\n",
       "    <tr>\n",
       "      <th>4692647</th>\n",
       "      <td>3</td>\n",
       "      <td>2015-01-06 01:59:59</td>\n",
       "      <td>2015-01-06 02:00:42</td>\n",
       "      <td>43</td>\n",
       "      <td>40.646023</td>\n",
       "      <td>-73.929893</td>\n",
       "      <td>40.644096</td>\n",
       "      <td>-73.929688</td>\n",
       "    </tr>\n",
       "    <tr>\n",
       "      <th>4692648</th>\n",
       "      <td>6</td>\n",
       "      <td>2015-01-06 01:59:59</td>\n",
       "      <td>2015-01-06 02:01:25</td>\n",
       "      <td>86</td>\n",
       "      <td>40.868080</td>\n",
       "      <td>-73.892540</td>\n",
       "      <td>40.870243</td>\n",
       "      <td>-73.890419</td>\n",
       "    </tr>\n",
       "  </tbody>\n",
       "</table>\n",
       "</div>"
      ],
      "text/plain": [
       "         type_id           starttime            stoptime  tripduration  \\\n",
       "4692644        3 2015-01-06 01:59:59 2015-01-06 02:00:57            58   \n",
       "4692645        3 2015-01-06 01:59:59 2015-01-06 02:00:57            58   \n",
       "4692646        3 2015-01-06 01:59:59 2015-01-06 02:00:29            30   \n",
       "4692647        3 2015-01-06 01:59:59 2015-01-06 02:00:42            43   \n",
       "4692648        6 2015-01-06 01:59:59 2015-01-06 02:01:25            86   \n",
       "\n",
       "         start_lat  start_lon    end_lat    end_lon  \n",
       "4692644  40.688210 -73.936020  40.690422 -73.936462  \n",
       "4692645  40.688210 -73.936020  40.690422 -73.936462  \n",
       "4692646  40.673885 -73.952827  40.675598 -73.952667  \n",
       "4692647  40.646023 -73.929893  40.644096 -73.929688  \n",
       "4692648  40.868080 -73.892540  40.870243 -73.890419  "
      ]
     },
     "execution_count": 33,
     "metadata": {},
     "output_type": "execute_result"
    }
   ],
   "source": [
    "output_q4 = output[output.starttime >= pd.to_datetime('2015-01-05 18:00:00')][output.starttime < pd.to_datetime('2015-01-06 02:00:00')]\n",
    "output_q4.tail()"
   ]
  },
  {
   "cell_type": "code",
   "execution_count": 34,
   "metadata": {
    "collapsed": true
   },
   "outputs": [],
   "source": [
    "output_q1.to_csv(\"output-time/q1_raw.csv\")"
   ]
  },
  {
   "cell_type": "code",
   "execution_count": 36,
   "metadata": {
    "collapsed": true
   },
   "outputs": [],
   "source": [
    "output_q2.to_csv(\"output-time/q2_raw.csv\")\n",
    "output_q3.to_csv(\"output-time/q3_raw.csv\")\n",
    "output_q4.to_csv(\"output-time/q4_raw.csv\")"
   ]
  },
  {
   "cell_type": "code",
   "execution_count": 37,
   "metadata": {
    "collapsed": true
   },
   "outputs": [],
   "source": [
    "%%bash\n",
    "cd output-time\n",
    "awk -F\",\" -v OFS=\",\" '{ $1=\"\" ; $0=substr($0,2) } 1' q1_raw.csv > q1.csv\n",
    "awk -F\",\" -v OFS=\",\" '{ $1=\"\" ; $0=substr($0,2) } 1' q2_raw.csv > q2.csv\n",
    "awk -F\",\" -v OFS=\",\" '{ $1=\"\" ; $0=substr($0,2) } 1' q3_raw.csv > q3.csv\n",
    "awk -F\",\" -v OFS=\",\" '{ $1=\"\" ; $0=substr($0,2) } 1' q4_raw.csv > q4.csv"
   ]
  },
  {
   "cell_type": "code",
   "execution_count": null,
   "metadata": {
    "collapsed": true
   },
   "outputs": [],
   "source": []
  }
 ],
 "metadata": {
  "anaconda-cloud": {},
  "kernelspec": {
   "display_name": "Python [Root]",
   "language": "python",
   "name": "Python [Root]"
  },
  "language_info": {
   "codemirror_mode": {
    "name": "ipython",
    "version": 2
   },
   "file_extension": ".py",
   "mimetype": "text/x-python",
   "name": "python",
   "nbconvert_exporter": "python",
   "pygments_lexer": "ipython2",
   "version": "2.7.12"
  }
 },
 "nbformat": 4,
 "nbformat_minor": 0
}
