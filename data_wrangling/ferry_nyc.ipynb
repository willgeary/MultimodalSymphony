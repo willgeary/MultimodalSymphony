{
 "cells": [
  {
   "cell_type": "markdown",
   "metadata": {},
   "source": [
    "# Visualizing NYC Waterways Data"
   ]
  },
  {
   "cell_type": "markdown",
   "metadata": {},
   "source": [
    "Data source: https://github.com/BetaNYC/NY-Waterways-GTFS-data"
   ]
  },
  {
   "cell_type": "code",
   "execution_count": 1,
   "metadata": {
    "collapsed": false
   },
   "outputs": [
    {
     "name": "stderr",
     "output_type": "stream",
     "text": [
      "Cloning into 'NY-Waterways-GTFS-data'...\n"
     ]
    }
   ],
   "source": [
    "%%bash\n",
    "\n",
    "git clone https://github.com/BetaNYC/NY-Waterways-GTFS-data"
   ]
  },
  {
   "cell_type": "code",
   "execution_count": 2,
   "metadata": {
    "collapsed": true
   },
   "outputs": [],
   "source": [
    "import pandas as pd\n",
    "import numpy as np\n",
    "import datetime as dt"
   ]
  },
  {
   "cell_type": "code",
   "execution_count": 4,
   "metadata": {
    "collapsed": false
   },
   "outputs": [],
   "source": [
    "agency = pd.read_csv('NY-Waterways-GTFS-data/Data/agency.txt')\n",
    "calendar_dates = pd.read_csv('NY-Waterways-GTFS-data/Data/calendar_dates.txt')\n",
    "calendar = pd.read_csv('NY-Waterways-GTFS-data/Data/calendar.txt')\n",
    "routes = pd.read_csv('NY-Waterways-GTFS-data/Data/routes.txt')\n",
    "shapes = pd.read_csv('NY-Waterways-GTFS-data/Data/shapes.txt')\n",
    "stop_times = pd.read_csv('NY-Waterways-GTFS-data/Data/stop_times.txt')\n",
    "stops = pd.read_csv('NY-Waterways-GTFS-data/Data/stops.txt')\n",
    "trips = pd.read_csv('NY-Waterways-GTFS-data/Data/trips.txt')"
   ]
  },
  {
   "cell_type": "code",
   "execution_count": 5,
   "metadata": {
    "collapsed": false
   },
   "outputs": [
    {
     "data": {
      "text/html": [
       "<div>\n",
       "<table border=\"1\" class=\"dataframe\">\n",
       "  <thead>\n",
       "    <tr style=\"text-align: right;\">\n",
       "      <th></th>\n",
       "      <th>service_id</th>\n",
       "      <th>trip_id</th>\n",
       "      <th>route_id</th>\n",
       "    </tr>\n",
       "  </thead>\n",
       "  <tbody>\n",
       "    <tr>\n",
       "      <th>0</th>\n",
       "      <td>2012ERFSummerWeekday</td>\n",
       "      <td>ERF-NORTH-SUMMER-WEEKDAY-01</td>\n",
       "      <td>ER</td>\n",
       "    </tr>\n",
       "    <tr>\n",
       "      <th>1</th>\n",
       "      <td>2012ERFSummerWeekday</td>\n",
       "      <td>ERF-NORTH-SUMMER-WEEKDAY-02</td>\n",
       "      <td>ER</td>\n",
       "    </tr>\n",
       "    <tr>\n",
       "      <th>2</th>\n",
       "      <td>2012ERFSummerWeekday</td>\n",
       "      <td>ERF-NORTH-SUMMER-WEEKDAY-03</td>\n",
       "      <td>ER</td>\n",
       "    </tr>\n",
       "    <tr>\n",
       "      <th>3</th>\n",
       "      <td>2012ERFSummerWeekday</td>\n",
       "      <td>ERF-NORTH-SUMMER-WEEKDAY-04</td>\n",
       "      <td>ER</td>\n",
       "    </tr>\n",
       "    <tr>\n",
       "      <th>4</th>\n",
       "      <td>2012ERFSummerWeekday</td>\n",
       "      <td>ERF-NORTH-SUMMER-WEEKDAY-05</td>\n",
       "      <td>ER</td>\n",
       "    </tr>\n",
       "  </tbody>\n",
       "</table>\n",
       "</div>"
      ],
      "text/plain": [
       "             service_id                      trip_id route_id\n",
       "0  2012ERFSummerWeekday  ERF-NORTH-SUMMER-WEEKDAY-01       ER\n",
       "1  2012ERFSummerWeekday  ERF-NORTH-SUMMER-WEEKDAY-02       ER\n",
       "2  2012ERFSummerWeekday  ERF-NORTH-SUMMER-WEEKDAY-03       ER\n",
       "3  2012ERFSummerWeekday  ERF-NORTH-SUMMER-WEEKDAY-04       ER\n",
       "4  2012ERFSummerWeekday  ERF-NORTH-SUMMER-WEEKDAY-05       ER"
      ]
     },
     "execution_count": 5,
     "metadata": {},
     "output_type": "execute_result"
    }
   ],
   "source": [
    "service_trip_id = pd.merge(calendar[['service_id']],trips[['service_id', 'trip_id', 'route_id']])\n",
    "service_trip_id.head()"
   ]
  },
  {
   "cell_type": "code",
   "execution_count": 6,
   "metadata": {
    "collapsed": false
   },
   "outputs": [
    {
     "data": {
      "text/html": [
       "<div>\n",
       "<table border=\"1\" class=\"dataframe\">\n",
       "  <thead>\n",
       "    <tr style=\"text-align: right;\">\n",
       "      <th></th>\n",
       "      <th>service_id</th>\n",
       "      <th>monday</th>\n",
       "      <th>tuesday</th>\n",
       "      <th>wednesday</th>\n",
       "      <th>thursday</th>\n",
       "      <th>friday</th>\n",
       "      <th>saturday</th>\n",
       "      <th>sunday</th>\n",
       "      <th>start_date</th>\n",
       "      <th>end_date</th>\n",
       "      <th>trip_id</th>\n",
       "      <th>route_id</th>\n",
       "    </tr>\n",
       "  </thead>\n",
       "  <tbody>\n",
       "    <tr>\n",
       "      <th>0</th>\n",
       "      <td>2012ERFSummerWeekday</td>\n",
       "      <td>0</td>\n",
       "      <td>0</td>\n",
       "      <td>0</td>\n",
       "      <td>0</td>\n",
       "      <td>0</td>\n",
       "      <td>0</td>\n",
       "      <td>0</td>\n",
       "      <td>20120401</td>\n",
       "      <td>20130525</td>\n",
       "      <td>ERF-NORTH-SUMMER-WEEKDAY-01</td>\n",
       "      <td>ER</td>\n",
       "    </tr>\n",
       "    <tr>\n",
       "      <th>1</th>\n",
       "      <td>2012ERFSummerWeekday</td>\n",
       "      <td>0</td>\n",
       "      <td>0</td>\n",
       "      <td>0</td>\n",
       "      <td>0</td>\n",
       "      <td>0</td>\n",
       "      <td>0</td>\n",
       "      <td>0</td>\n",
       "      <td>20120401</td>\n",
       "      <td>20130525</td>\n",
       "      <td>ERF-NORTH-SUMMER-WEEKDAY-02</td>\n",
       "      <td>ER</td>\n",
       "    </tr>\n",
       "    <tr>\n",
       "      <th>2</th>\n",
       "      <td>2012ERFSummerWeekday</td>\n",
       "      <td>0</td>\n",
       "      <td>0</td>\n",
       "      <td>0</td>\n",
       "      <td>0</td>\n",
       "      <td>0</td>\n",
       "      <td>0</td>\n",
       "      <td>0</td>\n",
       "      <td>20120401</td>\n",
       "      <td>20130525</td>\n",
       "      <td>ERF-NORTH-SUMMER-WEEKDAY-03</td>\n",
       "      <td>ER</td>\n",
       "    </tr>\n",
       "    <tr>\n",
       "      <th>3</th>\n",
       "      <td>2012ERFSummerWeekday</td>\n",
       "      <td>0</td>\n",
       "      <td>0</td>\n",
       "      <td>0</td>\n",
       "      <td>0</td>\n",
       "      <td>0</td>\n",
       "      <td>0</td>\n",
       "      <td>0</td>\n",
       "      <td>20120401</td>\n",
       "      <td>20130525</td>\n",
       "      <td>ERF-NORTH-SUMMER-WEEKDAY-04</td>\n",
       "      <td>ER</td>\n",
       "    </tr>\n",
       "    <tr>\n",
       "      <th>4</th>\n",
       "      <td>2012ERFSummerWeekday</td>\n",
       "      <td>0</td>\n",
       "      <td>0</td>\n",
       "      <td>0</td>\n",
       "      <td>0</td>\n",
       "      <td>0</td>\n",
       "      <td>0</td>\n",
       "      <td>0</td>\n",
       "      <td>20120401</td>\n",
       "      <td>20130525</td>\n",
       "      <td>ERF-NORTH-SUMMER-WEEKDAY-05</td>\n",
       "      <td>ER</td>\n",
       "    </tr>\n",
       "  </tbody>\n",
       "</table>\n",
       "</div>"
      ],
      "text/plain": [
       "             service_id  monday  tuesday  wednesday  thursday  friday  \\\n",
       "0  2012ERFSummerWeekday       0        0          0         0       0   \n",
       "1  2012ERFSummerWeekday       0        0          0         0       0   \n",
       "2  2012ERFSummerWeekday       0        0          0         0       0   \n",
       "3  2012ERFSummerWeekday       0        0          0         0       0   \n",
       "4  2012ERFSummerWeekday       0        0          0         0       0   \n",
       "\n",
       "   saturday  sunday  start_date  end_date                      trip_id  \\\n",
       "0         0       0    20120401  20130525  ERF-NORTH-SUMMER-WEEKDAY-01   \n",
       "1         0       0    20120401  20130525  ERF-NORTH-SUMMER-WEEKDAY-02   \n",
       "2         0       0    20120401  20130525  ERF-NORTH-SUMMER-WEEKDAY-03   \n",
       "3         0       0    20120401  20130525  ERF-NORTH-SUMMER-WEEKDAY-04   \n",
       "4         0       0    20120401  20130525  ERF-NORTH-SUMMER-WEEKDAY-05   \n",
       "\n",
       "  route_id  \n",
       "0       ER  \n",
       "1       ER  \n",
       "2       ER  \n",
       "3       ER  \n",
       "4       ER  "
      ]
     },
     "execution_count": 6,
     "metadata": {},
     "output_type": "execute_result"
    }
   ],
   "source": [
    "calendar = pd.merge(calendar,service_trip_id)\n",
    "calendar.head()"
   ]
  },
  {
   "cell_type": "markdown",
   "metadata": {},
   "source": [
    "### Add abritrary arrival and departure dates to timetables\n",
    "\n",
    "Define a function to add arrival dates to stop_times tables. We will use 1/5/15 as the start date because that is the date we are currently using to visualize taxi trips. This code deals with arrival times > 24 hours and converts them to 1/6/15."
   ]
  },
  {
   "cell_type": "code",
   "execution_count": 8,
   "metadata": {
    "collapsed": true
   },
   "outputs": [],
   "source": [
    "arbitrary_dates = ['1/5/2015', '1/6/2015']"
   ]
  },
  {
   "cell_type": "code",
   "execution_count": 9,
   "metadata": {
    "collapsed": true
   },
   "outputs": [],
   "source": [
    "def add_arrival_date(df, dates = arbitrary_dates):\n",
    "    df = df.copy()\n",
    "    arrival_date = []\n",
    "    arrival_time = []\n",
    "\n",
    "    for i in df['arrival_time']:\n",
    "        hour = i[:i.find(':')]\n",
    "        minute = i[i.find(':')+1:i.find(':',4)]\n",
    "        second = i[i.find(':',5)+1:]\n",
    "        \n",
    "        if int(hour) < 24:\n",
    "            arrival_date.append(dates[0])\n",
    "            arrival_time.append(i)\n",
    "        elif 24 <= int(hour) < 48:\n",
    "            arrival_date.append(dates[1])\n",
    "            hour = int(hour) - 24\n",
    "            arrival_time.append(str(hour)+\":\"+minute+\":\"+second)\n",
    "        else:\n",
    "            arrival_date.append('NA')\n",
    "            \n",
    "    df['arrival_date'] = arrival_date\n",
    "    df['arrival_time'] = arrival_time\n",
    "    return df"
   ]
  },
  {
   "cell_type": "code",
   "execution_count": 10,
   "metadata": {
    "collapsed": true
   },
   "outputs": [],
   "source": [
    "def add_departure_date(df, dates = arbitrary_dates):\n",
    "    df = df.copy()\n",
    "    departure_date = []\n",
    "    departure_time = []\n",
    "\n",
    "    for i in df['departure_time']:\n",
    "        hour = i[:i.find(':')]\n",
    "        minute = i[i.find(':')+1:i.find(':',4)]\n",
    "        second = i[i.find(':',5)+1:]\n",
    "        \n",
    "        if int(hour) < 24:\n",
    "            departure_date.append(dates[0])\n",
    "            departure_time.append(i)\n",
    "        elif 24 <= int(hour) < 48:\n",
    "            departure_date.append(dates[1])\n",
    "            hour = int(hour) - 24\n",
    "            departure_time.append(str(hour)+\":\"+minute+\":\"+second)\n",
    "        else:\n",
    "            departure_date.append('NA')\n",
    "            \n",
    "    df['departure_date'] = departure_date\n",
    "    df['departure_time'] = departure_time\n",
    "    return df"
   ]
  },
  {
   "cell_type": "code",
   "execution_count": 11,
   "metadata": {
    "collapsed": true
   },
   "outputs": [],
   "source": [
    "monday = calendar[calendar['monday'] == 1]\n",
    "tuesday = calendar[calendar['tuesday'] == 1]\n",
    "wednesday = calendar[calendar['wednesday'] == 1]\n",
    "thursday = calendar[calendar['thursday'] == 1]\n",
    "friday = calendar[calendar['friday'] == 1]\n",
    "saturday = calendar[calendar['saturday'] == 1]\n",
    "sunday = calendar[calendar['sunday'] == 1]"
   ]
  },
  {
   "cell_type": "markdown",
   "metadata": {},
   "source": [
    "## Monday"
   ]
  },
  {
   "cell_type": "code",
   "execution_count": 12,
   "metadata": {
    "collapsed": false
   },
   "outputs": [
    {
     "name": "stdout",
     "output_type": "stream",
     "text": [
      "There are  1647 trips on Monday\n"
     ]
    },
    {
     "data": {
      "text/plain": [
       "87    BELFORD-PAULUS-WEEKDAY-01\n",
       "88    BELFORD-PAULUS-WEEKDAY-02\n",
       "89    BELFORD-PAULUS-WEEKDAY-03\n",
       "90    BELFORD-PAULUS-WEEKDAY-04\n",
       "91    BELFORD-PAULUS-WEEKDAY-05\n",
       "Name: trip_id, dtype: object"
      ]
     },
     "execution_count": 12,
     "metadata": {},
     "output_type": "execute_result"
    }
   ],
   "source": [
    "monday_trips = monday['trip_id']\n",
    "print \"There are \", len(monday_trips), \"trips on Monday\"\n",
    "monday_trips.head()"
   ]
  },
  {
   "cell_type": "code",
   "execution_count": 13,
   "metadata": {
    "collapsed": false
   },
   "outputs": [
    {
     "name": "stdout",
     "output_type": "stream",
     "text": [
      "2017-04-08 12:20:33.519282 finished trip number 100 / 1647\n",
      "2017-04-08 12:20:37.221995 finished trip number 200 / 1647\n",
      "2017-04-08 12:20:40.920204 finished trip number 300 / 1647\n",
      "2017-04-08 12:20:44.621693 finished trip number 400 / 1647\n",
      "2017-04-08 12:20:48.298338 finished trip number 500 / 1647\n",
      "2017-04-08 12:20:52.221854 finished trip number 600 / 1647\n",
      "2017-04-08 12:20:56.332659 finished trip number 700 / 1647\n",
      "2017-04-08 12:20:59.659532 finished trip number 800 / 1647\n",
      "2017-04-08 12:21:03.251423 finished trip number 900 / 1647\n",
      "2017-04-08 12:21:07.390588 finished trip number 1000 / 1647\n",
      "2017-04-08 12:21:11.321864 finished trip number 1100 / 1647\n",
      "2017-04-08 12:21:15.230589 finished trip number 1200 / 1647\n",
      "2017-04-08 12:21:18.873882 finished trip number 1300 / 1647\n",
      "2017-04-08 12:21:22.139726 finished trip number 1400 / 1647\n",
      "2017-04-08 12:21:26.149447 finished trip number 1500 / 1647\n",
      "2017-04-08 12:21:30.623964 finished trip number 1600 / 1647\n"
     ]
    }
   ],
   "source": [
    "triplist = []\n",
    "count = 0\n",
    "\n",
    "for i in monday_trips:\n",
    "    count += 1\n",
    "    df = stop_times[stop_times['trip_id'] == i]\n",
    "    \n",
    "    # add arrival and departure dates\n",
    "    df = add_arrival_date(df, dates = arbitrary_dates)\n",
    "    df = add_departure_date(df, dates = arbitrary_dates)\n",
    "    df['arrival_datetime'] = pd.to_datetime(df['arrival_date'] + ' ' + df['arrival_time'])\n",
    "    df['departure_datetime'] = pd.to_datetime(df['departure_date'] + ' ' + df['departure_time'])\n",
    "\n",
    "    # join df with stops\n",
    "    df = pd.merge(df, stops[['stop_id', 'stop_name', 'stop_lat', 'stop_lon']],left_on='stop_id', right_on='stop_id')\n",
    "\n",
    "    # join df with trips to get direction and route id\n",
    "    try:\n",
    "        df = pd.merge(df, trips[['trip_id', 'direction_id', 'route_id']], left_on='trip_id', right_on='trip_id', how='left')\n",
    "    except:\n",
    "        df = pd.merge(df, trips[['trip_id', 'route_id']], left_on='trip_id', right_on='trip_id', how='left')\n",
    "    \n",
    "    # join df with routes to get route id\n",
    "    df = pd.merge(df, routes[['route_id', 'route_long_name']], left_on='route_id', right_on='route_id', how='left')\n",
    "    \n",
    "    # create new dataframe to store results\n",
    "    legs = pd.DataFrame()\n",
    "    legs['type_id'] = df['route_id']\n",
    "    legs['starttime'] = df['departure_datetime']\n",
    "    legs['stoptime'] = df['arrival_datetime'].shift(-1).fillna(method='ffill')\n",
    "    legs['tripduration'] = ((legs['stoptime'] - legs['starttime'])/np.timedelta64(1, 's')).astype(int)\n",
    "    legs['start_lat'] = df['stop_lat']\n",
    "    legs['start_lon'] = df['stop_lon']\n",
    "    legs['end_lat'] = legs['start_lat'].shift(-1).fillna(method='ffill')\n",
    "    legs['end_lon'] = legs['start_lon'].shift(-1).fillna(method='ffill')\n",
    "    \n",
    "    # append results to triplist\n",
    "    triplist.append(legs)\n",
    "    \n",
    "    if count % 100 == 0:\n",
    "        print str(dt.datetime.now()), \"finished trip number\", count, \"/\", len(monday_trips)"
   ]
  },
  {
   "cell_type": "code",
   "execution_count": 14,
   "metadata": {
    "collapsed": false
   },
   "outputs": [
    {
     "data": {
      "text/html": [
       "<div>\n",
       "<table border=\"1\" class=\"dataframe\">\n",
       "  <thead>\n",
       "    <tr style=\"text-align: right;\">\n",
       "      <th></th>\n",
       "      <th>type_id</th>\n",
       "      <th>starttime</th>\n",
       "      <th>stoptime</th>\n",
       "      <th>tripduration</th>\n",
       "      <th>start_lat</th>\n",
       "      <th>start_lon</th>\n",
       "      <th>end_lat</th>\n",
       "      <th>end_lon</th>\n",
       "    </tr>\n",
       "  </thead>\n",
       "  <tbody>\n",
       "    <tr>\n",
       "      <th>0</th>\n",
       "      <td>BELFORD+PAULUS</td>\n",
       "      <td>2015-01-05 05:45:00</td>\n",
       "      <td>2015-01-05 06:33:00</td>\n",
       "      <td>2880</td>\n",
       "      <td>40.433258</td>\n",
       "      <td>-74.078826</td>\n",
       "      <td>40.71383</td>\n",
       "      <td>-74.033207</td>\n",
       "    </tr>\n",
       "    <tr>\n",
       "      <th>1</th>\n",
       "      <td>BELFORD+PAULUS</td>\n",
       "      <td>2015-01-05 06:33:00</td>\n",
       "      <td>2015-01-05 06:33:00</td>\n",
       "      <td>0</td>\n",
       "      <td>40.713830</td>\n",
       "      <td>-74.033207</td>\n",
       "      <td>40.71383</td>\n",
       "      <td>-74.033207</td>\n",
       "    </tr>\n",
       "  </tbody>\n",
       "</table>\n",
       "</div>"
      ],
      "text/plain": [
       "          type_id           starttime            stoptime  tripduration  \\\n",
       "0  BELFORD+PAULUS 2015-01-05 05:45:00 2015-01-05 06:33:00          2880   \n",
       "1  BELFORD+PAULUS 2015-01-05 06:33:00 2015-01-05 06:33:00             0   \n",
       "\n",
       "   start_lat  start_lon   end_lat    end_lon  \n",
       "0  40.433258 -74.078826  40.71383 -74.033207  \n",
       "1  40.713830 -74.033207  40.71383 -74.033207  "
      ]
     },
     "execution_count": 14,
     "metadata": {},
     "output_type": "execute_result"
    }
   ],
   "source": [
    "triplist[0].head()"
   ]
  },
  {
   "cell_type": "code",
   "execution_count": 15,
   "metadata": {
    "collapsed": false
   },
   "outputs": [
    {
     "data": {
      "text/plain": [
       "1647"
      ]
     },
     "execution_count": 15,
     "metadata": {},
     "output_type": "execute_result"
    }
   ],
   "source": [
    "len(triplist)"
   ]
  },
  {
   "cell_type": "code",
   "execution_count": 16,
   "metadata": {
    "collapsed": true
   },
   "outputs": [],
   "source": [
    "data = pd.concat(triplist)"
   ]
  },
  {
   "cell_type": "code",
   "execution_count": 17,
   "metadata": {
    "collapsed": true
   },
   "outputs": [],
   "source": [
    "data = data[data.tripduration != 0]"
   ]
  },
  {
   "cell_type": "code",
   "execution_count": 18,
   "metadata": {
    "collapsed": true
   },
   "outputs": [],
   "source": [
    "data = data[data.start_lon != 0]"
   ]
  },
  {
   "cell_type": "code",
   "execution_count": 19,
   "metadata": {
    "collapsed": true
   },
   "outputs": [],
   "source": [
    "data = data.sort_values(by='starttime')\n",
    "data = data.reset_index(drop=True)"
   ]
  },
  {
   "cell_type": "code",
   "execution_count": 20,
   "metadata": {
    "collapsed": false
   },
   "outputs": [
    {
     "data": {
      "text/plain": [
       "(2157, 8)"
      ]
     },
     "execution_count": 20,
     "metadata": {},
     "output_type": "execute_result"
    }
   ],
   "source": [
    "data.shape"
   ]
  },
  {
   "cell_type": "code",
   "execution_count": 21,
   "metadata": {
    "collapsed": true
   },
   "outputs": [],
   "source": [
    "data['type_id'] = 16 # 16 = waterways"
   ]
  },
  {
   "cell_type": "code",
   "execution_count": 22,
   "metadata": {
    "collapsed": true
   },
   "outputs": [],
   "source": [
    "data.to_csv('waterways_monday_raw.csv')"
   ]
  },
  {
   "cell_type": "code",
   "execution_count": 23,
   "metadata": {
    "collapsed": false
   },
   "outputs": [
    {
     "name": "stdout",
     "output_type": "stream",
     "text": [
      ",type_id,starttime,stoptime,tripduration,start_lat,start_lon,end_lat,end_lon\n",
      "0,16,2015-01-05 05:40:00,2015-01-05 05:50:00,600,41.500896,-74.005494,41.505781,-73.985538\n",
      "1,16,2015-01-05 05:45:00,2015-01-05 06:33:00,2880,40.433258,-74.078826,40.71383,-74.033207\n",
      "2,16,2015-01-05 05:45:00,2015-01-05 06:35:00,3000,40.433258,-74.078826,40.715145,-74.017282\n",
      "3,16,2015-01-05 05:45:00,2015-01-05 06:33:00,2880,40.433258,-74.078826,40.703611,-74.006631\n",
      "4,16,2015-01-05 05:49:00,2015-01-05 05:59:00,600,41.505781,-73.985538,41.500896,-74.005494\n",
      "5,16,2015-01-05 05:53:00,2015-01-05 06:04:00,660,41.192703,-73.95833,41.157187,-73.870225\n",
      "6,16,2015-01-05 06:00:00,2015-01-05 06:07:00,420,40.71383,-74.033207,40.715145,-74.017282\n",
      "7,16,2015-01-05 06:00:00,2015-01-05 06:08:00,480,40.752735,-74.023132,40.760147,-74.003069\n",
      "8,16,2015-01-05 06:00:00,2015-01-05 06:20:00,1200,40.687798,-74.074674,40.703611,-74.006631\n"
     ]
    }
   ],
   "source": [
    "%%bash \n",
    "\n",
    "head waterways_monday_raw.csv"
   ]
  },
  {
   "cell_type": "code",
   "execution_count": 24,
   "metadata": {
    "collapsed": true
   },
   "outputs": [],
   "source": [
    "%%bash\n",
    "\n",
    "awk -F\",\" -v OFS=\",\" '{ $1=\"\" ; $0=substr($0,2) } 1' waterways_monday_raw.csv > waterways_monday.csv"
   ]
  },
  {
   "cell_type": "code",
   "execution_count": 25,
   "metadata": {
    "collapsed": false
   },
   "outputs": [
    {
     "name": "stdout",
     "output_type": "stream",
     "text": [
      "type_id,starttime,stoptime,tripduration,start_lat,start_lon,end_lat,end_lon\n",
      "16,2015-01-05 05:40:00,2015-01-05 05:50:00,600,41.500896,-74.005494,41.505781,-73.985538\n",
      "16,2015-01-05 05:45:00,2015-01-05 06:33:00,2880,40.433258,-74.078826,40.71383,-74.033207\n",
      "16,2015-01-05 05:45:00,2015-01-05 06:35:00,3000,40.433258,-74.078826,40.715145,-74.017282\n",
      "16,2015-01-05 05:45:00,2015-01-05 06:33:00,2880,40.433258,-74.078826,40.703611,-74.006631\n",
      "16,2015-01-05 05:49:00,2015-01-05 05:59:00,600,41.505781,-73.985538,41.500896,-74.005494\n",
      "16,2015-01-05 05:53:00,2015-01-05 06:04:00,660,41.192703,-73.95833,41.157187,-73.870225\n",
      "16,2015-01-05 06:00:00,2015-01-05 06:07:00,420,40.71383,-74.033207,40.715145,-74.017282\n",
      "16,2015-01-05 06:00:00,2015-01-05 06:08:00,480,40.752735,-74.023132,40.760147,-74.003069\n",
      "16,2015-01-05 06:00:00,2015-01-05 06:20:00,1200,40.687798,-74.074674,40.703611,-74.006631\n"
     ]
    }
   ],
   "source": [
    "%%bash \n",
    "\n",
    "head waterways_monday.csv"
   ]
  },
  {
   "cell_type": "code",
   "execution_count": null,
   "metadata": {
    "collapsed": true
   },
   "outputs": [],
   "source": []
  }
 ],
 "metadata": {
  "anaconda-cloud": {},
  "kernelspec": {
   "display_name": "Python [Root]",
   "language": "python",
   "name": "Python [Root]"
  },
  "language_info": {
   "codemirror_mode": {
    "name": "ipython",
    "version": 2
   },
   "file_extension": ".py",
   "mimetype": "text/x-python",
   "name": "python",
   "nbconvert_exporter": "python",
   "pygments_lexer": "ipython2",
   "version": "2.7.12"
  }
 },
 "nbformat": 4,
 "nbformat_minor": 0
}
