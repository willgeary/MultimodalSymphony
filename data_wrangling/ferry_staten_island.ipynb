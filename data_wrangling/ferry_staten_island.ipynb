{
 "cells": [
  {
   "cell_type": "markdown",
   "metadata": {},
   "source": [
    "# Visualizing Staten Island Ferry GTFS Data"
   ]
  },
  {
   "cell_type": "markdown",
   "metadata": {},
   "source": [
    "Data source: https://data.cityofnewyork.us/Transportation/Staten-Island-Ferry-Schedule-GTFS-/mwxp-krtu"
   ]
  },
  {
   "cell_type": "code",
   "execution_count": 1,
   "metadata": {
    "collapsed": true
   },
   "outputs": [],
   "source": [
    "url = \"http://www.nyc.gov/html/dot/downloads/misc/siferry-gtfs.zip\""
   ]
  },
  {
   "cell_type": "code",
   "execution_count": 1,
   "metadata": {
    "collapsed": false
   },
   "outputs": [
    {
     "name": "stdout",
     "output_type": "stream",
     "text": [
      "Ferry Data Wrangling Notebook v2.ipynb  \u001b[34mgtfs\u001b[m\u001b[m/\r\n",
      "Ferry Data Wrangling.ipynb              output_clean.csv\r\n",
      "ferry_monday.csv                        \u001b[34msketch\u001b[m\u001b[m/\r\n",
      "ferry_monday_raw.csv\r\n"
     ]
    }
   ],
   "source": [
    "ls"
   ]
  },
  {
   "cell_type": "code",
   "execution_count": 4,
   "metadata": {
    "collapsed": false
   },
   "outputs": [
    {
     "name": "stdout",
     "output_type": "stream",
     "text": [
      "Archive:  siferry-gtfs.zip\n"
     ]
    },
    {
     "name": "stderr",
     "output_type": "stream",
     "text": [
      "mkdir: gtfs: File exists\n",
      "--2017-04-06 19:17:26--  http://www.nyc.gov/html/dot/downloads/misc/siferry-gtfs.zip\n",
      "Resolving www.nyc.gov... 2600:1400:d:38a::1500, 2600:1400:d:385::1500, 23.217.171.105\n",
      "Connecting to www.nyc.gov|2600:1400:d:38a::1500|:80... connected.\n",
      "HTTP request sent, awaiting response... 200 OK\n",
      "Length: 14232 (14K) [application/zip]\n",
      "Saving to: ‘siferry-gtfs.zip’\n",
      "\n",
      "     0K .......... ...                                        100% 11.1M=0.001s\n",
      "\n",
      "2017-04-06 19:17:26 (11.1 MB/s) - ‘siferry-gtfs.zip’ saved [14232/14232]\n",
      "\n",
      "replace agency.txt? [y]es, [n]o, [A]ll, [N]one, [r]ename:  NULL\n",
      "(EOF or read error, treating as \"[N]one\" ...)\n"
     ]
    }
   ],
   "source": [
    "%%bash\n",
    "\n",
    "mkdir gtfs\n",
    "cd gtfs\n",
    "wget http://www.nyc.gov/html/dot/downloads/misc/siferry-gtfs.zip\n",
    "unzip siferry-gtfs.zip"
   ]
  },
  {
   "cell_type": "code",
   "execution_count": 6,
   "metadata": {
    "collapsed": false
   },
   "outputs": [
    {
     "name": "stdout",
     "output_type": "stream",
     "text": [
      "Ferry Data Wrangling Notebook v2.ipynb\n",
      "Ferry Data Wrangling.ipynb\n",
      "gtfs\n"
     ]
    }
   ],
   "source": [
    "%%bash\n",
    "ls"
   ]
  },
  {
   "cell_type": "markdown",
   "metadata": {},
   "source": [
    "Import libraries:"
   ]
  },
  {
   "cell_type": "code",
   "execution_count": 7,
   "metadata": {
    "collapsed": true
   },
   "outputs": [],
   "source": [
    "import pandas as pd\n",
    "import numpy as np\n",
    "import datetime as dt"
   ]
  },
  {
   "cell_type": "markdown",
   "metadata": {},
   "source": [
    "### Load GTFS data"
   ]
  },
  {
   "cell_type": "code",
   "execution_count": 8,
   "metadata": {
    "collapsed": true
   },
   "outputs": [],
   "source": [
    "agency = pd.read_csv('gtfs/agency.txt')\n",
    "calendar_dates = pd.read_csv('gtfs/calendar_dates.txt')\n",
    "calendar = pd.read_csv('gtfs/calendar.txt')\n",
    "routes = pd.read_csv('gtfs/routes.txt')\n",
    "shapes = pd.read_csv('gtfs/shapes.txt')\n",
    "stop_times = pd.read_csv('gtfs/stop_times.txt')\n",
    "stops = pd.read_csv('gtfs/stops.txt')\n",
    "trips = pd.read_csv('gtfs/trips.txt')"
   ]
  },
  {
   "cell_type": "markdown",
   "metadata": {},
   "source": [
    "### Preview the data"
   ]
  },
  {
   "cell_type": "code",
   "execution_count": 9,
   "metadata": {
    "collapsed": false
   },
   "outputs": [
    {
     "data": {
      "text/html": [
       "<div>\n",
       "<table border=\"1\" class=\"dataframe\">\n",
       "  <thead>\n",
       "    <tr style=\"text-align: right;\">\n",
       "      <th></th>\n",
       "      <th>agency_phone</th>\n",
       "      <th>agency_url</th>\n",
       "      <th>agency_id</th>\n",
       "      <th>agency_name</th>\n",
       "      <th>agency_timezone</th>\n",
       "      <th>agency_lang</th>\n",
       "    </tr>\n",
       "  </thead>\n",
       "  <tbody>\n",
       "    <tr>\n",
       "      <th>0</th>\n",
       "      <td>311</td>\n",
       "      <td>http://nyc.gov/dot</td>\n",
       "      <td>NYC DOT</td>\n",
       "      <td>New York City Department of Transportation</td>\n",
       "      <td>America/New_York</td>\n",
       "      <td>en-US</td>\n",
       "    </tr>\n",
       "  </tbody>\n",
       "</table>\n",
       "</div>"
      ],
      "text/plain": [
       "   agency_phone          agency_url agency_id  \\\n",
       "0           311  http://nyc.gov/dot   NYC DOT   \n",
       "\n",
       "                                  agency_name   agency_timezone agency_lang  \n",
       "0  New York City Department of Transportation  America/New_York       en-US  "
      ]
     },
     "execution_count": 9,
     "metadata": {},
     "output_type": "execute_result"
    }
   ],
   "source": [
    "agency.head()"
   ]
  },
  {
   "cell_type": "code",
   "execution_count": 10,
   "metadata": {
    "collapsed": false
   },
   "outputs": [
    {
     "data": {
      "text/html": [
       "<div>\n",
       "<table border=\"1\" class=\"dataframe\">\n",
       "  <thead>\n",
       "    <tr style=\"text-align: right;\">\n",
       "      <th></th>\n",
       "      <th>service_id</th>\n",
       "      <th>date</th>\n",
       "      <th>exception_type</th>\n",
       "    </tr>\n",
       "  </thead>\n",
       "  <tbody>\n",
       "    <tr>\n",
       "      <th>0</th>\n",
       "      <td>monday</td>\n",
       "      <td>20160905</td>\n",
       "      <td>2</td>\n",
       "    </tr>\n",
       "    <tr>\n",
       "      <th>1</th>\n",
       "      <td>monday</td>\n",
       "      <td>20190902</td>\n",
       "      <td>2</td>\n",
       "    </tr>\n",
       "    <tr>\n",
       "      <th>2</th>\n",
       "      <td>monday</td>\n",
       "      <td>20170102</td>\n",
       "      <td>2</td>\n",
       "    </tr>\n",
       "    <tr>\n",
       "      <th>3</th>\n",
       "      <td>monday</td>\n",
       "      <td>20180101</td>\n",
       "      <td>2</td>\n",
       "    </tr>\n",
       "    <tr>\n",
       "      <th>4</th>\n",
       "      <td>monday</td>\n",
       "      <td>20210705</td>\n",
       "      <td>2</td>\n",
       "    </tr>\n",
       "  </tbody>\n",
       "</table>\n",
       "</div>"
      ],
      "text/plain": [
       "  service_id      date  exception_type\n",
       "0     monday  20160905               2\n",
       "1     monday  20190902               2\n",
       "2     monday  20170102               2\n",
       "3     monday  20180101               2\n",
       "4     monday  20210705               2"
      ]
     },
     "execution_count": 10,
     "metadata": {},
     "output_type": "execute_result"
    }
   ],
   "source": [
    "calendar_dates.head()"
   ]
  },
  {
   "cell_type": "code",
   "execution_count": 11,
   "metadata": {
    "collapsed": false
   },
   "outputs": [
    {
     "data": {
      "text/html": [
       "<div>\n",
       "<table border=\"1\" class=\"dataframe\">\n",
       "  <thead>\n",
       "    <tr style=\"text-align: right;\">\n",
       "      <th></th>\n",
       "      <th>service_id</th>\n",
       "      <th>start_date</th>\n",
       "      <th>end_date</th>\n",
       "      <th>monday</th>\n",
       "      <th>tuesday</th>\n",
       "      <th>wednesday</th>\n",
       "      <th>thursday</th>\n",
       "      <th>friday</th>\n",
       "      <th>saturday</th>\n",
       "      <th>sunday</th>\n",
       "    </tr>\n",
       "  </thead>\n",
       "  <tbody>\n",
       "    <tr>\n",
       "      <th>0</th>\n",
       "      <td>monday</td>\n",
       "      <td>20140510</td>\n",
       "      <td>20211231</td>\n",
       "      <td>1</td>\n",
       "      <td>0</td>\n",
       "      <td>0</td>\n",
       "      <td>0</td>\n",
       "      <td>0</td>\n",
       "      <td>0</td>\n",
       "      <td>0</td>\n",
       "    </tr>\n",
       "    <tr>\n",
       "      <th>1</th>\n",
       "      <td>prevmonday</td>\n",
       "      <td>20140430</td>\n",
       "      <td>20140509</td>\n",
       "      <td>1</td>\n",
       "      <td>0</td>\n",
       "      <td>0</td>\n",
       "      <td>0</td>\n",
       "      <td>0</td>\n",
       "      <td>0</td>\n",
       "      <td>0</td>\n",
       "    </tr>\n",
       "    <tr>\n",
       "      <th>2</th>\n",
       "      <td>saturday</td>\n",
       "      <td>20140510</td>\n",
       "      <td>20211231</td>\n",
       "      <td>0</td>\n",
       "      <td>0</td>\n",
       "      <td>0</td>\n",
       "      <td>0</td>\n",
       "      <td>0</td>\n",
       "      <td>1</td>\n",
       "      <td>0</td>\n",
       "    </tr>\n",
       "    <tr>\n",
       "      <th>3</th>\n",
       "      <td>prevsunday</td>\n",
       "      <td>20140430</td>\n",
       "      <td>20140509</td>\n",
       "      <td>0</td>\n",
       "      <td>0</td>\n",
       "      <td>0</td>\n",
       "      <td>0</td>\n",
       "      <td>0</td>\n",
       "      <td>0</td>\n",
       "      <td>1</td>\n",
       "    </tr>\n",
       "    <tr>\n",
       "      <th>4</th>\n",
       "      <td>sunday</td>\n",
       "      <td>20140510</td>\n",
       "      <td>20211231</td>\n",
       "      <td>0</td>\n",
       "      <td>0</td>\n",
       "      <td>0</td>\n",
       "      <td>0</td>\n",
       "      <td>0</td>\n",
       "      <td>0</td>\n",
       "      <td>1</td>\n",
       "    </tr>\n",
       "  </tbody>\n",
       "</table>\n",
       "</div>"
      ],
      "text/plain": [
       "   service_id  start_date  end_date  monday  tuesday  wednesday  thursday  \\\n",
       "0      monday    20140510  20211231       1        0          0         0   \n",
       "1  prevmonday    20140430  20140509       1        0          0         0   \n",
       "2    saturday    20140510  20211231       0        0          0         0   \n",
       "3  prevsunday    20140430  20140509       0        0          0         0   \n",
       "4      sunday    20140510  20211231       0        0          0         0   \n",
       "\n",
       "   friday  saturday  sunday  \n",
       "0       0         0       0  \n",
       "1       0         0       0  \n",
       "2       0         1       0  \n",
       "3       0         0       1  \n",
       "4       0         0       1  "
      ]
     },
     "execution_count": 11,
     "metadata": {},
     "output_type": "execute_result"
    }
   ],
   "source": [
    "calendar.head()"
   ]
  },
  {
   "cell_type": "code",
   "execution_count": 12,
   "metadata": {
    "collapsed": false
   },
   "outputs": [
    {
     "data": {
      "text/html": [
       "<div>\n",
       "<table border=\"1\" class=\"dataframe\">\n",
       "  <thead>\n",
       "    <tr style=\"text-align: right;\">\n",
       "      <th></th>\n",
       "      <th>route_long_name</th>\n",
       "      <th>short_name</th>\n",
       "      <th>route_type</th>\n",
       "      <th>route_text_color</th>\n",
       "      <th>agency_id</th>\n",
       "      <th>route_id</th>\n",
       "      <th>route_color</th>\n",
       "      <th>route_desc</th>\n",
       "      <th>route_url</th>\n",
       "    </tr>\n",
       "  </thead>\n",
       "  <tbody>\n",
       "    <tr>\n",
       "      <th>0</th>\n",
       "      <td>Staten Island Ferry</td>\n",
       "      <td>NaN</td>\n",
       "      <td>4</td>\n",
       "      <td>0</td>\n",
       "      <td>NYC DOT</td>\n",
       "      <td>SIF</td>\n",
       "      <td>FF8330</td>\n",
       "      <td>The Ferry operates between the St. George Ferr...</td>\n",
       "      <td>http://nyc.gov/siferry</td>\n",
       "    </tr>\n",
       "  </tbody>\n",
       "</table>\n",
       "</div>"
      ],
      "text/plain": [
       "       route_long_name  short_name  route_type  route_text_color agency_id  \\\n",
       "0  Staten Island Ferry         NaN           4                 0   NYC DOT   \n",
       "\n",
       "  route_id route_color                                         route_desc  \\\n",
       "0      SIF      FF8330  The Ferry operates between the St. George Ferr...   \n",
       "\n",
       "                route_url  \n",
       "0  http://nyc.gov/siferry  "
      ]
     },
     "execution_count": 12,
     "metadata": {},
     "output_type": "execute_result"
    }
   ],
   "source": [
    "routes.head()"
   ]
  },
  {
   "cell_type": "code",
   "execution_count": 13,
   "metadata": {
    "collapsed": false
   },
   "outputs": [
    {
     "data": {
      "text/html": [
       "<div>\n",
       "<table border=\"1\" class=\"dataframe\">\n",
       "  <thead>\n",
       "    <tr style=\"text-align: right;\">\n",
       "      <th></th>\n",
       "      <th>shape_id</th>\n",
       "      <th>shape_pt_lat</th>\n",
       "      <th>shape_pt_lon</th>\n",
       "      <th>shape_pt_sequence</th>\n",
       "      <th>shape_dist_traveled</th>\n",
       "    </tr>\n",
       "  </thead>\n",
       "  <tbody>\n",
       "    <tr>\n",
       "      <th>0</th>\n",
       "      <td>stgeorge</td>\n",
       "      <td>40.644165</td>\n",
       "      <td>-74.072235</td>\n",
       "      <td>1</td>\n",
       "      <td>NaN</td>\n",
       "    </tr>\n",
       "    <tr>\n",
       "      <th>1</th>\n",
       "      <td>stgeorge</td>\n",
       "      <td>40.645058</td>\n",
       "      <td>-74.070122</td>\n",
       "      <td>2</td>\n",
       "      <td>NaN</td>\n",
       "    </tr>\n",
       "    <tr>\n",
       "      <th>2</th>\n",
       "      <td>stgeorge</td>\n",
       "      <td>40.645466</td>\n",
       "      <td>-74.069527</td>\n",
       "      <td>3</td>\n",
       "      <td>NaN</td>\n",
       "    </tr>\n",
       "    <tr>\n",
       "      <th>3</th>\n",
       "      <td>stgeorge</td>\n",
       "      <td>40.685650</td>\n",
       "      <td>-74.032486</td>\n",
       "      <td>4</td>\n",
       "      <td>NaN</td>\n",
       "    </tr>\n",
       "    <tr>\n",
       "      <th>4</th>\n",
       "      <td>stgeorge</td>\n",
       "      <td>40.698242</td>\n",
       "      <td>-74.013351</td>\n",
       "      <td>5</td>\n",
       "      <td>NaN</td>\n",
       "    </tr>\n",
       "  </tbody>\n",
       "</table>\n",
       "</div>"
      ],
      "text/plain": [
       "   shape_id  shape_pt_lat  shape_pt_lon  shape_pt_sequence  \\\n",
       "0  stgeorge     40.644165    -74.072235                  1   \n",
       "1  stgeorge     40.645058    -74.070122                  2   \n",
       "2  stgeorge     40.645466    -74.069527                  3   \n",
       "3  stgeorge     40.685650    -74.032486                  4   \n",
       "4  stgeorge     40.698242    -74.013351                  5   \n",
       "\n",
       "   shape_dist_traveled  \n",
       "0                  NaN  \n",
       "1                  NaN  \n",
       "2                  NaN  \n",
       "3                  NaN  \n",
       "4                  NaN  "
      ]
     },
     "execution_count": 13,
     "metadata": {},
     "output_type": "execute_result"
    }
   ],
   "source": [
    "shapes.head()"
   ]
  },
  {
   "cell_type": "code",
   "execution_count": 14,
   "metadata": {
    "collapsed": false
   },
   "outputs": [
    {
     "data": {
      "text/html": [
       "<div>\n",
       "<table border=\"1\" class=\"dataframe\">\n",
       "  <thead>\n",
       "    <tr style=\"text-align: right;\">\n",
       "      <th></th>\n",
       "      <th>trip_id</th>\n",
       "      <th>arrival_time</th>\n",
       "      <th>departure_time</th>\n",
       "      <th>stop_id</th>\n",
       "      <th>stop_sequence</th>\n",
       "      <th>stop_headsign</th>\n",
       "      <th>pickup_type</th>\n",
       "      <th>drop_off_type</th>\n",
       "      <th>shape_dist_traveled</th>\n",
       "    </tr>\n",
       "  </thead>\n",
       "  <tbody>\n",
       "    <tr>\n",
       "      <th>0</th>\n",
       "      <td>prevsaturdaywhitehall203000</td>\n",
       "      <td>20:30:00</td>\n",
       "      <td>20:30:00</td>\n",
       "      <td>whitehall</td>\n",
       "      <td>1</td>\n",
       "      <td>NaN</td>\n",
       "      <td>NaN</td>\n",
       "      <td>NaN</td>\n",
       "      <td>NaN</td>\n",
       "    </tr>\n",
       "    <tr>\n",
       "      <th>1</th>\n",
       "      <td>prevsaturdaywhitehall203000</td>\n",
       "      <td>20:55:00</td>\n",
       "      <td>20:55:00</td>\n",
       "      <td>stgeorge</td>\n",
       "      <td>2</td>\n",
       "      <td>NaN</td>\n",
       "      <td>NaN</td>\n",
       "      <td>NaN</td>\n",
       "      <td>NaN</td>\n",
       "    </tr>\n",
       "    <tr>\n",
       "      <th>2</th>\n",
       "      <td>prevmondaywhitehall223000</td>\n",
       "      <td>22:30:00</td>\n",
       "      <td>22:30:00</td>\n",
       "      <td>whitehall</td>\n",
       "      <td>1</td>\n",
       "      <td>NaN</td>\n",
       "      <td>NaN</td>\n",
       "      <td>NaN</td>\n",
       "      <td>NaN</td>\n",
       "    </tr>\n",
       "    <tr>\n",
       "      <th>3</th>\n",
       "      <td>prevmondaywhitehall223000</td>\n",
       "      <td>22:55:00</td>\n",
       "      <td>22:55:00</td>\n",
       "      <td>stgeorge</td>\n",
       "      <td>2</td>\n",
       "      <td>NaN</td>\n",
       "      <td>NaN</td>\n",
       "      <td>NaN</td>\n",
       "      <td>NaN</td>\n",
       "    </tr>\n",
       "    <tr>\n",
       "      <th>4</th>\n",
       "      <td>saturdaystgeorge103000</td>\n",
       "      <td>10:30:00</td>\n",
       "      <td>10:30:00</td>\n",
       "      <td>stgeorge</td>\n",
       "      <td>1</td>\n",
       "      <td>NaN</td>\n",
       "      <td>NaN</td>\n",
       "      <td>NaN</td>\n",
       "      <td>NaN</td>\n",
       "    </tr>\n",
       "  </tbody>\n",
       "</table>\n",
       "</div>"
      ],
      "text/plain": [
       "                       trip_id arrival_time departure_time    stop_id  \\\n",
       "0  prevsaturdaywhitehall203000     20:30:00       20:30:00  whitehall   \n",
       "1  prevsaturdaywhitehall203000     20:55:00       20:55:00   stgeorge   \n",
       "2    prevmondaywhitehall223000     22:30:00       22:30:00  whitehall   \n",
       "3    prevmondaywhitehall223000     22:55:00       22:55:00   stgeorge   \n",
       "4       saturdaystgeorge103000     10:30:00       10:30:00   stgeorge   \n",
       "\n",
       "   stop_sequence  stop_headsign  pickup_type  drop_off_type  \\\n",
       "0              1            NaN          NaN            NaN   \n",
       "1              2            NaN          NaN            NaN   \n",
       "2              1            NaN          NaN            NaN   \n",
       "3              2            NaN          NaN            NaN   \n",
       "4              1            NaN          NaN            NaN   \n",
       "\n",
       "   shape_dist_traveled  \n",
       "0                  NaN  \n",
       "1                  NaN  \n",
       "2                  NaN  \n",
       "3                  NaN  \n",
       "4                  NaN  "
      ]
     },
     "execution_count": 14,
     "metadata": {},
     "output_type": "execute_result"
    }
   ],
   "source": [
    "stop_times.head()"
   ]
  },
  {
   "cell_type": "code",
   "execution_count": 15,
   "metadata": {
    "collapsed": false
   },
   "outputs": [
    {
     "data": {
      "text/html": [
       "<div>\n",
       "<table border=\"1\" class=\"dataframe\">\n",
       "  <thead>\n",
       "    <tr style=\"text-align: right;\">\n",
       "      <th></th>\n",
       "      <th>stop_desc</th>\n",
       "      <th>stop_lat</th>\n",
       "      <th>stop_name</th>\n",
       "      <th>stop_lon</th>\n",
       "      <th>stop_id</th>\n",
       "      <th>location_type</th>\n",
       "    </tr>\n",
       "  </thead>\n",
       "  <tbody>\n",
       "    <tr>\n",
       "      <th>0</th>\n",
       "      <td>Located at 1 Bay Street, Staten Island, at the...</td>\n",
       "      <td>40.644169</td>\n",
       "      <td>St. George Ferry Terminal</td>\n",
       "      <td>-74.072201</td>\n",
       "      <td>stgeorge</td>\n",
       "      <td>0</td>\n",
       "    </tr>\n",
       "    <tr>\n",
       "      <th>1</th>\n",
       "      <td>Located at Peter Minuit Plaza, at the intersec...</td>\n",
       "      <td>40.701360</td>\n",
       "      <td>Whitehall Ferry Terminal</td>\n",
       "      <td>-74.012666</td>\n",
       "      <td>whitehall</td>\n",
       "      <td>0</td>\n",
       "    </tr>\n",
       "  </tbody>\n",
       "</table>\n",
       "</div>"
      ],
      "text/plain": [
       "                                           stop_desc   stop_lat  \\\n",
       "0  Located at 1 Bay Street, Staten Island, at the...  40.644169   \n",
       "1  Located at Peter Minuit Plaza, at the intersec...  40.701360   \n",
       "\n",
       "                   stop_name   stop_lon    stop_id  location_type  \n",
       "0  St. George Ferry Terminal -74.072201   stgeorge              0  \n",
       "1   Whitehall Ferry Terminal -74.012666  whitehall              0  "
      ]
     },
     "execution_count": 15,
     "metadata": {},
     "output_type": "execute_result"
    }
   ],
   "source": [
    "stops.head()"
   ]
  },
  {
   "cell_type": "code",
   "execution_count": 16,
   "metadata": {
    "collapsed": false
   },
   "outputs": [
    {
     "data": {
      "text/html": [
       "<div>\n",
       "<table border=\"1\" class=\"dataframe\">\n",
       "  <thead>\n",
       "    <tr style=\"text-align: right;\">\n",
       "      <th></th>\n",
       "      <th>route_id</th>\n",
       "      <th>service_id</th>\n",
       "      <th>trip_id</th>\n",
       "      <th>headsign</th>\n",
       "      <th>shape_id</th>\n",
       "    </tr>\n",
       "  </thead>\n",
       "  <tbody>\n",
       "    <tr>\n",
       "      <th>0</th>\n",
       "      <td>SIF</td>\n",
       "      <td>prevsaturday</td>\n",
       "      <td>prevsaturdaywhitehall203000</td>\n",
       "      <td>To St. George</td>\n",
       "      <td>whitehall</td>\n",
       "    </tr>\n",
       "    <tr>\n",
       "      <th>1</th>\n",
       "      <td>SIF</td>\n",
       "      <td>prevmonday</td>\n",
       "      <td>prevmondaywhitehall223000</td>\n",
       "      <td>To St. George</td>\n",
       "      <td>whitehall</td>\n",
       "    </tr>\n",
       "    <tr>\n",
       "      <th>2</th>\n",
       "      <td>SIF</td>\n",
       "      <td>saturday</td>\n",
       "      <td>saturdaystgeorge103000</td>\n",
       "      <td>To Whitehall</td>\n",
       "      <td>stgeorge</td>\n",
       "    </tr>\n",
       "    <tr>\n",
       "      <th>3</th>\n",
       "      <td>SIF</td>\n",
       "      <td>twtf</td>\n",
       "      <td>twtfwhitehall060000</td>\n",
       "      <td>To St. George</td>\n",
       "      <td>whitehall</td>\n",
       "    </tr>\n",
       "    <tr>\n",
       "      <th>4</th>\n",
       "      <td>SIF</td>\n",
       "      <td>prevsaturday</td>\n",
       "      <td>prevsaturdaywhitehall023000</td>\n",
       "      <td>To St. George</td>\n",
       "      <td>whitehall</td>\n",
       "    </tr>\n",
       "  </tbody>\n",
       "</table>\n",
       "</div>"
      ],
      "text/plain": [
       "  route_id    service_id                      trip_id       headsign  \\\n",
       "0      SIF  prevsaturday  prevsaturdaywhitehall203000  To St. George   \n",
       "1      SIF    prevmonday    prevmondaywhitehall223000  To St. George   \n",
       "2      SIF      saturday       saturdaystgeorge103000   To Whitehall   \n",
       "3      SIF          twtf          twtfwhitehall060000  To St. George   \n",
       "4      SIF  prevsaturday  prevsaturdaywhitehall023000  To St. George   \n",
       "\n",
       "    shape_id  \n",
       "0  whitehall  \n",
       "1  whitehall  \n",
       "2   stgeorge  \n",
       "3  whitehall  \n",
       "4  whitehall  "
      ]
     },
     "execution_count": 16,
     "metadata": {},
     "output_type": "execute_result"
    }
   ],
   "source": [
    "trips.head()"
   ]
  },
  {
   "cell_type": "markdown",
   "metadata": {},
   "source": [
    "### Merge calendar, service_id and trip_id information\n"
   ]
  },
  {
   "cell_type": "code",
   "execution_count": 17,
   "metadata": {
    "collapsed": false
   },
   "outputs": [
    {
     "data": {
      "text/html": [
       "<div>\n",
       "<table border=\"1\" class=\"dataframe\">\n",
       "  <thead>\n",
       "    <tr style=\"text-align: right;\">\n",
       "      <th></th>\n",
       "      <th>service_id</th>\n",
       "      <th>trip_id</th>\n",
       "      <th>route_id</th>\n",
       "    </tr>\n",
       "  </thead>\n",
       "  <tbody>\n",
       "    <tr>\n",
       "      <th>0</th>\n",
       "      <td>monday</td>\n",
       "      <td>mondaywhitehall090000</td>\n",
       "      <td>SIF</td>\n",
       "    </tr>\n",
       "    <tr>\n",
       "      <th>1</th>\n",
       "      <td>monday</td>\n",
       "      <td>mondaystgeorge190000</td>\n",
       "      <td>SIF</td>\n",
       "    </tr>\n",
       "    <tr>\n",
       "      <th>2</th>\n",
       "      <td>monday</td>\n",
       "      <td>mondaystgeorge210000</td>\n",
       "      <td>SIF</td>\n",
       "    </tr>\n",
       "    <tr>\n",
       "      <th>3</th>\n",
       "      <td>monday</td>\n",
       "      <td>mondaystgeorge110000</td>\n",
       "      <td>SIF</td>\n",
       "    </tr>\n",
       "    <tr>\n",
       "      <th>4</th>\n",
       "      <td>monday</td>\n",
       "      <td>mondaywhitehall074500</td>\n",
       "      <td>SIF</td>\n",
       "    </tr>\n",
       "  </tbody>\n",
       "</table>\n",
       "</div>"
      ],
      "text/plain": [
       "  service_id                trip_id route_id\n",
       "0     monday  mondaywhitehall090000      SIF\n",
       "1     monday   mondaystgeorge190000      SIF\n",
       "2     monday   mondaystgeorge210000      SIF\n",
       "3     monday   mondaystgeorge110000      SIF\n",
       "4     monday  mondaywhitehall074500      SIF"
      ]
     },
     "execution_count": 17,
     "metadata": {},
     "output_type": "execute_result"
    }
   ],
   "source": [
    "service_trip_id = pd.merge(calendar[['service_id']],trips[['service_id', 'trip_id', 'route_id']])\n",
    "service_trip_id.head()"
   ]
  },
  {
   "cell_type": "code",
   "execution_count": 18,
   "metadata": {
    "collapsed": false
   },
   "outputs": [
    {
     "data": {
      "text/html": [
       "<div>\n",
       "<table border=\"1\" class=\"dataframe\">\n",
       "  <thead>\n",
       "    <tr style=\"text-align: right;\">\n",
       "      <th></th>\n",
       "      <th>service_id</th>\n",
       "      <th>start_date</th>\n",
       "      <th>end_date</th>\n",
       "      <th>monday</th>\n",
       "      <th>tuesday</th>\n",
       "      <th>wednesday</th>\n",
       "      <th>thursday</th>\n",
       "      <th>friday</th>\n",
       "      <th>saturday</th>\n",
       "      <th>sunday</th>\n",
       "      <th>trip_id</th>\n",
       "      <th>route_id</th>\n",
       "    </tr>\n",
       "  </thead>\n",
       "  <tbody>\n",
       "    <tr>\n",
       "      <th>0</th>\n",
       "      <td>monday</td>\n",
       "      <td>20140510</td>\n",
       "      <td>20211231</td>\n",
       "      <td>1</td>\n",
       "      <td>0</td>\n",
       "      <td>0</td>\n",
       "      <td>0</td>\n",
       "      <td>0</td>\n",
       "      <td>0</td>\n",
       "      <td>0</td>\n",
       "      <td>mondaywhitehall090000</td>\n",
       "      <td>SIF</td>\n",
       "    </tr>\n",
       "    <tr>\n",
       "      <th>1</th>\n",
       "      <td>monday</td>\n",
       "      <td>20140510</td>\n",
       "      <td>20211231</td>\n",
       "      <td>1</td>\n",
       "      <td>0</td>\n",
       "      <td>0</td>\n",
       "      <td>0</td>\n",
       "      <td>0</td>\n",
       "      <td>0</td>\n",
       "      <td>0</td>\n",
       "      <td>mondaystgeorge190000</td>\n",
       "      <td>SIF</td>\n",
       "    </tr>\n",
       "    <tr>\n",
       "      <th>2</th>\n",
       "      <td>monday</td>\n",
       "      <td>20140510</td>\n",
       "      <td>20211231</td>\n",
       "      <td>1</td>\n",
       "      <td>0</td>\n",
       "      <td>0</td>\n",
       "      <td>0</td>\n",
       "      <td>0</td>\n",
       "      <td>0</td>\n",
       "      <td>0</td>\n",
       "      <td>mondaystgeorge210000</td>\n",
       "      <td>SIF</td>\n",
       "    </tr>\n",
       "    <tr>\n",
       "      <th>3</th>\n",
       "      <td>monday</td>\n",
       "      <td>20140510</td>\n",
       "      <td>20211231</td>\n",
       "      <td>1</td>\n",
       "      <td>0</td>\n",
       "      <td>0</td>\n",
       "      <td>0</td>\n",
       "      <td>0</td>\n",
       "      <td>0</td>\n",
       "      <td>0</td>\n",
       "      <td>mondaystgeorge110000</td>\n",
       "      <td>SIF</td>\n",
       "    </tr>\n",
       "    <tr>\n",
       "      <th>4</th>\n",
       "      <td>monday</td>\n",
       "      <td>20140510</td>\n",
       "      <td>20211231</td>\n",
       "      <td>1</td>\n",
       "      <td>0</td>\n",
       "      <td>0</td>\n",
       "      <td>0</td>\n",
       "      <td>0</td>\n",
       "      <td>0</td>\n",
       "      <td>0</td>\n",
       "      <td>mondaywhitehall074500</td>\n",
       "      <td>SIF</td>\n",
       "    </tr>\n",
       "  </tbody>\n",
       "</table>\n",
       "</div>"
      ],
      "text/plain": [
       "  service_id  start_date  end_date  monday  tuesday  wednesday  thursday  \\\n",
       "0     monday    20140510  20211231       1        0          0         0   \n",
       "1     monday    20140510  20211231       1        0          0         0   \n",
       "2     monday    20140510  20211231       1        0          0         0   \n",
       "3     monday    20140510  20211231       1        0          0         0   \n",
       "4     monday    20140510  20211231       1        0          0         0   \n",
       "\n",
       "   friday  saturday  sunday                trip_id route_id  \n",
       "0       0         0       0  mondaywhitehall090000      SIF  \n",
       "1       0         0       0   mondaystgeorge190000      SIF  \n",
       "2       0         0       0   mondaystgeorge210000      SIF  \n",
       "3       0         0       0   mondaystgeorge110000      SIF  \n",
       "4       0         0       0  mondaywhitehall074500      SIF  "
      ]
     },
     "execution_count": 18,
     "metadata": {},
     "output_type": "execute_result"
    }
   ],
   "source": [
    "calendar = pd.merge(calendar,service_trip_id)\n",
    "calendar.head()"
   ]
  },
  {
   "cell_type": "markdown",
   "metadata": {},
   "source": [
    "### Add abritrary arrival and departure dates to timetables\n",
    "\n",
    "Define a function to add arrival dates to stop_times tables. We will use 1/5/15 as the start date because that is the date we are currently using to visualize taxi trips. This code deals with arrival times > 24 hours and converts them to 1/6/15."
   ]
  },
  {
   "cell_type": "code",
   "execution_count": 19,
   "metadata": {
    "collapsed": true
   },
   "outputs": [],
   "source": [
    "arbitrary_dates = ['1/5/2015', '1/6/2015']"
   ]
  },
  {
   "cell_type": "code",
   "execution_count": 20,
   "metadata": {
    "collapsed": true
   },
   "outputs": [],
   "source": [
    "def add_arrival_date(df, dates = arbitrary_dates):\n",
    "    df = df.copy()\n",
    "    arrival_date = []\n",
    "    arrival_time = []\n",
    "\n",
    "    for i in df['arrival_time']:\n",
    "        hour = i[:i.find(':')]\n",
    "        minute = i[i.find(':')+1:i.find(':',4)]\n",
    "        second = i[i.find(':',5)+1:]\n",
    "        \n",
    "        if int(hour) < 24:\n",
    "            arrival_date.append(dates[0])\n",
    "            arrival_time.append(i)\n",
    "        elif 24 <= int(hour) < 48:\n",
    "            arrival_date.append(dates[1])\n",
    "            hour = int(hour) - 24\n",
    "            arrival_time.append(str(hour)+\":\"+minute+\":\"+second)\n",
    "        else:\n",
    "            arrival_date.append('NA')\n",
    "            \n",
    "    df['arrival_date'] = arrival_date\n",
    "    df['arrival_time'] = arrival_time\n",
    "    return df"
   ]
  },
  {
   "cell_type": "code",
   "execution_count": 21,
   "metadata": {
    "collapsed": true
   },
   "outputs": [],
   "source": [
    "def add_departure_date(df, dates = arbitrary_dates):\n",
    "    df = df.copy()\n",
    "    departure_date = []\n",
    "    departure_time = []\n",
    "\n",
    "    for i in df['departure_time']:\n",
    "        hour = i[:i.find(':')]\n",
    "        minute = i[i.find(':')+1:i.find(':',4)]\n",
    "        second = i[i.find(':',5)+1:]\n",
    "        \n",
    "        if int(hour) < 24:\n",
    "            departure_date.append(dates[0])\n",
    "            departure_time.append(i)\n",
    "        elif 24 <= int(hour) < 48:\n",
    "            departure_date.append(dates[1])\n",
    "            hour = int(hour) - 24\n",
    "            departure_time.append(str(hour)+\":\"+minute+\":\"+second)\n",
    "        else:\n",
    "            departure_date.append('NA')\n",
    "            \n",
    "    df['departure_date'] = departure_date\n",
    "    df['departure_time'] = departure_time\n",
    "    return df"
   ]
  },
  {
   "cell_type": "markdown",
   "metadata": {},
   "source": [
    "### Get timetables for each day of the week"
   ]
  },
  {
   "cell_type": "code",
   "execution_count": 23,
   "metadata": {
    "collapsed": true
   },
   "outputs": [],
   "source": [
    "monday = calendar[calendar['monday'] == 1]\n",
    "tuesday = calendar[calendar['tuesday'] == 1]\n",
    "wednesday = calendar[calendar['wednesday'] == 1]\n",
    "thursday = calendar[calendar['thursday'] == 1]\n",
    "friday = calendar[calendar['friday'] == 1]\n",
    "saturday = calendar[calendar['saturday'] == 1]\n",
    "sunday = calendar[calendar['sunday'] == 1]"
   ]
  },
  {
   "cell_type": "markdown",
   "metadata": {},
   "source": [
    "### Monday"
   ]
  },
  {
   "cell_type": "code",
   "execution_count": 24,
   "metadata": {
    "collapsed": false
   },
   "outputs": [
    {
     "data": {
      "text/html": [
       "<div>\n",
       "<table border=\"1\" class=\"dataframe\">\n",
       "  <thead>\n",
       "    <tr style=\"text-align: right;\">\n",
       "      <th></th>\n",
       "      <th>service_id</th>\n",
       "      <th>start_date</th>\n",
       "      <th>end_date</th>\n",
       "      <th>monday</th>\n",
       "      <th>tuesday</th>\n",
       "      <th>wednesday</th>\n",
       "      <th>thursday</th>\n",
       "      <th>friday</th>\n",
       "      <th>saturday</th>\n",
       "      <th>sunday</th>\n",
       "      <th>trip_id</th>\n",
       "      <th>route_id</th>\n",
       "    </tr>\n",
       "  </thead>\n",
       "  <tbody>\n",
       "    <tr>\n",
       "      <th>0</th>\n",
       "      <td>monday</td>\n",
       "      <td>20140510</td>\n",
       "      <td>20211231</td>\n",
       "      <td>1</td>\n",
       "      <td>0</td>\n",
       "      <td>0</td>\n",
       "      <td>0</td>\n",
       "      <td>0</td>\n",
       "      <td>0</td>\n",
       "      <td>0</td>\n",
       "      <td>mondaywhitehall090000</td>\n",
       "      <td>SIF</td>\n",
       "    </tr>\n",
       "    <tr>\n",
       "      <th>1</th>\n",
       "      <td>monday</td>\n",
       "      <td>20140510</td>\n",
       "      <td>20211231</td>\n",
       "      <td>1</td>\n",
       "      <td>0</td>\n",
       "      <td>0</td>\n",
       "      <td>0</td>\n",
       "      <td>0</td>\n",
       "      <td>0</td>\n",
       "      <td>0</td>\n",
       "      <td>mondaystgeorge190000</td>\n",
       "      <td>SIF</td>\n",
       "    </tr>\n",
       "    <tr>\n",
       "      <th>2</th>\n",
       "      <td>monday</td>\n",
       "      <td>20140510</td>\n",
       "      <td>20211231</td>\n",
       "      <td>1</td>\n",
       "      <td>0</td>\n",
       "      <td>0</td>\n",
       "      <td>0</td>\n",
       "      <td>0</td>\n",
       "      <td>0</td>\n",
       "      <td>0</td>\n",
       "      <td>mondaystgeorge210000</td>\n",
       "      <td>SIF</td>\n",
       "    </tr>\n",
       "    <tr>\n",
       "      <th>3</th>\n",
       "      <td>monday</td>\n",
       "      <td>20140510</td>\n",
       "      <td>20211231</td>\n",
       "      <td>1</td>\n",
       "      <td>0</td>\n",
       "      <td>0</td>\n",
       "      <td>0</td>\n",
       "      <td>0</td>\n",
       "      <td>0</td>\n",
       "      <td>0</td>\n",
       "      <td>mondaystgeorge110000</td>\n",
       "      <td>SIF</td>\n",
       "    </tr>\n",
       "    <tr>\n",
       "      <th>4</th>\n",
       "      <td>monday</td>\n",
       "      <td>20140510</td>\n",
       "      <td>20211231</td>\n",
       "      <td>1</td>\n",
       "      <td>0</td>\n",
       "      <td>0</td>\n",
       "      <td>0</td>\n",
       "      <td>0</td>\n",
       "      <td>0</td>\n",
       "      <td>0</td>\n",
       "      <td>mondaywhitehall074500</td>\n",
       "      <td>SIF</td>\n",
       "    </tr>\n",
       "  </tbody>\n",
       "</table>\n",
       "</div>"
      ],
      "text/plain": [
       "  service_id  start_date  end_date  monday  tuesday  wednesday  thursday  \\\n",
       "0     monday    20140510  20211231       1        0          0         0   \n",
       "1     monday    20140510  20211231       1        0          0         0   \n",
       "2     monday    20140510  20211231       1        0          0         0   \n",
       "3     monday    20140510  20211231       1        0          0         0   \n",
       "4     monday    20140510  20211231       1        0          0         0   \n",
       "\n",
       "   friday  saturday  sunday                trip_id route_id  \n",
       "0       0         0       0  mondaywhitehall090000      SIF  \n",
       "1       0         0       0   mondaystgeorge190000      SIF  \n",
       "2       0         0       0   mondaystgeorge210000      SIF  \n",
       "3       0         0       0   mondaystgeorge110000      SIF  \n",
       "4       0         0       0  mondaywhitehall074500      SIF  "
      ]
     },
     "execution_count": 24,
     "metadata": {},
     "output_type": "execute_result"
    }
   ],
   "source": [
    "monday.head()"
   ]
  },
  {
   "cell_type": "code",
   "execution_count": 25,
   "metadata": {
    "collapsed": false
   },
   "outputs": [
    {
     "name": "stdout",
     "output_type": "stream",
     "text": [
      "There are  213 trips on Monday\n"
     ]
    },
    {
     "data": {
      "text/plain": [
       "0    mondaywhitehall090000\n",
       "1     mondaystgeorge190000\n",
       "2     mondaystgeorge210000\n",
       "3     mondaystgeorge110000\n",
       "4    mondaywhitehall074500\n",
       "Name: trip_id, dtype: object"
      ]
     },
     "execution_count": 25,
     "metadata": {},
     "output_type": "execute_result"
    }
   ],
   "source": [
    "monday_trips = monday['trip_id']\n",
    "print \"There are \", len(monday_trips), \"trips on Monday\"\n",
    "monday_trips.head()"
   ]
  },
  {
   "cell_type": "code",
   "execution_count": 26,
   "metadata": {
    "collapsed": false
   },
   "outputs": [
    {
     "data": {
      "text/plain": [
       "208     prevmondaystgeorge220000\n",
       "209     prevmondaystgeorge153000\n",
       "210     prevmondaystgeorge081500\n",
       "211     prevmondaystgeorge060000\n",
       "212    prevmondaywhitehall093000\n",
       "Name: trip_id, dtype: object"
      ]
     },
     "execution_count": 26,
     "metadata": {},
     "output_type": "execute_result"
    }
   ],
   "source": [
    "monday_trips.tail()"
   ]
  },
  {
   "cell_type": "code",
   "execution_count": 28,
   "metadata": {
    "collapsed": false
   },
   "outputs": [
    {
     "name": "stdout",
     "output_type": "stream",
     "text": [
      "2017-04-06 19:24:36.669794 finished trip number 100 / 213\n",
      "2017-04-06 19:24:40.406313 finished trip number 200 / 213\n"
     ]
    }
   ],
   "source": [
    "triplist = []\n",
    "count = 0\n",
    "\n",
    "for i in monday_trips:\n",
    "    count += 1\n",
    "    df = stop_times[stop_times['trip_id'] == i]\n",
    "    \n",
    "    # add arrival and departure dates\n",
    "    df = add_arrival_date(df, dates = arbitrary_dates)\n",
    "    df = add_departure_date(df, dates = arbitrary_dates)\n",
    "    df['arrival_datetime'] = pd.to_datetime(df['arrival_date'] + ' ' + df['arrival_time'])\n",
    "    df['departure_datetime'] = pd.to_datetime(df['departure_date'] + ' ' + df['departure_time'])\n",
    "\n",
    "    # join df with stops\n",
    "    df = pd.merge(df, stops[['stop_id', 'stop_name', 'stop_lat', 'stop_lon']],left_on='stop_id', right_on='stop_id')\n",
    "\n",
    "    # join df with trips to get direction and route id\n",
    "    try:\n",
    "        df = pd.merge(df, trips[['trip_id', 'direction_id', 'route_id']], left_on='trip_id', right_on='trip_id', how='left')\n",
    "    except:\n",
    "        df = pd.merge(df, trips[['trip_id', 'route_id']], left_on='trip_id', right_on='trip_id', how='left')\n",
    "    \n",
    "    # join df with routes to get route id\n",
    "    df = pd.merge(df, routes[['route_id', 'route_long_name']], left_on='route_id', right_on='route_id', how='left')\n",
    "    \n",
    "    # create new dataframe to store results\n",
    "    legs = pd.DataFrame()\n",
    "    legs['type_id'] = df['route_id']\n",
    "    legs['starttime'] = df['departure_datetime']\n",
    "    legs['stoptime'] = df['arrival_datetime'].shift(-1).fillna(method='ffill')\n",
    "    legs['tripduration'] = ((legs['stoptime'] - legs['starttime'])/np.timedelta64(1, 's')).astype(int)\n",
    "    legs['start_lat'] = df['stop_lat']\n",
    "    legs['start_lon'] = df['stop_lon']\n",
    "    legs['end_lat'] = legs['start_lat'].shift(-1).fillna(method='ffill')\n",
    "    legs['end_lon'] = legs['start_lon'].shift(-1).fillna(method='ffill')\n",
    "    \n",
    "    # append results to triplist\n",
    "    triplist.append(legs)\n",
    "    \n",
    "    if count % 100 == 0:\n",
    "        print str(dt.datetime.now()), \"finished trip number\", count, \"/\", len(monday_trips)"
   ]
  },
  {
   "cell_type": "code",
   "execution_count": 30,
   "metadata": {
    "collapsed": false
   },
   "outputs": [
    {
     "data": {
      "text/html": [
       "<div>\n",
       "<table border=\"1\" class=\"dataframe\">\n",
       "  <thead>\n",
       "    <tr style=\"text-align: right;\">\n",
       "      <th></th>\n",
       "      <th>type_id</th>\n",
       "      <th>starttime</th>\n",
       "      <th>stoptime</th>\n",
       "      <th>tripduration</th>\n",
       "      <th>start_lat</th>\n",
       "      <th>start_lon</th>\n",
       "      <th>end_lat</th>\n",
       "      <th>end_lon</th>\n",
       "    </tr>\n",
       "  </thead>\n",
       "  <tbody>\n",
       "    <tr>\n",
       "      <th>0</th>\n",
       "      <td>SIF</td>\n",
       "      <td>2015-01-05 09:00:00</td>\n",
       "      <td>2015-01-05 09:25:00</td>\n",
       "      <td>1500</td>\n",
       "      <td>40.701360</td>\n",
       "      <td>-74.012666</td>\n",
       "      <td>40.644169</td>\n",
       "      <td>-74.072201</td>\n",
       "    </tr>\n",
       "    <tr>\n",
       "      <th>1</th>\n",
       "      <td>SIF</td>\n",
       "      <td>2015-01-05 09:25:00</td>\n",
       "      <td>2015-01-05 09:25:00</td>\n",
       "      <td>0</td>\n",
       "      <td>40.644169</td>\n",
       "      <td>-74.072201</td>\n",
       "      <td>40.644169</td>\n",
       "      <td>-74.072201</td>\n",
       "    </tr>\n",
       "  </tbody>\n",
       "</table>\n",
       "</div>"
      ],
      "text/plain": [
       "  type_id           starttime            stoptime  tripduration  start_lat  \\\n",
       "0     SIF 2015-01-05 09:00:00 2015-01-05 09:25:00          1500  40.701360   \n",
       "1     SIF 2015-01-05 09:25:00 2015-01-05 09:25:00             0  40.644169   \n",
       "\n",
       "   start_lon    end_lat    end_lon  \n",
       "0 -74.012666  40.644169 -74.072201  \n",
       "1 -74.072201  40.644169 -74.072201  "
      ]
     },
     "execution_count": 30,
     "metadata": {},
     "output_type": "execute_result"
    }
   ],
   "source": [
    "triplist[0].head()"
   ]
  },
  {
   "cell_type": "code",
   "execution_count": 31,
   "metadata": {
    "collapsed": false
   },
   "outputs": [
    {
     "data": {
      "text/plain": [
       "213"
      ]
     },
     "execution_count": 31,
     "metadata": {},
     "output_type": "execute_result"
    }
   ],
   "source": [
    "len(triplist)"
   ]
  },
  {
   "cell_type": "code",
   "execution_count": 32,
   "metadata": {
    "collapsed": true
   },
   "outputs": [],
   "source": [
    "triplist[0].head()"
   ]
  },
  {
   "cell_type": "code",
   "execution_count": 33,
   "metadata": {
    "collapsed": false
   },
   "outputs": [
    {
     "data": {
      "text/html": [
       "<div>\n",
       "<table border=\"1\" class=\"dataframe\">\n",
       "  <thead>\n",
       "    <tr style=\"text-align: right;\">\n",
       "      <th></th>\n",
       "      <th>type_id</th>\n",
       "      <th>starttime</th>\n",
       "      <th>stoptime</th>\n",
       "      <th>tripduration</th>\n",
       "      <th>start_lat</th>\n",
       "      <th>start_lon</th>\n",
       "      <th>end_lat</th>\n",
       "      <th>end_lon</th>\n",
       "    </tr>\n",
       "  </thead>\n",
       "  <tbody>\n",
       "    <tr>\n",
       "      <th>0</th>\n",
       "      <td>SIF</td>\n",
       "      <td>2015-01-05 09:00:00</td>\n",
       "      <td>2015-01-05 09:25:00</td>\n",
       "      <td>1500</td>\n",
       "      <td>40.701360</td>\n",
       "      <td>-74.012666</td>\n",
       "      <td>40.644169</td>\n",
       "      <td>-74.072201</td>\n",
       "    </tr>\n",
       "    <tr>\n",
       "      <th>1</th>\n",
       "      <td>SIF</td>\n",
       "      <td>2015-01-05 09:25:00</td>\n",
       "      <td>2015-01-05 09:25:00</td>\n",
       "      <td>0</td>\n",
       "      <td>40.644169</td>\n",
       "      <td>-74.072201</td>\n",
       "      <td>40.644169</td>\n",
       "      <td>-74.072201</td>\n",
       "    </tr>\n",
       "    <tr>\n",
       "      <th>0</th>\n",
       "      <td>SIF</td>\n",
       "      <td>2015-01-05 19:00:00</td>\n",
       "      <td>2015-01-05 19:25:00</td>\n",
       "      <td>1500</td>\n",
       "      <td>40.644169</td>\n",
       "      <td>-74.072201</td>\n",
       "      <td>40.701360</td>\n",
       "      <td>-74.012666</td>\n",
       "    </tr>\n",
       "    <tr>\n",
       "      <th>1</th>\n",
       "      <td>SIF</td>\n",
       "      <td>2015-01-05 19:25:00</td>\n",
       "      <td>2015-01-05 19:25:00</td>\n",
       "      <td>0</td>\n",
       "      <td>40.701360</td>\n",
       "      <td>-74.012666</td>\n",
       "      <td>40.701360</td>\n",
       "      <td>-74.012666</td>\n",
       "    </tr>\n",
       "    <tr>\n",
       "      <th>0</th>\n",
       "      <td>SIF</td>\n",
       "      <td>2015-01-05 21:00:00</td>\n",
       "      <td>2015-01-05 21:25:00</td>\n",
       "      <td>1500</td>\n",
       "      <td>40.644169</td>\n",
       "      <td>-74.072201</td>\n",
       "      <td>40.701360</td>\n",
       "      <td>-74.012666</td>\n",
       "    </tr>\n",
       "  </tbody>\n",
       "</table>\n",
       "</div>"
      ],
      "text/plain": [
       "  type_id           starttime            stoptime  tripduration  start_lat  \\\n",
       "0     SIF 2015-01-05 09:00:00 2015-01-05 09:25:00          1500  40.701360   \n",
       "1     SIF 2015-01-05 09:25:00 2015-01-05 09:25:00             0  40.644169   \n",
       "0     SIF 2015-01-05 19:00:00 2015-01-05 19:25:00          1500  40.644169   \n",
       "1     SIF 2015-01-05 19:25:00 2015-01-05 19:25:00             0  40.701360   \n",
       "0     SIF 2015-01-05 21:00:00 2015-01-05 21:25:00          1500  40.644169   \n",
       "\n",
       "   start_lon    end_lat    end_lon  \n",
       "0 -74.012666  40.644169 -74.072201  \n",
       "1 -74.072201  40.644169 -74.072201  \n",
       "0 -74.072201  40.701360 -74.012666  \n",
       "1 -74.012666  40.701360 -74.012666  \n",
       "0 -74.072201  40.701360 -74.012666  "
      ]
     },
     "execution_count": 33,
     "metadata": {},
     "output_type": "execute_result"
    }
   ],
   "source": [
    "data.head()"
   ]
  },
  {
   "cell_type": "code",
   "execution_count": 35,
   "metadata": {
    "collapsed": false
   },
   "outputs": [
    {
     "data": {
      "text/plain": [
       "(426, 8)"
      ]
     },
     "execution_count": 35,
     "metadata": {},
     "output_type": "execute_result"
    }
   ],
   "source": [
    "data.shape"
   ]
  },
  {
   "cell_type": "code",
   "execution_count": 36,
   "metadata": {
    "collapsed": true
   },
   "outputs": [],
   "source": [
    "data = data[data.tripduration != 0]"
   ]
  },
  {
   "cell_type": "code",
   "execution_count": 37,
   "metadata": {
    "collapsed": false
   },
   "outputs": [
    {
     "data": {
      "text/plain": [
       "(213, 8)"
      ]
     },
     "execution_count": 37,
     "metadata": {},
     "output_type": "execute_result"
    }
   ],
   "source": [
    "data.shape"
   ]
  },
  {
   "cell_type": "code",
   "execution_count": 38,
   "metadata": {
    "collapsed": true
   },
   "outputs": [],
   "source": [
    "data = data.sort_values(by='starttime')\n",
    "data = data.reset_index(drop=True)"
   ]
  },
  {
   "cell_type": "code",
   "execution_count": 39,
   "metadata": {
    "collapsed": true
   },
   "outputs": [],
   "source": [
    "data['type_id'] = 9 # 9 = Ferry"
   ]
  },
  {
   "cell_type": "code",
   "execution_count": 40,
   "metadata": {
    "collapsed": true
   },
   "outputs": [],
   "source": [
    "data.to_csv('ferry_monday_raw.csv')"
   ]
  },
  {
   "cell_type": "code",
   "execution_count": 41,
   "metadata": {
    "collapsed": false
   },
   "outputs": [
    {
     "name": "stdout",
     "output_type": "stream",
     "text": [
      ",type_id,starttime,stoptime,tripduration,start_lat,start_lon,end_lat,end_lon\n",
      "0,9,2015-01-05 00:00:00,2015-01-05 00:25:00,1500,40.70136,-74.012666,40.644169,-74.072201\n",
      "1,9,2015-01-05 00:00:00,2015-01-05 00:25:00,1500,40.644169,-74.072201,40.70136,-74.012666\n",
      "2,9,2015-01-05 00:00:00,2015-01-05 00:25:00,1500,40.644169,-74.072201,40.70136,-74.012666\n",
      "3,9,2015-01-05 00:30:00,2015-01-05 00:55:00,1500,40.70136,-74.012666,40.644169,-74.072201\n",
      "4,9,2015-01-05 00:30:00,2015-01-05 00:55:00,1500,40.70136,-74.012666,40.644169,-74.072201\n",
      "5,9,2015-01-05 01:00:00,2015-01-05 01:25:00,1500,40.644169,-74.072201,40.70136,-74.012666\n",
      "6,9,2015-01-05 01:00:00,2015-01-05 01:25:00,1500,40.644169,-74.072201,40.70136,-74.012666\n",
      "7,9,2015-01-05 01:30:00,2015-01-05 01:55:00,1500,40.70136,-74.012666,40.644169,-74.072201\n",
      "8,9,2015-01-05 01:30:00,2015-01-05 01:55:00,1500,40.70136,-74.012666,40.644169,-74.072201\n"
     ]
    }
   ],
   "source": [
    "%%bash \n",
    "\n",
    "head ferry_monday_raw.csv"
   ]
  },
  {
   "cell_type": "code",
   "execution_count": 42,
   "metadata": {
    "collapsed": true
   },
   "outputs": [],
   "source": [
    "%%bash\n",
    "\n",
    "awk -F\",\" -v OFS=\",\" '{ $1=\"\" ; $0=substr($0,2) } 1' ferry_monday_raw.csv > ferry_monday.csv"
   ]
  },
  {
   "cell_type": "code",
   "execution_count": 43,
   "metadata": {
    "collapsed": false
   },
   "outputs": [
    {
     "name": "stdout",
     "output_type": "stream",
     "text": [
      "type_id,starttime,stoptime,tripduration,start_lat,start_lon,end_lat,end_lon\n",
      "9,2015-01-05 00:00:00,2015-01-05 00:25:00,1500,40.70136,-74.012666,40.644169,-74.072201\n",
      "9,2015-01-05 00:00:00,2015-01-05 00:25:00,1500,40.644169,-74.072201,40.70136,-74.012666\n",
      "9,2015-01-05 00:00:00,2015-01-05 00:25:00,1500,40.644169,-74.072201,40.70136,-74.012666\n",
      "9,2015-01-05 00:30:00,2015-01-05 00:55:00,1500,40.70136,-74.012666,40.644169,-74.072201\n",
      "9,2015-01-05 00:30:00,2015-01-05 00:55:00,1500,40.70136,-74.012666,40.644169,-74.072201\n",
      "9,2015-01-05 01:00:00,2015-01-05 01:25:00,1500,40.644169,-74.072201,40.70136,-74.012666\n",
      "9,2015-01-05 01:00:00,2015-01-05 01:25:00,1500,40.644169,-74.072201,40.70136,-74.012666\n",
      "9,2015-01-05 01:30:00,2015-01-05 01:55:00,1500,40.70136,-74.012666,40.644169,-74.072201\n",
      "9,2015-01-05 01:30:00,2015-01-05 01:55:00,1500,40.70136,-74.012666,40.644169,-74.072201\n"
     ]
    }
   ],
   "source": [
    "%%bash \n",
    "\n",
    "head ferry_monday.csv"
   ]
  },
  {
   "cell_type": "markdown",
   "metadata": {},
   "source": [
    "# Merge with taxi, bus, subway data"
   ]
  },
  {
   "cell_type": "code",
   "execution_count": 46,
   "metadata": {
    "collapsed": false
   },
   "outputs": [
    {
     "name": "stdout",
     "output_type": "stream",
     "text": [
      "Ferry Data Wrangling Notebook v2.ipynb  ferry_monday_raw.csv\r\n",
      "Ferry Data Wrangling.ipynb              \u001b[34mgtfs\u001b[m\u001b[m/\r\n",
      "ferry_monday.csv                        \u001b[34msketch\u001b[m\u001b[m/\r\n"
     ]
    }
   ],
   "source": [
    "ls"
   ]
  },
  {
   "cell_type": "code",
   "execution_count": 48,
   "metadata": {
    "collapsed": false
   },
   "outputs": [],
   "source": [
    "ferry = pd.read_csv(\"/Users/Will/Dropbox/Portfolio/taxi_and_bus_and_subway_and_ferry_dynamic/data/ferry_monday.csv\")"
   ]
  },
  {
   "cell_type": "code",
   "execution_count": 52,
   "metadata": {
    "collapsed": false
   },
   "outputs": [
    {
     "data": {
      "text/html": [
       "<div>\n",
       "<table border=\"1\" class=\"dataframe\">\n",
       "  <thead>\n",
       "    <tr style=\"text-align: right;\">\n",
       "      <th></th>\n",
       "      <th>type_id</th>\n",
       "      <th>starttime</th>\n",
       "      <th>stoptime</th>\n",
       "      <th>tripduration</th>\n",
       "      <th>start_lat</th>\n",
       "      <th>start_lon</th>\n",
       "      <th>end_lat</th>\n",
       "      <th>end_lon</th>\n",
       "    </tr>\n",
       "  </thead>\n",
       "  <tbody>\n",
       "    <tr>\n",
       "      <th>0</th>\n",
       "      <td>9</td>\n",
       "      <td>2015-01-05 00:00:00</td>\n",
       "      <td>2015-01-05 00:25:00</td>\n",
       "      <td>1500</td>\n",
       "      <td>40.701360</td>\n",
       "      <td>-74.012666</td>\n",
       "      <td>40.644169</td>\n",
       "      <td>-74.072201</td>\n",
       "    </tr>\n",
       "    <tr>\n",
       "      <th>1</th>\n",
       "      <td>9</td>\n",
       "      <td>2015-01-05 00:00:00</td>\n",
       "      <td>2015-01-05 00:25:00</td>\n",
       "      <td>1500</td>\n",
       "      <td>40.644169</td>\n",
       "      <td>-74.072201</td>\n",
       "      <td>40.701360</td>\n",
       "      <td>-74.012666</td>\n",
       "    </tr>\n",
       "    <tr>\n",
       "      <th>2</th>\n",
       "      <td>9</td>\n",
       "      <td>2015-01-05 00:00:00</td>\n",
       "      <td>2015-01-05 00:25:00</td>\n",
       "      <td>1500</td>\n",
       "      <td>40.644169</td>\n",
       "      <td>-74.072201</td>\n",
       "      <td>40.701360</td>\n",
       "      <td>-74.012666</td>\n",
       "    </tr>\n",
       "    <tr>\n",
       "      <th>3</th>\n",
       "      <td>9</td>\n",
       "      <td>2015-01-05 00:30:00</td>\n",
       "      <td>2015-01-05 00:55:00</td>\n",
       "      <td>1500</td>\n",
       "      <td>40.701360</td>\n",
       "      <td>-74.012666</td>\n",
       "      <td>40.644169</td>\n",
       "      <td>-74.072201</td>\n",
       "    </tr>\n",
       "    <tr>\n",
       "      <th>4</th>\n",
       "      <td>9</td>\n",
       "      <td>2015-01-05 00:30:00</td>\n",
       "      <td>2015-01-05 00:55:00</td>\n",
       "      <td>1500</td>\n",
       "      <td>40.701360</td>\n",
       "      <td>-74.012666</td>\n",
       "      <td>40.644169</td>\n",
       "      <td>-74.072201</td>\n",
       "    </tr>\n",
       "  </tbody>\n",
       "</table>\n",
       "</div>"
      ],
      "text/plain": [
       "   type_id            starttime             stoptime  tripduration  start_lat  \\\n",
       "0        9  2015-01-05 00:00:00  2015-01-05 00:25:00          1500  40.701360   \n",
       "1        9  2015-01-05 00:00:00  2015-01-05 00:25:00          1500  40.644169   \n",
       "2        9  2015-01-05 00:00:00  2015-01-05 00:25:00          1500  40.644169   \n",
       "3        9  2015-01-05 00:30:00  2015-01-05 00:55:00          1500  40.701360   \n",
       "4        9  2015-01-05 00:30:00  2015-01-05 00:55:00          1500  40.701360   \n",
       "\n",
       "   start_lon    end_lat    end_lon  \n",
       "0 -74.012666  40.644169 -74.072201  \n",
       "1 -74.072201  40.701360 -74.012666  \n",
       "2 -74.072201  40.701360 -74.012666  \n",
       "3 -74.012666  40.644169 -74.072201  \n",
       "4 -74.012666  40.644169 -74.072201  "
      ]
     },
     "execution_count": 52,
     "metadata": {},
     "output_type": "execute_result"
    }
   ],
   "source": [
    "ferry.head()"
   ]
  },
  {
   "cell_type": "code",
   "execution_count": 54,
   "metadata": {
    "collapsed": false
   },
   "outputs": [],
   "source": [
    "taxiBusSubway = pd.read_csv(\"/Users/Will/Dropbox/Portfolio/taxi_and_bus_and_subway_and_ferry_dynamic/data/taxiBusSubway.csv\")"
   ]
  },
  {
   "cell_type": "code",
   "execution_count": 55,
   "metadata": {
    "collapsed": false
   },
   "outputs": [
    {
     "data": {
      "text/html": [
       "<div>\n",
       "<table border=\"1\" class=\"dataframe\">\n",
       "  <thead>\n",
       "    <tr style=\"text-align: right;\">\n",
       "      <th></th>\n",
       "      <th>type_id</th>\n",
       "      <th>starttime</th>\n",
       "      <th>stoptime</th>\n",
       "      <th>tripduration</th>\n",
       "      <th>start_lat</th>\n",
       "      <th>start_lon</th>\n",
       "      <th>end_lat</th>\n",
       "      <th>end_lon</th>\n",
       "    </tr>\n",
       "  </thead>\n",
       "  <tbody>\n",
       "    <tr>\n",
       "      <th>0</th>\n",
       "      <td>1</td>\n",
       "      <td>2015-01-05 00:00:00</td>\n",
       "      <td>2015-01-05 00:09:43</td>\n",
       "      <td>583</td>\n",
       "      <td>40.686058</td>\n",
       "      <td>-73.990952</td>\n",
       "      <td>40.677547</td>\n",
       "      <td>-73.938622</td>\n",
       "    </tr>\n",
       "    <tr>\n",
       "      <th>1</th>\n",
       "      <td>2</td>\n",
       "      <td>2015-01-05 00:00:00</td>\n",
       "      <td>2015-01-05 00:06:44</td>\n",
       "      <td>404</td>\n",
       "      <td>40.723946</td>\n",
       "      <td>-73.951294</td>\n",
       "      <td>40.697411</td>\n",
       "      <td>-73.964851</td>\n",
       "    </tr>\n",
       "    <tr>\n",
       "      <th>2</th>\n",
       "      <td>3</td>\n",
       "      <td>2015-01-05 00:00:00</td>\n",
       "      <td>2015-01-05 00:01:09</td>\n",
       "      <td>69</td>\n",
       "      <td>40.642979</td>\n",
       "      <td>-73.878334</td>\n",
       "      <td>40.645187</td>\n",
       "      <td>-73.878555</td>\n",
       "    </tr>\n",
       "    <tr>\n",
       "      <th>3</th>\n",
       "      <td>3</td>\n",
       "      <td>2015-01-05 00:00:00</td>\n",
       "      <td>2015-01-05 00:01:09</td>\n",
       "      <td>69</td>\n",
       "      <td>40.642979</td>\n",
       "      <td>-73.878334</td>\n",
       "      <td>40.645187</td>\n",
       "      <td>-73.878555</td>\n",
       "    </tr>\n",
       "    <tr>\n",
       "      <th>4</th>\n",
       "      <td>3</td>\n",
       "      <td>2015-01-05 00:00:00</td>\n",
       "      <td>2015-01-05 00:00:23</td>\n",
       "      <td>23</td>\n",
       "      <td>40.645714</td>\n",
       "      <td>-73.902313</td>\n",
       "      <td>40.644871</td>\n",
       "      <td>-73.902176</td>\n",
       "    </tr>\n",
       "  </tbody>\n",
       "</table>\n",
       "</div>"
      ],
      "text/plain": [
       "   type_id            starttime             stoptime  tripduration  start_lat  \\\n",
       "0        1  2015-01-05 00:00:00  2015-01-05 00:09:43           583  40.686058   \n",
       "1        2  2015-01-05 00:00:00  2015-01-05 00:06:44           404  40.723946   \n",
       "2        3  2015-01-05 00:00:00  2015-01-05 00:01:09            69  40.642979   \n",
       "3        3  2015-01-05 00:00:00  2015-01-05 00:01:09            69  40.642979   \n",
       "4        3  2015-01-05 00:00:00  2015-01-05 00:00:23            23  40.645714   \n",
       "\n",
       "   start_lon    end_lat    end_lon  \n",
       "0 -73.990952  40.677547 -73.938622  \n",
       "1 -73.951294  40.697411 -73.964851  \n",
       "2 -73.878334  40.645187 -73.878555  \n",
       "3 -73.878334  40.645187 -73.878555  \n",
       "4 -73.902313  40.644871 -73.902176  "
      ]
     },
     "execution_count": 55,
     "metadata": {},
     "output_type": "execute_result"
    }
   ],
   "source": [
    "taxiBusSubway.head()"
   ]
  },
  {
   "cell_type": "code",
   "execution_count": 67,
   "metadata": {
    "collapsed": false
   },
   "outputs": [],
   "source": [
    "output = pd.concat([ferry, taxiBusSubway])"
   ]
  },
  {
   "cell_type": "code",
   "execution_count": 68,
   "metadata": {
    "collapsed": false
   },
   "outputs": [
    {
     "data": {
      "text/html": [
       "<div>\n",
       "<table border=\"1\" class=\"dataframe\">\n",
       "  <thead>\n",
       "    <tr style=\"text-align: right;\">\n",
       "      <th></th>\n",
       "      <th>type_id</th>\n",
       "      <th>starttime</th>\n",
       "      <th>stoptime</th>\n",
       "      <th>tripduration</th>\n",
       "      <th>start_lat</th>\n",
       "      <th>start_lon</th>\n",
       "      <th>end_lat</th>\n",
       "      <th>end_lon</th>\n",
       "    </tr>\n",
       "  </thead>\n",
       "  <tbody>\n",
       "    <tr>\n",
       "      <th>0</th>\n",
       "      <td>9</td>\n",
       "      <td>2015-01-05 00:00:00</td>\n",
       "      <td>2015-01-05 00:25:00</td>\n",
       "      <td>1500</td>\n",
       "      <td>40.701360</td>\n",
       "      <td>-74.012666</td>\n",
       "      <td>40.644169</td>\n",
       "      <td>-74.072201</td>\n",
       "    </tr>\n",
       "    <tr>\n",
       "      <th>1</th>\n",
       "      <td>9</td>\n",
       "      <td>2015-01-05 00:00:00</td>\n",
       "      <td>2015-01-05 00:25:00</td>\n",
       "      <td>1500</td>\n",
       "      <td>40.644169</td>\n",
       "      <td>-74.072201</td>\n",
       "      <td>40.701360</td>\n",
       "      <td>-74.012666</td>\n",
       "    </tr>\n",
       "    <tr>\n",
       "      <th>2</th>\n",
       "      <td>9</td>\n",
       "      <td>2015-01-05 00:00:00</td>\n",
       "      <td>2015-01-05 00:25:00</td>\n",
       "      <td>1500</td>\n",
       "      <td>40.644169</td>\n",
       "      <td>-74.072201</td>\n",
       "      <td>40.701360</td>\n",
       "      <td>-74.012666</td>\n",
       "    </tr>\n",
       "    <tr>\n",
       "      <th>3</th>\n",
       "      <td>9</td>\n",
       "      <td>2015-01-05 00:30:00</td>\n",
       "      <td>2015-01-05 00:55:00</td>\n",
       "      <td>1500</td>\n",
       "      <td>40.701360</td>\n",
       "      <td>-74.012666</td>\n",
       "      <td>40.644169</td>\n",
       "      <td>-74.072201</td>\n",
       "    </tr>\n",
       "    <tr>\n",
       "      <th>4</th>\n",
       "      <td>9</td>\n",
       "      <td>2015-01-05 00:30:00</td>\n",
       "      <td>2015-01-05 00:55:00</td>\n",
       "      <td>1500</td>\n",
       "      <td>40.701360</td>\n",
       "      <td>-74.012666</td>\n",
       "      <td>40.644169</td>\n",
       "      <td>-74.072201</td>\n",
       "    </tr>\n",
       "  </tbody>\n",
       "</table>\n",
       "</div>"
      ],
      "text/plain": [
       "   type_id            starttime             stoptime  tripduration  start_lat  \\\n",
       "0        9  2015-01-05 00:00:00  2015-01-05 00:25:00          1500  40.701360   \n",
       "1        9  2015-01-05 00:00:00  2015-01-05 00:25:00          1500  40.644169   \n",
       "2        9  2015-01-05 00:00:00  2015-01-05 00:25:00          1500  40.644169   \n",
       "3        9  2015-01-05 00:30:00  2015-01-05 00:55:00          1500  40.701360   \n",
       "4        9  2015-01-05 00:30:00  2015-01-05 00:55:00          1500  40.701360   \n",
       "\n",
       "   start_lon    end_lat    end_lon  \n",
       "0 -74.012666  40.644169 -74.072201  \n",
       "1 -74.072201  40.701360 -74.012666  \n",
       "2 -74.072201  40.701360 -74.012666  \n",
       "3 -74.012666  40.644169 -74.072201  \n",
       "4 -74.012666  40.644169 -74.072201  "
      ]
     },
     "execution_count": 68,
     "metadata": {},
     "output_type": "execute_result"
    }
   ],
   "source": [
    "output.head()"
   ]
  },
  {
   "cell_type": "code",
   "execution_count": 69,
   "metadata": {
    "collapsed": false
   },
   "outputs": [
    {
     "data": {
      "text/plain": [
       "(4315594, 8)"
      ]
     },
     "execution_count": 69,
     "metadata": {},
     "output_type": "execute_result"
    }
   ],
   "source": [
    "output.shape"
   ]
  },
  {
   "cell_type": "code",
   "execution_count": 70,
   "metadata": {
    "collapsed": true
   },
   "outputs": [],
   "source": [
    "output = output[output.tripduration != 0]\n",
    "output = output.sort_values(by=['starttime', 'type_id'])\n",
    "output = output.reset_index(drop=True)"
   ]
  },
  {
   "cell_type": "code",
   "execution_count": 71,
   "metadata": {
    "collapsed": false
   },
   "outputs": [
    {
     "data": {
      "text/html": [
       "<div>\n",
       "<table border=\"1\" class=\"dataframe\">\n",
       "  <thead>\n",
       "    <tr style=\"text-align: right;\">\n",
       "      <th></th>\n",
       "      <th>type_id</th>\n",
       "      <th>starttime</th>\n",
       "      <th>stoptime</th>\n",
       "      <th>tripduration</th>\n",
       "      <th>start_lat</th>\n",
       "      <th>start_lon</th>\n",
       "      <th>end_lat</th>\n",
       "      <th>end_lon</th>\n",
       "    </tr>\n",
       "  </thead>\n",
       "  <tbody>\n",
       "    <tr>\n",
       "      <th>0</th>\n",
       "      <td>1</td>\n",
       "      <td>2015-01-05 00:00:00</td>\n",
       "      <td>2015-01-05 00:09:43</td>\n",
       "      <td>583</td>\n",
       "      <td>40.686058</td>\n",
       "      <td>-73.990952</td>\n",
       "      <td>40.677547</td>\n",
       "      <td>-73.938622</td>\n",
       "    </tr>\n",
       "    <tr>\n",
       "      <th>1</th>\n",
       "      <td>2</td>\n",
       "      <td>2015-01-05 00:00:00</td>\n",
       "      <td>2015-01-05 00:06:44</td>\n",
       "      <td>404</td>\n",
       "      <td>40.723946</td>\n",
       "      <td>-73.951294</td>\n",
       "      <td>40.697411</td>\n",
       "      <td>-73.964851</td>\n",
       "    </tr>\n",
       "    <tr>\n",
       "      <th>2</th>\n",
       "      <td>3</td>\n",
       "      <td>2015-01-05 00:00:00</td>\n",
       "      <td>2015-01-05 00:01:09</td>\n",
       "      <td>69</td>\n",
       "      <td>40.642979</td>\n",
       "      <td>-73.878334</td>\n",
       "      <td>40.645187</td>\n",
       "      <td>-73.878555</td>\n",
       "    </tr>\n",
       "    <tr>\n",
       "      <th>3</th>\n",
       "      <td>3</td>\n",
       "      <td>2015-01-05 00:00:00</td>\n",
       "      <td>2015-01-05 00:01:09</td>\n",
       "      <td>69</td>\n",
       "      <td>40.642979</td>\n",
       "      <td>-73.878334</td>\n",
       "      <td>40.645187</td>\n",
       "      <td>-73.878555</td>\n",
       "    </tr>\n",
       "    <tr>\n",
       "      <th>4</th>\n",
       "      <td>3</td>\n",
       "      <td>2015-01-05 00:00:00</td>\n",
       "      <td>2015-01-05 00:00:23</td>\n",
       "      <td>23</td>\n",
       "      <td>40.645714</td>\n",
       "      <td>-73.902313</td>\n",
       "      <td>40.644871</td>\n",
       "      <td>-73.902176</td>\n",
       "    </tr>\n",
       "  </tbody>\n",
       "</table>\n",
       "</div>"
      ],
      "text/plain": [
       "   type_id            starttime             stoptime  tripduration  start_lat  \\\n",
       "0        1  2015-01-05 00:00:00  2015-01-05 00:09:43           583  40.686058   \n",
       "1        2  2015-01-05 00:00:00  2015-01-05 00:06:44           404  40.723946   \n",
       "2        3  2015-01-05 00:00:00  2015-01-05 00:01:09            69  40.642979   \n",
       "3        3  2015-01-05 00:00:00  2015-01-05 00:01:09            69  40.642979   \n",
       "4        3  2015-01-05 00:00:00  2015-01-05 00:00:23            23  40.645714   \n",
       "\n",
       "   start_lon    end_lat    end_lon  \n",
       "0 -73.990952  40.677547 -73.938622  \n",
       "1 -73.951294  40.697411 -73.964851  \n",
       "2 -73.878334  40.645187 -73.878555  \n",
       "3 -73.878334  40.645187 -73.878555  \n",
       "4 -73.902313  40.644871 -73.902176  "
      ]
     },
     "execution_count": 71,
     "metadata": {},
     "output_type": "execute_result"
    }
   ],
   "source": [
    "output.head()"
   ]
  },
  {
   "cell_type": "code",
   "execution_count": 72,
   "metadata": {
    "collapsed": false
   },
   "outputs": [
    {
     "data": {
      "text/html": [
       "<div>\n",
       "<table border=\"1\" class=\"dataframe\">\n",
       "  <thead>\n",
       "    <tr style=\"text-align: right;\">\n",
       "      <th></th>\n",
       "      <th>type_id</th>\n",
       "      <th>starttime</th>\n",
       "      <th>stoptime</th>\n",
       "      <th>tripduration</th>\n",
       "      <th>start_lat</th>\n",
       "      <th>start_lon</th>\n",
       "      <th>end_lat</th>\n",
       "      <th>end_lon</th>\n",
       "    </tr>\n",
       "  </thead>\n",
       "  <tbody>\n",
       "    <tr>\n",
       "      <th>4315559</th>\n",
       "      <td>4</td>\n",
       "      <td>2015-01-06 04:42:13</td>\n",
       "      <td>2015-01-06 04:42:47</td>\n",
       "      <td>34</td>\n",
       "      <td>40.711842</td>\n",
       "      <td>-73.790161</td>\n",
       "      <td>40.710716</td>\n",
       "      <td>-73.793091</td>\n",
       "    </tr>\n",
       "    <tr>\n",
       "      <th>4315560</th>\n",
       "      <td>4</td>\n",
       "      <td>2015-01-06 04:42:47</td>\n",
       "      <td>2015-01-06 04:44:00</td>\n",
       "      <td>73</td>\n",
       "      <td>40.710716</td>\n",
       "      <td>-73.793091</td>\n",
       "      <td>40.707237</td>\n",
       "      <td>-73.794998</td>\n",
       "    </tr>\n",
       "    <tr>\n",
       "      <th>4315561</th>\n",
       "      <td>4</td>\n",
       "      <td>2015-01-06 04:42:47</td>\n",
       "      <td>2015-01-06 04:44:00</td>\n",
       "      <td>73</td>\n",
       "      <td>40.710716</td>\n",
       "      <td>-73.793091</td>\n",
       "      <td>40.707237</td>\n",
       "      <td>-73.794998</td>\n",
       "    </tr>\n",
       "    <tr>\n",
       "      <th>4315562</th>\n",
       "      <td>4</td>\n",
       "      <td>2015-01-06 04:44:00</td>\n",
       "      <td>2015-01-06 04:45:00</td>\n",
       "      <td>60</td>\n",
       "      <td>40.707237</td>\n",
       "      <td>-73.794998</td>\n",
       "      <td>40.704933</td>\n",
       "      <td>-73.793320</td>\n",
       "    </tr>\n",
       "    <tr>\n",
       "      <th>4315563</th>\n",
       "      <td>4</td>\n",
       "      <td>2015-01-06 04:44:00</td>\n",
       "      <td>2015-01-06 04:45:00</td>\n",
       "      <td>60</td>\n",
       "      <td>40.707237</td>\n",
       "      <td>-73.794998</td>\n",
       "      <td>40.704933</td>\n",
       "      <td>-73.793320</td>\n",
       "    </tr>\n",
       "  </tbody>\n",
       "</table>\n",
       "</div>"
      ],
      "text/plain": [
       "         type_id            starttime             stoptime  tripduration  \\\n",
       "4315559        4  2015-01-06 04:42:13  2015-01-06 04:42:47            34   \n",
       "4315560        4  2015-01-06 04:42:47  2015-01-06 04:44:00            73   \n",
       "4315561        4  2015-01-06 04:42:47  2015-01-06 04:44:00            73   \n",
       "4315562        4  2015-01-06 04:44:00  2015-01-06 04:45:00            60   \n",
       "4315563        4  2015-01-06 04:44:00  2015-01-06 04:45:00            60   \n",
       "\n",
       "         start_lat  start_lon    end_lat    end_lon  \n",
       "4315559  40.711842 -73.790161  40.710716 -73.793091  \n",
       "4315560  40.710716 -73.793091  40.707237 -73.794998  \n",
       "4315561  40.710716 -73.793091  40.707237 -73.794998  \n",
       "4315562  40.707237 -73.794998  40.704933 -73.793320  \n",
       "4315563  40.707237 -73.794998  40.704933 -73.793320  "
      ]
     },
     "execution_count": 72,
     "metadata": {},
     "output_type": "execute_result"
    }
   ],
   "source": [
    "output.tail()"
   ]
  },
  {
   "cell_type": "code",
   "execution_count": 74,
   "metadata": {
    "collapsed": false
   },
   "outputs": [],
   "source": [
    "output.to_csv(\"/Users/Will/Dropbox/Portfolio/taxi_and_bus_and_subway_and_ferry_dynamic/data/output.csv\")"
   ]
  },
  {
   "cell_type": "code",
   "execution_count": 78,
   "metadata": {
    "collapsed": false
   },
   "outputs": [
    {
     "name": "stdout",
     "output_type": "stream",
     "text": [
      ",type_id,starttime,stoptime,tripduration,start_lat,start_lon,end_lat,end_lon\n",
      "0,1,2015-01-05 00:00:00,2015-01-05 00:09:43,583,40.6860580444,-73.9909515381,40.6775474548,-73.938621521\n",
      "1,2,2015-01-05 00:00:00,2015-01-05 00:06:44,404,40.7239456177,-73.9512939453,40.6974105835,-73.9648513794\n",
      "2,3,2015-01-05 00:00:00,2015-01-05 00:01:09,69,40.642979,-73.878334,40.645187,-73.878555\n",
      "3,3,2015-01-05 00:00:00,2015-01-05 00:01:09,69,40.642979,-73.878334,40.645187,-73.878555\n",
      "4,3,2015-01-05 00:00:00,2015-01-05 00:00:23,23,40.645714,-73.902313,40.644871,-73.902176\n",
      "5,3,2015-01-05 00:00:00,2015-01-05 00:01:09,69,40.642979,-73.878334,40.645187,-73.878555\n",
      "6,3,2015-01-05 00:00:00,2015-01-05 00:00:48,48,40.748638,-73.938446,40.747673,-73.941116\n",
      "7,3,2015-01-05 00:00:00,2015-01-05 00:00:48,48,40.748638,-73.938446,40.747673,-73.941116\n",
      "8,3,2015-01-05 00:00:00,2015-01-05 00:00:48,48,40.748638,-73.938446,40.747673,-73.941116\n"
     ]
    }
   ],
   "source": [
    "%%bash \n",
    "cd /Users/Will/Dropbox/Portfolio/taxi_and_bus_and_subway_and_ferry_dynamic/data/\n",
    "head output.csv"
   ]
  },
  {
   "cell_type": "code",
   "execution_count": 79,
   "metadata": {
    "collapsed": false
   },
   "outputs": [],
   "source": [
    "%%bash\n",
    "cd /Users/Will/Dropbox/Portfolio/taxi_and_bus_and_subway_and_ferry_dynamic/data/\n",
    "awk -F\",\" -v OFS=\",\" '{ $1=\"\" ; $0=substr($0,2) } 1' output.csv > output_clean.csv"
   ]
  },
  {
   "cell_type": "code",
   "execution_count": 80,
   "metadata": {
    "collapsed": false
   },
   "outputs": [
    {
     "name": "stdout",
     "output_type": "stream",
     "text": [
      "type_id,starttime,stoptime,tripduration,start_lat,start_lon,end_lat,end_lon\n",
      "1,2015-01-05 00:00:00,2015-01-05 00:09:43,583,40.6860580444,-73.9909515381,40.6775474548,-73.938621521\n",
      "2,2015-01-05 00:00:00,2015-01-05 00:06:44,404,40.7239456177,-73.9512939453,40.6974105835,-73.9648513794\n",
      "3,2015-01-05 00:00:00,2015-01-05 00:01:09,69,40.642979,-73.878334,40.645187,-73.878555\n",
      "3,2015-01-05 00:00:00,2015-01-05 00:01:09,69,40.642979,-73.878334,40.645187,-73.878555\n",
      "3,2015-01-05 00:00:00,2015-01-05 00:00:23,23,40.645714,-73.902313,40.644871,-73.902176\n",
      "3,2015-01-05 00:00:00,2015-01-05 00:01:09,69,40.642979,-73.878334,40.645187,-73.878555\n",
      "3,2015-01-05 00:00:00,2015-01-05 00:00:48,48,40.748638,-73.938446,40.747673,-73.941116\n",
      "3,2015-01-05 00:00:00,2015-01-05 00:00:48,48,40.748638,-73.938446,40.747673,-73.941116\n",
      "3,2015-01-05 00:00:00,2015-01-05 00:00:48,48,40.748638,-73.938446,40.747673,-73.941116\n"
     ]
    }
   ],
   "source": [
    "%%bash \n",
    "cd /Users/Will/Dropbox/Portfolio/taxi_and_bus_and_subway_and_ferry_dynamic/data/\n",
    "head output_clean.csv"
   ]
  },
  {
   "cell_type": "code",
   "execution_count": 82,
   "metadata": {
    "collapsed": false
   },
   "outputs": [
    {
     "name": "stdout",
     "output_type": "stream",
     "text": [
      "4315565\n"
     ]
    }
   ],
   "source": [
    "%%bash\n",
    "\n",
    "cd /Users/Will/Dropbox/Portfolio/taxi_and_bus_and_subway_and_ferry_dynamic/data\n",
    "\n",
    "# count lines in csv\n",
    "awk '{n+=1} END {print n}' output_clean.csv"
   ]
  },
  {
   "cell_type": "code",
   "execution_count": 83,
   "metadata": {
    "collapsed": false
   },
   "outputs": [
    {
     "data": {
      "text/plain": [
       "2157782"
      ]
     },
     "execution_count": 83,
     "metadata": {},
     "output_type": "execute_result"
    }
   ],
   "source": [
    "4315565 / 2"
   ]
  },
  {
   "cell_type": "code",
   "execution_count": 84,
   "metadata": {
    "collapsed": true
   },
   "outputs": [],
   "source": [
    "%%bash\n",
    "\n",
    "cd /Users/Will/Dropbox/Portfolio/taxi_and_bus_and_subway_and_ferry_dynamic/data\n",
    "\n",
    "# top lines in csv\n",
    "head -n 2300000 output_clean.csv > output_clean_h1.csv"
   ]
  },
  {
   "cell_type": "code",
   "execution_count": 85,
   "metadata": {
    "collapsed": true
   },
   "outputs": [],
   "source": [
    "%%bash\n",
    "\n",
    "cd /Users/Will/Dropbox/Portfolio/taxi_and_bus_and_subway_and_ferry_dynamic/data\n",
    "\n",
    "# bottom lines in csv\n",
    "tail -n 2300000 output_clean.csv > output_clean_h2.csv"
   ]
  },
  {
   "cell_type": "code",
   "execution_count": 86,
   "metadata": {
    "collapsed": false
   },
   "outputs": [
    {
     "name": "stdout",
     "output_type": "stream",
     "text": [
      "2300000\n"
     ]
    }
   ],
   "source": [
    "%%bash\n",
    "\n",
    "cd /Users/Will/Dropbox/Portfolio/taxi_and_bus_and_subway_and_ferry_dynamic/data\n",
    "\n",
    "# count lines in csv\n",
    "awk '{n+=1} END {print n}' output_clean_h1.csv"
   ]
  },
  {
   "cell_type": "code",
   "execution_count": 87,
   "metadata": {
    "collapsed": false
   },
   "outputs": [
    {
     "name": "stdout",
     "output_type": "stream",
     "text": [
      "2300000\n"
     ]
    }
   ],
   "source": [
    "%%bash\n",
    "\n",
    "cd /Users/Will/Dropbox/Portfolio/taxi_and_bus_and_subway_and_ferry_dynamic/data\n",
    "\n",
    "# count lines in csv\n",
    "awk '{n+=1} END {print n}' output_clean_h2.csv"
   ]
  },
  {
   "cell_type": "markdown",
   "metadata": {},
   "source": [
    "Add header back to h2"
   ]
  },
  {
   "cell_type": "code",
   "execution_count": 88,
   "metadata": {
    "collapsed": true
   },
   "outputs": [],
   "source": [
    "%%bash\n",
    "\n",
    "cd /Users/Will/Dropbox/Portfolio/taxi_and_bus_and_subway_and_ferry_dynamic/data\n",
    "\n",
    "# add header back in\n",
    "for csv in output_clean_h2.csv; do (echo \"type_id,starttime,stoptime,tripduration,start_lat,start_lon,end_lat,end_lon\"; cat output_clean_h2.csv) > tmp; mv tmp output_clean_h2_header.csv; done"
   ]
  },
  {
   "cell_type": "code",
   "execution_count": 89,
   "metadata": {
    "collapsed": false
   },
   "outputs": [
    {
     "data": {
      "text/plain": [
       "1150000"
      ]
     },
     "execution_count": 89,
     "metadata": {},
     "output_type": "execute_result"
    }
   ],
   "source": [
    "2300000 / 2"
   ]
  },
  {
   "cell_type": "code",
   "execution_count": 90,
   "metadata": {
    "collapsed": true
   },
   "outputs": [],
   "source": [
    "%%bash\n",
    "\n",
    "cd /Users/Will/Dropbox/Portfolio/taxi_and_bus_and_subway_and_ferry_dynamic/data\n",
    "\n",
    "# top lines in csv\n",
    "head -n 1250000 output_clean_h1.csv > output_clean_q1.csv"
   ]
  },
  {
   "cell_type": "code",
   "execution_count": 91,
   "metadata": {
    "collapsed": true
   },
   "outputs": [],
   "source": [
    "%%bash\n",
    "\n",
    "cd /Users/Will/Dropbox/Portfolio/taxi_and_bus_and_subway_and_ferry_dynamic/data\n",
    "\n",
    "# top lines in csv\n",
    "tail -n 1250000 output_clean_h1.csv > output_clean_q2.csv"
   ]
  },
  {
   "cell_type": "code",
   "execution_count": 94,
   "metadata": {
    "collapsed": false
   },
   "outputs": [],
   "source": [
    "%%bash\n",
    "\n",
    "cd /Users/Will/Dropbox/Portfolio/taxi_and_bus_and_subway_and_ferry_dynamic/data\n",
    "\n",
    "# add header back in\n",
    "for csv in output_clean_q2.csv; do (echo \"type_id,starttime,stoptime,tripduration,start_lat,start_lon,end_lat,end_lon\"; cat output_clean_q2.csv) > tmp; mv tmp output_clean_q2_header.csv; done"
   ]
  },
  {
   "cell_type": "code",
   "execution_count": 95,
   "metadata": {
    "collapsed": true
   },
   "outputs": [],
   "source": [
    "%%bash\n",
    "\n",
    "cd /Users/Will/Dropbox/Portfolio/taxi_and_bus_and_subway_and_ferry_dynamic/data\n",
    "\n",
    "# top lines in csv\n",
    "head -n 1250000 output_clean_h2.csv > output_clean_q3.csv"
   ]
  },
  {
   "cell_type": "code",
   "execution_count": 98,
   "metadata": {
    "collapsed": false
   },
   "outputs": [
    {
     "name": "stdout",
     "output_type": "stream",
     "text": [
      "7,2015-01-05 13:52:06,2015-01-05 13:52:46,40,40.61274,-74.126541,40.612896,-74.124496\n",
      "1,2015-01-05 13:52:07,2015-01-05 14:13:08,1261,40.7685089111,-73.863067627,40.7648200989,-73.9472198486\n",
      "1,2015-01-05 13:52:07,2015-01-05 13:58:27,380,40.7590904236,-73.9923553467,40.7511367798,-73.9905319214\n",
      "1,2015-01-05 13:52:07,2015-01-05 13:58:59,412,40.7253074646,-73.9841995239,40.7356300354,-73.9855422974\n",
      "3,2015-01-05 13:52:07,2015-01-05 13:52:53,46,40.621059,-73.988106,40.621883,-73.987274\n",
      "3,2015-01-05 13:52:07,2015-01-05 13:54:09,122,40.650909,-73.94622,40.651012,-73.943321\n",
      "3,2015-01-05 13:52:07,2015-01-05 13:53:34,87,40.68021,-73.905914,40.678925,-73.903595\n",
      "3,2015-01-05 13:52:07,2015-01-05 13:53:23,76,40.580509,-73.967697,40.578152,-73.968239\n",
      "3,2015-01-05 13:52:07,2015-01-05 13:53:14,67,40.656029,-73.973763,40.65361,-73.973038\n",
      "3,2015-01-05 13:52:07,2015-01-05 13:53:14,67,40.656029,-73.973763,40.65361,-73.973038\n"
     ]
    }
   ],
   "source": [
    "%%bash \n",
    "cd /Users/Will/Dropbox/Portfolio/taxi_and_bus_and_subway_and_ferry_dynamic/data/\n",
    "for csv in output_clean_q3.csv; do (echo \"type_id,starttime,stoptime,tripduration,start_lat,start_lon,end_lat,end_lon\"; cat output_clean_q3.csv) > tmp; mv tmp output_clean_q3_header.csv; done"
   ]
  },
  {
   "cell_type": "code",
   "execution_count": 100,
   "metadata": {
    "collapsed": false
   },
   "outputs": [
    {
     "name": "stdout",
     "output_type": "stream",
     "text": [
      "type_id,starttime,stoptime,tripduration,start_lat,start_lon,end_lat,end_lon\n",
      "7,2015-01-05 13:52:06,2015-01-05 13:52:46,40,40.61274,-74.126541,40.612896,-74.124496\n",
      "1,2015-01-05 13:52:07,2015-01-05 14:13:08,1261,40.7685089111,-73.863067627,40.7648200989,-73.9472198486\n",
      "1,2015-01-05 13:52:07,2015-01-05 13:58:27,380,40.7590904236,-73.9923553467,40.7511367798,-73.9905319214\n",
      "1,2015-01-05 13:52:07,2015-01-05 13:58:59,412,40.7253074646,-73.9841995239,40.7356300354,-73.9855422974\n",
      "3,2015-01-05 13:52:07,2015-01-05 13:52:53,46,40.621059,-73.988106,40.621883,-73.987274\n",
      "3,2015-01-05 13:52:07,2015-01-05 13:54:09,122,40.650909,-73.94622,40.651012,-73.943321\n",
      "3,2015-01-05 13:52:07,2015-01-05 13:53:34,87,40.68021,-73.905914,40.678925,-73.903595\n",
      "3,2015-01-05 13:52:07,2015-01-05 13:53:23,76,40.580509,-73.967697,40.578152,-73.968239\n",
      "3,2015-01-05 13:52:07,2015-01-05 13:53:14,67,40.656029,-73.973763,40.65361,-73.973038\n"
     ]
    }
   ],
   "source": [
    "%%bash\n",
    "cd /Users/Will/Dropbox/Portfolio/taxi_and_bus_and_subway_and_ferry_dynamic/data/\n",
    "head output_clean_q3_header.csv"
   ]
  },
  {
   "cell_type": "code",
   "execution_count": 96,
   "metadata": {
    "collapsed": true
   },
   "outputs": [],
   "source": [
    "%%bash\n",
    "\n",
    "cd /Users/Will/Dropbox/Portfolio/taxi_and_bus_and_subway_and_ferry_dynamic/data\n",
    "\n",
    "# top lines in csv\n",
    "tail -n 1250000 output_clean_h2.csv > output_clean_q4.csv\n",
    "\n",
    "# add header back in\n",
    "for csv in output_clean_q4.csv; do (echo \"type_id,starttime,stoptime,tripduration,start_lat,start_lon,end_lat,end_lon\"; cat output_clean_q4.csv) > tmp; mv tmp output_clean_q4_header.csv; done"
   ]
  },
  {
   "cell_type": "code",
   "execution_count": null,
   "metadata": {
    "collapsed": true
   },
   "outputs": [],
   "source": []
  }
 ],
 "metadata": {
  "anaconda-cloud": {},
  "kernelspec": {
   "display_name": "Python [Root]",
   "language": "python",
   "name": "Python [Root]"
  },
  "language_info": {
   "codemirror_mode": {
    "name": "ipython",
    "version": 2
   },
   "file_extension": ".py",
   "mimetype": "text/x-python",
   "name": "python",
   "nbconvert_exporter": "python",
   "pygments_lexer": "ipython2",
   "version": "2.7.12"
  }
 },
 "nbformat": 4,
 "nbformat_minor": 0
}
